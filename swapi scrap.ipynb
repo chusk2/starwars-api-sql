{
 "cells": [
  {
   "cell_type": "markdown",
   "id": "98d76d35",
   "metadata": {},
   "source": [
    "# Imports"
   ]
  },
  {
   "cell_type": "code",
   "execution_count": 1,
   "id": "545f0530",
   "metadata": {},
   "outputs": [],
   "source": [
    "import requests as rq\n",
    "import pandas as pd\n",
    "import os\n",
    "import numpy as np\n",
    "import json\n",
    "from dotenv import load_dotenv\n",
    "from sqlalchemy import create_engine"
   ]
  },
  {
   "cell_type": "code",
   "execution_count": 2,
   "id": "737cb8f8",
   "metadata": {},
   "outputs": [],
   "source": [
    "def show_cols(dict_):\n",
    "    for cat in dict_.keys():\n",
    "        print(f'\\n\\nCategory: {cat}')\n",
    "        print(*[ i for i in dict_[cat].columns], sep = '\\n')"
   ]
  },
  {
   "cell_type": "markdown",
   "id": "3fb05040",
   "metadata": {},
   "source": [
    "## Definitions"
   ]
  },
  {
   "cell_type": "code",
   "execution_count": 3,
   "id": "f43cf78c",
   "metadata": {},
   "outputs": [],
   "source": [
    "base_urls = {\n",
    "    \"films\": \"https://swapi.dev/api/films/\",\n",
    "    \"people\": \"https://swapi.dev/api/people/\",\n",
    "    \"planets\": \"https://swapi.dev/api/planets/\",\n",
    "    \"species\": \"https://swapi.dev/api/species/\",\n",
    "    \"starships\": \"https://swapi.dev/api/starships/\",\n",
    "    \"vehicles\": \"https://swapi.dev/api/vehicles/\"\n",
    "}"
   ]
  },
  {
   "cell_type": "code",
   "execution_count": 4,
   "id": "2db40ed4",
   "metadata": {},
   "outputs": [
    {
     "data": {
      "text/plain": [
       "['films', 'people', 'planets', 'species', 'starships', 'vehicles']"
      ]
     },
     "execution_count": 4,
     "metadata": {},
     "output_type": "execute_result"
    }
   ],
   "source": [
    "categories = list(base_urls.keys())\n",
    "categories"
   ]
  },
  {
   "cell_type": "markdown",
   "id": "cca32684",
   "metadata": {},
   "source": [
    "Each category has different fields that contain information in the form of an url. I will extract the page id from those fields for each category. "
   ]
  },
  {
   "cell_type": "code",
   "execution_count": null,
   "id": "7ae41e05",
   "metadata": {},
   "outputs": [],
   "source": [
    "fields = {\n",
    "    'films' : [\"characters\", \"planets\", \"starships\", \"vehicles\", \"species\"],\n",
    "    'people' : [\"homeworld\", \"films\", \"species\", \"vehicles\", \"starships\"],\n",
    "    'planets' : ['residents', 'films'],\n",
    "    'species' : ['people', 'films', 'homeworld'],\n",
    "    'vehicles' : ['pilots', 'films'],\n",
    "    'starships' : ['pilots', 'films']\n",
    "    }"
   ]
  },
  {
   "cell_type": "markdown",
   "id": "ca030701",
   "metadata": {},
   "source": [
    "# Consume the API"
   ]
  },
  {
   "cell_type": "code",
   "execution_count": 77,
   "id": "73c0f51b",
   "metadata": {},
   "outputs": [],
   "source": [
    "def get_content(url):\n",
    "\n",
    "    # skip the next url for the first page of pager\n",
    "    next = url    \n",
    "    items_list = []\n",
    "\n",
    "    while next:\n",
    "        # get the content of the url\n",
    "        response = rq.get(next)\n",
    "\n",
    "        # success\n",
    "        if response.status_code == 200:\n",
    "            content = response.json()\n",
    "        elif response.status_code == 404:\n",
    "            print(f'{url} not found!')\n",
    "            return\n",
    "        \n",
    "        next = content['next']\n",
    "        items = content['results']\n",
    "\n",
    "        for item in items:\n",
    "                    \n",
    "            # remove created and edited fields\n",
    "            try:\n",
    "                del(item['created'])\n",
    "                del(item['edited'])\n",
    "            except:\n",
    "                pass\n",
    "            \n",
    "            items_list.append(item)            \n",
    "\n",
    "    return items_list"
   ]
  },
  {
   "cell_type": "markdown",
   "id": "4a60a9ed",
   "metadata": {},
   "source": [
    "Scrape all the categories"
   ]
  },
  {
   "cell_type": "code",
   "execution_count": 80,
   "id": "d2cafe94",
   "metadata": {},
   "outputs": [],
   "source": [
    "items_dict = {cat : get_content(base_urls[cat]) for cat in categories}"
   ]
  },
  {
   "cell_type": "code",
   "execution_count": 82,
   "id": "b51232de",
   "metadata": {},
   "outputs": [
    {
     "data": {
      "text/plain": [
       "{'title': 'A New Hope',\n",
       " 'episode_id': 4,\n",
       " 'opening_crawl': \"It is a period of civil war.\\r\\nRebel spaceships, striking\\r\\nfrom a hidden base, have won\\r\\ntheir first victory against\\r\\nthe evil Galactic Empire.\\r\\n\\r\\nDuring the battle, Rebel\\r\\nspies managed to steal secret\\r\\nplans to the Empire's\\r\\nultimate weapon, the DEATH\\r\\nSTAR, an armored space\\r\\nstation with enough power\\r\\nto destroy an entire planet.\\r\\n\\r\\nPursued by the Empire's\\r\\nsinister agents, Princess\\r\\nLeia races home aboard her\\r\\nstarship, custodian of the\\r\\nstolen plans that can save her\\r\\npeople and restore\\r\\nfreedom to the galaxy....\",\n",
       " 'director': 'George Lucas',\n",
       " 'producer': 'Gary Kurtz, Rick McCallum',\n",
       " 'release_date': '1977-05-25',\n",
       " 'characters': ['https://swapi.dev/api/people/1/',\n",
       "  'https://swapi.dev/api/people/2/',\n",
       "  'https://swapi.dev/api/people/3/',\n",
       "  'https://swapi.dev/api/people/4/',\n",
       "  'https://swapi.dev/api/people/5/',\n",
       "  'https://swapi.dev/api/people/6/',\n",
       "  'https://swapi.dev/api/people/7/',\n",
       "  'https://swapi.dev/api/people/8/',\n",
       "  'https://swapi.dev/api/people/9/',\n",
       "  'https://swapi.dev/api/people/10/',\n",
       "  'https://swapi.dev/api/people/12/',\n",
       "  'https://swapi.dev/api/people/13/',\n",
       "  'https://swapi.dev/api/people/14/',\n",
       "  'https://swapi.dev/api/people/15/',\n",
       "  'https://swapi.dev/api/people/16/',\n",
       "  'https://swapi.dev/api/people/18/',\n",
       "  'https://swapi.dev/api/people/19/',\n",
       "  'https://swapi.dev/api/people/81/'],\n",
       " 'planets': ['https://swapi.dev/api/planets/1/',\n",
       "  'https://swapi.dev/api/planets/2/',\n",
       "  'https://swapi.dev/api/planets/3/'],\n",
       " 'starships': ['https://swapi.dev/api/starships/2/',\n",
       "  'https://swapi.dev/api/starships/3/',\n",
       "  'https://swapi.dev/api/starships/5/',\n",
       "  'https://swapi.dev/api/starships/9/',\n",
       "  'https://swapi.dev/api/starships/10/',\n",
       "  'https://swapi.dev/api/starships/11/',\n",
       "  'https://swapi.dev/api/starships/12/',\n",
       "  'https://swapi.dev/api/starships/13/'],\n",
       " 'vehicles': ['https://swapi.dev/api/vehicles/4/',\n",
       "  'https://swapi.dev/api/vehicles/6/',\n",
       "  'https://swapi.dev/api/vehicles/7/',\n",
       "  'https://swapi.dev/api/vehicles/8/'],\n",
       " 'species': ['https://swapi.dev/api/species/1/',\n",
       "  'https://swapi.dev/api/species/2/',\n",
       "  'https://swapi.dev/api/species/3/',\n",
       "  'https://swapi.dev/api/species/4/',\n",
       "  'https://swapi.dev/api/species/5/'],\n",
       " 'url': 'https://swapi.dev/api/films/1/'}"
      ]
     },
     "execution_count": 82,
     "metadata": {},
     "output_type": "execute_result"
    }
   ],
   "source": [
    "items_dict['films'][0]"
   ]
  },
  {
   "cell_type": "code",
   "execution_count": null,
   "id": "6b3fb84d",
   "metadata": {},
   "outputs": [],
   "source": [
    "def get_data_from_item(items, fields):\n",
    "\n",
    "    for item in items:\n",
    "\n",
    "        for field in fields:\n",
    "            id_values = []\n",
    "                           \n",
    "            if item[field]:  # if the field is not empty\n",
    "                # parse the links from starships, vehicles and starships\n",
    "                if field != 'homeworld':  \n",
    "                    for link in item[field]:\n",
    "                        # parse the id value in the link    \n",
    "                        id_values.append(int(link.split('/')[-2]))\n",
    "                    # add the id values into the corresponding field key\n",
    "                    # convert list into tuple, as tuples are hashable\n",
    "                    # each character belongs to only 1 species\n",
    "                    if field != 'species':\n",
    "                        item[field] = tuple(id_values)\n",
    "                    else:\n",
    "                        item[field] = id_values[0]\n",
    "                        \n",
    "                # parse the homeworld (just a single string value)\n",
    "                else:\n",
    "                    # get the homeworld id\n",
    "                    item['homeworld'] = int(item['homeworld'].split('/')[-2])\n",
    "            \n",
    "            # parse species field\n",
    "            # in case of human characters, the species field is an empty list\n",
    "            elif field == 'species' and not item[field]:\n",
    "                item[field] = 1\n",
    "            \n",
    "            # field has no values (empty list)\n",
    "            else:\n",
    "                item[field] = ()\n",
    "                  \n",
    "        # remove created and edited fields\n",
    "        try:\n",
    "            del(item['created'])\n",
    "            del(item['edited'])\n",
    "        except:\n",
    "            pass\n",
    "        \n",
    "        items_list.append(item)\n",
    "\n",
    "    return next, items_list"
   ]
  },
  {
   "cell_type": "markdown",
   "id": "54b7a029",
   "metadata": {},
   "source": [
    "Scrape all the information from the Star Wars API, for all the available categories"
   ]
  },
  {
   "cell_type": "code",
   "execution_count": 7,
   "id": "8ae62a93",
   "metadata": {},
   "outputs": [
    {
     "name": "stdout",
     "output_type": "stream",
     "text": [
      "starwars.json file already exists!\n",
      "Information will be read and stored in items dictionary.\n",
      "Scrapped content will be stored at ./data/starwars.json\n"
     ]
    }
   ],
   "source": [
    "filepath = './data/starwars.json'\n",
    "if not os.path.exists(filepath):\n",
    "    items = dict.fromkeys(categories)\n",
    "\n",
    "    for category in categories:\n",
    "        items_list = []\n",
    "        url = base_urls[category]\n",
    "        category_fields = fields[category]\n",
    "        while url:\n",
    "            url, page_items = get_page_items(url, category_fields)\n",
    "            items_list.extend(page_items)\n",
    "        \n",
    "        items[category] = items_list\n",
    "\n",
    "        print(f'{category} successfully scrapped!')\n",
    "\n",
    "    print('\\n\\nWhole database fully scrapped!')\n",
    "    print('\\nNow the information will be stored in a json file...')\n",
    "\n",
    "    # store the information in a json file\n",
    "    if not os.path.exists(filepath):\n",
    "        with open(filepath, 'w') as file:\n",
    "            json.dump(items, file, indent=4)\n",
    "\n",
    "        # remove the carriage return character\n",
    "        with open(filepath, 'r') as file:\n",
    "            content = file.readlines()\n",
    "\n",
    "        # replace the \\\\r\\\\n (the codes are escaped) string with just \\\\n\n",
    "            for index, line in enumerate(content):\n",
    "                content[index] = line.replace('\\\\r\\\\n', '\\\\n')\n",
    "\n",
    "        # after replacement, store its content\n",
    "        with open(filepath, 'w') as file:\n",
    "            file.writelines(content)\n",
    "        \n",
    "        print(f'Scrapped content stored at: {filepath}')\n",
    "# The file already exists and will be read\n",
    "else:\n",
    "    print('starwars.json file already exists!')\n",
    "    print('Information will be read and stored in items dictionary.')\n",
    "    items = {}\n",
    "    with open(filepath, 'r') as file:\n",
    "        items = json.load(file)\n",
    "    print(f'Scrapped content will be stored at {filepath}')"
   ]
  },
  {
   "cell_type": "markdown",
   "id": "e21e4692",
   "metadata": {},
   "source": [
    "# Store information\n",
    "Create a dictionary to store the dataframes from each category"
   ]
  },
  {
   "cell_type": "code",
   "execution_count": 8,
   "id": "1e9413cc",
   "metadata": {},
   "outputs": [],
   "source": [
    "categories_dataframes = dict.fromkeys(categories)"
   ]
  },
  {
   "cell_type": "markdown",
   "id": "7a92b04f",
   "metadata": {},
   "source": [
    "### Generate the dataframes"
   ]
  },
  {
   "cell_type": "code",
   "execution_count": 9,
   "id": "9da1a0ee",
   "metadata": {},
   "outputs": [],
   "source": [
    "for cat in categories:\n",
    "    df = pd.DataFrame(items[cat])\n",
    "    df['id'] = df.index + 1\n",
    "\n",
    "    # rename columns to add '_id' to the \"fields\"\n",
    "    rename_dict = {field : f'{field}_id' for field in fields[cat]}\n",
    "    rename_dict.update({'id' : f'{cat}_id'})\n",
    "    df.rename(columns = rename_dict, inplace = True)\n",
    "\n",
    "    # reorder the columns to place id in first place\n",
    "    all_columns_but_cat_id = [col for col in df.columns if col != f'{cat}_id']\n",
    "    sorted_columns = [f'{cat}_id'] + all_columns_but_cat_id\n",
    "    categories_dataframes[cat] = df[sorted_columns]\n",
    "#df.to_csv('./data/starwars_characters.csv', index = False)"
   ]
  },
  {
   "cell_type": "markdown",
   "id": "a31eb901",
   "metadata": {},
   "source": [
    "Make some renamings to the column names"
   ]
  },
  {
   "cell_type": "code",
   "execution_count": 10,
   "id": "5c79bae2",
   "metadata": {},
   "outputs": [],
   "source": [
    "col_rename_dict= {\n",
    "    \n",
    "    'films': {\n",
    "        'characters_id': 'character_id',\n",
    "        'films_id': 'film_id',\n",
    "        'planets_id': 'planet_id',\n",
    "        'episode_id': 'episode',\n",
    "        'starships_id': 'starship_id',\n",
    "        'vehicles_id': 'vehicle_id',\n",
    "    },\n",
    "    \n",
    "    'people': {\n",
    "        'people_id': 'character_id',\n",
    "        'films_id': 'film_id',\n",
    "        'vehicles_id': 'vehicle_id',\n",
    "        'starships_id': 'starship_id'\n",
    "    },\n",
    "\n",
    "    'planets': {\n",
    "        'planets_id': 'planet_id',\n",
    "        'films_id': 'film_id'\n",
    "    },\n",
    "\n",
    "    'species': {\n",
    "        'people_id': 'character_id',\n",
    "        'films_id': 'film_id'\n",
    "    },\n",
    "\n",
    "    'vehicles': {\n",
    "        'pilots_id': 'pilot_id',\n",
    "        'vehicles_id': 'vehicle_id',\n",
    "        'films_id': 'film_id'\n",
    "    },\n",
    "\n",
    "    'starships': {\n",
    "        'pilots_id': 'pilot_id',\n",
    "        'starships_id': 'starship_id',\n",
    "        'films_id': 'film_id'\n",
    "    }\n",
    "}"
   ]
  },
  {
   "cell_type": "code",
   "execution_count": 11,
   "id": "577a814d",
   "metadata": {},
   "outputs": [],
   "source": [
    "for cat in categories:\n",
    "    categories_dataframes[cat].rename(columns=col_rename_dict[cat], inplace=True)"
   ]
  },
  {
   "cell_type": "markdown",
   "id": "254b75ea",
   "metadata": {},
   "source": [
    "## Clean the datasets"
   ]
  },
  {
   "cell_type": "markdown",
   "id": "4ebec0ba",
   "metadata": {},
   "source": [
    "### Clean people"
   ]
  },
  {
   "cell_type": "code",
   "execution_count": 12,
   "id": "826a246e",
   "metadata": {},
   "outputs": [
    {
     "data": {
      "text/html": [
       "<div>\n",
       "<style scoped>\n",
       "    .dataframe tbody tr th:only-of-type {\n",
       "        vertical-align: middle;\n",
       "    }\n",
       "\n",
       "    .dataframe tbody tr th {\n",
       "        vertical-align: top;\n",
       "    }\n",
       "\n",
       "    .dataframe thead th {\n",
       "        text-align: right;\n",
       "    }\n",
       "</style>\n",
       "<table border=\"1\" class=\"dataframe\">\n",
       "  <thead>\n",
       "    <tr style=\"text-align: right;\">\n",
       "      <th></th>\n",
       "      <th>character_id</th>\n",
       "      <th>name</th>\n",
       "      <th>height</th>\n",
       "      <th>mass</th>\n",
       "      <th>hair_color</th>\n",
       "      <th>skin_color</th>\n",
       "      <th>eye_color</th>\n",
       "      <th>birth_year</th>\n",
       "      <th>gender</th>\n",
       "      <th>homeworld_id</th>\n",
       "      <th>film_id</th>\n",
       "      <th>species_id</th>\n",
       "      <th>vehicle_id</th>\n",
       "      <th>starship_id</th>\n",
       "      <th>url</th>\n",
       "    </tr>\n",
       "  </thead>\n",
       "  <tbody>\n",
       "    <tr>\n",
       "      <th>3</th>\n",
       "      <td>4</td>\n",
       "      <td>Darth Vader</td>\n",
       "      <td>202</td>\n",
       "      <td>136</td>\n",
       "      <td>none</td>\n",
       "      <td>white</td>\n",
       "      <td>yellow</td>\n",
       "      <td>41.9BBY</td>\n",
       "      <td>male</td>\n",
       "      <td>1</td>\n",
       "      <td>[1, 2, 3, 6]</td>\n",
       "      <td>1</td>\n",
       "      <td>[]</td>\n",
       "      <td>[13]</td>\n",
       "      <td>https://swapi.dev/api/people/4/</td>\n",
       "    </tr>\n",
       "    <tr>\n",
       "      <th>29</th>\n",
       "      <td>30</td>\n",
       "      <td>Nien Nunb</td>\n",
       "      <td>160</td>\n",
       "      <td>68</td>\n",
       "      <td>none</td>\n",
       "      <td>grey</td>\n",
       "      <td>black</td>\n",
       "      <td>unknown</td>\n",
       "      <td>male</td>\n",
       "      <td>33</td>\n",
       "      <td>[3]</td>\n",
       "      <td>10</td>\n",
       "      <td>[]</td>\n",
       "      <td>[10]</td>\n",
       "      <td>https://swapi.dev/api/people/31/</td>\n",
       "    </tr>\n",
       "    <tr>\n",
       "      <th>26</th>\n",
       "      <td>27</td>\n",
       "      <td>Mon Mothma</td>\n",
       "      <td>150</td>\n",
       "      <td>unknown</td>\n",
       "      <td>auburn</td>\n",
       "      <td>fair</td>\n",
       "      <td>blue</td>\n",
       "      <td>48BBY</td>\n",
       "      <td>female</td>\n",
       "      <td>32</td>\n",
       "      <td>[3]</td>\n",
       "      <td>1</td>\n",
       "      <td>[]</td>\n",
       "      <td>[]</td>\n",
       "      <td>https://swapi.dev/api/people/28/</td>\n",
       "    </tr>\n",
       "    <tr>\n",
       "      <th>78</th>\n",
       "      <td>79</td>\n",
       "      <td>Tarfful</td>\n",
       "      <td>234</td>\n",
       "      <td>136</td>\n",
       "      <td>brown</td>\n",
       "      <td>brown</td>\n",
       "      <td>blue</td>\n",
       "      <td>unknown</td>\n",
       "      <td>male</td>\n",
       "      <td>14</td>\n",
       "      <td>[6]</td>\n",
       "      <td>3</td>\n",
       "      <td>[]</td>\n",
       "      <td>[]</td>\n",
       "      <td>https://swapi.dev/api/people/80/</td>\n",
       "    </tr>\n",
       "    <tr>\n",
       "      <th>65</th>\n",
       "      <td>66</td>\n",
       "      <td>Dooku</td>\n",
       "      <td>193</td>\n",
       "      <td>80</td>\n",
       "      <td>white</td>\n",
       "      <td>fair</td>\n",
       "      <td>brown</td>\n",
       "      <td>102BBY</td>\n",
       "      <td>male</td>\n",
       "      <td>52</td>\n",
       "      <td>[5, 6]</td>\n",
       "      <td>1</td>\n",
       "      <td>[55]</td>\n",
       "      <td>[]</td>\n",
       "      <td>https://swapi.dev/api/people/67/</td>\n",
       "    </tr>\n",
       "  </tbody>\n",
       "</table>\n",
       "</div>"
      ],
      "text/plain": [
       "    character_id         name height     mass hair_color skin_color eye_color  \\\n",
       "3              4  Darth Vader    202      136       none      white    yellow   \n",
       "29            30    Nien Nunb    160       68       none       grey     black   \n",
       "26            27   Mon Mothma    150  unknown     auburn       fair      blue   \n",
       "78            79      Tarfful    234      136      brown      brown      blue   \n",
       "65            66        Dooku    193       80      white       fair     brown   \n",
       "\n",
       "   birth_year  gender  homeworld_id       film_id  species_id vehicle_id  \\\n",
       "3     41.9BBY    male             1  [1, 2, 3, 6]           1         []   \n",
       "29    unknown    male            33           [3]          10         []   \n",
       "26      48BBY  female            32           [3]           1         []   \n",
       "78    unknown    male            14           [6]           3         []   \n",
       "65     102BBY    male            52        [5, 6]           1       [55]   \n",
       "\n",
       "   starship_id                               url  \n",
       "3         [13]   https://swapi.dev/api/people/4/  \n",
       "29        [10]  https://swapi.dev/api/people/31/  \n",
       "26          []  https://swapi.dev/api/people/28/  \n",
       "78          []  https://swapi.dev/api/people/80/  \n",
       "65          []  https://swapi.dev/api/people/67/  "
      ]
     },
     "execution_count": 12,
     "metadata": {},
     "output_type": "execute_result"
    }
   ],
   "source": [
    "df = categories_dataframes['people']\n",
    "df.sample(5)"
   ]
  },
  {
   "cell_type": "code",
   "execution_count": 13,
   "id": "fdec9e6f",
   "metadata": {},
   "outputs": [
    {
     "data": {
      "text/plain": [
       "character_id     int64\n",
       "name            object\n",
       "height          object\n",
       "mass            object\n",
       "hair_color      object\n",
       "skin_color      object\n",
       "eye_color       object\n",
       "birth_year      object\n",
       "gender          object\n",
       "homeworld_id     int64\n",
       "film_id         object\n",
       "species_id       int64\n",
       "vehicle_id      object\n",
       "starship_id     object\n",
       "url             object\n",
       "dtype: object"
      ]
     },
     "execution_count": 13,
     "metadata": {},
     "output_type": "execute_result"
    }
   ],
   "source": [
    "df.dtypes"
   ]
  },
  {
   "cell_type": "code",
   "execution_count": 14,
   "id": "f2d76002",
   "metadata": {},
   "outputs": [],
   "source": [
    "df.mass = df.mass.replace('unknown', np.nan)\n",
    "df.mass = df.mass.str.replace(',', '', regex=False)\n",
    "df.mass = df.mass.astype('float') "
   ]
  },
  {
   "cell_type": "code",
   "execution_count": 15,
   "id": "6c56db05",
   "metadata": {},
   "outputs": [],
   "source": [
    "df.height = df.height.replace('unknown', np.nan).astype('float')"
   ]
  },
  {
   "cell_type": "code",
   "execution_count": 16,
   "id": "68d12e2e",
   "metadata": {},
   "outputs": [],
   "source": [
    "df.hair_color = df.hair_color.replace('n/a', np.nan)"
   ]
  },
  {
   "cell_type": "code",
   "execution_count": 17,
   "id": "1a4bd178",
   "metadata": {},
   "outputs": [],
   "source": [
    "df.birth_year = df.birth_year.str.replace('BBY', ' BBY')"
   ]
  },
  {
   "cell_type": "markdown",
   "id": "0c8074dd",
   "metadata": {},
   "source": [
    "### Clean films"
   ]
  },
  {
   "cell_type": "code",
   "execution_count": 52,
   "id": "5e140b2d",
   "metadata": {},
   "outputs": [
    {
     "data": {
      "text/html": [
       "<div>\n",
       "<style scoped>\n",
       "    .dataframe tbody tr th:only-of-type {\n",
       "        vertical-align: middle;\n",
       "    }\n",
       "\n",
       "    .dataframe tbody tr th {\n",
       "        vertical-align: top;\n",
       "    }\n",
       "\n",
       "    .dataframe thead th {\n",
       "        text-align: right;\n",
       "    }\n",
       "</style>\n",
       "<table border=\"1\" class=\"dataframe\">\n",
       "  <thead>\n",
       "    <tr style=\"text-align: right;\">\n",
       "      <th></th>\n",
       "      <th>film_id</th>\n",
       "      <th>title</th>\n",
       "      <th>episode</th>\n",
       "      <th>opening_crawl</th>\n",
       "      <th>director</th>\n",
       "      <th>producer</th>\n",
       "      <th>release_date</th>\n",
       "      <th>character_id</th>\n",
       "      <th>planet_id</th>\n",
       "      <th>starship_id</th>\n",
       "      <th>vehicle_id</th>\n",
       "      <th>species_id</th>\n",
       "      <th>url</th>\n",
       "    </tr>\n",
       "  </thead>\n",
       "  <tbody>\n",
       "    <tr>\n",
       "      <th>0</th>\n",
       "      <td>1</td>\n",
       "      <td>A New Hope</td>\n",
       "      <td>4</td>\n",
       "      <td>It is a period of civil war.\\nRebel spaceships...</td>\n",
       "      <td>George Lucas</td>\n",
       "      <td>Gary Kurtz, Rick McCallum</td>\n",
       "      <td>1977-05-25</td>\n",
       "      <td>[1, 2, 3, 4, 5, 6, 7, 8, 9, 10, 12, 13, 14, 15...</td>\n",
       "      <td>[1, 2, 3]</td>\n",
       "      <td>[2, 3, 5, 9, 10, 11, 12, 13]</td>\n",
       "      <td>[4, 6, 7, 8]</td>\n",
       "      <td>1</td>\n",
       "      <td>https://swapi.dev/api/films/1/</td>\n",
       "    </tr>\n",
       "    <tr>\n",
       "      <th>2</th>\n",
       "      <td>3</td>\n",
       "      <td>Return of the Jedi</td>\n",
       "      <td>6</td>\n",
       "      <td>Luke Skywalker has returned to\\nhis home plane...</td>\n",
       "      <td>Richard Marquand</td>\n",
       "      <td>Howard G. Kazanjian, George Lucas, Rick McCallum</td>\n",
       "      <td>1983-05-25</td>\n",
       "      <td>[1, 2, 3, 4, 5, 10, 13, 14, 16, 18, 20, 21, 22...</td>\n",
       "      <td>[1, 5, 7, 8, 9]</td>\n",
       "      <td>[2, 3, 10, 11, 12, 15, 17, 22, 23, 27, 28, 29]</td>\n",
       "      <td>[8, 16, 18, 19, 24, 25, 26, 30]</td>\n",
       "      <td>1</td>\n",
       "      <td>https://swapi.dev/api/films/3/</td>\n",
       "    </tr>\n",
       "    <tr>\n",
       "      <th>4</th>\n",
       "      <td>5</td>\n",
       "      <td>Attack of the Clones</td>\n",
       "      <td>2</td>\n",
       "      <td>There is unrest in the Galactic\\nSenate. Sever...</td>\n",
       "      <td>George Lucas</td>\n",
       "      <td>Rick McCallum</td>\n",
       "      <td>2002-05-16</td>\n",
       "      <td>[2, 3, 6, 7, 10, 11, 20, 21, 22, 33, 35, 36, 4...</td>\n",
       "      <td>[1, 8, 9, 10, 11]</td>\n",
       "      <td>[21, 32, 39, 43, 47, 48, 49, 52, 58]</td>\n",
       "      <td>[4, 44, 45, 46, 50, 51, 53, 54, 55, 56, 57]</td>\n",
       "      <td>1</td>\n",
       "      <td>https://swapi.dev/api/films/5/</td>\n",
       "    </tr>\n",
       "    <tr>\n",
       "      <th>5</th>\n",
       "      <td>6</td>\n",
       "      <td>Revenge of the Sith</td>\n",
       "      <td>3</td>\n",
       "      <td>War! The Republic is crumbling\\nunder attacks ...</td>\n",
       "      <td>George Lucas</td>\n",
       "      <td>Rick McCallum</td>\n",
       "      <td>2005-05-19</td>\n",
       "      <td>[1, 2, 3, 4, 5, 6, 7, 10, 11, 12, 13, 20, 21, ...</td>\n",
       "      <td>[1, 2, 5, 8, 9, 12, 13, 14, 15, 16, 17, 18, 19]</td>\n",
       "      <td>[2, 32, 48, 59, 61, 63, 64, 65, 66, 68, 74, 75]</td>\n",
       "      <td>[33, 50, 53, 56, 60, 62, 67, 69, 70, 71, 72, 7...</td>\n",
       "      <td>1</td>\n",
       "      <td>https://swapi.dev/api/films/6/</td>\n",
       "    </tr>\n",
       "    <tr>\n",
       "      <th>3</th>\n",
       "      <td>4</td>\n",
       "      <td>The Phantom Menace</td>\n",
       "      <td>1</td>\n",
       "      <td>Turmoil has engulfed the\\nGalactic Republic. T...</td>\n",
       "      <td>George Lucas</td>\n",
       "      <td>Rick McCallum</td>\n",
       "      <td>1999-05-19</td>\n",
       "      <td>[2, 3, 10, 11, 16, 20, 21, 32, 33, 34, 35, 36,...</td>\n",
       "      <td>[1, 8, 9]</td>\n",
       "      <td>[31, 32, 39, 40, 41]</td>\n",
       "      <td>[33, 34, 35, 36, 37, 38, 42]</td>\n",
       "      <td>1</td>\n",
       "      <td>https://swapi.dev/api/films/4/</td>\n",
       "    </tr>\n",
       "  </tbody>\n",
       "</table>\n",
       "</div>"
      ],
      "text/plain": [
       "   film_id                 title  episode  \\\n",
       "0        1            A New Hope        4   \n",
       "2        3    Return of the Jedi        6   \n",
       "4        5  Attack of the Clones        2   \n",
       "5        6   Revenge of the Sith        3   \n",
       "3        4    The Phantom Menace        1   \n",
       "\n",
       "                                       opening_crawl          director  \\\n",
       "0  It is a period of civil war.\\nRebel spaceships...      George Lucas   \n",
       "2  Luke Skywalker has returned to\\nhis home plane...  Richard Marquand   \n",
       "4  There is unrest in the Galactic\\nSenate. Sever...      George Lucas   \n",
       "5  War! The Republic is crumbling\\nunder attacks ...      George Lucas   \n",
       "3  Turmoil has engulfed the\\nGalactic Republic. T...      George Lucas   \n",
       "\n",
       "                                           producer release_date  \\\n",
       "0                         Gary Kurtz, Rick McCallum   1977-05-25   \n",
       "2  Howard G. Kazanjian, George Lucas, Rick McCallum   1983-05-25   \n",
       "4                                     Rick McCallum   2002-05-16   \n",
       "5                                     Rick McCallum   2005-05-19   \n",
       "3                                     Rick McCallum   1999-05-19   \n",
       "\n",
       "                                        character_id  \\\n",
       "0  [1, 2, 3, 4, 5, 6, 7, 8, 9, 10, 12, 13, 14, 15...   \n",
       "2  [1, 2, 3, 4, 5, 10, 13, 14, 16, 18, 20, 21, 22...   \n",
       "4  [2, 3, 6, 7, 10, 11, 20, 21, 22, 33, 35, 36, 4...   \n",
       "5  [1, 2, 3, 4, 5, 6, 7, 10, 11, 12, 13, 20, 21, ...   \n",
       "3  [2, 3, 10, 11, 16, 20, 21, 32, 33, 34, 35, 36,...   \n",
       "\n",
       "                                         planet_id  \\\n",
       "0                                        [1, 2, 3]   \n",
       "2                                  [1, 5, 7, 8, 9]   \n",
       "4                                [1, 8, 9, 10, 11]   \n",
       "5  [1, 2, 5, 8, 9, 12, 13, 14, 15, 16, 17, 18, 19]   \n",
       "3                                        [1, 8, 9]   \n",
       "\n",
       "                                       starship_id  \\\n",
       "0                     [2, 3, 5, 9, 10, 11, 12, 13]   \n",
       "2   [2, 3, 10, 11, 12, 15, 17, 22, 23, 27, 28, 29]   \n",
       "4             [21, 32, 39, 43, 47, 48, 49, 52, 58]   \n",
       "5  [2, 32, 48, 59, 61, 63, 64, 65, 66, 68, 74, 75]   \n",
       "3                             [31, 32, 39, 40, 41]   \n",
       "\n",
       "                                          vehicle_id  species_id  \\\n",
       "0                                       [4, 6, 7, 8]           1   \n",
       "2                    [8, 16, 18, 19, 24, 25, 26, 30]           1   \n",
       "4        [4, 44, 45, 46, 50, 51, 53, 54, 55, 56, 57]           1   \n",
       "5  [33, 50, 53, 56, 60, 62, 67, 69, 70, 71, 72, 7...           1   \n",
       "3                       [33, 34, 35, 36, 37, 38, 42]           1   \n",
       "\n",
       "                              url  \n",
       "0  https://swapi.dev/api/films/1/  \n",
       "2  https://swapi.dev/api/films/3/  \n",
       "4  https://swapi.dev/api/films/5/  \n",
       "5  https://swapi.dev/api/films/6/  \n",
       "3  https://swapi.dev/api/films/4/  "
      ]
     },
     "execution_count": 52,
     "metadata": {},
     "output_type": "execute_result"
    }
   ],
   "source": [
    "df = categories_dataframes['films']\n",
    "df.sample(5)"
   ]
  },
  {
   "cell_type": "code",
   "execution_count": 53,
   "id": "5e19e0d9",
   "metadata": {},
   "outputs": [
    {
     "data": {
      "text/plain": [
       "array([1])"
      ]
     },
     "execution_count": 53,
     "metadata": {},
     "output_type": "execute_result"
    }
   ],
   "source": [
    "df.species_id.unique()"
   ]
  },
  {
   "cell_type": "code",
   "execution_count": 19,
   "id": "762dcfe3",
   "metadata": {},
   "outputs": [
    {
     "data": {
      "text/plain": [
       "film_id           int64\n",
       "title            object\n",
       "episode           int64\n",
       "opening_crawl    object\n",
       "director         object\n",
       "producer         object\n",
       "release_date     object\n",
       "character_id     object\n",
       "planet_id        object\n",
       "starship_id      object\n",
       "vehicle_id       object\n",
       "species_id        int64\n",
       "url              object\n",
       "dtype: object"
      ]
     },
     "execution_count": 19,
     "metadata": {},
     "output_type": "execute_result"
    }
   ],
   "source": [
    "df.dtypes"
   ]
  },
  {
   "cell_type": "code",
   "execution_count": 20,
   "id": "0c357be7",
   "metadata": {},
   "outputs": [],
   "source": [
    "df.release_date = pd.to_datetime(df.release_date)"
   ]
  },
  {
   "cell_type": "markdown",
   "id": "9533468e",
   "metadata": {},
   "source": [
    "### Clean planets"
   ]
  },
  {
   "cell_type": "code",
   "execution_count": 21,
   "id": "0301b5ab",
   "metadata": {},
   "outputs": [
    {
     "data": {
      "text/html": [
       "<div>\n",
       "<style scoped>\n",
       "    .dataframe tbody tr th:only-of-type {\n",
       "        vertical-align: middle;\n",
       "    }\n",
       "\n",
       "    .dataframe tbody tr th {\n",
       "        vertical-align: top;\n",
       "    }\n",
       "\n",
       "    .dataframe thead th {\n",
       "        text-align: right;\n",
       "    }\n",
       "</style>\n",
       "<table border=\"1\" class=\"dataframe\">\n",
       "  <thead>\n",
       "    <tr style=\"text-align: right;\">\n",
       "      <th></th>\n",
       "      <th>planet_id</th>\n",
       "      <th>name</th>\n",
       "      <th>rotation_period</th>\n",
       "      <th>orbital_period</th>\n",
       "      <th>diameter</th>\n",
       "      <th>climate</th>\n",
       "      <th>gravity</th>\n",
       "      <th>terrain</th>\n",
       "      <th>surface_water</th>\n",
       "      <th>population</th>\n",
       "      <th>residents_id</th>\n",
       "      <th>film_id</th>\n",
       "      <th>url</th>\n",
       "    </tr>\n",
       "  </thead>\n",
       "  <tbody>\n",
       "    <tr>\n",
       "      <th>30</th>\n",
       "      <td>31</td>\n",
       "      <td>Mon Cala</td>\n",
       "      <td>21</td>\n",
       "      <td>398</td>\n",
       "      <td>11030</td>\n",
       "      <td>temperate</td>\n",
       "      <td>1</td>\n",
       "      <td>oceans, reefs, islands</td>\n",
       "      <td>100</td>\n",
       "      <td>27000000000</td>\n",
       "      <td>[27]</td>\n",
       "      <td>[]</td>\n",
       "      <td>https://swapi.dev/api/planets/31/</td>\n",
       "    </tr>\n",
       "    <tr>\n",
       "      <th>32</th>\n",
       "      <td>33</td>\n",
       "      <td>Sullust</td>\n",
       "      <td>20</td>\n",
       "      <td>263</td>\n",
       "      <td>12780</td>\n",
       "      <td>superheated</td>\n",
       "      <td>1</td>\n",
       "      <td>mountains, volcanoes, rocky deserts</td>\n",
       "      <td>5</td>\n",
       "      <td>18500000000</td>\n",
       "      <td>[31]</td>\n",
       "      <td>[]</td>\n",
       "      <td>https://swapi.dev/api/planets/33/</td>\n",
       "    </tr>\n",
       "    <tr>\n",
       "      <th>23</th>\n",
       "      <td>24</td>\n",
       "      <td>Nal Hutta</td>\n",
       "      <td>87</td>\n",
       "      <td>413</td>\n",
       "      <td>12150</td>\n",
       "      <td>temperate</td>\n",
       "      <td>1 standard</td>\n",
       "      <td>urban, oceans, swamps, bogs</td>\n",
       "      <td>unknown</td>\n",
       "      <td>7000000000</td>\n",
       "      <td>[16]</td>\n",
       "      <td>[]</td>\n",
       "      <td>https://swapi.dev/api/planets/24/</td>\n",
       "    </tr>\n",
       "    <tr>\n",
       "      <th>29</th>\n",
       "      <td>30</td>\n",
       "      <td>Socorro</td>\n",
       "      <td>20</td>\n",
       "      <td>326</td>\n",
       "      <td>0</td>\n",
       "      <td>arid</td>\n",
       "      <td>1 standard</td>\n",
       "      <td>deserts, mountains</td>\n",
       "      <td>unknown</td>\n",
       "      <td>300000000</td>\n",
       "      <td>[25]</td>\n",
       "      <td>[]</td>\n",
       "      <td>https://swapi.dev/api/planets/30/</td>\n",
       "    </tr>\n",
       "    <tr>\n",
       "      <th>31</th>\n",
       "      <td>32</td>\n",
       "      <td>Chandrila</td>\n",
       "      <td>20</td>\n",
       "      <td>368</td>\n",
       "      <td>13500</td>\n",
       "      <td>temperate</td>\n",
       "      <td>1</td>\n",
       "      <td>plains, forests</td>\n",
       "      <td>40</td>\n",
       "      <td>1200000000</td>\n",
       "      <td>[28]</td>\n",
       "      <td>[]</td>\n",
       "      <td>https://swapi.dev/api/planets/32/</td>\n",
       "    </tr>\n",
       "  </tbody>\n",
       "</table>\n",
       "</div>"
      ],
      "text/plain": [
       "    planet_id       name rotation_period orbital_period diameter      climate  \\\n",
       "30         31   Mon Cala              21            398    11030    temperate   \n",
       "32         33    Sullust              20            263    12780  superheated   \n",
       "23         24  Nal Hutta              87            413    12150    temperate   \n",
       "29         30    Socorro              20            326        0         arid   \n",
       "31         32  Chandrila              20            368    13500    temperate   \n",
       "\n",
       "       gravity                              terrain surface_water  \\\n",
       "30           1               oceans, reefs, islands           100   \n",
       "32           1  mountains, volcanoes, rocky deserts             5   \n",
       "23  1 standard          urban, oceans, swamps, bogs       unknown   \n",
       "29  1 standard                   deserts, mountains       unknown   \n",
       "31           1                      plains, forests            40   \n",
       "\n",
       "     population residents_id film_id                                url  \n",
       "30  27000000000         [27]      []  https://swapi.dev/api/planets/31/  \n",
       "32  18500000000         [31]      []  https://swapi.dev/api/planets/33/  \n",
       "23   7000000000         [16]      []  https://swapi.dev/api/planets/24/  \n",
       "29    300000000         [25]      []  https://swapi.dev/api/planets/30/  \n",
       "31   1200000000         [28]      []  https://swapi.dev/api/planets/32/  "
      ]
     },
     "execution_count": 21,
     "metadata": {},
     "output_type": "execute_result"
    }
   ],
   "source": [
    "df = categories_dataframes['planets']\n",
    "df.sample(5)"
   ]
  },
  {
   "cell_type": "code",
   "execution_count": 22,
   "id": "7efdf919",
   "metadata": {},
   "outputs": [
    {
     "data": {
      "text/plain": [
       "planet_id           int64\n",
       "name               object\n",
       "rotation_period    object\n",
       "orbital_period     object\n",
       "diameter           object\n",
       "climate            object\n",
       "gravity            object\n",
       "terrain            object\n",
       "surface_water      object\n",
       "population         object\n",
       "residents_id       object\n",
       "film_id            object\n",
       "url                object\n",
       "dtype: object"
      ]
     },
     "execution_count": 22,
     "metadata": {},
     "output_type": "execute_result"
    }
   ],
   "source": [
    "df.dtypes"
   ]
  },
  {
   "cell_type": "code",
   "execution_count": 23,
   "id": "72d52dc2",
   "metadata": {},
   "outputs": [],
   "source": [
    "for col in ['rotation_period', 'orbital_period', 'diameter', 'surface_water', 'population']:\n",
    "    df[col] = df[col].replace('unknown', np.nan).astype('float')"
   ]
  },
  {
   "cell_type": "code",
   "execution_count": 24,
   "id": "e0292d31",
   "metadata": {},
   "outputs": [],
   "source": [
    "df.population = df.population / 1E6\n",
    "df.rename(columns = {'population' : 'population_millions'}, inplace = True)"
   ]
  },
  {
   "cell_type": "code",
   "execution_count": 25,
   "id": "fc6c1752",
   "metadata": {},
   "outputs": [
    {
     "data": {
      "text/plain": [
       "array(['1 standard', '1.1 standard', 'N/A',\n",
       "       '1.5 (surface), 1 standard (Cloud City)', '0.85 standard',\n",
       "       '0.9 standard', '0.56 standard', '0.75 standard', 'unknown',\n",
       "       '0.62 standard', '1', '1.56', '0.9', '0.98'], dtype=object)"
      ]
     },
     "execution_count": 25,
     "metadata": {},
     "output_type": "execute_result"
    }
   ],
   "source": [
    "df.gravity.unique()"
   ]
  },
  {
   "cell_type": "code",
   "execution_count": 26,
   "id": "7b1592a4",
   "metadata": {},
   "outputs": [],
   "source": [
    "df.gravity = df.gravity.str.replace(' standard', '').str.replace(df.gravity[5], '1.5')\n",
    "df.gravity = df.gravity.replace('unknown', np.nan)"
   ]
  },
  {
   "cell_type": "markdown",
   "id": "0e60760b",
   "metadata": {},
   "source": [
    "## Clean species"
   ]
  },
  {
   "cell_type": "code",
   "execution_count": 27,
   "id": "0e3891c7",
   "metadata": {},
   "outputs": [
    {
     "data": {
      "text/html": [
       "<div>\n",
       "<style scoped>\n",
       "    .dataframe tbody tr th:only-of-type {\n",
       "        vertical-align: middle;\n",
       "    }\n",
       "\n",
       "    .dataframe tbody tr th {\n",
       "        vertical-align: top;\n",
       "    }\n",
       "\n",
       "    .dataframe thead th {\n",
       "        text-align: right;\n",
       "    }\n",
       "</style>\n",
       "<table border=\"1\" class=\"dataframe\">\n",
       "  <thead>\n",
       "    <tr style=\"text-align: right;\">\n",
       "      <th></th>\n",
       "      <th>species_id</th>\n",
       "      <th>name</th>\n",
       "      <th>classification</th>\n",
       "      <th>designation</th>\n",
       "      <th>average_height</th>\n",
       "      <th>skin_colors</th>\n",
       "      <th>hair_colors</th>\n",
       "      <th>eye_colors</th>\n",
       "      <th>average_lifespan</th>\n",
       "      <th>homeworld_id</th>\n",
       "      <th>language</th>\n",
       "      <th>character_id</th>\n",
       "      <th>film_id</th>\n",
       "      <th>url</th>\n",
       "    </tr>\n",
       "  </thead>\n",
       "  <tbody>\n",
       "    <tr>\n",
       "      <th>22</th>\n",
       "      <td>23</td>\n",
       "      <td>Tholothian</td>\n",
       "      <td>mammal</td>\n",
       "      <td>sentient</td>\n",
       "      <td>unknown</td>\n",
       "      <td>dark</td>\n",
       "      <td>unknown</td>\n",
       "      <td>blue, indigo</td>\n",
       "      <td>unknown</td>\n",
       "      <td>46</td>\n",
       "      <td>unknown</td>\n",
       "      <td>[55]</td>\n",
       "      <td>[4, 6]</td>\n",
       "      <td>https://swapi.dev/api/species/23/</td>\n",
       "    </tr>\n",
       "    <tr>\n",
       "      <th>12</th>\n",
       "      <td>13</td>\n",
       "      <td>Toydarian</td>\n",
       "      <td>mammal</td>\n",
       "      <td>sentient</td>\n",
       "      <td>120</td>\n",
       "      <td>blue, green, grey</td>\n",
       "      <td>none</td>\n",
       "      <td>yellow</td>\n",
       "      <td>91</td>\n",
       "      <td>34</td>\n",
       "      <td>Toydarian</td>\n",
       "      <td>[40]</td>\n",
       "      <td>[4, 5]</td>\n",
       "      <td>https://swapi.dev/api/species/13/</td>\n",
       "    </tr>\n",
       "    <tr>\n",
       "      <th>13</th>\n",
       "      <td>14</td>\n",
       "      <td>Dug</td>\n",
       "      <td>mammal</td>\n",
       "      <td>sentient</td>\n",
       "      <td>100</td>\n",
       "      <td>brown, purple, grey, red</td>\n",
       "      <td>none</td>\n",
       "      <td>yellow, blue</td>\n",
       "      <td>unknown</td>\n",
       "      <td>35</td>\n",
       "      <td>Dugese</td>\n",
       "      <td>[41]</td>\n",
       "      <td>[4]</td>\n",
       "      <td>https://swapi.dev/api/species/14/</td>\n",
       "    </tr>\n",
       "    <tr>\n",
       "      <th>18</th>\n",
       "      <td>19</td>\n",
       "      <td>Toong</td>\n",
       "      <td>unknown</td>\n",
       "      <td>sentient</td>\n",
       "      <td>200</td>\n",
       "      <td>grey, green, yellow</td>\n",
       "      <td>none</td>\n",
       "      <td>orange</td>\n",
       "      <td>unknown</td>\n",
       "      <td>41</td>\n",
       "      <td>Tundan</td>\n",
       "      <td>[50]</td>\n",
       "      <td>[4, 6]</td>\n",
       "      <td>https://swapi.dev/api/species/19/</td>\n",
       "    </tr>\n",
       "    <tr>\n",
       "      <th>25</th>\n",
       "      <td>26</td>\n",
       "      <td>Kel Dor</td>\n",
       "      <td>unknown</td>\n",
       "      <td>sentient</td>\n",
       "      <td>180</td>\n",
       "      <td>peach, orange, red</td>\n",
       "      <td>none</td>\n",
       "      <td>black, silver</td>\n",
       "      <td>70</td>\n",
       "      <td>49</td>\n",
       "      <td>Kel Dor</td>\n",
       "      <td>[58]</td>\n",
       "      <td>[4, 6]</td>\n",
       "      <td>https://swapi.dev/api/species/26/</td>\n",
       "    </tr>\n",
       "  </tbody>\n",
       "</table>\n",
       "</div>"
      ],
      "text/plain": [
       "    species_id        name classification designation average_height  \\\n",
       "22          23  Tholothian         mammal    sentient        unknown   \n",
       "12          13   Toydarian         mammal    sentient            120   \n",
       "13          14         Dug         mammal    sentient            100   \n",
       "18          19       Toong        unknown    sentient            200   \n",
       "25          26     Kel Dor        unknown    sentient            180   \n",
       "\n",
       "                 skin_colors hair_colors     eye_colors average_lifespan  \\\n",
       "22                      dark     unknown   blue, indigo          unknown   \n",
       "12         blue, green, grey        none         yellow               91   \n",
       "13  brown, purple, grey, red        none   yellow, blue          unknown   \n",
       "18       grey, green, yellow        none         orange          unknown   \n",
       "25        peach, orange, red        none  black, silver               70   \n",
       "\n",
       "   homeworld_id   language character_id film_id  \\\n",
       "22           46    unknown         [55]  [4, 6]   \n",
       "12           34  Toydarian         [40]  [4, 5]   \n",
       "13           35     Dugese         [41]     [4]   \n",
       "18           41     Tundan         [50]  [4, 6]   \n",
       "25           49    Kel Dor         [58]  [4, 6]   \n",
       "\n",
       "                                  url  \n",
       "22  https://swapi.dev/api/species/23/  \n",
       "12  https://swapi.dev/api/species/13/  \n",
       "13  https://swapi.dev/api/species/14/  \n",
       "18  https://swapi.dev/api/species/19/  \n",
       "25  https://swapi.dev/api/species/26/  "
      ]
     },
     "execution_count": 27,
     "metadata": {},
     "output_type": "execute_result"
    }
   ],
   "source": [
    "df = categories_dataframes['species']\n",
    "df.sample(5)"
   ]
  },
  {
   "cell_type": "code",
   "execution_count": 28,
   "id": "c821986e",
   "metadata": {},
   "outputs": [
    {
     "data": {
      "text/plain": [
       "species_id           int64\n",
       "name                object\n",
       "classification      object\n",
       "designation         object\n",
       "average_height      object\n",
       "skin_colors         object\n",
       "hair_colors         object\n",
       "eye_colors          object\n",
       "average_lifespan    object\n",
       "homeworld_id        object\n",
       "language            object\n",
       "character_id        object\n",
       "film_id             object\n",
       "url                 object\n",
       "dtype: object"
      ]
     },
     "execution_count": 28,
     "metadata": {},
     "output_type": "execute_result"
    }
   ],
   "source": [
    "df.dtypes"
   ]
  },
  {
   "cell_type": "code",
   "execution_count": 29,
   "id": "8136027d",
   "metadata": {},
   "outputs": [],
   "source": [
    "df.average_height = df.average_height.replace('unknown', np.nan).replace('n/a', np.nan).astype('float')"
   ]
  },
  {
   "cell_type": "code",
   "execution_count": 30,
   "id": "1d38e70d",
   "metadata": {},
   "outputs": [],
   "source": [
    "df.average_lifespan = df.average_lifespan.replace('unknown', np.nan).replace('indefinite', 9999).astype('float')"
   ]
  },
  {
   "cell_type": "code",
   "execution_count": 31,
   "id": "9d41f9ec",
   "metadata": {},
   "outputs": [],
   "source": [
    "df.loc[1, 'homeworld_id'] = np.nan\n",
    "df.homeworld_id = df.homeworld_id.astype('float')"
   ]
  },
  {
   "cell_type": "markdown",
   "id": "f3fb8577",
   "metadata": {},
   "source": [
    "## Clean vehicles"
   ]
  },
  {
   "cell_type": "code",
   "execution_count": 32,
   "id": "451a6ffe",
   "metadata": {},
   "outputs": [
    {
     "data": {
      "text/html": [
       "<div>\n",
       "<style scoped>\n",
       "    .dataframe tbody tr th:only-of-type {\n",
       "        vertical-align: middle;\n",
       "    }\n",
       "\n",
       "    .dataframe tbody tr th {\n",
       "        vertical-align: top;\n",
       "    }\n",
       "\n",
       "    .dataframe thead th {\n",
       "        text-align: right;\n",
       "    }\n",
       "</style>\n",
       "<table border=\"1\" class=\"dataframe\">\n",
       "  <thead>\n",
       "    <tr style=\"text-align: right;\">\n",
       "      <th></th>\n",
       "      <th>vehicle_id</th>\n",
       "      <th>name</th>\n",
       "      <th>model</th>\n",
       "      <th>manufacturer</th>\n",
       "      <th>cost_in_credits</th>\n",
       "      <th>length</th>\n",
       "      <th>max_atmosphering_speed</th>\n",
       "      <th>crew</th>\n",
       "      <th>passengers</th>\n",
       "      <th>cargo_capacity</th>\n",
       "      <th>consumables</th>\n",
       "      <th>vehicle_class</th>\n",
       "      <th>pilot_id</th>\n",
       "      <th>film_id</th>\n",
       "      <th>url</th>\n",
       "    </tr>\n",
       "  </thead>\n",
       "  <tbody>\n",
       "    <tr>\n",
       "      <th>30</th>\n",
       "      <td>31</td>\n",
       "      <td>Tsmeu-6 personal wheel bike</td>\n",
       "      <td>Tsmeu-6 personal wheel bike</td>\n",
       "      <td>Z-Gomot Ternbuell Guppat Corporation</td>\n",
       "      <td>15000</td>\n",
       "      <td>3.5</td>\n",
       "      <td>330</td>\n",
       "      <td>1</td>\n",
       "      <td>1</td>\n",
       "      <td>10</td>\n",
       "      <td>none</td>\n",
       "      <td>wheeled walker</td>\n",
       "      <td>[79]</td>\n",
       "      <td>[6]</td>\n",
       "      <td>https://swapi.dev/api/vehicles/60/</td>\n",
       "    </tr>\n",
       "    <tr>\n",
       "      <th>21</th>\n",
       "      <td>22</td>\n",
       "      <td>Koro-2 Exodrive airspeeder</td>\n",
       "      <td>Koro-2 Exodrive airspeeder</td>\n",
       "      <td>Desler Gizh Outworld Mobility Corporation</td>\n",
       "      <td>unknown</td>\n",
       "      <td>6.6</td>\n",
       "      <td>800</td>\n",
       "      <td>1</td>\n",
       "      <td>1</td>\n",
       "      <td>80</td>\n",
       "      <td>unknown</td>\n",
       "      <td>airspeeder</td>\n",
       "      <td>[70]</td>\n",
       "      <td>[5]</td>\n",
       "      <td>https://swapi.dev/api/vehicles/45/</td>\n",
       "    </tr>\n",
       "    <tr>\n",
       "      <th>7</th>\n",
       "      <td>8</td>\n",
       "      <td>AT-ST</td>\n",
       "      <td>All Terrain Scout Transport</td>\n",
       "      <td>Kuat Drive Yards, Imperial Department of Milit...</td>\n",
       "      <td>unknown</td>\n",
       "      <td>2</td>\n",
       "      <td>90</td>\n",
       "      <td>2</td>\n",
       "      <td>0</td>\n",
       "      <td>200</td>\n",
       "      <td>none</td>\n",
       "      <td>walker</td>\n",
       "      <td>[13]</td>\n",
       "      <td>[2, 3]</td>\n",
       "      <td>https://swapi.dev/api/vehicles/19/</td>\n",
       "    </tr>\n",
       "    <tr>\n",
       "      <th>26</th>\n",
       "      <td>27</td>\n",
       "      <td>SPHA</td>\n",
       "      <td>Self-Propelled Heavy Artillery</td>\n",
       "      <td>Rothana Heavy Engineering</td>\n",
       "      <td>unknown</td>\n",
       "      <td>140</td>\n",
       "      <td>35</td>\n",
       "      <td>25</td>\n",
       "      <td>30</td>\n",
       "      <td>500</td>\n",
       "      <td>7 days</td>\n",
       "      <td>walker</td>\n",
       "      <td>[]</td>\n",
       "      <td>[5]</td>\n",
       "      <td>https://swapi.dev/api/vehicles/54/</td>\n",
       "    </tr>\n",
       "    <tr>\n",
       "      <th>9</th>\n",
       "      <td>10</td>\n",
       "      <td>Sail barge</td>\n",
       "      <td>Modified Luxury Sail Barge</td>\n",
       "      <td>Ubrikkian Industries Custom Vehicle Division</td>\n",
       "      <td>285000</td>\n",
       "      <td>30</td>\n",
       "      <td>100</td>\n",
       "      <td>26</td>\n",
       "      <td>500</td>\n",
       "      <td>2000000</td>\n",
       "      <td>Live food tanks</td>\n",
       "      <td>sail barge</td>\n",
       "      <td>[]</td>\n",
       "      <td>[3]</td>\n",
       "      <td>https://swapi.dev/api/vehicles/24/</td>\n",
       "    </tr>\n",
       "  </tbody>\n",
       "</table>\n",
       "</div>"
      ],
      "text/plain": [
       "    vehicle_id                         name                           model  \\\n",
       "30          31  Tsmeu-6 personal wheel bike     Tsmeu-6 personal wheel bike   \n",
       "21          22   Koro-2 Exodrive airspeeder      Koro-2 Exodrive airspeeder   \n",
       "7            8                        AT-ST     All Terrain Scout Transport   \n",
       "26          27                         SPHA  Self-Propelled Heavy Artillery   \n",
       "9           10                   Sail barge      Modified Luxury Sail Barge   \n",
       "\n",
       "                                         manufacturer cost_in_credits length  \\\n",
       "30               Z-Gomot Ternbuell Guppat Corporation           15000    3.5   \n",
       "21          Desler Gizh Outworld Mobility Corporation         unknown    6.6   \n",
       "7   Kuat Drive Yards, Imperial Department of Milit...         unknown      2   \n",
       "26                          Rothana Heavy Engineering         unknown    140   \n",
       "9        Ubrikkian Industries Custom Vehicle Division          285000     30   \n",
       "\n",
       "   max_atmosphering_speed crew passengers cargo_capacity      consumables  \\\n",
       "30                    330    1          1             10             none   \n",
       "21                    800    1          1             80          unknown   \n",
       "7                      90    2          0            200             none   \n",
       "26                     35   25         30            500           7 days   \n",
       "9                     100   26        500        2000000  Live food tanks   \n",
       "\n",
       "     vehicle_class pilot_id film_id                                 url  \n",
       "30  wheeled walker     [79]     [6]  https://swapi.dev/api/vehicles/60/  \n",
       "21      airspeeder     [70]     [5]  https://swapi.dev/api/vehicles/45/  \n",
       "7           walker     [13]  [2, 3]  https://swapi.dev/api/vehicles/19/  \n",
       "26          walker       []     [5]  https://swapi.dev/api/vehicles/54/  \n",
       "9       sail barge       []     [3]  https://swapi.dev/api/vehicles/24/  "
      ]
     },
     "execution_count": 32,
     "metadata": {},
     "output_type": "execute_result"
    }
   ],
   "source": [
    "df = categories_dataframes['vehicles']\n",
    "df.sample(5)"
   ]
  },
  {
   "cell_type": "code",
   "execution_count": 33,
   "id": "16f71fd9",
   "metadata": {},
   "outputs": [],
   "source": [
    "df.cost_in_credits = df.cost_in_credits.replace('unknown', np.nan)\n",
    "df.cost_in_credits = df.cost_in_credits.astype('float')"
   ]
  },
  {
   "cell_type": "code",
   "execution_count": 34,
   "id": "dfe012ba",
   "metadata": {},
   "outputs": [],
   "source": [
    "for col in ['max_atmosphering_speed' ,'crew', 'passengers', 'cargo_capacity']:\n",
    "    df[col] = df[col].replace('unknown', np.nan).replace('none', np.nan)\n",
    "    df[col] = df[col].astype('float')"
   ]
  },
  {
   "cell_type": "code",
   "execution_count": 35,
   "id": "96fa6ccf",
   "metadata": {},
   "outputs": [],
   "source": [
    "df.length = df.length.replace('unknown', np.nan)\n",
    "df.length = df.length.astype('float')"
   ]
  },
  {
   "cell_type": "code",
   "execution_count": 36,
   "id": "158b20ae",
   "metadata": {},
   "outputs": [],
   "source": [
    "df.consumables = df.consumables.replace('0', 'none')"
   ]
  },
  {
   "cell_type": "markdown",
   "id": "4cc7aa12",
   "metadata": {},
   "source": [
    "## Clean starships"
   ]
  },
  {
   "cell_type": "code",
   "execution_count": 37,
   "id": "0a202666",
   "metadata": {},
   "outputs": [
    {
     "data": {
      "text/html": [
       "<div>\n",
       "<style scoped>\n",
       "    .dataframe tbody tr th:only-of-type {\n",
       "        vertical-align: middle;\n",
       "    }\n",
       "\n",
       "    .dataframe tbody tr th {\n",
       "        vertical-align: top;\n",
       "    }\n",
       "\n",
       "    .dataframe thead th {\n",
       "        text-align: right;\n",
       "    }\n",
       "</style>\n",
       "<table border=\"1\" class=\"dataframe\">\n",
       "  <thead>\n",
       "    <tr style=\"text-align: right;\">\n",
       "      <th></th>\n",
       "      <th>starship_id</th>\n",
       "      <th>name</th>\n",
       "      <th>model</th>\n",
       "      <th>manufacturer</th>\n",
       "      <th>cost_in_credits</th>\n",
       "      <th>length</th>\n",
       "      <th>max_atmosphering_speed</th>\n",
       "      <th>crew</th>\n",
       "      <th>passengers</th>\n",
       "      <th>cargo_capacity</th>\n",
       "      <th>consumables</th>\n",
       "      <th>hyperdrive_rating</th>\n",
       "      <th>MGLT</th>\n",
       "      <th>starship_class</th>\n",
       "      <th>pilot_id</th>\n",
       "      <th>film_id</th>\n",
       "      <th>url</th>\n",
       "    </tr>\n",
       "  </thead>\n",
       "  <tbody>\n",
       "    <tr>\n",
       "      <th>11</th>\n",
       "      <td>12</td>\n",
       "      <td>Imperial shuttle</td>\n",
       "      <td>Lambda-class T-4a shuttle</td>\n",
       "      <td>Sienar Fleet Systems</td>\n",
       "      <td>240000</td>\n",
       "      <td>20</td>\n",
       "      <td>850</td>\n",
       "      <td>6</td>\n",
       "      <td>20</td>\n",
       "      <td>80000</td>\n",
       "      <td>2 months</td>\n",
       "      <td>1.0</td>\n",
       "      <td>50</td>\n",
       "      <td>Armed government transport</td>\n",
       "      <td>[1, 13, 14]</td>\n",
       "      <td>[2, 3]</td>\n",
       "      <td>https://swapi.dev/api/starships/22/</td>\n",
       "    </tr>\n",
       "    <tr>\n",
       "      <th>20</th>\n",
       "      <td>21</td>\n",
       "      <td>Scimitar</td>\n",
       "      <td>Star Courier</td>\n",
       "      <td>Republic Sienar Systems</td>\n",
       "      <td>55000000</td>\n",
       "      <td>26.5</td>\n",
       "      <td>1180</td>\n",
       "      <td>1</td>\n",
       "      <td>6</td>\n",
       "      <td>2500000</td>\n",
       "      <td>30 days</td>\n",
       "      <td>1.5</td>\n",
       "      <td>unknown</td>\n",
       "      <td>Space Transport</td>\n",
       "      <td>[44]</td>\n",
       "      <td>[4]</td>\n",
       "      <td>https://swapi.dev/api/starships/41/</td>\n",
       "    </tr>\n",
       "    <tr>\n",
       "      <th>27</th>\n",
       "      <td>28</td>\n",
       "      <td>Trade Federation cruiser</td>\n",
       "      <td>Providence-class carrier/destroyer</td>\n",
       "      <td>Rendili StarDrive, Free Dac Volunteers Enginee...</td>\n",
       "      <td>125000000</td>\n",
       "      <td>1088</td>\n",
       "      <td>1050</td>\n",
       "      <td>600</td>\n",
       "      <td>48247</td>\n",
       "      <td>50000000</td>\n",
       "      <td>4 years</td>\n",
       "      <td>1.5</td>\n",
       "      <td>unknown</td>\n",
       "      <td>capital ship</td>\n",
       "      <td>[10, 11]</td>\n",
       "      <td>[6]</td>\n",
       "      <td>https://swapi.dev/api/starships/59/</td>\n",
       "    </tr>\n",
       "    <tr>\n",
       "      <th>13</th>\n",
       "      <td>14</td>\n",
       "      <td>Calamari Cruiser</td>\n",
       "      <td>MC80 Liberty type Star Cruiser</td>\n",
       "      <td>Mon Calamari shipyards</td>\n",
       "      <td>104000000</td>\n",
       "      <td>1200</td>\n",
       "      <td>n/a</td>\n",
       "      <td>5400</td>\n",
       "      <td>1200</td>\n",
       "      <td>unknown</td>\n",
       "      <td>2 years</td>\n",
       "      <td>1.0</td>\n",
       "      <td>60</td>\n",
       "      <td>Star Cruiser</td>\n",
       "      <td>[]</td>\n",
       "      <td>[3]</td>\n",
       "      <td>https://swapi.dev/api/starships/27/</td>\n",
       "    </tr>\n",
       "    <tr>\n",
       "      <th>4</th>\n",
       "      <td>5</td>\n",
       "      <td>Millennium Falcon</td>\n",
       "      <td>YT-1300 light freighter</td>\n",
       "      <td>Corellian Engineering Corporation</td>\n",
       "      <td>100000</td>\n",
       "      <td>34.37</td>\n",
       "      <td>1050</td>\n",
       "      <td>4</td>\n",
       "      <td>6</td>\n",
       "      <td>100000</td>\n",
       "      <td>2 months</td>\n",
       "      <td>0.5</td>\n",
       "      <td>75</td>\n",
       "      <td>Light freighter</td>\n",
       "      <td>[13, 14, 25, 31]</td>\n",
       "      <td>[1, 2, 3]</td>\n",
       "      <td>https://swapi.dev/api/starships/10/</td>\n",
       "    </tr>\n",
       "  </tbody>\n",
       "</table>\n",
       "</div>"
      ],
      "text/plain": [
       "    starship_id                      name                               model  \\\n",
       "11           12          Imperial shuttle           Lambda-class T-4a shuttle   \n",
       "20           21                  Scimitar                        Star Courier   \n",
       "27           28  Trade Federation cruiser  Providence-class carrier/destroyer   \n",
       "13           14          Calamari Cruiser      MC80 Liberty type Star Cruiser   \n",
       "4             5         Millennium Falcon             YT-1300 light freighter   \n",
       "\n",
       "                                         manufacturer cost_in_credits length  \\\n",
       "11                               Sienar Fleet Systems          240000     20   \n",
       "20                            Republic Sienar Systems        55000000   26.5   \n",
       "27  Rendili StarDrive, Free Dac Volunteers Enginee...       125000000   1088   \n",
       "13                             Mon Calamari shipyards       104000000   1200   \n",
       "4                   Corellian Engineering Corporation          100000  34.37   \n",
       "\n",
       "   max_atmosphering_speed  crew passengers cargo_capacity consumables  \\\n",
       "11                    850     6         20          80000    2 months   \n",
       "20                   1180     1          6        2500000     30 days   \n",
       "27                   1050   600      48247       50000000     4 years   \n",
       "13                    n/a  5400       1200        unknown     2 years   \n",
       "4                    1050     4          6         100000    2 months   \n",
       "\n",
       "   hyperdrive_rating     MGLT              starship_class          pilot_id  \\\n",
       "11               1.0       50  Armed government transport       [1, 13, 14]   \n",
       "20               1.5  unknown             Space Transport              [44]   \n",
       "27               1.5  unknown                capital ship          [10, 11]   \n",
       "13               1.0       60                Star Cruiser                []   \n",
       "4                0.5       75             Light freighter  [13, 14, 25, 31]   \n",
       "\n",
       "      film_id                                  url  \n",
       "11     [2, 3]  https://swapi.dev/api/starships/22/  \n",
       "20        [4]  https://swapi.dev/api/starships/41/  \n",
       "27        [6]  https://swapi.dev/api/starships/59/  \n",
       "13        [3]  https://swapi.dev/api/starships/27/  \n",
       "4   [1, 2, 3]  https://swapi.dev/api/starships/10/  "
      ]
     },
     "execution_count": 37,
     "metadata": {},
     "output_type": "execute_result"
    }
   ],
   "source": [
    "df = categories_dataframes['starships']\n",
    "df.sample(5)"
   ]
  },
  {
   "cell_type": "code",
   "execution_count": 38,
   "id": "383f66bc",
   "metadata": {},
   "outputs": [],
   "source": [
    "df.loc[0, 'crew'] = 165"
   ]
  },
  {
   "cell_type": "code",
   "execution_count": 39,
   "id": "ccce4cb8",
   "metadata": {},
   "outputs": [],
   "source": [
    "for col in ['cost_in_credits', 'length', 'max_atmosphering_speed', 'crew', 'passengers', 'cargo_capacity', 'hyperdrive_rating', 'MGLT']:\n",
    "    try:\n",
    "        df[col] = df[col].replace('unknown', np.nan).replace('none', np.nan).replace('n/a', np.nan)\n",
    "        df[col] = df[col].str.replace(',', '', regex = False).str.replace('km', '')\n",
    "        #df[col] = df[col].astype('float')\n",
    "    except Exception as e:\n",
    "        print(f'Error in {col}: {e}')"
   ]
  },
  {
   "cell_type": "code",
   "execution_count": 40,
   "id": "6e758414",
   "metadata": {},
   "outputs": [],
   "source": [
    "for col in ['cost_in_credits', 'length', 'max_atmosphering_speed', 'crew', 'passengers', 'cargo_capacity', 'hyperdrive_rating', 'MGLT']:\n",
    "    try:\n",
    "        df[col] = df[col].astype('float')\n",
    "    except:\n",
    "        print(f'error with {col}')"
   ]
  },
  {
   "cell_type": "code",
   "execution_count": 41,
   "id": "e809c02d",
   "metadata": {},
   "outputs": [
    {
     "name": "stdout",
     "output_type": "stream",
     "text": [
      "File films_dataframe.csv already exist!\n",
      "File people_dataframe.csv already exist!\n",
      "File planets_dataframe.csv already exist!\n",
      "File species_dataframe.csv already exist!\n",
      "File starships_dataframe.csv already exist!\n",
      "File vehicles_dataframe.csv already exist!\n",
      "Dataframes of each normalized category are stored in ./data/csv/ as csv files!\n"
     ]
    }
   ],
   "source": [
    "data_path = './data'\n",
    "for cat in categories:\n",
    "    filename = f'{cat}_dataframe.csv'\n",
    "    if os.path.exists(f'{data_path}/csv/{filename}'):\n",
    "        print(f'File {filename} already exist!')\n",
    "        pass\n",
    "    else:\n",
    "        os.makedirs(f'{data_path}/csv/', exist_ok=True)\n",
    "        df = categories_dataframes[cat]\n",
    "        df.to_csv(f'{data_path}/csv/{cat}_dataframe.csv', index = False)\n",
    "print(f'Dataframes of each normalized category are stored in {data_path}/csv/ as csv files!')"
   ]
  },
  {
   "cell_type": "markdown",
   "id": "68e88445",
   "metadata": {},
   "source": [
    "# Junction tables\n",
    "\n",
    "(many-to-many relationships in the database)\n",
    "\n",
    "1. **films_people_junction**: Links films to the characters that appeared in them.\n",
    "\n",
    "    - character_id: Foreign Key referencing the `people` table.\n",
    "    - film_id: Foreign Key referencing the films table.\n",
    "\n",
    "2. **films_planets_junction**: Links films to the planets that appeared in them.\n",
    "\n",
    "    - planet_id: Foreign Key referencing the `planets` table.\n",
    "    - film_id: Foreign Key referencing the `films` table.\n",
    "\n",
    "3. **films_starships_junction**: Links films to the starships that appeared in them.\n",
    "\n",
    "    - starship_id: Foreign Key referencing the `starships` table.\n",
    "    - film_id: Foreign Key referencing the `films` table.\n",
    "\n",
    "4. **films_vehicles_junction**: Links films to the vehicles that appeared in them.\n",
    "\n",
    "    - vehicle_id: Foreign Key referencing the `vehicles` table.\n",
    "    - film_id: Foreign Key referencing the `films` table.\n",
    "\n",
    "5. **films_species_junction**: Links films to the species that appeared in them.\n",
    "\n",
    "    - species_id: Foreign Key referencing the `species` table.\n",
    "    - film_id: Foreign Key referencing the `films` table.\n",
    "\n",
    "6. **people_starships_junction**: Links people (pilots) to the starships they have piloted.\n",
    "\n",
    "    - character_id: Foreign Key referencing the `people` table.\n",
    "    - starship_id: Foreign Key referencing the `starships` table.\n",
    "\n",
    "7. **people_vehicles_junction**: Links people (pilots) to the vehicles they have piloted.\n",
    "\n",
    "    - character_id: Foreign Key referencing the `people` table.\n",
    "    - vehicle_id: Foreign Key referencing the vehicles table."
   ]
  },
  {
   "cell_type": "code",
   "execution_count": 43,
   "id": "87438fff",
   "metadata": {},
   "outputs": [],
   "source": [
    "junction_tables = [\n",
    "    'people_vehicles_junction', \n",
    "    'people_starships_junction',\n",
    "    \n",
    "    'films_people_junction',\n",
    "    'films_planets_junction',\n",
    "    'films_starships_junction',\n",
    "    'films_vehicles_junction',\n",
    "    'films_species_junction'\n",
    "    ]\n",
    "\n",
    "junction_tables_dict = {i:None for i in junction_tables}"
   ]
  },
  {
   "cell_type": "markdown",
   "id": "a46b4959",
   "metadata": {},
   "source": [
    "## Junction tables for films:"
   ]
  },
  {
   "cell_type": "code",
   "execution_count": null,
   "id": "ca7e10a8",
   "metadata": {},
   "outputs": [],
   "source": [
    "data = categories_dataframes['films'].loc[:, ['species_id', 'planet_id', 'film_id', 'vehicle_id', 'starship_id']]"
   ]
  },
  {
   "cell_type": "code",
   "execution_count": 45,
   "id": "54217b19",
   "metadata": {},
   "outputs": [
    {
     "data": {
      "text/html": [
       "<div>\n",
       "<style scoped>\n",
       "    .dataframe tbody tr th:only-of-type {\n",
       "        vertical-align: middle;\n",
       "    }\n",
       "\n",
       "    .dataframe tbody tr th {\n",
       "        vertical-align: top;\n",
       "    }\n",
       "\n",
       "    .dataframe thead th {\n",
       "        text-align: right;\n",
       "    }\n",
       "</style>\n",
       "<table border=\"1\" class=\"dataframe\">\n",
       "  <thead>\n",
       "    <tr style=\"text-align: right;\">\n",
       "      <th></th>\n",
       "      <th>species_id</th>\n",
       "      <th>planet_id</th>\n",
       "      <th>film_id</th>\n",
       "      <th>vehicle_id</th>\n",
       "      <th>starship_id</th>\n",
       "    </tr>\n",
       "  </thead>\n",
       "  <tbody>\n",
       "    <tr>\n",
       "      <th>0</th>\n",
       "      <td>1</td>\n",
       "      <td>[1, 2, 3]</td>\n",
       "      <td>1</td>\n",
       "      <td>[4, 6, 7, 8]</td>\n",
       "      <td>[2, 3, 5, 9, 10, 11, 12, 13]</td>\n",
       "    </tr>\n",
       "    <tr>\n",
       "      <th>1</th>\n",
       "      <td>1</td>\n",
       "      <td>[4, 5, 6, 27]</td>\n",
       "      <td>2</td>\n",
       "      <td>[8, 14, 16, 18, 19, 20]</td>\n",
       "      <td>[3, 10, 11, 12, 15, 17, 21, 22, 23]</td>\n",
       "    </tr>\n",
       "    <tr>\n",
       "      <th>2</th>\n",
       "      <td>1</td>\n",
       "      <td>[1, 5, 7, 8, 9]</td>\n",
       "      <td>3</td>\n",
       "      <td>[8, 16, 18, 19, 24, 25, 26, 30]</td>\n",
       "      <td>[2, 3, 10, 11, 12, 15, 17, 22, 23, 27, 28, 29]</td>\n",
       "    </tr>\n",
       "    <tr>\n",
       "      <th>3</th>\n",
       "      <td>1</td>\n",
       "      <td>[1, 8, 9]</td>\n",
       "      <td>4</td>\n",
       "      <td>[33, 34, 35, 36, 37, 38, 42]</td>\n",
       "      <td>[31, 32, 39, 40, 41]</td>\n",
       "    </tr>\n",
       "    <tr>\n",
       "      <th>4</th>\n",
       "      <td>1</td>\n",
       "      <td>[1, 8, 9, 10, 11]</td>\n",
       "      <td>5</td>\n",
       "      <td>[4, 44, 45, 46, 50, 51, 53, 54, 55, 56, 57]</td>\n",
       "      <td>[21, 32, 39, 43, 47, 48, 49, 52, 58]</td>\n",
       "    </tr>\n",
       "  </tbody>\n",
       "</table>\n",
       "</div>"
      ],
      "text/plain": [
       "   species_id          planet_id  film_id  \\\n",
       "0           1          [1, 2, 3]        1   \n",
       "1           1      [4, 5, 6, 27]        2   \n",
       "2           1    [1, 5, 7, 8, 9]        3   \n",
       "3           1          [1, 8, 9]        4   \n",
       "4           1  [1, 8, 9, 10, 11]        5   \n",
       "\n",
       "                                    vehicle_id  \\\n",
       "0                                 [4, 6, 7, 8]   \n",
       "1                      [8, 14, 16, 18, 19, 20]   \n",
       "2              [8, 16, 18, 19, 24, 25, 26, 30]   \n",
       "3                 [33, 34, 35, 36, 37, 38, 42]   \n",
       "4  [4, 44, 45, 46, 50, 51, 53, 54, 55, 56, 57]   \n",
       "\n",
       "                                      starship_id  \n",
       "0                    [2, 3, 5, 9, 10, 11, 12, 13]  \n",
       "1             [3, 10, 11, 12, 15, 17, 21, 22, 23]  \n",
       "2  [2, 3, 10, 11, 12, 15, 17, 22, 23, 27, 28, 29]  \n",
       "3                            [31, 32, 39, 40, 41]  \n",
       "4            [21, 32, 39, 43, 47, 48, 49, 52, 58]  "
      ]
     },
     "execution_count": 45,
     "metadata": {},
     "output_type": "execute_result"
    }
   ],
   "source": [
    "data.head()"
   ]
  },
  {
   "cell_type": "code",
   "execution_count": 47,
   "id": "91dcd4b0",
   "metadata": {},
   "outputs": [],
   "source": [
    "# junction table for people and films\n",
    "junction_tables_dict['films_species_junction'] = data.explode('species_id')"
   ]
  },
  {
   "cell_type": "code",
   "execution_count": 51,
   "id": "ca725fed",
   "metadata": {},
   "outputs": [
    {
     "data": {
      "text/html": [
       "<div>\n",
       "<style scoped>\n",
       "    .dataframe tbody tr th:only-of-type {\n",
       "        vertical-align: middle;\n",
       "    }\n",
       "\n",
       "    .dataframe tbody tr th {\n",
       "        vertical-align: top;\n",
       "    }\n",
       "\n",
       "    .dataframe thead th {\n",
       "        text-align: right;\n",
       "    }\n",
       "</style>\n",
       "<table border=\"1\" class=\"dataframe\">\n",
       "  <thead>\n",
       "    <tr style=\"text-align: right;\">\n",
       "      <th></th>\n",
       "      <th>species_id</th>\n",
       "      <th>film_id</th>\n",
       "    </tr>\n",
       "  </thead>\n",
       "  <tbody>\n",
       "    <tr>\n",
       "      <th>0</th>\n",
       "      <td>1</td>\n",
       "      <td>1</td>\n",
       "    </tr>\n",
       "    <tr>\n",
       "      <th>1</th>\n",
       "      <td>1</td>\n",
       "      <td>2</td>\n",
       "    </tr>\n",
       "    <tr>\n",
       "      <th>2</th>\n",
       "      <td>1</td>\n",
       "      <td>3</td>\n",
       "    </tr>\n",
       "    <tr>\n",
       "      <th>3</th>\n",
       "      <td>1</td>\n",
       "      <td>4</td>\n",
       "    </tr>\n",
       "    <tr>\n",
       "      <th>4</th>\n",
       "      <td>1</td>\n",
       "      <td>5</td>\n",
       "    </tr>\n",
       "    <tr>\n",
       "      <th>5</th>\n",
       "      <td>1</td>\n",
       "      <td>6</td>\n",
       "    </tr>\n",
       "  </tbody>\n",
       "</table>\n",
       "</div>"
      ],
      "text/plain": [
       "   species_id  film_id\n",
       "0           1        1\n",
       "1           1        2\n",
       "2           1        3\n",
       "3           1        4\n",
       "4           1        5\n",
       "5           1        6"
      ]
     },
     "execution_count": 51,
     "metadata": {},
     "output_type": "execute_result"
    }
   ],
   "source": [
    "junction_tables_dict['films_species_junction'].drop(['planet_id', 'vehicle_id', 'starship_id'], axis = 1)"
   ]
  },
  {
   "cell_type": "code",
   "execution_count": null,
   "id": "0ed8abd0",
   "metadata": {},
   "outputs": [],
   "source": [
    "\n",
    "# junction table for people and vehicles\n",
    "junction_tables_dict['films_vehicles_junction'] = data.explode('vehicle_id').drop(['species_id', 'starship_id'], axis = 1).drop_duplicates()\n",
    "\n",
    "# junction table for people and starships\n",
    "junction_tables_dict['films_starships_junction'] = data.explode('starship_id').drop(['species_id', 'vehicle_id'], axis = 1).drop_duplicates()"
   ]
  },
  {
   "cell_type": "markdown",
   "id": "22091990",
   "metadata": {},
   "source": [
    "## Junction tables for films:"
   ]
  },
  {
   "cell_type": "code",
   "execution_count": 45,
   "id": "e7a4591b",
   "metadata": {},
   "outputs": [],
   "source": [
    "data = categories_dataframes['films'].loc[:, ['character_id', 'film_id', 'vehicle_id', 'starship_id']]\n",
    "\n",
    "# junction table for people and films\n",
    "junction_tables_dict['people_films_junction'] = data.explode('character_id').drop(['vehicle_id', 'starship_id'], axis = 1).drop_duplicates()\n",
    "\n",
    "# junction table for people and vehicles\n",
    "junction_tables_dict['people_vehicles_junction'] = data.explode('vehicle_id').explode('character_id').drop(['film_id', 'starship_id'], axis = 1).drop_duplicates()\n",
    "\n",
    "# junction table for people and starships\n",
    "junction_tables_dict['people_starships_junction'] = data.explode('starship_id').explode('character_id').drop(['film_id', 'vehicle_id'], axis = 1).drop_duplicates()"
   ]
  },
  {
   "cell_type": "code",
   "execution_count": 46,
   "id": "3965e61a",
   "metadata": {},
   "outputs": [
    {
     "data": {
      "text/html": [
       "<div>\n",
       "<style scoped>\n",
       "    .dataframe tbody tr th:only-of-type {\n",
       "        vertical-align: middle;\n",
       "    }\n",
       "\n",
       "    .dataframe tbody tr th {\n",
       "        vertical-align: top;\n",
       "    }\n",
       "\n",
       "    .dataframe thead th {\n",
       "        text-align: right;\n",
       "    }\n",
       "</style>\n",
       "<table border=\"1\" class=\"dataframe\">\n",
       "  <thead>\n",
       "    <tr style=\"text-align: right;\">\n",
       "      <th></th>\n",
       "      <th>character_id</th>\n",
       "      <th>starship_id</th>\n",
       "    </tr>\n",
       "  </thead>\n",
       "  <tbody>\n",
       "    <tr>\n",
       "      <th>0</th>\n",
       "      <td>1</td>\n",
       "      <td>2</td>\n",
       "    </tr>\n",
       "    <tr>\n",
       "      <th>0</th>\n",
       "      <td>2</td>\n",
       "      <td>2</td>\n",
       "    </tr>\n",
       "    <tr>\n",
       "      <th>0</th>\n",
       "      <td>3</td>\n",
       "      <td>2</td>\n",
       "    </tr>\n",
       "    <tr>\n",
       "      <th>0</th>\n",
       "      <td>4</td>\n",
       "      <td>2</td>\n",
       "    </tr>\n",
       "    <tr>\n",
       "      <th>0</th>\n",
       "      <td>5</td>\n",
       "      <td>2</td>\n",
       "    </tr>\n",
       "  </tbody>\n",
       "</table>\n",
       "</div>"
      ],
      "text/plain": [
       "  character_id starship_id\n",
       "0            1           2\n",
       "0            2           2\n",
       "0            3           2\n",
       "0            4           2\n",
       "0            5           2"
      ]
     },
     "execution_count": 46,
     "metadata": {},
     "output_type": "execute_result"
    }
   ],
   "source": [
    "junction_tables_dict['people_starships_junction'].head()"
   ]
  },
  {
   "cell_type": "markdown",
   "id": "40a47f02",
   "metadata": {},
   "source": [
    "# Normalization\n",
    "Next step is to normalize the datasets in order to create the database."
   ]
  },
  {
   "cell_type": "code",
   "execution_count": 47,
   "id": "d2eb76dd",
   "metadata": {},
   "outputs": [],
   "source": [
    "categories_dataframes_normalized = categories_dataframes.copy()"
   ]
  },
  {
   "cell_type": "code",
   "execution_count": 48,
   "id": "faee3899",
   "metadata": {},
   "outputs": [],
   "source": [
    "columns_to_drop = {\n",
    "    'films' : ['character_id', 'planet_id', 'species_id', 'vehicle_id', 'starship_id', 'url'],\n",
    "    'people' : ['film_id', 'species_id', 'vehicle_id', 'starship_id', 'url'],\n",
    "    'planets' : ['residents_id', 'film_id', 'url'],\n",
    "    'species' : ['character_id', 'film_id', 'url'],\n",
    "    'starships' : ['pilot_id', 'film_id', 'url'],\n",
    "    'vehicles' : ['pilot_id', 'film_id', 'url'],\n",
    "}  "
   ]
  },
  {
   "cell_type": "markdown",
   "id": "a4bdc187",
   "metadata": {},
   "source": [
    "### Drop the corresponding columns in order to normalize the tables"
   ]
  },
  {
   "cell_type": "code",
   "execution_count": 49,
   "id": "fd772369",
   "metadata": {},
   "outputs": [],
   "source": [
    "for cat in categories_dataframes_normalized.keys():\n",
    "    categories_dataframes_normalized[cat].drop(columns_to_drop[cat], axis='columns', inplace = True)"
   ]
  },
  {
   "cell_type": "markdown",
   "id": "30aaf7f3",
   "metadata": {},
   "source": [
    "## Store the normalized dataframes"
   ]
  },
  {
   "cell_type": "code",
   "execution_count": 50,
   "id": "e590d48c",
   "metadata": {},
   "outputs": [
    {
     "name": "stdout",
     "output_type": "stream",
     "text": [
      "Dataframes of each normalized category are stored in ./data/csv_normalized/ as csv files!\n"
     ]
    }
   ],
   "source": [
    "data_path = './data'\n",
    "for cat in categories:\n",
    "    filename = f'{cat}_dataframe.csv'\n",
    "    if os.path.exists(f'{data_path}/csv_normalized/{filename}'):\n",
    "        print(f'File {filename} already exist!')\n",
    "        pass\n",
    "    else:\n",
    "        os.makedirs(f'{data_path}/csv_normalized/', exist_ok=True)\n",
    "        df = categories_dataframes_normalized[cat]\n",
    "        df.to_csv(f'{data_path}/csv_normalized/{cat}_dataframe_normalized.csv', index = False)\n",
    "print(f'Dataframes of each normalized category are stored in {data_path}/csv_normalized/ as csv files!')"
   ]
  },
  {
   "cell_type": "markdown",
   "id": "f7f23ba8",
   "metadata": {},
   "source": [
    "## Example of joined people and their vehicles"
   ]
  },
  {
   "cell_type": "code",
   "execution_count": 51,
   "id": "b3ebb28d",
   "metadata": {},
   "outputs": [],
   "source": [
    "# df2 = pd.merge(people_vehicles_junction, categories_dataframes['people'], on='people_id', how = 'inner')\n",
    "# df2.rename(columns={'vehicles_id_x' : 'vehicles_id'}, inplace=True)\n",
    "\n",
    "# df2 = pd.merge(df2, categories_dataframes['vehicles'], on='vehicles_id')\n",
    "# #df2.drop(['people_id', 'vehicles_id'], axis = 1)\n",
    "# df2.head()"
   ]
  },
  {
   "cell_type": "code",
   "execution_count": 52,
   "id": "43222c36",
   "metadata": {},
   "outputs": [],
   "source": [
    "# categories_dataframes['people']"
   ]
  },
  {
   "cell_type": "markdown",
   "id": "668144f5",
   "metadata": {},
   "source": [
    "# Insert data into the database"
   ]
  },
  {
   "cell_type": "markdown",
   "id": "59ba8429",
   "metadata": {},
   "source": [
    "## Load database parameters from `.env` file"
   ]
  },
  {
   "cell_type": "code",
   "execution_count": 53,
   "id": "b5bc23c2",
   "metadata": {},
   "outputs": [],
   "source": [
    "load_dotenv()\n",
    "\n",
    "DB_USER = os.getenv(\"DB_USER\")\n",
    "DB_PASS = os.getenv(\"DB_PASSWORD\")\n",
    "DB_HOST = os.getenv(\"DB_HOST\")\n",
    "DB_PORT = os.getenv(\"DB_PORT\")\n",
    "DB_NAME = os.getenv(\"DB_NAME\")"
   ]
  },
  {
   "cell_type": "markdown",
   "id": "cd3bd35c",
   "metadata": {},
   "source": [
    "## Create the db connection"
   ]
  },
  {
   "cell_type": "code",
   "execution_count": 60,
   "id": "f23c5fab",
   "metadata": {},
   "outputs": [
    {
     "name": "stdout",
     "output_type": "stream",
     "text": [
      "SQLAlchemy Engine created successfully. 🛠️\n"
     ]
    }
   ],
   "source": [
    "connection_string = (\n",
    "    f'mysql+pymysql://{DB_USER}:{DB_PASS}@{DB_HOST}:{DB_PORT}/{DB_NAME}'\n",
    ")\n",
    "\n",
    "# --- 4. Create the SQLAlchemy Engine ---\n",
    "try:\n",
    "    engine = create_engine(connection_string)\n",
    "    print(\"SQLAlchemy Engine created successfully. 🛠️\")\n",
    "except Exception as e:\n",
    "    print(f\"Error creating engine: {e}\")"
   ]
  },
  {
   "cell_type": "markdown",
   "id": "5b78c708",
   "metadata": {},
   "source": [
    "## Populate the data into the database\n",
    "\n",
    "The order of tables to be filled must be:\n",
    "1. planets\n",
    "2. species\n",
    "3. starships\n",
    "4. vehicles\n",
    "5. films\n",
    "6. people"
   ]
  },
  {
   "cell_type": "code",
   "execution_count": null,
   "id": "a28477f4",
   "metadata": {},
   "outputs": [],
   "source": [
    "categories_sorted = ['planets', 'species', 'vehicles', 'starships', 'films', 'people']\n",
    "insert = False"
   ]
  },
  {
   "cell_type": "markdown",
   "id": "0c02f0a7",
   "metadata": {},
   "source": [
    "### Check if the database exists and has data stored"
   ]
  },
  {
   "cell_type": "code",
   "execution_count": 70,
   "id": "e7f14630",
   "metadata": {},
   "outputs": [],
   "source": [
    "def insert_category(cat, dictionary):\n",
    "    df = dictionary[cat]\n",
    "    try:\n",
    "        df.to_sql(name=cat, con=engine, if_exists='append', index=False)\n",
    "        print(f\"DataFrame for category '{cat}' inserted successfully into the database. ✅\\n\\n\")\n",
    "    except Exception as e:\n",
    "        print(f\"\\\\ Error inserting DataFrame for category '{cat}': \\n{e}\\n\\n\")"
   ]
  },
  {
   "cell_type": "code",
   "execution_count": 71,
   "id": "64bd1820",
   "metadata": {},
   "outputs": [
    {
     "name": "stdout",
     "output_type": "stream",
     "text": [
      "planets table already exists in database!\n",
      "species table already exists in database!\n",
      "vehicles table already exists in database!\n",
      "starships table already exists in database!\n",
      "films table already exists in database!\n",
      "people table already exists in database!\n"
     ]
    }
   ],
   "source": [
    "for cat in categories_sorted:\n",
    "    query = f'select * from {cat} limit 1 ;'\n",
    "    # if table is empty, fill it with the corresponding data\n",
    "    if pd.read_sql(query, con = engine).shape[0] == 0:\n",
    "        insert_category(cat, categories_dataframes_normalized)\n",
    "    else:\n",
    "        print(f'{cat} table already exists in database!')"
   ]
  },
  {
   "cell_type": "code",
   "execution_count": 57,
   "id": "67cc4ae7",
   "metadata": {},
   "outputs": [],
   "source": [
    "# junction_tables_dict['people_vehicles_junction']"
   ]
  },
  {
   "cell_type": "code",
   "execution_count": 74,
   "id": "075f3d7b",
   "metadata": {},
   "outputs": [
    {
     "ename": "ProgrammingError",
     "evalue": "(pymysql.err.ProgrammingError) (1146, \"Table 'starwars_db.people_films_junction' doesn't exist\")\n[SQL: select * from people_films_junction limit 1 ;]\n(Background on this error at: https://sqlalche.me/e/20/f405)",
     "output_type": "error",
     "traceback": [
      "\u001b[31m---------------------------------------------------------------------------\u001b[39m",
      "\u001b[31mProgrammingError\u001b[39m                          Traceback (most recent call last)",
      "\u001b[36mFile \u001b[39m\u001b[32m~/venv/lib/python3.13/site-packages/sqlalchemy/engine/base.py:1967\u001b[39m, in \u001b[36mConnection._exec_single_context\u001b[39m\u001b[34m(self, dialect, context, statement, parameters)\u001b[39m\n\u001b[32m   1966\u001b[39m     \u001b[38;5;28;01mif\u001b[39;00m \u001b[38;5;129;01mnot\u001b[39;00m evt_handled:\n\u001b[32m-> \u001b[39m\u001b[32m1967\u001b[39m         \u001b[38;5;28;43mself\u001b[39;49m\u001b[43m.\u001b[49m\u001b[43mdialect\u001b[49m\u001b[43m.\u001b[49m\u001b[43mdo_execute\u001b[49m\u001b[43m(\u001b[49m\n\u001b[32m   1968\u001b[39m \u001b[43m            \u001b[49m\u001b[43mcursor\u001b[49m\u001b[43m,\u001b[49m\u001b[43m \u001b[49m\u001b[43mstr_statement\u001b[49m\u001b[43m,\u001b[49m\u001b[43m \u001b[49m\u001b[43meffective_parameters\u001b[49m\u001b[43m,\u001b[49m\u001b[43m \u001b[49m\u001b[43mcontext\u001b[49m\n\u001b[32m   1969\u001b[39m \u001b[43m        \u001b[49m\u001b[43m)\u001b[49m\n\u001b[32m   1971\u001b[39m \u001b[38;5;28;01mif\u001b[39;00m \u001b[38;5;28mself\u001b[39m._has_events \u001b[38;5;129;01mor\u001b[39;00m \u001b[38;5;28mself\u001b[39m.engine._has_events:\n",
      "\u001b[36mFile \u001b[39m\u001b[32m~/venv/lib/python3.13/site-packages/sqlalchemy/engine/default.py:951\u001b[39m, in \u001b[36mDefaultDialect.do_execute\u001b[39m\u001b[34m(self, cursor, statement, parameters, context)\u001b[39m\n\u001b[32m    950\u001b[39m \u001b[38;5;28;01mdef\u001b[39;00m\u001b[38;5;250m \u001b[39m\u001b[34mdo_execute\u001b[39m(\u001b[38;5;28mself\u001b[39m, cursor, statement, parameters, context=\u001b[38;5;28;01mNone\u001b[39;00m):\n\u001b[32m--> \u001b[39m\u001b[32m951\u001b[39m     \u001b[43mcursor\u001b[49m\u001b[43m.\u001b[49m\u001b[43mexecute\u001b[49m\u001b[43m(\u001b[49m\u001b[43mstatement\u001b[49m\u001b[43m,\u001b[49m\u001b[43m \u001b[49m\u001b[43mparameters\u001b[49m\u001b[43m)\u001b[49m\n",
      "\u001b[36mFile \u001b[39m\u001b[32m~/venv/lib/python3.13/site-packages/pymysql/cursors.py:153\u001b[39m, in \u001b[36mCursor.execute\u001b[39m\u001b[34m(self, query, args)\u001b[39m\n\u001b[32m    151\u001b[39m query = \u001b[38;5;28mself\u001b[39m.mogrify(query, args)\n\u001b[32m--> \u001b[39m\u001b[32m153\u001b[39m result = \u001b[38;5;28;43mself\u001b[39;49m\u001b[43m.\u001b[49m\u001b[43m_query\u001b[49m\u001b[43m(\u001b[49m\u001b[43mquery\u001b[49m\u001b[43m)\u001b[49m\n\u001b[32m    154\u001b[39m \u001b[38;5;28mself\u001b[39m._executed = query\n",
      "\u001b[36mFile \u001b[39m\u001b[32m~/venv/lib/python3.13/site-packages/pymysql/cursors.py:322\u001b[39m, in \u001b[36mCursor._query\u001b[39m\u001b[34m(self, q)\u001b[39m\n\u001b[32m    321\u001b[39m \u001b[38;5;28mself\u001b[39m._clear_result()\n\u001b[32m--> \u001b[39m\u001b[32m322\u001b[39m \u001b[43mconn\u001b[49m\u001b[43m.\u001b[49m\u001b[43mquery\u001b[49m\u001b[43m(\u001b[49m\u001b[43mq\u001b[49m\u001b[43m)\u001b[49m\n\u001b[32m    323\u001b[39m \u001b[38;5;28mself\u001b[39m._do_get_result()\n",
      "\u001b[36mFile \u001b[39m\u001b[32m~/venv/lib/python3.13/site-packages/pymysql/connections.py:575\u001b[39m, in \u001b[36mConnection.query\u001b[39m\u001b[34m(self, sql, unbuffered)\u001b[39m\n\u001b[32m    574\u001b[39m \u001b[38;5;28mself\u001b[39m._execute_command(COMMAND.COM_QUERY, sql)\n\u001b[32m--> \u001b[39m\u001b[32m575\u001b[39m \u001b[38;5;28mself\u001b[39m._affected_rows = \u001b[38;5;28;43mself\u001b[39;49m\u001b[43m.\u001b[49m\u001b[43m_read_query_result\u001b[49m\u001b[43m(\u001b[49m\u001b[43munbuffered\u001b[49m\u001b[43m=\u001b[49m\u001b[43munbuffered\u001b[49m\u001b[43m)\u001b[49m\n\u001b[32m    576\u001b[39m \u001b[38;5;28;01mreturn\u001b[39;00m \u001b[38;5;28mself\u001b[39m._affected_rows\n",
      "\u001b[36mFile \u001b[39m\u001b[32m~/venv/lib/python3.13/site-packages/pymysql/connections.py:826\u001b[39m, in \u001b[36mConnection._read_query_result\u001b[39m\u001b[34m(self, unbuffered)\u001b[39m\n\u001b[32m    825\u001b[39m \u001b[38;5;28;01melse\u001b[39;00m:\n\u001b[32m--> \u001b[39m\u001b[32m826\u001b[39m     \u001b[43mresult\u001b[49m\u001b[43m.\u001b[49m\u001b[43mread\u001b[49m\u001b[43m(\u001b[49m\u001b[43m)\u001b[49m\n\u001b[32m    827\u001b[39m \u001b[38;5;28mself\u001b[39m._result = result\n",
      "\u001b[36mFile \u001b[39m\u001b[32m~/venv/lib/python3.13/site-packages/pymysql/connections.py:1203\u001b[39m, in \u001b[36mMySQLResult.read\u001b[39m\u001b[34m(self)\u001b[39m\n\u001b[32m   1202\u001b[39m \u001b[38;5;28;01mtry\u001b[39;00m:\n\u001b[32m-> \u001b[39m\u001b[32m1203\u001b[39m     first_packet = \u001b[38;5;28;43mself\u001b[39;49m\u001b[43m.\u001b[49m\u001b[43mconnection\u001b[49m\u001b[43m.\u001b[49m\u001b[43m_read_packet\u001b[49m\u001b[43m(\u001b[49m\u001b[43m)\u001b[49m\n\u001b[32m   1205\u001b[39m     \u001b[38;5;28;01mif\u001b[39;00m first_packet.is_ok_packet():\n",
      "\u001b[36mFile \u001b[39m\u001b[32m~/venv/lib/python3.13/site-packages/pymysql/connections.py:782\u001b[39m, in \u001b[36mConnection._read_packet\u001b[39m\u001b[34m(self, packet_type)\u001b[39m\n\u001b[32m    781\u001b[39m         \u001b[38;5;28mself\u001b[39m._result.unbuffered_active = \u001b[38;5;28;01mFalse\u001b[39;00m\n\u001b[32m--> \u001b[39m\u001b[32m782\u001b[39m     \u001b[43mpacket\u001b[49m\u001b[43m.\u001b[49m\u001b[43mraise_for_error\u001b[49m\u001b[43m(\u001b[49m\u001b[43m)\u001b[49m\n\u001b[32m    783\u001b[39m \u001b[38;5;28;01mreturn\u001b[39;00m packet\n",
      "\u001b[36mFile \u001b[39m\u001b[32m~/venv/lib/python3.13/site-packages/pymysql/protocol.py:219\u001b[39m, in \u001b[36mMysqlPacket.raise_for_error\u001b[39m\u001b[34m(self)\u001b[39m\n\u001b[32m    218\u001b[39m     \u001b[38;5;28mprint\u001b[39m(\u001b[33m\"\u001b[39m\u001b[33merrno =\u001b[39m\u001b[33m\"\u001b[39m, errno)\n\u001b[32m--> \u001b[39m\u001b[32m219\u001b[39m \u001b[43merr\u001b[49m\u001b[43m.\u001b[49m\u001b[43mraise_mysql_exception\u001b[49m\u001b[43m(\u001b[49m\u001b[38;5;28;43mself\u001b[39;49m\u001b[43m.\u001b[49m\u001b[43m_data\u001b[49m\u001b[43m)\u001b[49m\n",
      "\u001b[36mFile \u001b[39m\u001b[32m~/venv/lib/python3.13/site-packages/pymysql/err.py:150\u001b[39m, in \u001b[36mraise_mysql_exception\u001b[39m\u001b[34m(data)\u001b[39m\n\u001b[32m    149\u001b[39m     errorclass = InternalError \u001b[38;5;28;01mif\u001b[39;00m errno < \u001b[32m1000\u001b[39m \u001b[38;5;28;01melse\u001b[39;00m OperationalError\n\u001b[32m--> \u001b[39m\u001b[32m150\u001b[39m \u001b[38;5;28;01mraise\u001b[39;00m errorclass(errno, errval)\n",
      "\u001b[31mProgrammingError\u001b[39m: (1146, \"Table 'starwars_db.people_films_junction' doesn't exist\")",
      "\nThe above exception was the direct cause of the following exception:\n",
      "\u001b[31mProgrammingError\u001b[39m                          Traceback (most recent call last)",
      "\u001b[36mCell\u001b[39m\u001b[36m \u001b[39m\u001b[32mIn[74]\u001b[39m\u001b[32m, line 4\u001b[39m\n\u001b[32m      2\u001b[39m query = \u001b[33mf\u001b[39m\u001b[33m'\u001b[39m\u001b[33mselect * from \u001b[39m\u001b[38;5;132;01m{\u001b[39;00mtable\u001b[38;5;132;01m}\u001b[39;00m\u001b[33m limit 1 ;\u001b[39m\u001b[33m'\u001b[39m\n\u001b[32m      3\u001b[39m \u001b[38;5;66;03m# if table is empty, fill it with the corresponding data\u001b[39;00m\n\u001b[32m----> \u001b[39m\u001b[32m4\u001b[39m \u001b[38;5;28;01mif\u001b[39;00m \u001b[43mpd\u001b[49m\u001b[43m.\u001b[49m\u001b[43mread_sql\u001b[49m\u001b[43m(\u001b[49m\u001b[43mquery\u001b[49m\u001b[43m,\u001b[49m\u001b[43m \u001b[49m\u001b[43mcon\u001b[49m\u001b[43m \u001b[49m\u001b[43m=\u001b[49m\u001b[43m \u001b[49m\u001b[43mengine\u001b[49m\u001b[43m)\u001b[49m.shape[\u001b[32m0\u001b[39m] == \u001b[32m0\u001b[39m:\n\u001b[32m      5\u001b[39m     insert_category(table, junction_tables_dict)\n\u001b[32m      6\u001b[39m \u001b[38;5;28;01melse\u001b[39;00m:\n",
      "\u001b[36mFile \u001b[39m\u001b[32m~/venv/lib/python3.13/site-packages/pandas/io/sql.py:736\u001b[39m, in \u001b[36mread_sql\u001b[39m\u001b[34m(sql, con, index_col, coerce_float, params, parse_dates, columns, chunksize, dtype_backend, dtype)\u001b[39m\n\u001b[32m    726\u001b[39m     \u001b[38;5;28;01mreturn\u001b[39;00m pandas_sql.read_table(\n\u001b[32m    727\u001b[39m         sql,\n\u001b[32m    728\u001b[39m         index_col=index_col,\n\u001b[32m   (...)\u001b[39m\u001b[32m    733\u001b[39m         dtype_backend=dtype_backend,\n\u001b[32m    734\u001b[39m     )\n\u001b[32m    735\u001b[39m \u001b[38;5;28;01melse\u001b[39;00m:\n\u001b[32m--> \u001b[39m\u001b[32m736\u001b[39m     \u001b[38;5;28;01mreturn\u001b[39;00m \u001b[43mpandas_sql\u001b[49m\u001b[43m.\u001b[49m\u001b[43mread_query\u001b[49m\u001b[43m(\u001b[49m\n\u001b[32m    737\u001b[39m \u001b[43m        \u001b[49m\u001b[43msql\u001b[49m\u001b[43m,\u001b[49m\n\u001b[32m    738\u001b[39m \u001b[43m        \u001b[49m\u001b[43mindex_col\u001b[49m\u001b[43m=\u001b[49m\u001b[43mindex_col\u001b[49m\u001b[43m,\u001b[49m\n\u001b[32m    739\u001b[39m \u001b[43m        \u001b[49m\u001b[43mparams\u001b[49m\u001b[43m=\u001b[49m\u001b[43mparams\u001b[49m\u001b[43m,\u001b[49m\n\u001b[32m    740\u001b[39m \u001b[43m        \u001b[49m\u001b[43mcoerce_float\u001b[49m\u001b[43m=\u001b[49m\u001b[43mcoerce_float\u001b[49m\u001b[43m,\u001b[49m\n\u001b[32m    741\u001b[39m \u001b[43m        \u001b[49m\u001b[43mparse_dates\u001b[49m\u001b[43m=\u001b[49m\u001b[43mparse_dates\u001b[49m\u001b[43m,\u001b[49m\n\u001b[32m    742\u001b[39m \u001b[43m        \u001b[49m\u001b[43mchunksize\u001b[49m\u001b[43m=\u001b[49m\u001b[43mchunksize\u001b[49m\u001b[43m,\u001b[49m\n\u001b[32m    743\u001b[39m \u001b[43m        \u001b[49m\u001b[43mdtype_backend\u001b[49m\u001b[43m=\u001b[49m\u001b[43mdtype_backend\u001b[49m\u001b[43m,\u001b[49m\n\u001b[32m    744\u001b[39m \u001b[43m        \u001b[49m\u001b[43mdtype\u001b[49m\u001b[43m=\u001b[49m\u001b[43mdtype\u001b[49m\u001b[43m,\u001b[49m\n\u001b[32m    745\u001b[39m \u001b[43m    \u001b[49m\u001b[43m)\u001b[49m\n",
      "\u001b[36mFile \u001b[39m\u001b[32m~/venv/lib/python3.13/site-packages/pandas/io/sql.py:1848\u001b[39m, in \u001b[36mSQLDatabase.read_query\u001b[39m\u001b[34m(self, sql, index_col, coerce_float, parse_dates, params, chunksize, dtype, dtype_backend)\u001b[39m\n\u001b[32m   1791\u001b[39m \u001b[38;5;28;01mdef\u001b[39;00m\u001b[38;5;250m \u001b[39m\u001b[34mread_query\u001b[39m(\n\u001b[32m   1792\u001b[39m     \u001b[38;5;28mself\u001b[39m,\n\u001b[32m   1793\u001b[39m     sql: \u001b[38;5;28mstr\u001b[39m,\n\u001b[32m   (...)\u001b[39m\u001b[32m   1800\u001b[39m     dtype_backend: DtypeBackend | Literal[\u001b[33m\"\u001b[39m\u001b[33mnumpy\u001b[39m\u001b[33m\"\u001b[39m] = \u001b[33m\"\u001b[39m\u001b[33mnumpy\u001b[39m\u001b[33m\"\u001b[39m,\n\u001b[32m   1801\u001b[39m ) -> DataFrame | Iterator[DataFrame]:\n\u001b[32m   1802\u001b[39m \u001b[38;5;250m    \u001b[39m\u001b[33;03m\"\"\"\u001b[39;00m\n\u001b[32m   1803\u001b[39m \u001b[33;03m    Read SQL query into a DataFrame.\u001b[39;00m\n\u001b[32m   1804\u001b[39m \n\u001b[32m   (...)\u001b[39m\u001b[32m   1846\u001b[39m \n\u001b[32m   1847\u001b[39m \u001b[33;03m    \"\"\"\u001b[39;00m\n\u001b[32m-> \u001b[39m\u001b[32m1848\u001b[39m     result = \u001b[38;5;28;43mself\u001b[39;49m\u001b[43m.\u001b[49m\u001b[43mexecute\u001b[49m\u001b[43m(\u001b[49m\u001b[43msql\u001b[49m\u001b[43m,\u001b[49m\u001b[43m \u001b[49m\u001b[43mparams\u001b[49m\u001b[43m)\u001b[49m\n\u001b[32m   1849\u001b[39m     columns = result.keys()\n\u001b[32m   1851\u001b[39m     \u001b[38;5;28;01mif\u001b[39;00m chunksize \u001b[38;5;129;01mis\u001b[39;00m \u001b[38;5;129;01mnot\u001b[39;00m \u001b[38;5;28;01mNone\u001b[39;00m:\n",
      "\u001b[36mFile \u001b[39m\u001b[32m~/venv/lib/python3.13/site-packages/pandas/io/sql.py:1671\u001b[39m, in \u001b[36mSQLDatabase.execute\u001b[39m\u001b[34m(self, sql, params)\u001b[39m\n\u001b[32m   1669\u001b[39m args = [] \u001b[38;5;28;01mif\u001b[39;00m params \u001b[38;5;129;01mis\u001b[39;00m \u001b[38;5;28;01mNone\u001b[39;00m \u001b[38;5;28;01melse\u001b[39;00m [params]\n\u001b[32m   1670\u001b[39m \u001b[38;5;28;01mif\u001b[39;00m \u001b[38;5;28misinstance\u001b[39m(sql, \u001b[38;5;28mstr\u001b[39m):\n\u001b[32m-> \u001b[39m\u001b[32m1671\u001b[39m     \u001b[38;5;28;01mreturn\u001b[39;00m \u001b[38;5;28;43mself\u001b[39;49m\u001b[43m.\u001b[49m\u001b[43mcon\u001b[49m\u001b[43m.\u001b[49m\u001b[43mexec_driver_sql\u001b[49m\u001b[43m(\u001b[49m\u001b[43msql\u001b[49m\u001b[43m,\u001b[49m\u001b[43m \u001b[49m\u001b[43m*\u001b[49m\u001b[43margs\u001b[49m\u001b[43m)\u001b[49m\n\u001b[32m   1672\u001b[39m \u001b[38;5;28;01mreturn\u001b[39;00m \u001b[38;5;28mself\u001b[39m.con.execute(sql, *args)\n",
      "\u001b[36mFile \u001b[39m\u001b[32m~/venv/lib/python3.13/site-packages/sqlalchemy/engine/base.py:1779\u001b[39m, in \u001b[36mConnection.exec_driver_sql\u001b[39m\u001b[34m(self, statement, parameters, execution_options)\u001b[39m\n\u001b[32m   1774\u001b[39m execution_options = \u001b[38;5;28mself\u001b[39m._execution_options.merge_with(\n\u001b[32m   1775\u001b[39m     execution_options\n\u001b[32m   1776\u001b[39m )\n\u001b[32m   1778\u001b[39m dialect = \u001b[38;5;28mself\u001b[39m.dialect\n\u001b[32m-> \u001b[39m\u001b[32m1779\u001b[39m ret = \u001b[38;5;28;43mself\u001b[39;49m\u001b[43m.\u001b[49m\u001b[43m_execute_context\u001b[49m\u001b[43m(\u001b[49m\n\u001b[32m   1780\u001b[39m \u001b[43m    \u001b[49m\u001b[43mdialect\u001b[49m\u001b[43m,\u001b[49m\n\u001b[32m   1781\u001b[39m \u001b[43m    \u001b[49m\u001b[43mdialect\u001b[49m\u001b[43m.\u001b[49m\u001b[43mexecution_ctx_cls\u001b[49m\u001b[43m.\u001b[49m\u001b[43m_init_statement\u001b[49m\u001b[43m,\u001b[49m\n\u001b[32m   1782\u001b[39m \u001b[43m    \u001b[49m\u001b[43mstatement\u001b[49m\u001b[43m,\u001b[49m\n\u001b[32m   1783\u001b[39m \u001b[43m    \u001b[49m\u001b[38;5;28;43;01mNone\u001b[39;49;00m\u001b[43m,\u001b[49m\n\u001b[32m   1784\u001b[39m \u001b[43m    \u001b[49m\u001b[43mexecution_options\u001b[49m\u001b[43m,\u001b[49m\n\u001b[32m   1785\u001b[39m \u001b[43m    \u001b[49m\u001b[43mstatement\u001b[49m\u001b[43m,\u001b[49m\n\u001b[32m   1786\u001b[39m \u001b[43m    \u001b[49m\u001b[43mdistilled_parameters\u001b[49m\u001b[43m,\u001b[49m\n\u001b[32m   1787\u001b[39m \u001b[43m\u001b[49m\u001b[43m)\u001b[49m\n\u001b[32m   1789\u001b[39m \u001b[38;5;28;01mreturn\u001b[39;00m ret\n",
      "\u001b[36mFile \u001b[39m\u001b[32m~/venv/lib/python3.13/site-packages/sqlalchemy/engine/base.py:1846\u001b[39m, in \u001b[36mConnection._execute_context\u001b[39m\u001b[34m(self, dialect, constructor, statement, parameters, execution_options, *args, **kw)\u001b[39m\n\u001b[32m   1844\u001b[39m     \u001b[38;5;28;01mreturn\u001b[39;00m \u001b[38;5;28mself\u001b[39m._exec_insertmany_context(dialect, context)\n\u001b[32m   1845\u001b[39m \u001b[38;5;28;01melse\u001b[39;00m:\n\u001b[32m-> \u001b[39m\u001b[32m1846\u001b[39m     \u001b[38;5;28;01mreturn\u001b[39;00m \u001b[38;5;28;43mself\u001b[39;49m\u001b[43m.\u001b[49m\u001b[43m_exec_single_context\u001b[49m\u001b[43m(\u001b[49m\n\u001b[32m   1847\u001b[39m \u001b[43m        \u001b[49m\u001b[43mdialect\u001b[49m\u001b[43m,\u001b[49m\u001b[43m \u001b[49m\u001b[43mcontext\u001b[49m\u001b[43m,\u001b[49m\u001b[43m \u001b[49m\u001b[43mstatement\u001b[49m\u001b[43m,\u001b[49m\u001b[43m \u001b[49m\u001b[43mparameters\u001b[49m\n\u001b[32m   1848\u001b[39m \u001b[43m    \u001b[49m\u001b[43m)\u001b[49m\n",
      "\u001b[36mFile \u001b[39m\u001b[32m~/venv/lib/python3.13/site-packages/sqlalchemy/engine/base.py:1986\u001b[39m, in \u001b[36mConnection._exec_single_context\u001b[39m\u001b[34m(self, dialect, context, statement, parameters)\u001b[39m\n\u001b[32m   1983\u001b[39m     result = context._setup_result_proxy()\n\u001b[32m   1985\u001b[39m \u001b[38;5;28;01mexcept\u001b[39;00m \u001b[38;5;167;01mBaseException\u001b[39;00m \u001b[38;5;28;01mas\u001b[39;00m e:\n\u001b[32m-> \u001b[39m\u001b[32m1986\u001b[39m     \u001b[38;5;28;43mself\u001b[39;49m\u001b[43m.\u001b[49m\u001b[43m_handle_dbapi_exception\u001b[49m\u001b[43m(\u001b[49m\n\u001b[32m   1987\u001b[39m \u001b[43m        \u001b[49m\u001b[43me\u001b[49m\u001b[43m,\u001b[49m\u001b[43m \u001b[49m\u001b[43mstr_statement\u001b[49m\u001b[43m,\u001b[49m\u001b[43m \u001b[49m\u001b[43meffective_parameters\u001b[49m\u001b[43m,\u001b[49m\u001b[43m \u001b[49m\u001b[43mcursor\u001b[49m\u001b[43m,\u001b[49m\u001b[43m \u001b[49m\u001b[43mcontext\u001b[49m\n\u001b[32m   1988\u001b[39m \u001b[43m    \u001b[49m\u001b[43m)\u001b[49m\n\u001b[32m   1990\u001b[39m \u001b[38;5;28;01mreturn\u001b[39;00m result\n",
      "\u001b[36mFile \u001b[39m\u001b[32m~/venv/lib/python3.13/site-packages/sqlalchemy/engine/base.py:2355\u001b[39m, in \u001b[36mConnection._handle_dbapi_exception\u001b[39m\u001b[34m(self, e, statement, parameters, cursor, context, is_sub_exec)\u001b[39m\n\u001b[32m   2353\u001b[39m \u001b[38;5;28;01melif\u001b[39;00m should_wrap:\n\u001b[32m   2354\u001b[39m     \u001b[38;5;28;01massert\u001b[39;00m sqlalchemy_exception \u001b[38;5;129;01mis\u001b[39;00m \u001b[38;5;129;01mnot\u001b[39;00m \u001b[38;5;28;01mNone\u001b[39;00m\n\u001b[32m-> \u001b[39m\u001b[32m2355\u001b[39m     \u001b[38;5;28;01mraise\u001b[39;00m sqlalchemy_exception.with_traceback(exc_info[\u001b[32m2\u001b[39m]) \u001b[38;5;28;01mfrom\u001b[39;00m\u001b[38;5;250m \u001b[39m\u001b[34;01me\u001b[39;00m\n\u001b[32m   2356\u001b[39m \u001b[38;5;28;01melse\u001b[39;00m:\n\u001b[32m   2357\u001b[39m     \u001b[38;5;28;01massert\u001b[39;00m exc_info[\u001b[32m1\u001b[39m] \u001b[38;5;129;01mis\u001b[39;00m \u001b[38;5;129;01mnot\u001b[39;00m \u001b[38;5;28;01mNone\u001b[39;00m\n",
      "\u001b[36mFile \u001b[39m\u001b[32m~/venv/lib/python3.13/site-packages/sqlalchemy/engine/base.py:1967\u001b[39m, in \u001b[36mConnection._exec_single_context\u001b[39m\u001b[34m(self, dialect, context, statement, parameters)\u001b[39m\n\u001b[32m   1965\u001b[39m                 \u001b[38;5;28;01mbreak\u001b[39;00m\n\u001b[32m   1966\u001b[39m     \u001b[38;5;28;01mif\u001b[39;00m \u001b[38;5;129;01mnot\u001b[39;00m evt_handled:\n\u001b[32m-> \u001b[39m\u001b[32m1967\u001b[39m         \u001b[38;5;28;43mself\u001b[39;49m\u001b[43m.\u001b[49m\u001b[43mdialect\u001b[49m\u001b[43m.\u001b[49m\u001b[43mdo_execute\u001b[49m\u001b[43m(\u001b[49m\n\u001b[32m   1968\u001b[39m \u001b[43m            \u001b[49m\u001b[43mcursor\u001b[49m\u001b[43m,\u001b[49m\u001b[43m \u001b[49m\u001b[43mstr_statement\u001b[49m\u001b[43m,\u001b[49m\u001b[43m \u001b[49m\u001b[43meffective_parameters\u001b[49m\u001b[43m,\u001b[49m\u001b[43m \u001b[49m\u001b[43mcontext\u001b[49m\n\u001b[32m   1969\u001b[39m \u001b[43m        \u001b[49m\u001b[43m)\u001b[49m\n\u001b[32m   1971\u001b[39m \u001b[38;5;28;01mif\u001b[39;00m \u001b[38;5;28mself\u001b[39m._has_events \u001b[38;5;129;01mor\u001b[39;00m \u001b[38;5;28mself\u001b[39m.engine._has_events:\n\u001b[32m   1972\u001b[39m     \u001b[38;5;28mself\u001b[39m.dispatch.after_cursor_execute(\n\u001b[32m   1973\u001b[39m         \u001b[38;5;28mself\u001b[39m,\n\u001b[32m   1974\u001b[39m         cursor,\n\u001b[32m   (...)\u001b[39m\u001b[32m   1978\u001b[39m         context.executemany,\n\u001b[32m   1979\u001b[39m     )\n",
      "\u001b[36mFile \u001b[39m\u001b[32m~/venv/lib/python3.13/site-packages/sqlalchemy/engine/default.py:951\u001b[39m, in \u001b[36mDefaultDialect.do_execute\u001b[39m\u001b[34m(self, cursor, statement, parameters, context)\u001b[39m\n\u001b[32m    950\u001b[39m \u001b[38;5;28;01mdef\u001b[39;00m\u001b[38;5;250m \u001b[39m\u001b[34mdo_execute\u001b[39m(\u001b[38;5;28mself\u001b[39m, cursor, statement, parameters, context=\u001b[38;5;28;01mNone\u001b[39;00m):\n\u001b[32m--> \u001b[39m\u001b[32m951\u001b[39m     \u001b[43mcursor\u001b[49m\u001b[43m.\u001b[49m\u001b[43mexecute\u001b[49m\u001b[43m(\u001b[49m\u001b[43mstatement\u001b[49m\u001b[43m,\u001b[49m\u001b[43m \u001b[49m\u001b[43mparameters\u001b[49m\u001b[43m)\u001b[49m\n",
      "\u001b[36mFile \u001b[39m\u001b[32m~/venv/lib/python3.13/site-packages/pymysql/cursors.py:153\u001b[39m, in \u001b[36mCursor.execute\u001b[39m\u001b[34m(self, query, args)\u001b[39m\n\u001b[32m    149\u001b[39m     \u001b[38;5;28;01mpass\u001b[39;00m\n\u001b[32m    151\u001b[39m query = \u001b[38;5;28mself\u001b[39m.mogrify(query, args)\n\u001b[32m--> \u001b[39m\u001b[32m153\u001b[39m result = \u001b[38;5;28;43mself\u001b[39;49m\u001b[43m.\u001b[49m\u001b[43m_query\u001b[49m\u001b[43m(\u001b[49m\u001b[43mquery\u001b[49m\u001b[43m)\u001b[49m\n\u001b[32m    154\u001b[39m \u001b[38;5;28mself\u001b[39m._executed = query\n\u001b[32m    155\u001b[39m \u001b[38;5;28;01mreturn\u001b[39;00m result\n",
      "\u001b[36mFile \u001b[39m\u001b[32m~/venv/lib/python3.13/site-packages/pymysql/cursors.py:322\u001b[39m, in \u001b[36mCursor._query\u001b[39m\u001b[34m(self, q)\u001b[39m\n\u001b[32m    320\u001b[39m conn = \u001b[38;5;28mself\u001b[39m._get_db()\n\u001b[32m    321\u001b[39m \u001b[38;5;28mself\u001b[39m._clear_result()\n\u001b[32m--> \u001b[39m\u001b[32m322\u001b[39m \u001b[43mconn\u001b[49m\u001b[43m.\u001b[49m\u001b[43mquery\u001b[49m\u001b[43m(\u001b[49m\u001b[43mq\u001b[49m\u001b[43m)\u001b[49m\n\u001b[32m    323\u001b[39m \u001b[38;5;28mself\u001b[39m._do_get_result()\n\u001b[32m    324\u001b[39m \u001b[38;5;28;01mreturn\u001b[39;00m \u001b[38;5;28mself\u001b[39m.rowcount\n",
      "\u001b[36mFile \u001b[39m\u001b[32m~/venv/lib/python3.13/site-packages/pymysql/connections.py:575\u001b[39m, in \u001b[36mConnection.query\u001b[39m\u001b[34m(self, sql, unbuffered)\u001b[39m\n\u001b[32m    573\u001b[39m     sql = sql.encode(\u001b[38;5;28mself\u001b[39m.encoding, \u001b[33m\"\u001b[39m\u001b[33msurrogateescape\u001b[39m\u001b[33m\"\u001b[39m)\n\u001b[32m    574\u001b[39m \u001b[38;5;28mself\u001b[39m._execute_command(COMMAND.COM_QUERY, sql)\n\u001b[32m--> \u001b[39m\u001b[32m575\u001b[39m \u001b[38;5;28mself\u001b[39m._affected_rows = \u001b[38;5;28;43mself\u001b[39;49m\u001b[43m.\u001b[49m\u001b[43m_read_query_result\u001b[49m\u001b[43m(\u001b[49m\u001b[43munbuffered\u001b[49m\u001b[43m=\u001b[49m\u001b[43munbuffered\u001b[49m\u001b[43m)\u001b[49m\n\u001b[32m    576\u001b[39m \u001b[38;5;28;01mreturn\u001b[39;00m \u001b[38;5;28mself\u001b[39m._affected_rows\n",
      "\u001b[36mFile \u001b[39m\u001b[32m~/venv/lib/python3.13/site-packages/pymysql/connections.py:826\u001b[39m, in \u001b[36mConnection._read_query_result\u001b[39m\u001b[34m(self, unbuffered)\u001b[39m\n\u001b[32m    824\u001b[39m     result.init_unbuffered_query()\n\u001b[32m    825\u001b[39m \u001b[38;5;28;01melse\u001b[39;00m:\n\u001b[32m--> \u001b[39m\u001b[32m826\u001b[39m     \u001b[43mresult\u001b[49m\u001b[43m.\u001b[49m\u001b[43mread\u001b[49m\u001b[43m(\u001b[49m\u001b[43m)\u001b[49m\n\u001b[32m    827\u001b[39m \u001b[38;5;28mself\u001b[39m._result = result\n\u001b[32m    828\u001b[39m \u001b[38;5;28;01mif\u001b[39;00m result.server_status \u001b[38;5;129;01mis\u001b[39;00m \u001b[38;5;129;01mnot\u001b[39;00m \u001b[38;5;28;01mNone\u001b[39;00m:\n",
      "\u001b[36mFile \u001b[39m\u001b[32m~/venv/lib/python3.13/site-packages/pymysql/connections.py:1203\u001b[39m, in \u001b[36mMySQLResult.read\u001b[39m\u001b[34m(self)\u001b[39m\n\u001b[32m   1201\u001b[39m \u001b[38;5;28;01mdef\u001b[39;00m\u001b[38;5;250m \u001b[39m\u001b[34mread\u001b[39m(\u001b[38;5;28mself\u001b[39m):\n\u001b[32m   1202\u001b[39m     \u001b[38;5;28;01mtry\u001b[39;00m:\n\u001b[32m-> \u001b[39m\u001b[32m1203\u001b[39m         first_packet = \u001b[38;5;28;43mself\u001b[39;49m\u001b[43m.\u001b[49m\u001b[43mconnection\u001b[49m\u001b[43m.\u001b[49m\u001b[43m_read_packet\u001b[49m\u001b[43m(\u001b[49m\u001b[43m)\u001b[49m\n\u001b[32m   1205\u001b[39m         \u001b[38;5;28;01mif\u001b[39;00m first_packet.is_ok_packet():\n\u001b[32m   1206\u001b[39m             \u001b[38;5;28mself\u001b[39m._read_ok_packet(first_packet)\n",
      "\u001b[36mFile \u001b[39m\u001b[32m~/venv/lib/python3.13/site-packages/pymysql/connections.py:782\u001b[39m, in \u001b[36mConnection._read_packet\u001b[39m\u001b[34m(self, packet_type)\u001b[39m\n\u001b[32m    780\u001b[39m     \u001b[38;5;28;01mif\u001b[39;00m \u001b[38;5;28mself\u001b[39m._result \u001b[38;5;129;01mis\u001b[39;00m \u001b[38;5;129;01mnot\u001b[39;00m \u001b[38;5;28;01mNone\u001b[39;00m \u001b[38;5;129;01mand\u001b[39;00m \u001b[38;5;28mself\u001b[39m._result.unbuffered_active \u001b[38;5;129;01mis\u001b[39;00m \u001b[38;5;28;01mTrue\u001b[39;00m:\n\u001b[32m    781\u001b[39m         \u001b[38;5;28mself\u001b[39m._result.unbuffered_active = \u001b[38;5;28;01mFalse\u001b[39;00m\n\u001b[32m--> \u001b[39m\u001b[32m782\u001b[39m     \u001b[43mpacket\u001b[49m\u001b[43m.\u001b[49m\u001b[43mraise_for_error\u001b[49m\u001b[43m(\u001b[49m\u001b[43m)\u001b[49m\n\u001b[32m    783\u001b[39m \u001b[38;5;28;01mreturn\u001b[39;00m packet\n",
      "\u001b[36mFile \u001b[39m\u001b[32m~/venv/lib/python3.13/site-packages/pymysql/protocol.py:219\u001b[39m, in \u001b[36mMysqlPacket.raise_for_error\u001b[39m\u001b[34m(self)\u001b[39m\n\u001b[32m    217\u001b[39m \u001b[38;5;28;01mif\u001b[39;00m DEBUG:\n\u001b[32m    218\u001b[39m     \u001b[38;5;28mprint\u001b[39m(\u001b[33m\"\u001b[39m\u001b[33merrno =\u001b[39m\u001b[33m\"\u001b[39m, errno)\n\u001b[32m--> \u001b[39m\u001b[32m219\u001b[39m \u001b[43merr\u001b[49m\u001b[43m.\u001b[49m\u001b[43mraise_mysql_exception\u001b[49m\u001b[43m(\u001b[49m\u001b[38;5;28;43mself\u001b[39;49m\u001b[43m.\u001b[49m\u001b[43m_data\u001b[49m\u001b[43m)\u001b[49m\n",
      "\u001b[36mFile \u001b[39m\u001b[32m~/venv/lib/python3.13/site-packages/pymysql/err.py:150\u001b[39m, in \u001b[36mraise_mysql_exception\u001b[39m\u001b[34m(data)\u001b[39m\n\u001b[32m    148\u001b[39m \u001b[38;5;28;01mif\u001b[39;00m errorclass \u001b[38;5;129;01mis\u001b[39;00m \u001b[38;5;28;01mNone\u001b[39;00m:\n\u001b[32m    149\u001b[39m     errorclass = InternalError \u001b[38;5;28;01mif\u001b[39;00m errno < \u001b[32m1000\u001b[39m \u001b[38;5;28;01melse\u001b[39;00m OperationalError\n\u001b[32m--> \u001b[39m\u001b[32m150\u001b[39m \u001b[38;5;28;01mraise\u001b[39;00m errorclass(errno, errval)\n",
      "\u001b[31mProgrammingError\u001b[39m: (pymysql.err.ProgrammingError) (1146, \"Table 'starwars_db.people_films_junction' doesn't exist\")\n[SQL: select * from people_films_junction limit 1 ;]\n(Background on this error at: https://sqlalche.me/e/20/f405)"
     ]
    }
   ],
   "source": [
    "for table in junction_tables_dict.keys():\n",
    "    query = f'select * from {table} limit 1 ;'\n",
    "    # if table is empty, fill it with the corresponding data\n",
    "    if pd.read_sql(query, con = engine).shape[0] == 0:\n",
    "        insert_category(table, junction_tables_dict)\n",
    "    else:\n",
    "        print(f'{cat} table already exists in database!') "
   ]
  },
  {
   "cell_type": "code",
   "execution_count": 59,
   "id": "234b4daf",
   "metadata": {},
   "outputs": [
    {
     "data": {
      "text/html": [
       "<div>\n",
       "<style scoped>\n",
       "    .dataframe tbody tr th:only-of-type {\n",
       "        vertical-align: middle;\n",
       "    }\n",
       "\n",
       "    .dataframe tbody tr th {\n",
       "        vertical-align: top;\n",
       "    }\n",
       "\n",
       "    .dataframe thead th {\n",
       "        text-align: right;\n",
       "    }\n",
       "</style>\n",
       "<table border=\"1\" class=\"dataframe\">\n",
       "  <thead>\n",
       "    <tr style=\"text-align: right;\">\n",
       "      <th></th>\n",
       "      <th>character_id</th>\n",
       "      <th>vehicle_id</th>\n",
       "    </tr>\n",
       "  </thead>\n",
       "  <tbody>\n",
       "    <tr>\n",
       "      <th>0</th>\n",
       "      <td>1</td>\n",
       "      <td>8</td>\n",
       "    </tr>\n",
       "  </tbody>\n",
       "</table>\n",
       "</div>"
      ],
      "text/plain": [
       "  character_id vehicle_id\n",
       "0            1          8"
      ]
     },
     "execution_count": 59,
     "metadata": {},
     "output_type": "execute_result"
    }
   ],
   "source": [
    "df = junction_tables_dict['people_vehicles_junction']\n",
    "df[(df.character_id == 1) & (df.vehicle_id == 8)]"
   ]
  },
  {
   "cell_type": "code",
   "execution_count": null,
   "id": "ba77f49f",
   "metadata": {},
   "outputs": [],
   "source": []
  }
 ],
 "metadata": {
  "kernelspec": {
   "display_name": "venv",
   "language": "python",
   "name": "python3"
  },
  "language_info": {
   "codemirror_mode": {
    "name": "ipython",
    "version": 3
   },
   "file_extension": ".py",
   "mimetype": "text/x-python",
   "name": "python",
   "nbconvert_exporter": "python",
   "pygments_lexer": "ipython3",
   "version": "3.13.7"
  }
 },
 "nbformat": 4,
 "nbformat_minor": 5
}
