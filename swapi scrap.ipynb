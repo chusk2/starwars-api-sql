{
 "cells": [
  {
   "cell_type": "code",
   "execution_count": 1,
   "id": "545f0530",
   "metadata": {},
   "outputs": [],
   "source": [
    "import requests as rq\n",
    "import pandas as pd"
   ]
  },
  {
   "cell_type": "code",
   "execution_count": 2,
   "id": "96d07a00",
   "metadata": {},
   "outputs": [],
   "source": [
    "base_url = 'https://swapi.dev/api/people/'"
   ]
  },
  {
   "cell_type": "code",
   "execution_count": 3,
   "id": "e025e72e",
   "metadata": {},
   "outputs": [
    {
     "name": "stdout",
     "output_type": "stream",
     "text": [
      "name\n",
      "height\n",
      "mass\n",
      "hair_color\n",
      "skin_color\n",
      "eye_color\n",
      "birth_year\n",
      "gender\n",
      "homeworld\n",
      "films\n",
      "species\n",
      "vehicles\n",
      "starships\n",
      "created\n",
      "edited\n",
      "url\n"
     ]
    }
   ],
   "source": [
    "data = rq.get(f'{base_url}10/').json()\n",
    "character_fields = data.keys()\n",
    "print(*character_fields, sep='\\n')"
   ]
  },
  {
   "cell_type": "code",
   "execution_count": 5,
   "id": "a713f266",
   "metadata": {},
   "outputs": [
    {
     "data": {
      "text/plain": [
       "{'name': 'Obi-Wan Kenobi',\n",
       " 'height': '182',\n",
       " 'mass': '77',\n",
       " 'hair_color': 'auburn, white',\n",
       " 'skin_color': 'fair',\n",
       " 'eye_color': 'blue-gray',\n",
       " 'birth_year': '57BBY',\n",
       " 'gender': 'male',\n",
       " 'homeworld': 'https://swapi.dev/api/planets/20/',\n",
       " 'films': ['https://swapi.dev/api/films/1/',\n",
       "  'https://swapi.dev/api/films/2/',\n",
       "  'https://swapi.dev/api/films/3/',\n",
       "  'https://swapi.dev/api/films/4/',\n",
       "  'https://swapi.dev/api/films/5/',\n",
       "  'https://swapi.dev/api/films/6/'],\n",
       " 'species': [],\n",
       " 'vehicles': ['https://swapi.dev/api/vehicles/38/'],\n",
       " 'starships': ['https://swapi.dev/api/starships/48/',\n",
       "  'https://swapi.dev/api/starships/59/',\n",
       "  'https://swapi.dev/api/starships/64/',\n",
       "  'https://swapi.dev/api/starships/65/',\n",
       "  'https://swapi.dev/api/starships/74/'],\n",
       " 'created': '2014-12-10T16:16:29.192000Z',\n",
       " 'edited': '2014-12-20T21:17:50.325000Z',\n",
       " 'url': 'https://swapi.dev/api/people/10/'}"
      ]
     },
     "execution_count": 5,
     "metadata": {},
     "output_type": "execute_result"
    }
   ],
   "source": [
    "rq.get(f'{base_url}10/').json()"
   ]
  },
  {
   "cell_type": "code",
   "execution_count": 2,
   "id": "6b3fb84d",
   "metadata": {},
   "outputs": [],
   "source": [
    "def get_character(id):\n",
    "    base_url = 'https://swapi.dev/api/people'\n",
    "    try:\n",
    "        content = rq.get(f'{base_url}/{id}').json()\n",
    "    except Exception as e:\n",
    "        print('URL not found!')\n",
    "        return\n",
    "    \n",
    "    referred_fields = ['homeworld', 'films', 'species', 'vehicles', 'starships']\n",
    "\n",
    "    for field in referred_fields:\n",
    "        id_values = []\n",
    "        try:\n",
    "            if content[field]:\n",
    "                if field != 'homeworld':\n",
    "                    for link in content[field]:\n",
    "                        id_values.append(int(link.split('/')[-2]))\n",
    "                    content[field] = id_values\n",
    "                # homeworld is a single url string\n",
    "                else:\n",
    "                    content[field] = int(content[field].split('/')[-2])\n",
    "            elif field == 'species' and not content[field]:\n",
    "                content[field] = 'human'\n",
    "        except:\n",
    "            print(f\"{field} doesn't exist in character: {base_url}/{id}\")\n",
    "            pass\n",
    "             \n",
    "    # remove created and edited fields\n",
    "    try:\n",
    "        del(content['created'])\n",
    "        del(content['edited'])\n",
    "    except:\n",
    "        print(f'Keys not found in content! ({base_url}/{id})')\n",
    "\n",
    "    return content"
   ]
  },
  {
   "cell_type": "code",
   "execution_count": 3,
   "id": "70365e16",
   "metadata": {},
   "outputs": [
    {
     "data": {
      "text/plain": [
       "{'name': 'Obi-Wan Kenobi',\n",
       " 'height': '182',\n",
       " 'mass': '77',\n",
       " 'hair_color': 'auburn, white',\n",
       " 'skin_color': 'fair',\n",
       " 'eye_color': 'blue-gray',\n",
       " 'birth_year': '57BBY',\n",
       " 'gender': 'male',\n",
       " 'homeworld': 20,\n",
       " 'films': [1, 2, 3, 4, 5, 6],\n",
       " 'species': 'human',\n",
       " 'vehicles': [38],\n",
       " 'starships': [48, 59, 64, 65, 74],\n",
       " 'url': 'https://swapi.dev/api/people/10/'}"
      ]
     },
     "execution_count": 3,
     "metadata": {},
     "output_type": "execute_result"
    }
   ],
   "source": [
    "get_character(10)"
   ]
  },
  {
   "cell_type": "code",
   "execution_count": 4,
   "id": "ce2220e1",
   "metadata": {},
   "outputs": [
    {
     "name": "stdout",
     "output_type": "stream",
     "text": [
      "homeworld doesn't exist in character: https://swapi.dev/api/people/17\n",
      "films doesn't exist in character: https://swapi.dev/api/people/17\n",
      "species doesn't exist in character: https://swapi.dev/api/people/17\n",
      "vehicles doesn't exist in character: https://swapi.dev/api/people/17\n",
      "starships doesn't exist in character: https://swapi.dev/api/people/17\n",
      "Keys not found in content! (https://swapi.dev/api/people/17)\n"
     ]
    }
   ],
   "source": [
    "characters_list = [get_character(id) for id in range(1,83)]"
   ]
  },
  {
   "cell_type": "code",
   "execution_count": 19,
   "id": "2585ff0e",
   "metadata": {},
   "outputs": [
    {
     "name": "stdout",
     "output_type": "stream",
     "text": [
      "Details found in character with id: 17\n"
     ]
    }
   ],
   "source": [
    "for index, value in enumerate(characters_list):\n",
    "    if 'detail' in value.keys():\n",
    "        print(f'Details found in character with id: {index + 1}')"
   ]
  },
  {
   "cell_type": "markdown",
   "id": "e63ba195",
   "metadata": {},
   "source": [
    "Remove character with id 17. It's a valid url!"
   ]
  },
  {
   "cell_type": "code",
   "execution_count": 27,
   "id": "4d037145",
   "metadata": {},
   "outputs": [],
   "source": [
    "del characters_list[16]"
   ]
  },
  {
   "cell_type": "code",
   "execution_count": 28,
   "id": "314be145",
   "metadata": {},
   "outputs": [],
   "source": [
    "df = pd.DataFrame(characters_list)"
   ]
  },
  {
   "cell_type": "code",
   "execution_count": 30,
   "id": "66b98331",
   "metadata": {},
   "outputs": [
    {
     "data": {
      "text/html": [
       "<div>\n",
       "<style scoped>\n",
       "    .dataframe tbody tr th:only-of-type {\n",
       "        vertical-align: middle;\n",
       "    }\n",
       "\n",
       "    .dataframe tbody tr th {\n",
       "        vertical-align: top;\n",
       "    }\n",
       "\n",
       "    .dataframe thead th {\n",
       "        text-align: right;\n",
       "    }\n",
       "</style>\n",
       "<table border=\"1\" class=\"dataframe\">\n",
       "  <thead>\n",
       "    <tr style=\"text-align: right;\">\n",
       "      <th></th>\n",
       "      <th>name</th>\n",
       "      <th>height</th>\n",
       "      <th>mass</th>\n",
       "      <th>hair_color</th>\n",
       "      <th>skin_color</th>\n",
       "      <th>eye_color</th>\n",
       "      <th>birth_year</th>\n",
       "      <th>gender</th>\n",
       "      <th>homeworld</th>\n",
       "      <th>films</th>\n",
       "      <th>species</th>\n",
       "      <th>vehicles</th>\n",
       "      <th>starships</th>\n",
       "      <th>url</th>\n",
       "    </tr>\n",
       "  </thead>\n",
       "  <tbody>\n",
       "    <tr>\n",
       "      <th>0</th>\n",
       "      <td>Luke Skywalker</td>\n",
       "      <td>172</td>\n",
       "      <td>77</td>\n",
       "      <td>blond</td>\n",
       "      <td>fair</td>\n",
       "      <td>blue</td>\n",
       "      <td>19BBY</td>\n",
       "      <td>male</td>\n",
       "      <td>1</td>\n",
       "      <td>[1, 2, 3, 6]</td>\n",
       "      <td>human</td>\n",
       "      <td>[14, 30]</td>\n",
       "      <td>[12, 22]</td>\n",
       "      <td>https://swapi.dev/api/people/1/</td>\n",
       "    </tr>\n",
       "    <tr>\n",
       "      <th>1</th>\n",
       "      <td>C-3PO</td>\n",
       "      <td>167</td>\n",
       "      <td>75</td>\n",
       "      <td>n/a</td>\n",
       "      <td>gold</td>\n",
       "      <td>yellow</td>\n",
       "      <td>112BBY</td>\n",
       "      <td>n/a</td>\n",
       "      <td>1</td>\n",
       "      <td>[1, 2, 3, 4, 5, 6]</td>\n",
       "      <td>[2]</td>\n",
       "      <td>[]</td>\n",
       "      <td>[]</td>\n",
       "      <td>https://swapi.dev/api/people/2/</td>\n",
       "    </tr>\n",
       "    <tr>\n",
       "      <th>2</th>\n",
       "      <td>R2-D2</td>\n",
       "      <td>96</td>\n",
       "      <td>32</td>\n",
       "      <td>n/a</td>\n",
       "      <td>white, blue</td>\n",
       "      <td>red</td>\n",
       "      <td>33BBY</td>\n",
       "      <td>n/a</td>\n",
       "      <td>8</td>\n",
       "      <td>[1, 2, 3, 4, 5, 6]</td>\n",
       "      <td>[2]</td>\n",
       "      <td>[]</td>\n",
       "      <td>[]</td>\n",
       "      <td>https://swapi.dev/api/people/3/</td>\n",
       "    </tr>\n",
       "    <tr>\n",
       "      <th>3</th>\n",
       "      <td>Darth Vader</td>\n",
       "      <td>202</td>\n",
       "      <td>136</td>\n",
       "      <td>none</td>\n",
       "      <td>white</td>\n",
       "      <td>yellow</td>\n",
       "      <td>41.9BBY</td>\n",
       "      <td>male</td>\n",
       "      <td>1</td>\n",
       "      <td>[1, 2, 3, 6]</td>\n",
       "      <td>human</td>\n",
       "      <td>[]</td>\n",
       "      <td>[13]</td>\n",
       "      <td>https://swapi.dev/api/people/4/</td>\n",
       "    </tr>\n",
       "    <tr>\n",
       "      <th>4</th>\n",
       "      <td>Leia Organa</td>\n",
       "      <td>150</td>\n",
       "      <td>49</td>\n",
       "      <td>brown</td>\n",
       "      <td>light</td>\n",
       "      <td>brown</td>\n",
       "      <td>19BBY</td>\n",
       "      <td>female</td>\n",
       "      <td>2</td>\n",
       "      <td>[1, 2, 3, 6]</td>\n",
       "      <td>human</td>\n",
       "      <td>[30]</td>\n",
       "      <td>[]</td>\n",
       "      <td>https://swapi.dev/api/people/5/</td>\n",
       "    </tr>\n",
       "  </tbody>\n",
       "</table>\n",
       "</div>"
      ],
      "text/plain": [
       "             name height mass hair_color   skin_color eye_color birth_year  \\\n",
       "0  Luke Skywalker    172   77      blond         fair      blue      19BBY   \n",
       "1           C-3PO    167   75        n/a         gold    yellow     112BBY   \n",
       "2           R2-D2     96   32        n/a  white, blue       red      33BBY   \n",
       "3     Darth Vader    202  136       none        white    yellow    41.9BBY   \n",
       "4     Leia Organa    150   49      brown        light     brown      19BBY   \n",
       "\n",
       "   gender  homeworld               films species  vehicles starships  \\\n",
       "0    male          1        [1, 2, 3, 6]   human  [14, 30]  [12, 22]   \n",
       "1     n/a          1  [1, 2, 3, 4, 5, 6]     [2]        []        []   \n",
       "2     n/a          8  [1, 2, 3, 4, 5, 6]     [2]        []        []   \n",
       "3    male          1        [1, 2, 3, 6]   human        []      [13]   \n",
       "4  female          2        [1, 2, 3, 6]   human      [30]        []   \n",
       "\n",
       "                               url  \n",
       "0  https://swapi.dev/api/people/1/  \n",
       "1  https://swapi.dev/api/people/2/  \n",
       "2  https://swapi.dev/api/people/3/  \n",
       "3  https://swapi.dev/api/people/4/  \n",
       "4  https://swapi.dev/api/people/5/  "
      ]
     },
     "execution_count": 30,
     "metadata": {},
     "output_type": "execute_result"
    }
   ],
   "source": [
    "df.head()"
   ]
  },
  {
   "cell_type": "code",
   "execution_count": 31,
   "id": "7bb7286e",
   "metadata": {},
   "outputs": [
    {
     "data": {
      "text/plain": [
       "(81, 14)"
      ]
     },
     "execution_count": 31,
     "metadata": {},
     "output_type": "execute_result"
    }
   ],
   "source": [
    "df.shape"
   ]
  },
  {
   "cell_type": "code",
   "execution_count": 32,
   "id": "73c52137",
   "metadata": {},
   "outputs": [],
   "source": [
    "df.to_csv('sw_characters.csv')"
   ]
  },
  {
   "cell_type": "code",
   "execution_count": null,
   "id": "6da5808d",
   "metadata": {},
   "outputs": [],
   "source": []
  }
 ],
 "metadata": {
  "kernelspec": {
   "display_name": "venv",
   "language": "python",
   "name": "python3"
  },
  "language_info": {
   "codemirror_mode": {
    "name": "ipython",
    "version": 3
   },
   "file_extension": ".py",
   "mimetype": "text/x-python",
   "name": "python",
   "nbconvert_exporter": "python",
   "pygments_lexer": "ipython3",
   "version": "3.13.7"
  }
 },
 "nbformat": 4,
 "nbformat_minor": 5
}
