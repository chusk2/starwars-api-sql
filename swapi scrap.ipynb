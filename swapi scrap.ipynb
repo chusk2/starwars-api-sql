{
 "cells": [
  {
   "cell_type": "markdown",
   "id": "98d76d35",
   "metadata": {},
   "source": [
    "# Imports"
   ]
  },
  {
   "cell_type": "code",
   "execution_count": 1,
   "id": "545f0530",
   "metadata": {},
   "outputs": [],
   "source": [
    "import requests as rq\n",
    "import pandas as pd\n",
    "import os\n",
    "import numpy as np\n",
    "import json\n",
    "from dotenv import load_dotenv\n",
    "from sqlalchemy import create_engine"
   ]
  },
  {
   "cell_type": "code",
   "execution_count": 2,
   "id": "737cb8f8",
   "metadata": {},
   "outputs": [],
   "source": [
    "def show_cols(dict_):\n",
    "    for cat in dict_.keys():\n",
    "        print(f'\\n\\nCategory: {cat}')\n",
    "        print(*[ i for i in dict_[cat].columns], sep = '\\n')"
   ]
  },
  {
   "cell_type": "markdown",
   "id": "3fb05040",
   "metadata": {},
   "source": [
    "## Definitions"
   ]
  },
  {
   "cell_type": "code",
   "execution_count": 3,
   "id": "f43cf78c",
   "metadata": {},
   "outputs": [],
   "source": [
    "base_urls = {\n",
    "    \"films\": \"https://swapi.dev/api/films/\",\n",
    "    \"people\": \"https://swapi.dev/api/people/\",\n",
    "    \"planets\": \"https://swapi.dev/api/planets/\",\n",
    "    \"species\": \"https://swapi.dev/api/species/\",\n",
    "    \"starships\": \"https://swapi.dev/api/starships/\",\n",
    "    \"vehicles\": \"https://swapi.dev/api/vehicles/\"\n",
    "}"
   ]
  },
  {
   "cell_type": "code",
   "execution_count": 4,
   "id": "2db40ed4",
   "metadata": {},
   "outputs": [
    {
     "data": {
      "text/plain": [
       "['films', 'people', 'planets', 'species', 'starships', 'vehicles']"
      ]
     },
     "execution_count": 4,
     "metadata": {},
     "output_type": "execute_result"
    }
   ],
   "source": [
    "categories = list(base_urls.keys())\n",
    "categories"
   ]
  },
  {
   "cell_type": "code",
   "execution_count": 5,
   "id": "7ae41e05",
   "metadata": {},
   "outputs": [],
   "source": [
    "fields = {\n",
    "    'people' : [\"homeworld\", \"films\", \"species\", \"vehicles\", \"starships\"],\n",
    "    'planets' : ['residents', 'films'],\n",
    "    'films' : [\"characters\", \"planets\", \"starships\", \"vehicles\", \"species\"],\n",
    "    'species' : ['people', 'films', 'homeworld'],\n",
    "    'vehicles' : ['pilots', 'films'],\n",
    "    'starships' : ['pilots', 'films']\n",
    "    }"
   ]
  },
  {
   "cell_type": "markdown",
   "id": "ca030701",
   "metadata": {},
   "source": [
    "# Consume the API"
   ]
  },
  {
   "cell_type": "code",
   "execution_count": 6,
   "id": "6b3fb84d",
   "metadata": {},
   "outputs": [],
   "source": [
    "def get_page_items(url, fields):\n",
    "        \n",
    "    # get the content of the url\n",
    "    response = rq.get(url)\n",
    "\n",
    "    # success\n",
    "    if response.status_code == 200:\n",
    "        content = response.json()\n",
    "    elif response.status_code == 404:\n",
    "        print(f'{url} not found!')\n",
    "        return\n",
    "    \n",
    "    items_list = []\n",
    "\n",
    "    next = content['next']\n",
    "    items = content['results']\n",
    "\n",
    "    for item in items:\n",
    "\n",
    "        for field in fields:\n",
    "            id_values = []\n",
    "                           \n",
    "            if item[field]:  # if the field is not empty\n",
    "                # parse the links from starships, vehicles and starships\n",
    "                if field != 'homeworld':  \n",
    "                    for link in item[field]:\n",
    "                        # parse the id value in the link    \n",
    "                        id_values.append(int(link.split('/')[-2]))\n",
    "                    # add the id values into the corresponding field key\n",
    "                    # convert list into tuple, as tuples are hashable\n",
    "                    # each character belongs to only 1 species\n",
    "                    if field != 'species':\n",
    "                        item[field] = tuple(id_values)\n",
    "                    else:\n",
    "                        item[field] = id_values[0]\n",
    "                        \n",
    "                # parse the homeworld (just a single string value)\n",
    "                else:\n",
    "                    # get the homeworld id\n",
    "                    item['homeworld'] = int(item['homeworld'].split('/')[-2])\n",
    "            \n",
    "            # parse species field\n",
    "            # in case of human characters, the species field is an empty list\n",
    "            elif field == 'species' and not item[field]:\n",
    "                item[field] = 1\n",
    "            \n",
    "            # field has no values (empty list)\n",
    "            else:\n",
    "                item[field] = ()\n",
    "                  \n",
    "        # remove created and edited fields\n",
    "        try:\n",
    "            del(item['created'])\n",
    "            del(item['edited'])\n",
    "        except:\n",
    "            pass\n",
    "        \n",
    "        items_list.append(item)\n",
    "\n",
    "    return next, items_list"
   ]
  },
  {
   "cell_type": "markdown",
   "id": "54b7a029",
   "metadata": {},
   "source": [
    "Scrape all the information from the Star Wars API, for all the available categories"
   ]
  },
  {
   "cell_type": "code",
   "execution_count": 7,
   "id": "8ae62a93",
   "metadata": {},
   "outputs": [
    {
     "name": "stdout",
     "output_type": "stream",
     "text": [
      "starwars.json file already exists!\n",
      "Information will be read and stored in items dictionary.\n",
      "Scrapped content will be stored at ./data/starwars.json\n"
     ]
    }
   ],
   "source": [
    "filepath = './data/starwars.json'\n",
    "if not os.path.exists(filepath):\n",
    "    items = dict.fromkeys(categories)\n",
    "\n",
    "    for category in categories:\n",
    "        items_list = []\n",
    "        url = base_urls[category]\n",
    "        category_fields = fields[category]\n",
    "        while url:\n",
    "            url, page_items = get_page_items(url, category_fields)\n",
    "            items_list.extend(page_items)\n",
    "        \n",
    "        items[category] = items_list\n",
    "\n",
    "        print(f'{category} successfully scrapped!')\n",
    "\n",
    "    print('\\n\\nWhole database fully scrapped!')\n",
    "    print('\\nNow the information will be stored in a json file...')\n",
    "\n",
    "    # store the information in a json file\n",
    "    if not os.path.exists(filepath):\n",
    "        with open(filepath, 'w') as file:\n",
    "            json.dump(items, file, indent=4)\n",
    "\n",
    "        # remove the carriage return character\n",
    "        with open(filepath, 'r') as file:\n",
    "            content = file.readlines()\n",
    "\n",
    "        # replace the \\\\r\\\\n (the codes are escaped) string with just \\\\n\n",
    "            for index, line in enumerate(content):\n",
    "                content[index] = line.replace('\\\\r\\\\n', '\\\\n')\n",
    "\n",
    "        # after replacement, store its content\n",
    "        with open(filepath, 'w') as file:\n",
    "            file.writelines(content)\n",
    "        \n",
    "        print(f'Scrapped content stored at: {filepath}')\n",
    "# The file already exists and will be read\n",
    "else:\n",
    "    print('starwars.json file already exists!')\n",
    "    print('Information will be read and stored in items dictionary.')\n",
    "    items = {}\n",
    "    with open(filepath, 'r') as file:\n",
    "        items = json.load(file)\n",
    "    print(f'Scrapped content will be stored at {filepath}')"
   ]
  },
  {
   "cell_type": "markdown",
   "id": "e21e4692",
   "metadata": {},
   "source": [
    "# Store information\n",
    "Create a dictionary to store the dataframes from each category"
   ]
  },
  {
   "cell_type": "code",
   "execution_count": 8,
   "id": "1e9413cc",
   "metadata": {},
   "outputs": [],
   "source": [
    "categories_dataframes = dict.fromkeys(categories)"
   ]
  },
  {
   "cell_type": "markdown",
   "id": "7a92b04f",
   "metadata": {},
   "source": [
    "### Generate the dataframes"
   ]
  },
  {
   "cell_type": "code",
   "execution_count": 9,
   "id": "9da1a0ee",
   "metadata": {},
   "outputs": [],
   "source": [
    "for cat in categories:\n",
    "    df = pd.DataFrame(items[cat])\n",
    "    df['id'] = df.index + 1\n",
    "\n",
    "    # rename columns to add '_id' to the \"fields\"\n",
    "    rename_dict = {field : f'{field}_id' for field in fields[cat]}\n",
    "    rename_dict.update({'id' : f'{cat}_id'})\n",
    "    df.rename(columns = rename_dict, inplace = True)\n",
    "\n",
    "    # reorder the columns to place id in first place\n",
    "    all_columns_but_cat_id = [col for col in df.columns if col != f'{cat}_id']\n",
    "    sorted_columns = [f'{cat}_id'] + all_columns_but_cat_id\n",
    "    categories_dataframes[cat] = df[sorted_columns]\n",
    "#df.to_csv('./data/starwars_characters.csv', index = False)"
   ]
  },
  {
   "cell_type": "markdown",
   "id": "a31eb901",
   "metadata": {},
   "source": [
    "Make some renamings to the column names"
   ]
  },
  {
   "cell_type": "code",
   "execution_count": 10,
   "id": "5c79bae2",
   "metadata": {},
   "outputs": [],
   "source": [
    "col_rename_dict= {\n",
    "    \n",
    "    'films': {\n",
    "        'characters_id': 'character_id',\n",
    "        'films_id': 'film_id',\n",
    "        'planets_id': 'planet_id',\n",
    "        'episode_id': 'episode',\n",
    "        'starships_id': 'starship_id',\n",
    "        'vehicles_id': 'vehicle_id',\n",
    "    },\n",
    "    \n",
    "    'people': {\n",
    "        'people_id': 'character_id',\n",
    "        'films_id': 'film_id',\n",
    "        'vehicles_id': 'vehicle_id',\n",
    "        'starships_id': 'starship_id'\n",
    "    },\n",
    "\n",
    "    'planets': {\n",
    "        'planets_id': 'planet_id',\n",
    "        'films_id': 'film_id'\n",
    "    },\n",
    "\n",
    "    'species': {\n",
    "        'people_id': 'character_id',\n",
    "        'films_id': 'film_id'\n",
    "    },\n",
    "\n",
    "    'vehicles': {\n",
    "        'pilots_id': 'pilot_id',\n",
    "        'vehicles_id': 'vehicle_id',\n",
    "        'films_id': 'film_id'\n",
    "    },\n",
    "\n",
    "    'starships': {\n",
    "        'pilots_id': 'pilot_id',\n",
    "        'starships_id': 'starship_id',\n",
    "        'films_id': 'film_id'\n",
    "    }\n",
    "}"
   ]
  },
  {
   "cell_type": "code",
   "execution_count": 11,
   "id": "577a814d",
   "metadata": {},
   "outputs": [],
   "source": [
    "for cat in categories:\n",
    "    categories_dataframes[cat].rename(columns=col_rename_dict[cat], inplace=True)"
   ]
  },
  {
   "cell_type": "markdown",
   "id": "254b75ea",
   "metadata": {},
   "source": [
    "## Clean the datasets"
   ]
  },
  {
   "cell_type": "markdown",
   "id": "4ebec0ba",
   "metadata": {},
   "source": [
    "### Clean people"
   ]
  },
  {
   "cell_type": "code",
   "execution_count": 12,
   "id": "826a246e",
   "metadata": {},
   "outputs": [
    {
     "data": {
      "text/html": [
       "<div>\n",
       "<style scoped>\n",
       "    .dataframe tbody tr th:only-of-type {\n",
       "        vertical-align: middle;\n",
       "    }\n",
       "\n",
       "    .dataframe tbody tr th {\n",
       "        vertical-align: top;\n",
       "    }\n",
       "\n",
       "    .dataframe thead th {\n",
       "        text-align: right;\n",
       "    }\n",
       "</style>\n",
       "<table border=\"1\" class=\"dataframe\">\n",
       "  <thead>\n",
       "    <tr style=\"text-align: right;\">\n",
       "      <th></th>\n",
       "      <th>character_id</th>\n",
       "      <th>name</th>\n",
       "      <th>height</th>\n",
       "      <th>mass</th>\n",
       "      <th>hair_color</th>\n",
       "      <th>skin_color</th>\n",
       "      <th>eye_color</th>\n",
       "      <th>birth_year</th>\n",
       "      <th>gender</th>\n",
       "      <th>homeworld_id</th>\n",
       "      <th>film_id</th>\n",
       "      <th>species_id</th>\n",
       "      <th>vehicle_id</th>\n",
       "      <th>starship_id</th>\n",
       "      <th>url</th>\n",
       "    </tr>\n",
       "  </thead>\n",
       "  <tbody>\n",
       "    <tr>\n",
       "      <th>7</th>\n",
       "      <td>8</td>\n",
       "      <td>R5-D4</td>\n",
       "      <td>97</td>\n",
       "      <td>32</td>\n",
       "      <td>n/a</td>\n",
       "      <td>white, red</td>\n",
       "      <td>red</td>\n",
       "      <td>unknown</td>\n",
       "      <td>n/a</td>\n",
       "      <td>1</td>\n",
       "      <td>[1]</td>\n",
       "      <td>2</td>\n",
       "      <td>[]</td>\n",
       "      <td>[]</td>\n",
       "      <td>https://swapi.dev/api/people/8/</td>\n",
       "    </tr>\n",
       "    <tr>\n",
       "      <th>20</th>\n",
       "      <td>21</td>\n",
       "      <td>Boba Fett</td>\n",
       "      <td>183</td>\n",
       "      <td>78.2</td>\n",
       "      <td>black</td>\n",
       "      <td>fair</td>\n",
       "      <td>brown</td>\n",
       "      <td>31.5BBY</td>\n",
       "      <td>male</td>\n",
       "      <td>10</td>\n",
       "      <td>[2, 3, 5]</td>\n",
       "      <td>1</td>\n",
       "      <td>[]</td>\n",
       "      <td>[21]</td>\n",
       "      <td>https://swapi.dev/api/people/22/</td>\n",
       "    </tr>\n",
       "    <tr>\n",
       "      <th>14</th>\n",
       "      <td>15</td>\n",
       "      <td>Greedo</td>\n",
       "      <td>173</td>\n",
       "      <td>74</td>\n",
       "      <td>n/a</td>\n",
       "      <td>green</td>\n",
       "      <td>black</td>\n",
       "      <td>44BBY</td>\n",
       "      <td>male</td>\n",
       "      <td>23</td>\n",
       "      <td>[1]</td>\n",
       "      <td>4</td>\n",
       "      <td>[]</td>\n",
       "      <td>[]</td>\n",
       "      <td>https://swapi.dev/api/people/15/</td>\n",
       "    </tr>\n",
       "    <tr>\n",
       "      <th>79</th>\n",
       "      <td>80</td>\n",
       "      <td>Raymus Antilles</td>\n",
       "      <td>188</td>\n",
       "      <td>79</td>\n",
       "      <td>brown</td>\n",
       "      <td>light</td>\n",
       "      <td>brown</td>\n",
       "      <td>unknown</td>\n",
       "      <td>male</td>\n",
       "      <td>2</td>\n",
       "      <td>[1, 6]</td>\n",
       "      <td>1</td>\n",
       "      <td>[]</td>\n",
       "      <td>[]</td>\n",
       "      <td>https://swapi.dev/api/people/81/</td>\n",
       "    </tr>\n",
       "    <tr>\n",
       "      <th>72</th>\n",
       "      <td>73</td>\n",
       "      <td>Jocasta Nu</td>\n",
       "      <td>167</td>\n",
       "      <td>unknown</td>\n",
       "      <td>white</td>\n",
       "      <td>fair</td>\n",
       "      <td>blue</td>\n",
       "      <td>unknown</td>\n",
       "      <td>female</td>\n",
       "      <td>9</td>\n",
       "      <td>[5]</td>\n",
       "      <td>1</td>\n",
       "      <td>[]</td>\n",
       "      <td>[]</td>\n",
       "      <td>https://swapi.dev/api/people/74/</td>\n",
       "    </tr>\n",
       "  </tbody>\n",
       "</table>\n",
       "</div>"
      ],
      "text/plain": [
       "    character_id             name height     mass hair_color  skin_color  \\\n",
       "7              8            R5-D4     97       32        n/a  white, red   \n",
       "20            21        Boba Fett    183     78.2      black        fair   \n",
       "14            15           Greedo    173       74        n/a       green   \n",
       "79            80  Raymus Antilles    188       79      brown       light   \n",
       "72            73       Jocasta Nu    167  unknown      white        fair   \n",
       "\n",
       "   eye_color birth_year  gender  homeworld_id    film_id  species_id  \\\n",
       "7        red    unknown     n/a             1        [1]           2   \n",
       "20     brown    31.5BBY    male            10  [2, 3, 5]           1   \n",
       "14     black      44BBY    male            23        [1]           4   \n",
       "79     brown    unknown    male             2     [1, 6]           1   \n",
       "72      blue    unknown  female             9        [5]           1   \n",
       "\n",
       "   vehicle_id starship_id                               url  \n",
       "7          []          []   https://swapi.dev/api/people/8/  \n",
       "20         []        [21]  https://swapi.dev/api/people/22/  \n",
       "14         []          []  https://swapi.dev/api/people/15/  \n",
       "79         []          []  https://swapi.dev/api/people/81/  \n",
       "72         []          []  https://swapi.dev/api/people/74/  "
      ]
     },
     "execution_count": 12,
     "metadata": {},
     "output_type": "execute_result"
    }
   ],
   "source": [
    "df = categories_dataframes['people']\n",
    "df.sample(5)"
   ]
  },
  {
   "cell_type": "code",
   "execution_count": 13,
   "id": "fdec9e6f",
   "metadata": {},
   "outputs": [
    {
     "data": {
      "text/plain": [
       "character_id     int64\n",
       "name            object\n",
       "height          object\n",
       "mass            object\n",
       "hair_color      object\n",
       "skin_color      object\n",
       "eye_color       object\n",
       "birth_year      object\n",
       "gender          object\n",
       "homeworld_id     int64\n",
       "film_id         object\n",
       "species_id       int64\n",
       "vehicle_id      object\n",
       "starship_id     object\n",
       "url             object\n",
       "dtype: object"
      ]
     },
     "execution_count": 13,
     "metadata": {},
     "output_type": "execute_result"
    }
   ],
   "source": [
    "df.dtypes"
   ]
  },
  {
   "cell_type": "code",
   "execution_count": 14,
   "id": "f2d76002",
   "metadata": {},
   "outputs": [],
   "source": [
    "df.mass = df.mass.replace('unknown', np.nan)\n",
    "df.mass = df.mass.str.replace(',', '', regex=False)\n",
    "df.mass = df.mass.astype('float') "
   ]
  },
  {
   "cell_type": "code",
   "execution_count": 15,
   "id": "6c56db05",
   "metadata": {},
   "outputs": [],
   "source": [
    "df.height = df.height.replace('unknown', np.nan).astype('float')"
   ]
  },
  {
   "cell_type": "code",
   "execution_count": 16,
   "id": "68d12e2e",
   "metadata": {},
   "outputs": [],
   "source": [
    "df.hair_color = df.hair_color.replace('n/a', np.nan)"
   ]
  },
  {
   "cell_type": "code",
   "execution_count": 17,
   "id": "1a4bd178",
   "metadata": {},
   "outputs": [],
   "source": [
    "df.birth_year = df.birth_year.str.replace('BBY', ' BBY')"
   ]
  },
  {
   "cell_type": "markdown",
   "id": "0c8074dd",
   "metadata": {},
   "source": [
    "### Clean films"
   ]
  },
  {
   "cell_type": "code",
   "execution_count": 18,
   "id": "5e140b2d",
   "metadata": {},
   "outputs": [
    {
     "data": {
      "text/html": [
       "<div>\n",
       "<style scoped>\n",
       "    .dataframe tbody tr th:only-of-type {\n",
       "        vertical-align: middle;\n",
       "    }\n",
       "\n",
       "    .dataframe tbody tr th {\n",
       "        vertical-align: top;\n",
       "    }\n",
       "\n",
       "    .dataframe thead th {\n",
       "        text-align: right;\n",
       "    }\n",
       "</style>\n",
       "<table border=\"1\" class=\"dataframe\">\n",
       "  <thead>\n",
       "    <tr style=\"text-align: right;\">\n",
       "      <th></th>\n",
       "      <th>film_id</th>\n",
       "      <th>title</th>\n",
       "      <th>episode</th>\n",
       "      <th>opening_crawl</th>\n",
       "      <th>director</th>\n",
       "      <th>producer</th>\n",
       "      <th>release_date</th>\n",
       "      <th>character_id</th>\n",
       "      <th>planet_id</th>\n",
       "      <th>starship_id</th>\n",
       "      <th>vehicle_id</th>\n",
       "      <th>species_id</th>\n",
       "      <th>url</th>\n",
       "    </tr>\n",
       "  </thead>\n",
       "  <tbody>\n",
       "    <tr>\n",
       "      <th>2</th>\n",
       "      <td>3</td>\n",
       "      <td>Return of the Jedi</td>\n",
       "      <td>6</td>\n",
       "      <td>Luke Skywalker has returned to\\nhis home plane...</td>\n",
       "      <td>Richard Marquand</td>\n",
       "      <td>Howard G. Kazanjian, George Lucas, Rick McCallum</td>\n",
       "      <td>1983-05-25</td>\n",
       "      <td>[1, 2, 3, 4, 5, 10, 13, 14, 16, 18, 20, 21, 22...</td>\n",
       "      <td>[1, 5, 7, 8, 9]</td>\n",
       "      <td>[2, 3, 10, 11, 12, 15, 17, 22, 23, 27, 28, 29]</td>\n",
       "      <td>[8, 16, 18, 19, 24, 25, 26, 30]</td>\n",
       "      <td>1</td>\n",
       "      <td>https://swapi.dev/api/films/3/</td>\n",
       "    </tr>\n",
       "    <tr>\n",
       "      <th>1</th>\n",
       "      <td>2</td>\n",
       "      <td>The Empire Strikes Back</td>\n",
       "      <td>5</td>\n",
       "      <td>It is a dark time for the\\nRebellion. Although...</td>\n",
       "      <td>Irvin Kershner</td>\n",
       "      <td>Gary Kurtz, Rick McCallum</td>\n",
       "      <td>1980-05-17</td>\n",
       "      <td>[1, 2, 3, 4, 5, 10, 13, 14, 18, 20, 21, 22, 23...</td>\n",
       "      <td>[4, 5, 6, 27]</td>\n",
       "      <td>[3, 10, 11, 12, 15, 17, 21, 22, 23]</td>\n",
       "      <td>[8, 14, 16, 18, 19, 20]</td>\n",
       "      <td>1</td>\n",
       "      <td>https://swapi.dev/api/films/2/</td>\n",
       "    </tr>\n",
       "    <tr>\n",
       "      <th>0</th>\n",
       "      <td>1</td>\n",
       "      <td>A New Hope</td>\n",
       "      <td>4</td>\n",
       "      <td>It is a period of civil war.\\nRebel spaceships...</td>\n",
       "      <td>George Lucas</td>\n",
       "      <td>Gary Kurtz, Rick McCallum</td>\n",
       "      <td>1977-05-25</td>\n",
       "      <td>[1, 2, 3, 4, 5, 6, 7, 8, 9, 10, 12, 13, 14, 15...</td>\n",
       "      <td>[1, 2, 3]</td>\n",
       "      <td>[2, 3, 5, 9, 10, 11, 12, 13]</td>\n",
       "      <td>[4, 6, 7, 8]</td>\n",
       "      <td>1</td>\n",
       "      <td>https://swapi.dev/api/films/1/</td>\n",
       "    </tr>\n",
       "    <tr>\n",
       "      <th>4</th>\n",
       "      <td>5</td>\n",
       "      <td>Attack of the Clones</td>\n",
       "      <td>2</td>\n",
       "      <td>There is unrest in the Galactic\\nSenate. Sever...</td>\n",
       "      <td>George Lucas</td>\n",
       "      <td>Rick McCallum</td>\n",
       "      <td>2002-05-16</td>\n",
       "      <td>[2, 3, 6, 7, 10, 11, 20, 21, 22, 33, 35, 36, 4...</td>\n",
       "      <td>[1, 8, 9, 10, 11]</td>\n",
       "      <td>[21, 32, 39, 43, 47, 48, 49, 52, 58]</td>\n",
       "      <td>[4, 44, 45, 46, 50, 51, 53, 54, 55, 56, 57]</td>\n",
       "      <td>1</td>\n",
       "      <td>https://swapi.dev/api/films/5/</td>\n",
       "    </tr>\n",
       "    <tr>\n",
       "      <th>3</th>\n",
       "      <td>4</td>\n",
       "      <td>The Phantom Menace</td>\n",
       "      <td>1</td>\n",
       "      <td>Turmoil has engulfed the\\nGalactic Republic. T...</td>\n",
       "      <td>George Lucas</td>\n",
       "      <td>Rick McCallum</td>\n",
       "      <td>1999-05-19</td>\n",
       "      <td>[2, 3, 10, 11, 16, 20, 21, 32, 33, 34, 35, 36,...</td>\n",
       "      <td>[1, 8, 9]</td>\n",
       "      <td>[31, 32, 39, 40, 41]</td>\n",
       "      <td>[33, 34, 35, 36, 37, 38, 42]</td>\n",
       "      <td>1</td>\n",
       "      <td>https://swapi.dev/api/films/4/</td>\n",
       "    </tr>\n",
       "  </tbody>\n",
       "</table>\n",
       "</div>"
      ],
      "text/plain": [
       "   film_id                    title  episode  \\\n",
       "2        3       Return of the Jedi        6   \n",
       "1        2  The Empire Strikes Back        5   \n",
       "0        1               A New Hope        4   \n",
       "4        5     Attack of the Clones        2   \n",
       "3        4       The Phantom Menace        1   \n",
       "\n",
       "                                       opening_crawl          director  \\\n",
       "2  Luke Skywalker has returned to\\nhis home plane...  Richard Marquand   \n",
       "1  It is a dark time for the\\nRebellion. Although...    Irvin Kershner   \n",
       "0  It is a period of civil war.\\nRebel spaceships...      George Lucas   \n",
       "4  There is unrest in the Galactic\\nSenate. Sever...      George Lucas   \n",
       "3  Turmoil has engulfed the\\nGalactic Republic. T...      George Lucas   \n",
       "\n",
       "                                           producer release_date  \\\n",
       "2  Howard G. Kazanjian, George Lucas, Rick McCallum   1983-05-25   \n",
       "1                         Gary Kurtz, Rick McCallum   1980-05-17   \n",
       "0                         Gary Kurtz, Rick McCallum   1977-05-25   \n",
       "4                                     Rick McCallum   2002-05-16   \n",
       "3                                     Rick McCallum   1999-05-19   \n",
       "\n",
       "                                        character_id          planet_id  \\\n",
       "2  [1, 2, 3, 4, 5, 10, 13, 14, 16, 18, 20, 21, 22...    [1, 5, 7, 8, 9]   \n",
       "1  [1, 2, 3, 4, 5, 10, 13, 14, 18, 20, 21, 22, 23...      [4, 5, 6, 27]   \n",
       "0  [1, 2, 3, 4, 5, 6, 7, 8, 9, 10, 12, 13, 14, 15...          [1, 2, 3]   \n",
       "4  [2, 3, 6, 7, 10, 11, 20, 21, 22, 33, 35, 36, 4...  [1, 8, 9, 10, 11]   \n",
       "3  [2, 3, 10, 11, 16, 20, 21, 32, 33, 34, 35, 36,...          [1, 8, 9]   \n",
       "\n",
       "                                      starship_id  \\\n",
       "2  [2, 3, 10, 11, 12, 15, 17, 22, 23, 27, 28, 29]   \n",
       "1             [3, 10, 11, 12, 15, 17, 21, 22, 23]   \n",
       "0                    [2, 3, 5, 9, 10, 11, 12, 13]   \n",
       "4            [21, 32, 39, 43, 47, 48, 49, 52, 58]   \n",
       "3                            [31, 32, 39, 40, 41]   \n",
       "\n",
       "                                    vehicle_id  species_id  \\\n",
       "2              [8, 16, 18, 19, 24, 25, 26, 30]           1   \n",
       "1                      [8, 14, 16, 18, 19, 20]           1   \n",
       "0                                 [4, 6, 7, 8]           1   \n",
       "4  [4, 44, 45, 46, 50, 51, 53, 54, 55, 56, 57]           1   \n",
       "3                 [33, 34, 35, 36, 37, 38, 42]           1   \n",
       "\n",
       "                              url  \n",
       "2  https://swapi.dev/api/films/3/  \n",
       "1  https://swapi.dev/api/films/2/  \n",
       "0  https://swapi.dev/api/films/1/  \n",
       "4  https://swapi.dev/api/films/5/  \n",
       "3  https://swapi.dev/api/films/4/  "
      ]
     },
     "execution_count": 18,
     "metadata": {},
     "output_type": "execute_result"
    }
   ],
   "source": [
    "df = categories_dataframes['films']\n",
    "df.sample(5)"
   ]
  },
  {
   "cell_type": "code",
   "execution_count": 19,
   "id": "762dcfe3",
   "metadata": {},
   "outputs": [
    {
     "data": {
      "text/plain": [
       "film_id           int64\n",
       "title            object\n",
       "episode           int64\n",
       "opening_crawl    object\n",
       "director         object\n",
       "producer         object\n",
       "release_date     object\n",
       "character_id     object\n",
       "planet_id        object\n",
       "starship_id      object\n",
       "vehicle_id       object\n",
       "species_id        int64\n",
       "url              object\n",
       "dtype: object"
      ]
     },
     "execution_count": 19,
     "metadata": {},
     "output_type": "execute_result"
    }
   ],
   "source": [
    "df.dtypes"
   ]
  },
  {
   "cell_type": "code",
   "execution_count": 20,
   "id": "0c357be7",
   "metadata": {},
   "outputs": [],
   "source": [
    "df.release_date = pd.to_datetime(df.release_date)"
   ]
  },
  {
   "cell_type": "markdown",
   "id": "9533468e",
   "metadata": {},
   "source": [
    "### Clean planets"
   ]
  },
  {
   "cell_type": "code",
   "execution_count": 21,
   "id": "0301b5ab",
   "metadata": {},
   "outputs": [
    {
     "data": {
      "text/html": [
       "<div>\n",
       "<style scoped>\n",
       "    .dataframe tbody tr th:only-of-type {\n",
       "        vertical-align: middle;\n",
       "    }\n",
       "\n",
       "    .dataframe tbody tr th {\n",
       "        vertical-align: top;\n",
       "    }\n",
       "\n",
       "    .dataframe thead th {\n",
       "        text-align: right;\n",
       "    }\n",
       "</style>\n",
       "<table border=\"1\" class=\"dataframe\">\n",
       "  <thead>\n",
       "    <tr style=\"text-align: right;\">\n",
       "      <th></th>\n",
       "      <th>planet_id</th>\n",
       "      <th>name</th>\n",
       "      <th>rotation_period</th>\n",
       "      <th>orbital_period</th>\n",
       "      <th>diameter</th>\n",
       "      <th>climate</th>\n",
       "      <th>gravity</th>\n",
       "      <th>terrain</th>\n",
       "      <th>surface_water</th>\n",
       "      <th>population</th>\n",
       "      <th>residents_id</th>\n",
       "      <th>film_id</th>\n",
       "      <th>url</th>\n",
       "    </tr>\n",
       "  </thead>\n",
       "  <tbody>\n",
       "    <tr>\n",
       "      <th>10</th>\n",
       "      <td>11</td>\n",
       "      <td>Geonosis</td>\n",
       "      <td>30</td>\n",
       "      <td>256</td>\n",
       "      <td>11370</td>\n",
       "      <td>temperate, arid</td>\n",
       "      <td>0.9 standard</td>\n",
       "      <td>rock, desert, mountain, barren</td>\n",
       "      <td>5</td>\n",
       "      <td>100000000000</td>\n",
       "      <td>[63]</td>\n",
       "      <td>[5]</td>\n",
       "      <td>https://swapi.dev/api/planets/11/</td>\n",
       "    </tr>\n",
       "    <tr>\n",
       "      <th>8</th>\n",
       "      <td>9</td>\n",
       "      <td>Coruscant</td>\n",
       "      <td>24</td>\n",
       "      <td>368</td>\n",
       "      <td>12240</td>\n",
       "      <td>temperate</td>\n",
       "      <td>1 standard</td>\n",
       "      <td>cityscape, mountains</td>\n",
       "      <td>unknown</td>\n",
       "      <td>1000000000000</td>\n",
       "      <td>[34, 55, 74]</td>\n",
       "      <td>[3, 4, 5, 6]</td>\n",
       "      <td>https://swapi.dev/api/planets/9/</td>\n",
       "    </tr>\n",
       "    <tr>\n",
       "      <th>15</th>\n",
       "      <td>16</td>\n",
       "      <td>Mygeeto</td>\n",
       "      <td>12</td>\n",
       "      <td>167</td>\n",
       "      <td>10088</td>\n",
       "      <td>frigid</td>\n",
       "      <td>1 standard</td>\n",
       "      <td>glaciers, mountains, ice canyons</td>\n",
       "      <td>unknown</td>\n",
       "      <td>19000000</td>\n",
       "      <td>[]</td>\n",
       "      <td>[6]</td>\n",
       "      <td>https://swapi.dev/api/planets/16/</td>\n",
       "    </tr>\n",
       "    <tr>\n",
       "      <th>40</th>\n",
       "      <td>41</td>\n",
       "      <td>Tund</td>\n",
       "      <td>48</td>\n",
       "      <td>1770</td>\n",
       "      <td>12190</td>\n",
       "      <td>unknown</td>\n",
       "      <td>unknown</td>\n",
       "      <td>barren, ash</td>\n",
       "      <td>unknown</td>\n",
       "      <td>0</td>\n",
       "      <td>[50]</td>\n",
       "      <td>[]</td>\n",
       "      <td>https://swapi.dev/api/planets/41/</td>\n",
       "    </tr>\n",
       "    <tr>\n",
       "      <th>54</th>\n",
       "      <td>55</td>\n",
       "      <td>Ojom</td>\n",
       "      <td>unknown</td>\n",
       "      <td>unknown</td>\n",
       "      <td>unknown</td>\n",
       "      <td>frigid</td>\n",
       "      <td>unknown</td>\n",
       "      <td>oceans, glaciers</td>\n",
       "      <td>100</td>\n",
       "      <td>500000000</td>\n",
       "      <td>[71]</td>\n",
       "      <td>[]</td>\n",
       "      <td>https://swapi.dev/api/planets/55/</td>\n",
       "    </tr>\n",
       "  </tbody>\n",
       "</table>\n",
       "</div>"
      ],
      "text/plain": [
       "    planet_id       name rotation_period orbital_period diameter  \\\n",
       "10         11   Geonosis              30            256    11370   \n",
       "8           9  Coruscant              24            368    12240   \n",
       "15         16    Mygeeto              12            167    10088   \n",
       "40         41       Tund              48           1770    12190   \n",
       "54         55       Ojom         unknown        unknown  unknown   \n",
       "\n",
       "            climate       gravity                           terrain  \\\n",
       "10  temperate, arid  0.9 standard    rock, desert, mountain, barren   \n",
       "8         temperate    1 standard              cityscape, mountains   \n",
       "15           frigid    1 standard  glaciers, mountains, ice canyons   \n",
       "40          unknown       unknown                       barren, ash   \n",
       "54           frigid       unknown                  oceans, glaciers   \n",
       "\n",
       "   surface_water     population  residents_id       film_id  \\\n",
       "10             5   100000000000          [63]           [5]   \n",
       "8        unknown  1000000000000  [34, 55, 74]  [3, 4, 5, 6]   \n",
       "15       unknown       19000000            []           [6]   \n",
       "40       unknown              0          [50]            []   \n",
       "54           100      500000000          [71]            []   \n",
       "\n",
       "                                  url  \n",
       "10  https://swapi.dev/api/planets/11/  \n",
       "8    https://swapi.dev/api/planets/9/  \n",
       "15  https://swapi.dev/api/planets/16/  \n",
       "40  https://swapi.dev/api/planets/41/  \n",
       "54  https://swapi.dev/api/planets/55/  "
      ]
     },
     "execution_count": 21,
     "metadata": {},
     "output_type": "execute_result"
    }
   ],
   "source": [
    "df = categories_dataframes['planets']\n",
    "df.sample(5)"
   ]
  },
  {
   "cell_type": "code",
   "execution_count": 22,
   "id": "7efdf919",
   "metadata": {},
   "outputs": [
    {
     "data": {
      "text/plain": [
       "planet_id           int64\n",
       "name               object\n",
       "rotation_period    object\n",
       "orbital_period     object\n",
       "diameter           object\n",
       "climate            object\n",
       "gravity            object\n",
       "terrain            object\n",
       "surface_water      object\n",
       "population         object\n",
       "residents_id       object\n",
       "film_id            object\n",
       "url                object\n",
       "dtype: object"
      ]
     },
     "execution_count": 22,
     "metadata": {},
     "output_type": "execute_result"
    }
   ],
   "source": [
    "df.dtypes"
   ]
  },
  {
   "cell_type": "code",
   "execution_count": 23,
   "id": "72d52dc2",
   "metadata": {},
   "outputs": [],
   "source": [
    "for col in ['rotation_period', 'orbital_period', 'diameter', 'surface_water', 'population']:\n",
    "    df[col] = df[col].replace('unknown', np.nan).astype('float')"
   ]
  },
  {
   "cell_type": "code",
   "execution_count": 24,
   "id": "e0292d31",
   "metadata": {},
   "outputs": [],
   "source": [
    "df.population = df.population / 1E6\n",
    "df.rename(columns = {'population' : 'population_millions'}, inplace = True)"
   ]
  },
  {
   "cell_type": "code",
   "execution_count": 25,
   "id": "fc6c1752",
   "metadata": {},
   "outputs": [
    {
     "data": {
      "text/plain": [
       "array(['1 standard', '1.1 standard', 'N/A',\n",
       "       '1.5 (surface), 1 standard (Cloud City)', '0.85 standard',\n",
       "       '0.9 standard', '0.56 standard', '0.75 standard', 'unknown',\n",
       "       '0.62 standard', '1', '1.56', '0.9', '0.98'], dtype=object)"
      ]
     },
     "execution_count": 25,
     "metadata": {},
     "output_type": "execute_result"
    }
   ],
   "source": [
    "df.gravity.unique()"
   ]
  },
  {
   "cell_type": "code",
   "execution_count": 26,
   "id": "7b1592a4",
   "metadata": {},
   "outputs": [],
   "source": [
    "df.gravity = df.gravity.str.replace(' standard', '').str.replace(df.gravity[5], '1.5')\n",
    "df.gravity = df.gravity.replace('unknown', np.nan)"
   ]
  },
  {
   "cell_type": "markdown",
   "id": "0e60760b",
   "metadata": {},
   "source": [
    "## Clean species"
   ]
  },
  {
   "cell_type": "code",
   "execution_count": 27,
   "id": "0e3891c7",
   "metadata": {},
   "outputs": [
    {
     "data": {
      "text/html": [
       "<div>\n",
       "<style scoped>\n",
       "    .dataframe tbody tr th:only-of-type {\n",
       "        vertical-align: middle;\n",
       "    }\n",
       "\n",
       "    .dataframe tbody tr th {\n",
       "        vertical-align: top;\n",
       "    }\n",
       "\n",
       "    .dataframe thead th {\n",
       "        text-align: right;\n",
       "    }\n",
       "</style>\n",
       "<table border=\"1\" class=\"dataframe\">\n",
       "  <thead>\n",
       "    <tr style=\"text-align: right;\">\n",
       "      <th></th>\n",
       "      <th>species_id</th>\n",
       "      <th>name</th>\n",
       "      <th>classification</th>\n",
       "      <th>designation</th>\n",
       "      <th>average_height</th>\n",
       "      <th>skin_colors</th>\n",
       "      <th>hair_colors</th>\n",
       "      <th>eye_colors</th>\n",
       "      <th>average_lifespan</th>\n",
       "      <th>homeworld_id</th>\n",
       "      <th>language</th>\n",
       "      <th>character_id</th>\n",
       "      <th>film_id</th>\n",
       "      <th>url</th>\n",
       "    </tr>\n",
       "  </thead>\n",
       "  <tbody>\n",
       "    <tr>\n",
       "      <th>13</th>\n",
       "      <td>14</td>\n",
       "      <td>Dug</td>\n",
       "      <td>mammal</td>\n",
       "      <td>sentient</td>\n",
       "      <td>100</td>\n",
       "      <td>brown, purple, grey, red</td>\n",
       "      <td>none</td>\n",
       "      <td>yellow, blue</td>\n",
       "      <td>unknown</td>\n",
       "      <td>35</td>\n",
       "      <td>Dugese</td>\n",
       "      <td>[41]</td>\n",
       "      <td>[4]</td>\n",
       "      <td>https://swapi.dev/api/species/14/</td>\n",
       "    </tr>\n",
       "    <tr>\n",
       "      <th>31</th>\n",
       "      <td>32</td>\n",
       "      <td>Kaminoan</td>\n",
       "      <td>amphibian</td>\n",
       "      <td>sentient</td>\n",
       "      <td>220</td>\n",
       "      <td>grey, blue</td>\n",
       "      <td>none</td>\n",
       "      <td>black</td>\n",
       "      <td>80</td>\n",
       "      <td>10</td>\n",
       "      <td>Kaminoan</td>\n",
       "      <td>[72, 73]</td>\n",
       "      <td>[5]</td>\n",
       "      <td>https://swapi.dev/api/species/32/</td>\n",
       "    </tr>\n",
       "    <tr>\n",
       "      <th>19</th>\n",
       "      <td>20</td>\n",
       "      <td>Cerean</td>\n",
       "      <td>mammal</td>\n",
       "      <td>sentient</td>\n",
       "      <td>200</td>\n",
       "      <td>pale pink</td>\n",
       "      <td>red, blond, black, white</td>\n",
       "      <td>hazel</td>\n",
       "      <td>unknown</td>\n",
       "      <td>43</td>\n",
       "      <td>Cerean</td>\n",
       "      <td>[52]</td>\n",
       "      <td>[4, 6]</td>\n",
       "      <td>https://swapi.dev/api/species/20/</td>\n",
       "    </tr>\n",
       "    <tr>\n",
       "      <th>33</th>\n",
       "      <td>34</td>\n",
       "      <td>Muun</td>\n",
       "      <td>mammal</td>\n",
       "      <td>sentient</td>\n",
       "      <td>190</td>\n",
       "      <td>grey, white</td>\n",
       "      <td>none</td>\n",
       "      <td>black</td>\n",
       "      <td>100</td>\n",
       "      <td>57</td>\n",
       "      <td>Muun</td>\n",
       "      <td>[77]</td>\n",
       "      <td>[5, 6]</td>\n",
       "      <td>https://swapi.dev/api/species/34/</td>\n",
       "    </tr>\n",
       "    <tr>\n",
       "      <th>10</th>\n",
       "      <td>11</td>\n",
       "      <td>Neimodian</td>\n",
       "      <td>unknown</td>\n",
       "      <td>sentient</td>\n",
       "      <td>180</td>\n",
       "      <td>grey, green</td>\n",
       "      <td>none</td>\n",
       "      <td>red, pink</td>\n",
       "      <td>unknown</td>\n",
       "      <td>18</td>\n",
       "      <td>Neimoidia</td>\n",
       "      <td>[33]</td>\n",
       "      <td>[4]</td>\n",
       "      <td>https://swapi.dev/api/species/11/</td>\n",
       "    </tr>\n",
       "  </tbody>\n",
       "</table>\n",
       "</div>"
      ],
      "text/plain": [
       "    species_id       name classification designation average_height  \\\n",
       "13          14        Dug         mammal    sentient            100   \n",
       "31          32   Kaminoan      amphibian    sentient            220   \n",
       "19          20     Cerean         mammal    sentient            200   \n",
       "33          34       Muun         mammal    sentient            190   \n",
       "10          11  Neimodian        unknown    sentient            180   \n",
       "\n",
       "                 skin_colors               hair_colors    eye_colors  \\\n",
       "13  brown, purple, grey, red                      none  yellow, blue   \n",
       "31                grey, blue                      none         black   \n",
       "19                 pale pink  red, blond, black, white         hazel   \n",
       "33               grey, white                      none         black   \n",
       "10               grey, green                      none     red, pink   \n",
       "\n",
       "   average_lifespan homeworld_id   language character_id film_id  \\\n",
       "13          unknown           35     Dugese         [41]     [4]   \n",
       "31               80           10   Kaminoan     [72, 73]     [5]   \n",
       "19          unknown           43     Cerean         [52]  [4, 6]   \n",
       "33              100           57       Muun         [77]  [5, 6]   \n",
       "10          unknown           18  Neimoidia         [33]     [4]   \n",
       "\n",
       "                                  url  \n",
       "13  https://swapi.dev/api/species/14/  \n",
       "31  https://swapi.dev/api/species/32/  \n",
       "19  https://swapi.dev/api/species/20/  \n",
       "33  https://swapi.dev/api/species/34/  \n",
       "10  https://swapi.dev/api/species/11/  "
      ]
     },
     "execution_count": 27,
     "metadata": {},
     "output_type": "execute_result"
    }
   ],
   "source": [
    "df = categories_dataframes['species']\n",
    "df.sample(5)"
   ]
  },
  {
   "cell_type": "code",
   "execution_count": 28,
   "id": "c821986e",
   "metadata": {},
   "outputs": [
    {
     "data": {
      "text/plain": [
       "species_id           int64\n",
       "name                object\n",
       "classification      object\n",
       "designation         object\n",
       "average_height      object\n",
       "skin_colors         object\n",
       "hair_colors         object\n",
       "eye_colors          object\n",
       "average_lifespan    object\n",
       "homeworld_id        object\n",
       "language            object\n",
       "character_id        object\n",
       "film_id             object\n",
       "url                 object\n",
       "dtype: object"
      ]
     },
     "execution_count": 28,
     "metadata": {},
     "output_type": "execute_result"
    }
   ],
   "source": [
    "df.dtypes"
   ]
  },
  {
   "cell_type": "code",
   "execution_count": 29,
   "id": "8136027d",
   "metadata": {},
   "outputs": [],
   "source": [
    "df.average_height = df.average_height.replace('unknown', np.nan).replace('n/a', np.nan).astype('float')"
   ]
  },
  {
   "cell_type": "code",
   "execution_count": 30,
   "id": "1d38e70d",
   "metadata": {},
   "outputs": [],
   "source": [
    "df.average_lifespan = df.average_lifespan.replace('unknown', np.nan).replace('indefinite', 9999).astype('float')"
   ]
  },
  {
   "cell_type": "code",
   "execution_count": 31,
   "id": "9d41f9ec",
   "metadata": {},
   "outputs": [],
   "source": [
    "df.loc[1, 'homeworld_id'] = np.nan\n",
    "df.homeworld_id = df.homeworld_id.astype('float')"
   ]
  },
  {
   "cell_type": "markdown",
   "id": "f3fb8577",
   "metadata": {},
   "source": [
    "## Clean vehicles"
   ]
  },
  {
   "cell_type": "code",
   "execution_count": 32,
   "id": "451a6ffe",
   "metadata": {},
   "outputs": [
    {
     "data": {
      "text/html": [
       "<div>\n",
       "<style scoped>\n",
       "    .dataframe tbody tr th:only-of-type {\n",
       "        vertical-align: middle;\n",
       "    }\n",
       "\n",
       "    .dataframe tbody tr th {\n",
       "        vertical-align: top;\n",
       "    }\n",
       "\n",
       "    .dataframe thead th {\n",
       "        text-align: right;\n",
       "    }\n",
       "</style>\n",
       "<table border=\"1\" class=\"dataframe\">\n",
       "  <thead>\n",
       "    <tr style=\"text-align: right;\">\n",
       "      <th></th>\n",
       "      <th>vehicle_id</th>\n",
       "      <th>name</th>\n",
       "      <th>model</th>\n",
       "      <th>manufacturer</th>\n",
       "      <th>cost_in_credits</th>\n",
       "      <th>length</th>\n",
       "      <th>max_atmosphering_speed</th>\n",
       "      <th>crew</th>\n",
       "      <th>passengers</th>\n",
       "      <th>cargo_capacity</th>\n",
       "      <th>consumables</th>\n",
       "      <th>vehicle_class</th>\n",
       "      <th>pilot_id</th>\n",
       "      <th>film_id</th>\n",
       "      <th>url</th>\n",
       "    </tr>\n",
       "  </thead>\n",
       "  <tbody>\n",
       "    <tr>\n",
       "      <th>36</th>\n",
       "      <td>37</td>\n",
       "      <td>Corporate Alliance tank droid</td>\n",
       "      <td>NR-N99 Persuader-class droid enforcer</td>\n",
       "      <td>Techno Union</td>\n",
       "      <td>49000</td>\n",
       "      <td>10.96</td>\n",
       "      <td>100</td>\n",
       "      <td>0</td>\n",
       "      <td>4</td>\n",
       "      <td>none</td>\n",
       "      <td>none</td>\n",
       "      <td>droid tank</td>\n",
       "      <td>[]</td>\n",
       "      <td>[6]</td>\n",
       "      <td>https://swapi.dev/api/vehicles/72/</td>\n",
       "    </tr>\n",
       "    <tr>\n",
       "      <th>9</th>\n",
       "      <td>10</td>\n",
       "      <td>Sail barge</td>\n",
       "      <td>Modified Luxury Sail Barge</td>\n",
       "      <td>Ubrikkian Industries Custom Vehicle Division</td>\n",
       "      <td>285000</td>\n",
       "      <td>30</td>\n",
       "      <td>100</td>\n",
       "      <td>26</td>\n",
       "      <td>500</td>\n",
       "      <td>2000000</td>\n",
       "      <td>Live food tanks</td>\n",
       "      <td>sail barge</td>\n",
       "      <td>[]</td>\n",
       "      <td>[3]</td>\n",
       "      <td>https://swapi.dev/api/vehicles/24/</td>\n",
       "    </tr>\n",
       "    <tr>\n",
       "      <th>34</th>\n",
       "      <td>35</td>\n",
       "      <td>Raddaugh Gnasp fluttercraft</td>\n",
       "      <td>Raddaugh Gnasp fluttercraft</td>\n",
       "      <td>Appazanna Engineering Works</td>\n",
       "      <td>14750</td>\n",
       "      <td>7</td>\n",
       "      <td>310</td>\n",
       "      <td>2</td>\n",
       "      <td>0</td>\n",
       "      <td>20</td>\n",
       "      <td>none</td>\n",
       "      <td>air speeder</td>\n",
       "      <td>[]</td>\n",
       "      <td>[6]</td>\n",
       "      <td>https://swapi.dev/api/vehicles/70/</td>\n",
       "    </tr>\n",
       "    <tr>\n",
       "      <th>19</th>\n",
       "      <td>20</td>\n",
       "      <td>Sith speeder</td>\n",
       "      <td>FC-20 speeder bike</td>\n",
       "      <td>Razalon</td>\n",
       "      <td>4000</td>\n",
       "      <td>1.5</td>\n",
       "      <td>180</td>\n",
       "      <td>1</td>\n",
       "      <td>0</td>\n",
       "      <td>2</td>\n",
       "      <td>unknown</td>\n",
       "      <td>speeder</td>\n",
       "      <td>[44]</td>\n",
       "      <td>[4]</td>\n",
       "      <td>https://swapi.dev/api/vehicles/42/</td>\n",
       "    </tr>\n",
       "    <tr>\n",
       "      <th>6</th>\n",
       "      <td>7</td>\n",
       "      <td>AT-AT</td>\n",
       "      <td>All Terrain Armored Transport</td>\n",
       "      <td>Kuat Drive Yards, Imperial Department of Milit...</td>\n",
       "      <td>unknown</td>\n",
       "      <td>20</td>\n",
       "      <td>60</td>\n",
       "      <td>5</td>\n",
       "      <td>40</td>\n",
       "      <td>1000</td>\n",
       "      <td>unknown</td>\n",
       "      <td>assault walker</td>\n",
       "      <td>[]</td>\n",
       "      <td>[2, 3]</td>\n",
       "      <td>https://swapi.dev/api/vehicles/18/</td>\n",
       "    </tr>\n",
       "  </tbody>\n",
       "</table>\n",
       "</div>"
      ],
      "text/plain": [
       "    vehicle_id                           name  \\\n",
       "36          37  Corporate Alliance tank droid   \n",
       "9           10                     Sail barge   \n",
       "34          35    Raddaugh Gnasp fluttercraft   \n",
       "19          20                   Sith speeder   \n",
       "6            7                          AT-AT   \n",
       "\n",
       "                                    model  \\\n",
       "36  NR-N99 Persuader-class droid enforcer   \n",
       "9              Modified Luxury Sail Barge   \n",
       "34            Raddaugh Gnasp fluttercraft   \n",
       "19                     FC-20 speeder bike   \n",
       "6           All Terrain Armored Transport   \n",
       "\n",
       "                                         manufacturer cost_in_credits length  \\\n",
       "36                                       Techno Union           49000  10.96   \n",
       "9        Ubrikkian Industries Custom Vehicle Division          285000     30   \n",
       "34                        Appazanna Engineering Works           14750      7   \n",
       "19                                            Razalon            4000    1.5   \n",
       "6   Kuat Drive Yards, Imperial Department of Milit...         unknown     20   \n",
       "\n",
       "   max_atmosphering_speed crew passengers cargo_capacity      consumables  \\\n",
       "36                    100    0          4           none             none   \n",
       "9                     100   26        500        2000000  Live food tanks   \n",
       "34                    310    2          0             20             none   \n",
       "19                    180    1          0              2          unknown   \n",
       "6                      60    5         40           1000          unknown   \n",
       "\n",
       "     vehicle_class pilot_id film_id                                 url  \n",
       "36      droid tank       []     [6]  https://swapi.dev/api/vehicles/72/  \n",
       "9       sail barge       []     [3]  https://swapi.dev/api/vehicles/24/  \n",
       "34     air speeder       []     [6]  https://swapi.dev/api/vehicles/70/  \n",
       "19         speeder     [44]     [4]  https://swapi.dev/api/vehicles/42/  \n",
       "6   assault walker       []  [2, 3]  https://swapi.dev/api/vehicles/18/  "
      ]
     },
     "execution_count": 32,
     "metadata": {},
     "output_type": "execute_result"
    }
   ],
   "source": [
    "df = categories_dataframes['vehicles']\n",
    "df.sample(5)"
   ]
  },
  {
   "cell_type": "code",
   "execution_count": 33,
   "id": "16f71fd9",
   "metadata": {},
   "outputs": [],
   "source": [
    "df.cost_in_credits = df.cost_in_credits.replace('unknown', np.nan)\n",
    "df.cost_in_credits = df.cost_in_credits.astype('float')"
   ]
  },
  {
   "cell_type": "code",
   "execution_count": 34,
   "id": "dfe012ba",
   "metadata": {},
   "outputs": [],
   "source": [
    "for col in ['max_atmosphering_speed' ,'crew', 'passengers', 'cargo_capacity']:\n",
    "    df[col] = df[col].replace('unknown', np.nan).replace('none', np.nan)\n",
    "    df[col] = df[col].astype('float')"
   ]
  },
  {
   "cell_type": "code",
   "execution_count": 35,
   "id": "96fa6ccf",
   "metadata": {},
   "outputs": [],
   "source": [
    "df.length = df.length.replace('unknown', np.nan)\n",
    "df.length = df.length.astype('float')"
   ]
  },
  {
   "cell_type": "code",
   "execution_count": 36,
   "id": "158b20ae",
   "metadata": {},
   "outputs": [],
   "source": [
    "df.consumables = df.consumables.replace('0', 'none')"
   ]
  },
  {
   "cell_type": "markdown",
   "id": "4cc7aa12",
   "metadata": {},
   "source": [
    "## Clean starships"
   ]
  },
  {
   "cell_type": "code",
   "execution_count": 37,
   "id": "0a202666",
   "metadata": {},
   "outputs": [
    {
     "data": {
      "text/html": [
       "<div>\n",
       "<style scoped>\n",
       "    .dataframe tbody tr th:only-of-type {\n",
       "        vertical-align: middle;\n",
       "    }\n",
       "\n",
       "    .dataframe tbody tr th {\n",
       "        vertical-align: top;\n",
       "    }\n",
       "\n",
       "    .dataframe thead th {\n",
       "        text-align: right;\n",
       "    }\n",
       "</style>\n",
       "<table border=\"1\" class=\"dataframe\">\n",
       "  <thead>\n",
       "    <tr style=\"text-align: right;\">\n",
       "      <th></th>\n",
       "      <th>starship_id</th>\n",
       "      <th>name</th>\n",
       "      <th>model</th>\n",
       "      <th>manufacturer</th>\n",
       "      <th>cost_in_credits</th>\n",
       "      <th>length</th>\n",
       "      <th>max_atmosphering_speed</th>\n",
       "      <th>crew</th>\n",
       "      <th>passengers</th>\n",
       "      <th>cargo_capacity</th>\n",
       "      <th>consumables</th>\n",
       "      <th>hyperdrive_rating</th>\n",
       "      <th>MGLT</th>\n",
       "      <th>starship_class</th>\n",
       "      <th>pilot_id</th>\n",
       "      <th>film_id</th>\n",
       "      <th>url</th>\n",
       "    </tr>\n",
       "  </thead>\n",
       "  <tbody>\n",
       "    <tr>\n",
       "      <th>12</th>\n",
       "      <td>13</td>\n",
       "      <td>EF76 Nebulon-B escort frigate</td>\n",
       "      <td>EF76 Nebulon-B escort frigate</td>\n",
       "      <td>Kuat Drive Yards</td>\n",
       "      <td>8500000</td>\n",
       "      <td>300</td>\n",
       "      <td>800</td>\n",
       "      <td>854</td>\n",
       "      <td>75</td>\n",
       "      <td>6000000</td>\n",
       "      <td>2 years</td>\n",
       "      <td>2.0</td>\n",
       "      <td>40</td>\n",
       "      <td>Escort ship</td>\n",
       "      <td>[]</td>\n",
       "      <td>[2, 3]</td>\n",
       "      <td>https://swapi.dev/api/starships/23/</td>\n",
       "    </tr>\n",
       "    <tr>\n",
       "      <th>25</th>\n",
       "      <td>26</td>\n",
       "      <td>Republic Assault ship</td>\n",
       "      <td>Acclamator I-class assault ship</td>\n",
       "      <td>Rothana Heavy Engineering</td>\n",
       "      <td>unknown</td>\n",
       "      <td>752</td>\n",
       "      <td>unknown</td>\n",
       "      <td>700</td>\n",
       "      <td>16000</td>\n",
       "      <td>11250000</td>\n",
       "      <td>2 years</td>\n",
       "      <td>0.6</td>\n",
       "      <td>unknown</td>\n",
       "      <td>assault ship</td>\n",
       "      <td>[]</td>\n",
       "      <td>[5]</td>\n",
       "      <td>https://swapi.dev/api/starships/52/</td>\n",
       "    </tr>\n",
       "    <tr>\n",
       "      <th>20</th>\n",
       "      <td>21</td>\n",
       "      <td>Scimitar</td>\n",
       "      <td>Star Courier</td>\n",
       "      <td>Republic Sienar Systems</td>\n",
       "      <td>55000000</td>\n",
       "      <td>26.5</td>\n",
       "      <td>1180</td>\n",
       "      <td>1</td>\n",
       "      <td>6</td>\n",
       "      <td>2500000</td>\n",
       "      <td>30 days</td>\n",
       "      <td>1.5</td>\n",
       "      <td>unknown</td>\n",
       "      <td>Space Transport</td>\n",
       "      <td>[44]</td>\n",
       "      <td>[4]</td>\n",
       "      <td>https://swapi.dev/api/starships/41/</td>\n",
       "    </tr>\n",
       "    <tr>\n",
       "      <th>2</th>\n",
       "      <td>3</td>\n",
       "      <td>Sentinel-class landing craft</td>\n",
       "      <td>Sentinel-class landing craft</td>\n",
       "      <td>Sienar Fleet Systems, Cyngus Spaceworks</td>\n",
       "      <td>240000</td>\n",
       "      <td>38</td>\n",
       "      <td>1000</td>\n",
       "      <td>5</td>\n",
       "      <td>75</td>\n",
       "      <td>180000</td>\n",
       "      <td>1 month</td>\n",
       "      <td>1.0</td>\n",
       "      <td>70</td>\n",
       "      <td>landing craft</td>\n",
       "      <td>[]</td>\n",
       "      <td>[1]</td>\n",
       "      <td>https://swapi.dev/api/starships/5/</td>\n",
       "    </tr>\n",
       "    <tr>\n",
       "      <th>17</th>\n",
       "      <td>18</td>\n",
       "      <td>Droid control ship</td>\n",
       "      <td>Lucrehulk-class Droid Control Ship</td>\n",
       "      <td>Hoersch-Kessel Drive, Inc.</td>\n",
       "      <td>unknown</td>\n",
       "      <td>3170</td>\n",
       "      <td>n/a</td>\n",
       "      <td>175</td>\n",
       "      <td>139000</td>\n",
       "      <td>4000000000</td>\n",
       "      <td>500 days</td>\n",
       "      <td>2.0</td>\n",
       "      <td>unknown</td>\n",
       "      <td>Droid control ship</td>\n",
       "      <td>[]</td>\n",
       "      <td>[4, 5, 6]</td>\n",
       "      <td>https://swapi.dev/api/starships/32/</td>\n",
       "    </tr>\n",
       "  </tbody>\n",
       "</table>\n",
       "</div>"
      ],
      "text/plain": [
       "    starship_id                           name  \\\n",
       "12           13  EF76 Nebulon-B escort frigate   \n",
       "25           26          Republic Assault ship   \n",
       "20           21                       Scimitar   \n",
       "2             3   Sentinel-class landing craft   \n",
       "17           18             Droid control ship   \n",
       "\n",
       "                                 model  \\\n",
       "12       EF76 Nebulon-B escort frigate   \n",
       "25     Acclamator I-class assault ship   \n",
       "20                        Star Courier   \n",
       "2         Sentinel-class landing craft   \n",
       "17  Lucrehulk-class Droid Control Ship   \n",
       "\n",
       "                               manufacturer cost_in_credits length  \\\n",
       "12                         Kuat Drive Yards         8500000    300   \n",
       "25                Rothana Heavy Engineering         unknown    752   \n",
       "20                  Republic Sienar Systems        55000000   26.5   \n",
       "2   Sienar Fleet Systems, Cyngus Spaceworks          240000     38   \n",
       "17               Hoersch-Kessel Drive, Inc.         unknown   3170   \n",
       "\n",
       "   max_atmosphering_speed crew passengers cargo_capacity consumables  \\\n",
       "12                    800  854         75        6000000     2 years   \n",
       "25                unknown  700      16000       11250000     2 years   \n",
       "20                   1180    1          6        2500000     30 days   \n",
       "2                    1000    5         75         180000     1 month   \n",
       "17                    n/a  175     139000     4000000000    500 days   \n",
       "\n",
       "   hyperdrive_rating     MGLT      starship_class pilot_id    film_id  \\\n",
       "12               2.0       40         Escort ship       []     [2, 3]   \n",
       "25               0.6  unknown        assault ship       []        [5]   \n",
       "20               1.5  unknown     Space Transport     [44]        [4]   \n",
       "2                1.0       70       landing craft       []        [1]   \n",
       "17               2.0  unknown  Droid control ship       []  [4, 5, 6]   \n",
       "\n",
       "                                    url  \n",
       "12  https://swapi.dev/api/starships/23/  \n",
       "25  https://swapi.dev/api/starships/52/  \n",
       "20  https://swapi.dev/api/starships/41/  \n",
       "2    https://swapi.dev/api/starships/5/  \n",
       "17  https://swapi.dev/api/starships/32/  "
      ]
     },
     "execution_count": 37,
     "metadata": {},
     "output_type": "execute_result"
    }
   ],
   "source": [
    "df = categories_dataframes['starships']\n",
    "df.sample(5)"
   ]
  },
  {
   "cell_type": "code",
   "execution_count": 38,
   "id": "383f66bc",
   "metadata": {},
   "outputs": [],
   "source": [
    "df.loc[0, 'crew'] = 165"
   ]
  },
  {
   "cell_type": "code",
   "execution_count": 39,
   "id": "ccce4cb8",
   "metadata": {},
   "outputs": [],
   "source": [
    "for col in ['cost_in_credits', 'length', 'max_atmosphering_speed', 'crew', 'passengers', 'cargo_capacity', 'hyperdrive_rating', 'MGLT']:\n",
    "    try:\n",
    "        df[col] = df[col].replace('unknown', np.nan).replace('none', np.nan).replace('n/a', np.nan)\n",
    "        df[col] = df[col].str.replace(',', '', regex = False).str.replace('km', '')\n",
    "        #df[col] = df[col].astype('float')\n",
    "    except Exception as e:\n",
    "        print(f'Error in {col}: {e}')"
   ]
  },
  {
   "cell_type": "code",
   "execution_count": 40,
   "id": "6e758414",
   "metadata": {},
   "outputs": [],
   "source": [
    "for col in ['cost_in_credits', 'length', 'max_atmosphering_speed', 'crew', 'passengers', 'cargo_capacity', 'hyperdrive_rating', 'MGLT']:\n",
    "    try:\n",
    "        df[col] = df[col].astype('float')\n",
    "    except:\n",
    "        print(f'error with {col}')"
   ]
  },
  {
   "cell_type": "code",
   "execution_count": 41,
   "id": "e809c02d",
   "metadata": {},
   "outputs": [
    {
     "name": "stdout",
     "output_type": "stream",
     "text": [
      "File films_dataframe.csv already exist!\n",
      "File people_dataframe.csv already exist!\n",
      "File planets_dataframe.csv already exist!\n",
      "File species_dataframe.csv already exist!\n",
      "File starships_dataframe.csv already exist!\n",
      "File vehicles_dataframe.csv already exist!\n",
      "Dataframes of each normalized category are stored in ./data/csv/ as csv files!\n"
     ]
    }
   ],
   "source": [
    "data_path = './data'\n",
    "for cat in categories:\n",
    "    filename = f'{cat}_dataframe.csv'\n",
    "    if os.path.exists(f'{data_path}/csv/{filename}'):\n",
    "        print(f'File {filename} already exist!')\n",
    "        pass\n",
    "    else:\n",
    "        os.makedirs(f'{data_path}/csv/', exist_ok=True)\n",
    "        df = categories_dataframes[cat]\n",
    "        df.to_csv(f'{data_path}/csv/{cat}_dataframe.csv', index = False)\n",
    "print(f'Dataframes of each normalized category are stored in {data_path}/csv/ as csv files!')"
   ]
  },
  {
   "cell_type": "markdown",
   "id": "68e88445",
   "metadata": {},
   "source": [
    "# Junction tables\n",
    "\n",
    "(many-to-many relationships in the database)\n",
    "\n",
    "1. **films_people_junction**: Links films to the characters that appeared in them.\n",
    "\n",
    "    - character_id: Foreign Key referencing the `people` table.\n",
    "    - film_id: Foreign Key referencing the films table.\n",
    "\n",
    "2. **films_planets_junction**: Links films to the planets that appeared in them.\n",
    "\n",
    "    - planet_id: Foreign Key referencing the `planets` table.\n",
    "    - film_id: Foreign Key referencing the `films` table.\n",
    "\n",
    "3. **films_starships_junction**: Links films to the starships that appeared in them.\n",
    "\n",
    "    - starship_id: Foreign Key referencing the `starships` table.\n",
    "    - film_id: Foreign Key referencing the `films` table.\n",
    "\n",
    "4. **films_vehicles_junction**: Links films to the vehicles that appeared in them.\n",
    "\n",
    "    - vehicle_id: Foreign Key referencing the `vehicles` table.\n",
    "    - film_id: Foreign Key referencing the `films` table.\n",
    "\n",
    "5. **films_species_junction**: Links films to the species that appeared in them.\n",
    "\n",
    "    - species_id: Foreign Key referencing the `species` table.\n",
    "    - film_id: Foreign Key referencing the `films` table.\n",
    "\n",
    "6. **people_starships_junction**: Links people (pilots) to the starships they have piloted.\n",
    "\n",
    "    - character_id: Foreign Key referencing the `people` table.\n",
    "    - starship_id: Foreign Key referencing the `starships` table.\n",
    "\n",
    "7. **people_vehicles_junction**: Links people (pilots) to the vehicles they have piloted.\n",
    "\n",
    "    - character_id: Foreign Key referencing the `people` table.\n",
    "    - vehicle_id: Foreign Key referencing the vehicles table."
   ]
  },
  {
   "cell_type": "code",
   "execution_count": 42,
   "id": "7ac65713",
   "metadata": {},
   "outputs": [
    {
     "data": {
      "text/plain": [
       "['people_films_junction',\n",
       " 'people_vehicles_junction',\n",
       " 'people_starships_junction',\n",
       " 'films_starships_junction',\n",
       " 'films_vehicles_junction',\n",
       " 'films_species_junction']"
      ]
     },
     "execution_count": 42,
     "metadata": {},
     "output_type": "execute_result"
    }
   ],
   "source": [
    "junction_tables = ['people_films', 'people_vehicles', 'people_starships',\n",
    "                   'films_starships', 'films_vehicles', 'films_species']\n",
    "\n",
    "junction_tables = [f'{table}_junction' for table in junction_tables]\n",
    "junction_tables"
   ]
  },
  {
   "cell_type": "code",
   "execution_count": 43,
   "id": "0f4380b0",
   "metadata": {},
   "outputs": [],
   "source": [
    "junction_tables_dict = {i:None for i in junction_tables}"
   ]
  },
  {
   "cell_type": "markdown",
   "id": "a46b4959",
   "metadata": {},
   "source": [
    "## Junction tables for people:"
   ]
  },
  {
   "cell_type": "code",
   "execution_count": 44,
   "id": "ca7e10a8",
   "metadata": {},
   "outputs": [],
   "source": [
    "data = categories_dataframes['films'].loc[:, ['species_id', 'film_id', 'vehicle_id', 'starship_id']]\n",
    "\n",
    "# junction table for people and films\n",
    "junction_tables_dict['films_species_junction'] = data.explode('species_id').drop(['vehicle_id', 'starship_id'], axis = 1).drop_duplicates()\n",
    "\n",
    "# junction table for people and vehicles\n",
    "junction_tables_dict['films_vehicles_junction'] = data.explode('vehicle_id').drop(['species_id', 'starship_id'], axis = 1).drop_duplicates()\n",
    "\n",
    "# junction table for people and starships\n",
    "junction_tables_dict['films_starships_junction'] = data.explode('starship_id').drop(['species_id', 'vehicle_id'], axis = 1).drop_duplicates()"
   ]
  },
  {
   "cell_type": "markdown",
   "id": "22091990",
   "metadata": {},
   "source": [
    "## Junction tables for films:"
   ]
  },
  {
   "cell_type": "code",
   "execution_count": 45,
   "id": "e7a4591b",
   "metadata": {},
   "outputs": [],
   "source": [
    "data = categories_dataframes['films'].loc[:, ['character_id', 'film_id', 'vehicle_id', 'starship_id']]\n",
    "\n",
    "# junction table for people and films\n",
    "junction_tables_dict['people_films_junction'] = data.explode('character_id').drop(['vehicle_id', 'starship_id'], axis = 1).drop_duplicates()\n",
    "\n",
    "# junction table for people and vehicles\n",
    "junction_tables_dict['people_vehicles_junction'] = data.explode('vehicle_id').explode('character_id').drop(['film_id', 'starship_id'], axis = 1).drop_duplicates()\n",
    "\n",
    "# junction table for people and starships\n",
    "junction_tables_dict['people_starships_junction'] = data.explode('starship_id').explode('character_id').drop(['film_id', 'vehicle_id'], axis = 1).drop_duplicates()"
   ]
  },
  {
   "cell_type": "code",
   "execution_count": 46,
   "id": "3965e61a",
   "metadata": {},
   "outputs": [
    {
     "data": {
      "text/html": [
       "<div>\n",
       "<style scoped>\n",
       "    .dataframe tbody tr th:only-of-type {\n",
       "        vertical-align: middle;\n",
       "    }\n",
       "\n",
       "    .dataframe tbody tr th {\n",
       "        vertical-align: top;\n",
       "    }\n",
       "\n",
       "    .dataframe thead th {\n",
       "        text-align: right;\n",
       "    }\n",
       "</style>\n",
       "<table border=\"1\" class=\"dataframe\">\n",
       "  <thead>\n",
       "    <tr style=\"text-align: right;\">\n",
       "      <th></th>\n",
       "      <th>character_id</th>\n",
       "      <th>starship_id</th>\n",
       "    </tr>\n",
       "  </thead>\n",
       "  <tbody>\n",
       "    <tr>\n",
       "      <th>0</th>\n",
       "      <td>1</td>\n",
       "      <td>2</td>\n",
       "    </tr>\n",
       "    <tr>\n",
       "      <th>0</th>\n",
       "      <td>2</td>\n",
       "      <td>2</td>\n",
       "    </tr>\n",
       "    <tr>\n",
       "      <th>0</th>\n",
       "      <td>3</td>\n",
       "      <td>2</td>\n",
       "    </tr>\n",
       "    <tr>\n",
       "      <th>0</th>\n",
       "      <td>4</td>\n",
       "      <td>2</td>\n",
       "    </tr>\n",
       "    <tr>\n",
       "      <th>0</th>\n",
       "      <td>5</td>\n",
       "      <td>2</td>\n",
       "    </tr>\n",
       "  </tbody>\n",
       "</table>\n",
       "</div>"
      ],
      "text/plain": [
       "  character_id starship_id\n",
       "0            1           2\n",
       "0            2           2\n",
       "0            3           2\n",
       "0            4           2\n",
       "0            5           2"
      ]
     },
     "execution_count": 46,
     "metadata": {},
     "output_type": "execute_result"
    }
   ],
   "source": [
    "junction_tables_dict['people_starships_junction'].head()"
   ]
  },
  {
   "cell_type": "markdown",
   "id": "40a47f02",
   "metadata": {},
   "source": [
    "# Normalization\n",
    "Next step is to normalize the datasets in order to create the database."
   ]
  },
  {
   "cell_type": "code",
   "execution_count": 47,
   "id": "d2eb76dd",
   "metadata": {},
   "outputs": [],
   "source": [
    "categories_dataframes_normalized = categories_dataframes.copy()"
   ]
  },
  {
   "cell_type": "code",
   "execution_count": 48,
   "id": "faee3899",
   "metadata": {},
   "outputs": [],
   "source": [
    "columns_to_drop = {\n",
    "    'films' : ['character_id', 'planet_id', 'species_id', 'vehicle_id', 'starship_id', 'url'],\n",
    "    'people' : ['film_id', 'species_id', 'vehicle_id', 'starship_id', 'url'],\n",
    "    'planets' : ['residents_id', 'film_id', 'url'],\n",
    "    'species' : ['character_id', 'film_id', 'url'],\n",
    "    'starships' : ['pilot_id', 'film_id', 'url'],\n",
    "    'vehicles' : ['pilot_id', 'film_id', 'url'],\n",
    "}  "
   ]
  },
  {
   "cell_type": "markdown",
   "id": "a4bdc187",
   "metadata": {},
   "source": [
    "### Drop the corresponding columns in order to normalize the tables"
   ]
  },
  {
   "cell_type": "code",
   "execution_count": 49,
   "id": "fd772369",
   "metadata": {},
   "outputs": [],
   "source": [
    "for cat in categories_dataframes_normalized.keys():\n",
    "    categories_dataframes_normalized[cat].drop(columns_to_drop[cat], axis='columns', inplace = True)"
   ]
  },
  {
   "cell_type": "markdown",
   "id": "30aaf7f3",
   "metadata": {},
   "source": [
    "## Store the normalized dataframes"
   ]
  },
  {
   "cell_type": "code",
   "execution_count": 50,
   "id": "e590d48c",
   "metadata": {},
   "outputs": [
    {
     "name": "stdout",
     "output_type": "stream",
     "text": [
      "Dataframes of each normalized category are stored in ./data/csv_normalized/ as csv files!\n"
     ]
    }
   ],
   "source": [
    "data_path = './data'\n",
    "for cat in categories:\n",
    "    filename = f'{cat}_dataframe.csv'\n",
    "    if os.path.exists(f'{data_path}/csv_normalized/{filename}'):\n",
    "        print(f'File {filename} already exist!')\n",
    "        pass\n",
    "    else:\n",
    "        os.makedirs(f'{data_path}/csv_normalized/', exist_ok=True)\n",
    "        df = categories_dataframes_normalized[cat]\n",
    "        df.to_csv(f'{data_path}/csv_normalized/{cat}_dataframe_normalized.csv', index = False)\n",
    "print(f'Dataframes of each normalized category are stored in {data_path}/csv_normalized/ as csv files!')"
   ]
  },
  {
   "cell_type": "markdown",
   "id": "f7f23ba8",
   "metadata": {},
   "source": [
    "## Example of joined people and their vehicles"
   ]
  },
  {
   "cell_type": "code",
   "execution_count": 51,
   "id": "b3ebb28d",
   "metadata": {},
   "outputs": [],
   "source": [
    "# df2 = pd.merge(people_vehicles_junction, categories_dataframes['people'], on='people_id', how = 'inner')\n",
    "# df2.rename(columns={'vehicles_id_x' : 'vehicles_id'}, inplace=True)\n",
    "\n",
    "# df2 = pd.merge(df2, categories_dataframes['vehicles'], on='vehicles_id')\n",
    "# #df2.drop(['people_id', 'vehicles_id'], axis = 1)\n",
    "# df2.head()"
   ]
  },
  {
   "cell_type": "code",
   "execution_count": 52,
   "id": "43222c36",
   "metadata": {},
   "outputs": [],
   "source": [
    "# categories_dataframes['people']"
   ]
  },
  {
   "cell_type": "markdown",
   "id": "668144f5",
   "metadata": {},
   "source": [
    "# Insert data into the database"
   ]
  },
  {
   "cell_type": "markdown",
   "id": "59ba8429",
   "metadata": {},
   "source": [
    "## Load database parameters from `.env` file"
   ]
  },
  {
   "cell_type": "code",
   "execution_count": 53,
   "id": "b5bc23c2",
   "metadata": {},
   "outputs": [],
   "source": [
    "load_dotenv()\n",
    "\n",
    "DB_USER = os.getenv(\"DB_USER\")\n",
    "DB_PASS = os.getenv(\"DB_PASSWORD\")\n",
    "DB_HOST = os.getenv(\"DB_HOST\")\n",
    "DB_PORT = os.getenv(\"DB_PORT\")\n",
    "DB_NAME = os.getenv(\"DB_NAME\")"
   ]
  },
  {
   "cell_type": "markdown",
   "id": "cd3bd35c",
   "metadata": {},
   "source": [
    "## Create the db connection"
   ]
  },
  {
   "cell_type": "code",
   "execution_count": 54,
   "id": "f23c5fab",
   "metadata": {},
   "outputs": [
    {
     "name": "stdout",
     "output_type": "stream",
     "text": [
      "SQLAlchemy Engine created successfully. 🛠️\n"
     ]
    }
   ],
   "source": [
    "connection_string = (\n",
    "    f'mysql+pymysql://{DB_USER}:{DB_PASS}@{DB_HOST}:{DB_PORT}/{DB_NAME}'\n",
    ")\n",
    "\n",
    "# --- 4. Create the SQLAlchemy Engine ---\n",
    "try:\n",
    "    engine = create_engine(connection_string)\n",
    "    print(\"SQLAlchemy Engine created successfully. 🛠️\")\n",
    "except Exception as e:\n",
    "    print(f\"Error creating engine: {e}\")"
   ]
  },
  {
   "cell_type": "markdown",
   "id": "5b78c708",
   "metadata": {},
   "source": [
    "## Populate the data into the database\n",
    "\n",
    "The order of tables to be filled must be:\n",
    "1. planets\n",
    "2. species\n",
    "3. starships\n",
    "4. vehicles\n",
    "5. films\n",
    "6. people"
   ]
  },
  {
   "cell_type": "code",
   "execution_count": 55,
   "id": "a28477f4",
   "metadata": {},
   "outputs": [],
   "source": [
    "categories_sorted = ['planets', 'species', 'vehicles', 'starships', 'films', 'people']"
   ]
  },
  {
   "cell_type": "code",
   "execution_count": 56,
   "id": "e7f14630",
   "metadata": {},
   "outputs": [
    {
     "name": "stdout",
     "output_type": "stream",
     "text": [
      "DataFrame for category 'planets' inserted successfully into the database. ✅\n",
      "\n",
      "\n",
      "DataFrame for category 'species' inserted successfully into the database. ✅\n",
      "\n",
      "\n",
      "DataFrame for category 'vehicles' inserted successfully into the database. ✅\n",
      "\n",
      "\n",
      "DataFrame for category 'starships' inserted successfully into the database. ✅\n",
      "\n",
      "\n",
      "DataFrame for category 'films' inserted successfully into the database. ✅\n",
      "\n",
      "\n",
      "DataFrame for category 'people' inserted successfully into the database. ✅\n",
      "\n",
      "\n"
     ]
    }
   ],
   "source": [
    "for cat in categories_sorted:\n",
    "    df = categories_dataframes_normalized[cat]\n",
    "    try:\n",
    "        df.to_sql(name=cat, con=engine, if_exists='append', index=False)\n",
    "        print(f\"DataFrame for category '{cat}' inserted successfully into the database. ✅\\n\\n\")\n",
    "    except Exception as e:\n",
    "        print(f\"\\\\ Error inserting DataFrame for category '{cat}': \\n{e}\\n\\n\")"
   ]
  },
  {
   "cell_type": "code",
   "execution_count": 57,
   "id": "67cc4ae7",
   "metadata": {},
   "outputs": [],
   "source": [
    "# junction_tables_dict['people_vehicles_junction']"
   ]
  },
  {
   "cell_type": "code",
   "execution_count": 58,
   "id": "075f3d7b",
   "metadata": {},
   "outputs": [
    {
     "name": "stdout",
     "output_type": "stream",
     "text": [
      "DataFrame for category 'people_films_junction' inserted successfully into the database. ✅\n",
      "\n",
      "\n",
      "\\ Error inserting DataFrame for category 'people_vehicles_junction': \n",
      "(pymysql.err.IntegrityError) (1452, 'Cannot add or update a child row: a foreign key constraint fails (`starwars_db`.`people_vehicles_junction`, CONSTRAINT `people_vehicles_junction_ibfk_2` FOREIGN KEY (`vehicle_id`) REFERENCES `vehicles` (`vehicle_id`))')\n",
      "[SQL: INSERT INTO people_vehicles_junction (character_id, vehicle_id) VALUES (%(character_id)s, %(vehicle_id)s)]\n",
      "[parameters: [{'character_id': 1, 'vehicle_id': 4}, {'character_id': 2, 'vehicle_id': 4}, {'character_id': 3, 'vehicle_id': 4}, {'character_id': 4, 'vehicle_id': 4}, {'character_id': 5, 'vehicle_id': 4}, {'character_id': 6, 'vehicle_id': 4}, {'character_id': 7, 'vehicle_id': 4}, {'character_id': 8, 'vehicle_id': 4}  ... displaying 10 of 1299 total bound parameter sets ...  {'character_id': 82, 'vehicle_id': 76}, {'character_id': 83, 'vehicle_id': 76}]]\n",
      "(Background on this error at: https://sqlalche.me/e/20/gkpj)\n",
      "\n",
      "\n",
      "\\ Error inserting DataFrame for category 'people_starships_junction': \n",
      "(pymysql.err.IntegrityError) (1452, 'Cannot add or update a child row: a foreign key constraint fails (`starwars_db`.`people_starships_junction`, CONSTRAINT `people_starships_junction_ibfk_2` FOREIGN KEY (`starship_id`) REFERENCES `starships` (`starship_id`))')\n",
      "[SQL: INSERT INTO people_starships_junction (character_id, starship_id) VALUES (%(character_id)s, %(starship_id)s)]\n",
      "[parameters: [{'character_id': 1, 'starship_id': 2}, {'character_id': 2, 'starship_id': 2}, {'character_id': 3, 'starship_id': 2}, {'character_id': 4, 'starship_id': 2}, {'character_id': 5, 'starship_id': 2}, {'character_id': 6, 'starship_id': 2}, {'character_id': 7, 'starship_id': 2}, {'character_id': 8, 'starship_id': 2}  ... displaying 10 of 1212 total bound parameter sets ...  {'character_id': 82, 'starship_id': 75}, {'character_id': 83, 'starship_id': 75}]]\n",
      "(Background on this error at: https://sqlalche.me/e/20/gkpj)\n",
      "\n",
      "\n",
      "\\ Error inserting DataFrame for category 'films_starships_junction': \n",
      "(pymysql.err.IntegrityError) (1452, 'Cannot add or update a child row: a foreign key constraint fails (`starwars_db`.`films_starships_junction`, CONSTRAINT `films_starships_junction_ibfk_2` FOREIGN KEY (`starship_id`) REFERENCES `starships` (`starship_id`))')\n",
      "[SQL: INSERT INTO films_starships_junction (film_id, starship_id) VALUES (%(film_id)s, %(starship_id)s)]\n",
      "[parameters: [{'film_id': 1, 'starship_id': 2}, {'film_id': 1, 'starship_id': 3}, {'film_id': 1, 'starship_id': 5}, {'film_id': 1, 'starship_id': 9}, {'film_id': 1, 'starship_id': 10}, {'film_id': 1, 'starship_id': 11}, {'film_id': 1, 'starship_id': 12}, {'film_id': 1, 'starship_id': 13}  ... displaying 10 of 55 total bound parameter sets ...  {'film_id': 6, 'starship_id': 74}, {'film_id': 6, 'starship_id': 75}]]\n",
      "(Background on this error at: https://sqlalche.me/e/20/gkpj)\n",
      "\n",
      "\n",
      "\\ Error inserting DataFrame for category 'films_vehicles_junction': \n",
      "(pymysql.err.IntegrityError) (1452, 'Cannot add or update a child row: a foreign key constraint fails (`starwars_db`.`films_vehicles_junction`, CONSTRAINT `films_vehicles_junction_ibfk_2` FOREIGN KEY (`vehicle_id`) REFERENCES `vehicles` (`vehicle_id`))')\n",
      "[SQL: INSERT INTO films_vehicles_junction (film_id, vehicle_id) VALUES (%(film_id)s, %(vehicle_id)s)]\n",
      "[parameters: [{'film_id': 1, 'vehicle_id': 4}, {'film_id': 1, 'vehicle_id': 6}, {'film_id': 1, 'vehicle_id': 7}, {'film_id': 1, 'vehicle_id': 8}, {'film_id': 2, 'vehicle_id': 8}, {'film_id': 2, 'vehicle_id': 14}, {'film_id': 2, 'vehicle_id': 16}, {'film_id': 2, 'vehicle_id': 18}  ... displaying 10 of 49 total bound parameter sets ...  {'film_id': 6, 'vehicle_id': 73}, {'film_id': 6, 'vehicle_id': 76}]]\n",
      "(Background on this error at: https://sqlalche.me/e/20/gkpj)\n",
      "\n",
      "\n",
      "DataFrame for category 'films_species_junction' inserted successfully into the database. ✅\n",
      "\n",
      "\n"
     ]
    }
   ],
   "source": [
    "for table, df in junction_tables_dict.items():\n",
    "    \n",
    "    try:\n",
    "        df.to_sql(name=table, con=engine, if_exists='append', index=False)\n",
    "        print(f\"DataFrame for category '{table}' inserted successfully into the database. ✅\\n\\n\")\n",
    "    except Exception as e:\n",
    "        print(f\"\\\\ Error inserting DataFrame for category '{table}': \\n{e}\\n\\n\")"
   ]
  },
  {
   "cell_type": "code",
   "execution_count": 59,
   "id": "234b4daf",
   "metadata": {},
   "outputs": [
    {
     "data": {
      "text/html": [
       "<div>\n",
       "<style scoped>\n",
       "    .dataframe tbody tr th:only-of-type {\n",
       "        vertical-align: middle;\n",
       "    }\n",
       "\n",
       "    .dataframe tbody tr th {\n",
       "        vertical-align: top;\n",
       "    }\n",
       "\n",
       "    .dataframe thead th {\n",
       "        text-align: right;\n",
       "    }\n",
       "</style>\n",
       "<table border=\"1\" class=\"dataframe\">\n",
       "  <thead>\n",
       "    <tr style=\"text-align: right;\">\n",
       "      <th></th>\n",
       "      <th>character_id</th>\n",
       "      <th>vehicle_id</th>\n",
       "    </tr>\n",
       "  </thead>\n",
       "  <tbody>\n",
       "    <tr>\n",
       "      <th>0</th>\n",
       "      <td>1</td>\n",
       "      <td>8</td>\n",
       "    </tr>\n",
       "  </tbody>\n",
       "</table>\n",
       "</div>"
      ],
      "text/plain": [
       "  character_id vehicle_id\n",
       "0            1          8"
      ]
     },
     "execution_count": 59,
     "metadata": {},
     "output_type": "execute_result"
    }
   ],
   "source": [
    "df = junction_tables_dict['people_vehicles_junction']\n",
    "df[(df.character_id == 1) & (df.vehicle_id == 8)]"
   ]
  },
  {
   "cell_type": "code",
   "execution_count": null,
   "id": "ba77f49f",
   "metadata": {},
   "outputs": [],
   "source": []
  }
 ],
 "metadata": {
  "kernelspec": {
   "display_name": "venv",
   "language": "python",
   "name": "python3"
  },
  "language_info": {
   "codemirror_mode": {
    "name": "ipython",
    "version": 3
   },
   "file_extension": ".py",
   "mimetype": "text/x-python",
   "name": "python",
   "nbconvert_exporter": "python",
   "pygments_lexer": "ipython3",
   "version": "3.13.7"
  }
 },
 "nbformat": 4,
 "nbformat_minor": 5
}
