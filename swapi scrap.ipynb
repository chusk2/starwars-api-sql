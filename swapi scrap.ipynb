{
 "cells": [
  {
   "cell_type": "code",
   "execution_count": 1,
   "id": "545f0530",
   "metadata": {},
   "outputs": [],
   "source": [
    "import requests as rq\n",
    "import pandas as pd"
   ]
  },
  {
   "cell_type": "code",
   "execution_count": 2,
   "id": "96d07a00",
   "metadata": {},
   "outputs": [],
   "source": [
    "base_url = 'https://swapi.dev/api/people/'"
   ]
  },
  {
   "cell_type": "code",
   "execution_count": 3,
   "id": "e025e72e",
   "metadata": {},
   "outputs": [
    {
     "name": "stdout",
     "output_type": "stream",
     "text": [
      "name\n",
      "height\n",
      "mass\n",
      "hair_color\n",
      "skin_color\n",
      "eye_color\n",
      "birth_year\n",
      "gender\n",
      "homeworld\n",
      "films\n",
      "species\n",
      "vehicles\n",
      "starships\n",
      "created\n",
      "edited\n",
      "url\n"
     ]
    }
   ],
   "source": [
    "data = rq.get(f'{base_url}10/').json()\n",
    "character_fields = data.keys()\n",
    "print(*character_fields, sep='\\n')"
   ]
  },
  {
   "cell_type": "code",
   "execution_count": 5,
   "id": "a713f266",
   "metadata": {},
   "outputs": [
    {
     "data": {
      "text/plain": [
       "{'name': 'Obi-Wan Kenobi',\n",
       " 'height': '182',\n",
       " 'mass': '77',\n",
       " 'hair_color': 'auburn, white',\n",
       " 'skin_color': 'fair',\n",
       " 'eye_color': 'blue-gray',\n",
       " 'birth_year': '57BBY',\n",
       " 'gender': 'male',\n",
       " 'homeworld': 'https://swapi.dev/api/planets/20/',\n",
       " 'films': ['https://swapi.dev/api/films/1/',\n",
       "  'https://swapi.dev/api/films/2/',\n",
       "  'https://swapi.dev/api/films/3/',\n",
       "  'https://swapi.dev/api/films/4/',\n",
       "  'https://swapi.dev/api/films/5/',\n",
       "  'https://swapi.dev/api/films/6/'],\n",
       " 'species': [],\n",
       " 'vehicles': ['https://swapi.dev/api/vehicles/38/'],\n",
       " 'starships': ['https://swapi.dev/api/starships/48/',\n",
       "  'https://swapi.dev/api/starships/59/',\n",
       "  'https://swapi.dev/api/starships/64/',\n",
       "  'https://swapi.dev/api/starships/65/',\n",
       "  'https://swapi.dev/api/starships/74/'],\n",
       " 'created': '2014-12-10T16:16:29.192000Z',\n",
       " 'edited': '2014-12-20T21:17:50.325000Z',\n",
       " 'url': 'https://swapi.dev/api/people/10/'}"
      ]
     },
     "execution_count": 5,
     "metadata": {},
     "output_type": "execute_result"
    }
   ],
   "source": [
    "rq.get(f'{base_url}10/').json()"
   ]
  },
  {
   "cell_type": "code",
   "execution_count": 17,
   "id": "6b3fb84d",
   "metadata": {},
   "outputs": [],
   "source": [
    "def get_character(id):\n",
    "    base_url = 'https://swapi.dev/api/people'\n",
    "    try:\n",
    "        content = rq.get(f'{base_url}/{id}').json()\n",
    "    except Exception as e:\n",
    "        print('URL not found!')\n",
    "        return\n",
    "    \n",
    "    referred_fields = ['homeworld', 'films', 'species', 'vehicles', 'starships']\n",
    "    referred_links = dict.fromkeys(referred_fields)\n",
    "    referred_links = {key: [] for key in referred_links.keys()}\n",
    "\n",
    "    for field in referred_fields:\n",
    "        id_values = []\n",
    "        try:\n",
    "            if content[field]:\n",
    "                if field != 'homeworld':\n",
    "                    for link in content[field]:\n",
    "                        if link not in referred_links[field]:\n",
    "                            referred_links[field].append(link)\n",
    "                        id_values.append(int(link.split('/')[-2]))\n",
    "                    content[field] = id_values\n",
    "                # homeworld is a single url string\n",
    "                else:\n",
    "                    if content['homeworld'] not in referred_links['homeworld']:\n",
    "                        referred_links['homeworld'].append(content['homeworld'])\n",
    "                    content[field] = int(content[field].split('/')[-2])\n",
    "            elif field == 'species' and not content[field]:\n",
    "                content[field] = 'human'\n",
    "        except:\n",
    "            print(f\"{field} doesn't exist in character url: {base_url}/{id}\")\n",
    "            pass\n",
    "             \n",
    "    # remove created and edited fields\n",
    "    try:\n",
    "        del(content['created'])\n",
    "        del(content['edited'])\n",
    "    except:\n",
    "        print(f'Keys not found in content! ({base_url}/{id})')\n",
    "    #print(referred_links)\n",
    "    return content, referred_links"
   ]
  },
  {
   "cell_type": "code",
   "execution_count": 7,
   "id": "70365e16",
   "metadata": {},
   "outputs": [
    {
     "name": "stdout",
     "output_type": "stream",
     "text": [
      "{'homeworld': ['https://swapi.dev/api/planets/20/', 'https://swapi.dev/api/films/1/', 'https://swapi.dev/api/films/2/', 'https://swapi.dev/api/films/3/', 'https://swapi.dev/api/films/4/', 'https://swapi.dev/api/films/5/', 'https://swapi.dev/api/films/6/', 'https://swapi.dev/api/vehicles/38/', 'https://swapi.dev/api/starships/48/', 'https://swapi.dev/api/starships/59/', 'https://swapi.dev/api/starships/64/', 'https://swapi.dev/api/starships/65/', 'https://swapi.dev/api/starships/74/'], 'films': ['https://swapi.dev/api/planets/20/', 'https://swapi.dev/api/films/1/', 'https://swapi.dev/api/films/2/', 'https://swapi.dev/api/films/3/', 'https://swapi.dev/api/films/4/', 'https://swapi.dev/api/films/5/', 'https://swapi.dev/api/films/6/', 'https://swapi.dev/api/vehicles/38/', 'https://swapi.dev/api/starships/48/', 'https://swapi.dev/api/starships/59/', 'https://swapi.dev/api/starships/64/', 'https://swapi.dev/api/starships/65/', 'https://swapi.dev/api/starships/74/'], 'species': ['https://swapi.dev/api/planets/20/', 'https://swapi.dev/api/films/1/', 'https://swapi.dev/api/films/2/', 'https://swapi.dev/api/films/3/', 'https://swapi.dev/api/films/4/', 'https://swapi.dev/api/films/5/', 'https://swapi.dev/api/films/6/', 'https://swapi.dev/api/vehicles/38/', 'https://swapi.dev/api/starships/48/', 'https://swapi.dev/api/starships/59/', 'https://swapi.dev/api/starships/64/', 'https://swapi.dev/api/starships/65/', 'https://swapi.dev/api/starships/74/'], 'vehicles': ['https://swapi.dev/api/planets/20/', 'https://swapi.dev/api/films/1/', 'https://swapi.dev/api/films/2/', 'https://swapi.dev/api/films/3/', 'https://swapi.dev/api/films/4/', 'https://swapi.dev/api/films/5/', 'https://swapi.dev/api/films/6/', 'https://swapi.dev/api/vehicles/38/', 'https://swapi.dev/api/starships/48/', 'https://swapi.dev/api/starships/59/', 'https://swapi.dev/api/starships/64/', 'https://swapi.dev/api/starships/65/', 'https://swapi.dev/api/starships/74/'], 'starships': ['https://swapi.dev/api/planets/20/', 'https://swapi.dev/api/films/1/', 'https://swapi.dev/api/films/2/', 'https://swapi.dev/api/films/3/', 'https://swapi.dev/api/films/4/', 'https://swapi.dev/api/films/5/', 'https://swapi.dev/api/films/6/', 'https://swapi.dev/api/vehicles/38/', 'https://swapi.dev/api/starships/48/', 'https://swapi.dev/api/starships/59/', 'https://swapi.dev/api/starships/64/', 'https://swapi.dev/api/starships/65/', 'https://swapi.dev/api/starships/74/']}\n"
     ]
    },
    {
     "data": {
      "text/plain": [
       "({'name': 'Obi-Wan Kenobi',\n",
       "  'height': '182',\n",
       "  'mass': '77',\n",
       "  'hair_color': 'auburn, white',\n",
       "  'skin_color': 'fair',\n",
       "  'eye_color': 'blue-gray',\n",
       "  'birth_year': '57BBY',\n",
       "  'gender': 'male',\n",
       "  'homeworld': 20,\n",
       "  'films': [1, 2, 3, 4, 5, 6],\n",
       "  'species': 'human',\n",
       "  'vehicles': [38],\n",
       "  'starships': [48, 59, 64, 65, 74],\n",
       "  'url': 'https://swapi.dev/api/people/10/'},\n",
       " {'homeworld': ['https://swapi.dev/api/planets/20/',\n",
       "   'https://swapi.dev/api/films/1/',\n",
       "   'https://swapi.dev/api/films/2/',\n",
       "   'https://swapi.dev/api/films/3/',\n",
       "   'https://swapi.dev/api/films/4/',\n",
       "   'https://swapi.dev/api/films/5/',\n",
       "   'https://swapi.dev/api/films/6/',\n",
       "   'https://swapi.dev/api/vehicles/38/',\n",
       "   'https://swapi.dev/api/starships/48/',\n",
       "   'https://swapi.dev/api/starships/59/',\n",
       "   'https://swapi.dev/api/starships/64/',\n",
       "   'https://swapi.dev/api/starships/65/',\n",
       "   'https://swapi.dev/api/starships/74/'],\n",
       "  'films': ['https://swapi.dev/api/planets/20/',\n",
       "   'https://swapi.dev/api/films/1/',\n",
       "   'https://swapi.dev/api/films/2/',\n",
       "   'https://swapi.dev/api/films/3/',\n",
       "   'https://swapi.dev/api/films/4/',\n",
       "   'https://swapi.dev/api/films/5/',\n",
       "   'https://swapi.dev/api/films/6/',\n",
       "   'https://swapi.dev/api/vehicles/38/',\n",
       "   'https://swapi.dev/api/starships/48/',\n",
       "   'https://swapi.dev/api/starships/59/',\n",
       "   'https://swapi.dev/api/starships/64/',\n",
       "   'https://swapi.dev/api/starships/65/',\n",
       "   'https://swapi.dev/api/starships/74/'],\n",
       "  'species': ['https://swapi.dev/api/planets/20/',\n",
       "   'https://swapi.dev/api/films/1/',\n",
       "   'https://swapi.dev/api/films/2/',\n",
       "   'https://swapi.dev/api/films/3/',\n",
       "   'https://swapi.dev/api/films/4/',\n",
       "   'https://swapi.dev/api/films/5/',\n",
       "   'https://swapi.dev/api/films/6/',\n",
       "   'https://swapi.dev/api/vehicles/38/',\n",
       "   'https://swapi.dev/api/starships/48/',\n",
       "   'https://swapi.dev/api/starships/59/',\n",
       "   'https://swapi.dev/api/starships/64/',\n",
       "   'https://swapi.dev/api/starships/65/',\n",
       "   'https://swapi.dev/api/starships/74/'],\n",
       "  'vehicles': ['https://swapi.dev/api/planets/20/',\n",
       "   'https://swapi.dev/api/films/1/',\n",
       "   'https://swapi.dev/api/films/2/',\n",
       "   'https://swapi.dev/api/films/3/',\n",
       "   'https://swapi.dev/api/films/4/',\n",
       "   'https://swapi.dev/api/films/5/',\n",
       "   'https://swapi.dev/api/films/6/',\n",
       "   'https://swapi.dev/api/vehicles/38/',\n",
       "   'https://swapi.dev/api/starships/48/',\n",
       "   'https://swapi.dev/api/starships/59/',\n",
       "   'https://swapi.dev/api/starships/64/',\n",
       "   'https://swapi.dev/api/starships/65/',\n",
       "   'https://swapi.dev/api/starships/74/'],\n",
       "  'starships': ['https://swapi.dev/api/planets/20/',\n",
       "   'https://swapi.dev/api/films/1/',\n",
       "   'https://swapi.dev/api/films/2/',\n",
       "   'https://swapi.dev/api/films/3/',\n",
       "   'https://swapi.dev/api/films/4/',\n",
       "   'https://swapi.dev/api/films/5/',\n",
       "   'https://swapi.dev/api/films/6/',\n",
       "   'https://swapi.dev/api/vehicles/38/',\n",
       "   'https://swapi.dev/api/starships/48/',\n",
       "   'https://swapi.dev/api/starships/59/',\n",
       "   'https://swapi.dev/api/starships/64/',\n",
       "   'https://swapi.dev/api/starships/65/',\n",
       "   'https://swapi.dev/api/starships/74/']})"
      ]
     },
     "execution_count": 7,
     "metadata": {},
     "output_type": "execute_result"
    }
   ],
   "source": [
    "get_character(10)"
   ]
  },
  {
   "cell_type": "markdown",
   "id": "b7de1cca",
   "metadata": {},
   "source": [
    "Scrapping takes "
   ]
  },
  {
   "cell_type": "code",
   "execution_count": 18,
   "id": "ce2220e1",
   "metadata": {},
   "outputs": [],
   "source": [
    "referred_links = {}\n",
    "character_list = []\n",
    "for id in range(1,10):\n",
    "    char, ref = get_character(id)\n",
    "    character_list.append(char)\n",
    "    referred_links = {**referred_links, **ref}"
   ]
  },
  {
   "cell_type": "code",
   "execution_count": 19,
   "id": "971b17f8",
   "metadata": {},
   "outputs": [
    {
     "data": {
      "text/plain": [
       "{'homeworld': ['https://swapi.dev/api/planets/1/'],\n",
       " 'films': ['https://swapi.dev/api/films/1/'],\n",
       " 'species': [],\n",
       " 'vehicles': [],\n",
       " 'starships': ['https://swapi.dev/api/starships/12/']}"
      ]
     },
     "execution_count": 19,
     "metadata": {},
     "output_type": "execute_result"
    }
   ],
   "source": [
    "referred_links"
   ]
  },
  {
   "cell_type": "code",
   "execution_count": null,
   "id": "10740916",
   "metadata": {},
   "outputs": [
    {
     "name": "stdout",
     "output_type": "stream",
     "text": [
      "{'homeworld': ['https://swapi.dev/api/planets/1/'], 'films': ['https://swapi.dev/api/films/1/', 'https://swapi.dev/api/films/2/', 'https://swapi.dev/api/films/3/', 'https://swapi.dev/api/films/6/'], 'species': [], 'vehicles': ['https://swapi.dev/api/vehicles/14/', 'https://swapi.dev/api/vehicles/30/'], 'starships': ['https://swapi.dev/api/starships/12/', 'https://swapi.dev/api/starships/22/']}\n",
      "{'homeworld': ['https://swapi.dev/api/planets/1/'], 'films': ['https://swapi.dev/api/films/1/', 'https://swapi.dev/api/films/2/', 'https://swapi.dev/api/films/3/', 'https://swapi.dev/api/films/4/', 'https://swapi.dev/api/films/5/', 'https://swapi.dev/api/films/6/'], 'species': ['https://swapi.dev/api/species/2/'], 'vehicles': [], 'starships': []}\n",
      "{'homeworld': ['https://swapi.dev/api/planets/8/'], 'films': ['https://swapi.dev/api/films/1/', 'https://swapi.dev/api/films/2/', 'https://swapi.dev/api/films/3/', 'https://swapi.dev/api/films/4/', 'https://swapi.dev/api/films/5/', 'https://swapi.dev/api/films/6/'], 'species': ['https://swapi.dev/api/species/2/'], 'vehicles': [], 'starships': []}\n",
      "{'homeworld': ['https://swapi.dev/api/planets/1/'], 'films': ['https://swapi.dev/api/films/1/', 'https://swapi.dev/api/films/2/', 'https://swapi.dev/api/films/3/', 'https://swapi.dev/api/films/6/'], 'species': [], 'vehicles': [], 'starships': ['https://swapi.dev/api/starships/13/']}\n",
      "{'homeworld': ['https://swapi.dev/api/planets/2/'], 'films': ['https://swapi.dev/api/films/1/', 'https://swapi.dev/api/films/2/', 'https://swapi.dev/api/films/3/', 'https://swapi.dev/api/films/6/'], 'species': [], 'vehicles': ['https://swapi.dev/api/vehicles/30/'], 'starships': []}\n",
      "{'homeworld': ['https://swapi.dev/api/planets/1/'], 'films': ['https://swapi.dev/api/films/1/', 'https://swapi.dev/api/films/5/', 'https://swapi.dev/api/films/6/'], 'species': [], 'vehicles': [], 'starships': []}\n",
      "{'homeworld': ['https://swapi.dev/api/planets/1/'], 'films': ['https://swapi.dev/api/films/1/', 'https://swapi.dev/api/films/5/', 'https://swapi.dev/api/films/6/'], 'species': [], 'vehicles': [], 'starships': []}\n",
      "{'homeworld': ['https://swapi.dev/api/planets/1/'], 'films': ['https://swapi.dev/api/films/1/'], 'species': ['https://swapi.dev/api/species/2/'], 'vehicles': [], 'starships': []}\n",
      "{'homeworld': ['https://swapi.dev/api/planets/1/'], 'films': ['https://swapi.dev/api/films/1/'], 'species': [], 'vehicles': [], 'starships': ['https://swapi.dev/api/starships/12/']}\n",
      "{'homeworld': ['https://swapi.dev/api/planets/20/'], 'films': ['https://swapi.dev/api/films/1/', 'https://swapi.dev/api/films/2/', 'https://swapi.dev/api/films/3/', 'https://swapi.dev/api/films/4/', 'https://swapi.dev/api/films/5/', 'https://swapi.dev/api/films/6/'], 'species': [], 'vehicles': ['https://swapi.dev/api/vehicles/38/'], 'starships': ['https://swapi.dev/api/starships/48/', 'https://swapi.dev/api/starships/59/', 'https://swapi.dev/api/starships/64/', 'https://swapi.dev/api/starships/65/', 'https://swapi.dev/api/starships/74/']}\n",
      "{'homeworld': ['https://swapi.dev/api/planets/1/'], 'films': ['https://swapi.dev/api/films/4/', 'https://swapi.dev/api/films/5/', 'https://swapi.dev/api/films/6/'], 'species': [], 'vehicles': ['https://swapi.dev/api/vehicles/44/', 'https://swapi.dev/api/vehicles/46/'], 'starships': ['https://swapi.dev/api/starships/39/', 'https://swapi.dev/api/starships/59/', 'https://swapi.dev/api/starships/65/']}\n",
      "{'homeworld': ['https://swapi.dev/api/planets/21/'], 'films': ['https://swapi.dev/api/films/1/', 'https://swapi.dev/api/films/6/'], 'species': [], 'vehicles': [], 'starships': []}\n",
      "{'homeworld': ['https://swapi.dev/api/planets/14/'], 'films': ['https://swapi.dev/api/films/1/', 'https://swapi.dev/api/films/2/', 'https://swapi.dev/api/films/3/', 'https://swapi.dev/api/films/6/'], 'species': ['https://swapi.dev/api/species/3/'], 'vehicles': ['https://swapi.dev/api/vehicles/19/'], 'starships': ['https://swapi.dev/api/starships/10/', 'https://swapi.dev/api/starships/22/']}\n",
      "{'homeworld': ['https://swapi.dev/api/planets/22/'], 'films': ['https://swapi.dev/api/films/1/', 'https://swapi.dev/api/films/2/', 'https://swapi.dev/api/films/3/'], 'species': [], 'vehicles': [], 'starships': ['https://swapi.dev/api/starships/10/', 'https://swapi.dev/api/starships/22/']}\n",
      "{'homeworld': ['https://swapi.dev/api/planets/23/'], 'films': ['https://swapi.dev/api/films/1/'], 'species': ['https://swapi.dev/api/species/4/'], 'vehicles': [], 'starships': []}\n",
      "{'homeworld': ['https://swapi.dev/api/planets/24/'], 'films': ['https://swapi.dev/api/films/1/', 'https://swapi.dev/api/films/3/', 'https://swapi.dev/api/films/4/'], 'species': ['https://swapi.dev/api/species/5/'], 'vehicles': [], 'starships': []}\n",
      "homeworld doesn't exist in character url: https://swapi.dev/api/people/17\n",
      "films doesn't exist in character url: https://swapi.dev/api/people/17\n",
      "species doesn't exist in character url: https://swapi.dev/api/people/17\n",
      "vehicles doesn't exist in character url: https://swapi.dev/api/people/17\n",
      "starships doesn't exist in character url: https://swapi.dev/api/people/17\n",
      "Keys not found in content! (https://swapi.dev/api/people/17)\n",
      "{'homeworld': [], 'films': [], 'species': [], 'vehicles': [], 'starships': []}\n",
      "{'homeworld': ['https://swapi.dev/api/planets/22/'], 'films': ['https://swapi.dev/api/films/1/', 'https://swapi.dev/api/films/2/', 'https://swapi.dev/api/films/3/'], 'species': [], 'vehicles': ['https://swapi.dev/api/vehicles/14/'], 'starships': ['https://swapi.dev/api/starships/12/']}\n",
      "{'homeworld': ['https://swapi.dev/api/planets/26/'], 'films': ['https://swapi.dev/api/films/1/'], 'species': [], 'vehicles': [], 'starships': ['https://swapi.dev/api/starships/12/']}\n",
      "{'homeworld': ['https://swapi.dev/api/planets/28/'], 'films': ['https://swapi.dev/api/films/2/', 'https://swapi.dev/api/films/3/', 'https://swapi.dev/api/films/4/', 'https://swapi.dev/api/films/5/', 'https://swapi.dev/api/films/6/'], 'species': ['https://swapi.dev/api/species/6/'], 'vehicles': [], 'starships': []}\n",
      "{'homeworld': ['https://swapi.dev/api/planets/8/'], 'films': ['https://swapi.dev/api/films/2/', 'https://swapi.dev/api/films/3/', 'https://swapi.dev/api/films/4/', 'https://swapi.dev/api/films/5/', 'https://swapi.dev/api/films/6/'], 'species': [], 'vehicles': [], 'starships': []}\n",
      "{'homeworld': ['https://swapi.dev/api/planets/10/'], 'films': ['https://swapi.dev/api/films/2/', 'https://swapi.dev/api/films/3/', 'https://swapi.dev/api/films/5/'], 'species': [], 'vehicles': [], 'starships': ['https://swapi.dev/api/starships/21/']}\n",
      "{'homeworld': ['https://swapi.dev/api/planets/28/'], 'films': ['https://swapi.dev/api/films/2/'], 'species': ['https://swapi.dev/api/species/2/'], 'vehicles': [], 'starships': []}\n",
      "{'homeworld': ['https://swapi.dev/api/planets/29/'], 'films': ['https://swapi.dev/api/films/2/'], 'species': ['https://swapi.dev/api/species/7/'], 'vehicles': [], 'starships': []}\n",
      "{'homeworld': ['https://swapi.dev/api/planets/30/'], 'films': ['https://swapi.dev/api/films/2/', 'https://swapi.dev/api/films/3/'], 'species': [], 'vehicles': [], 'starships': ['https://swapi.dev/api/starships/10/']}\n",
      "{'homeworld': ['https://swapi.dev/api/planets/6/'], 'films': ['https://swapi.dev/api/films/2/'], 'species': [], 'vehicles': [], 'starships': []}\n",
      "{'homeworld': ['https://swapi.dev/api/planets/31/'], 'films': ['https://swapi.dev/api/films/3/'], 'species': ['https://swapi.dev/api/species/8/'], 'vehicles': [], 'starships': []}\n",
      "{'homeworld': ['https://swapi.dev/api/planets/32/'], 'films': ['https://swapi.dev/api/films/3/'], 'species': [], 'vehicles': [], 'starships': []}\n",
      "{'homeworld': ['https://swapi.dev/api/planets/28/'], 'films': ['https://swapi.dev/api/films/3/'], 'species': [], 'vehicles': [], 'starships': ['https://swapi.dev/api/starships/28/']}\n",
      "{'homeworld': ['https://swapi.dev/api/planets/7/'], 'films': ['https://swapi.dev/api/films/3/'], 'species': ['https://swapi.dev/api/species/9/'], 'vehicles': [], 'starships': []}\n",
      "{'homeworld': ['https://swapi.dev/api/planets/33/'], 'films': ['https://swapi.dev/api/films/3/'], 'species': ['https://swapi.dev/api/species/10/'], 'vehicles': [], 'starships': ['https://swapi.dev/api/starships/10/']}\n",
      "{'homeworld': ['https://swapi.dev/api/planets/28/'], 'films': ['https://swapi.dev/api/films/4/'], 'species': [], 'vehicles': ['https://swapi.dev/api/vehicles/38/'], 'starships': []}\n",
      "{'homeworld': ['https://swapi.dev/api/planets/18/'], 'films': ['https://swapi.dev/api/films/4/', 'https://swapi.dev/api/films/5/', 'https://swapi.dev/api/films/6/'], 'species': ['https://swapi.dev/api/species/11/'], 'vehicles': [], 'starships': []}\n",
      "{'homeworld': ['https://swapi.dev/api/planets/9/'], 'films': ['https://swapi.dev/api/films/4/'], 'species': [], 'vehicles': [], 'starships': []}\n",
      "{'homeworld': ['https://swapi.dev/api/planets/8/'], 'films': ['https://swapi.dev/api/films/4/', 'https://swapi.dev/api/films/5/', 'https://swapi.dev/api/films/6/'], 'species': [], 'vehicles': [], 'starships': ['https://swapi.dev/api/starships/39/', 'https://swapi.dev/api/starships/49/', 'https://swapi.dev/api/starships/64/']}\n",
      "{'homeworld': ['https://swapi.dev/api/planets/8/'], 'films': ['https://swapi.dev/api/films/4/', 'https://swapi.dev/api/films/5/'], 'species': ['https://swapi.dev/api/species/12/'], 'vehicles': [], 'starships': []}\n",
      "{'homeworld': ['https://swapi.dev/api/planets/8/'], 'films': ['https://swapi.dev/api/films/4/'], 'species': ['https://swapi.dev/api/species/12/'], 'vehicles': [], 'starships': []}\n",
      "{'homeworld': ['https://swapi.dev/api/planets/8/'], 'films': ['https://swapi.dev/api/films/4/'], 'species': ['https://swapi.dev/api/species/12/'], 'vehicles': [], 'starships': []}\n",
      "{'homeworld': ['https://swapi.dev/api/planets/8/'], 'films': ['https://swapi.dev/api/films/4/'], 'species': [], 'vehicles': [], 'starships': ['https://swapi.dev/api/starships/40/']}\n",
      "{'homeworld': ['https://swapi.dev/api/planets/34/'], 'films': ['https://swapi.dev/api/films/4/', 'https://swapi.dev/api/films/5/'], 'species': ['https://swapi.dev/api/species/13/'], 'vehicles': [], 'starships': []}\n",
      "{'homeworld': ['https://swapi.dev/api/planets/35/'], 'films': ['https://swapi.dev/api/films/4/'], 'species': ['https://swapi.dev/api/species/14/'], 'vehicles': [], 'starships': []}\n",
      "{'homeworld': ['https://swapi.dev/api/planets/8/'], 'films': ['https://swapi.dev/api/films/4/'], 'species': [], 'vehicles': [], 'starships': []}\n",
      "{'homeworld': ['https://swapi.dev/api/planets/1/'], 'films': ['https://swapi.dev/api/films/4/', 'https://swapi.dev/api/films/5/'], 'species': [], 'vehicles': [], 'starships': []}\n",
      "{'homeworld': ['https://swapi.dev/api/planets/36/'], 'films': ['https://swapi.dev/api/films/4/'], 'species': ['https://swapi.dev/api/species/22/'], 'vehicles': ['https://swapi.dev/api/vehicles/42/'], 'starships': ['https://swapi.dev/api/starships/41/']}\n",
      "{'homeworld': ['https://swapi.dev/api/planets/37/'], 'films': ['https://swapi.dev/api/films/3/'], 'species': ['https://swapi.dev/api/species/15/'], 'vehicles': [], 'starships': []}\n",
      "{'homeworld': ['https://swapi.dev/api/planets/37/'], 'films': ['https://swapi.dev/api/films/4/', 'https://swapi.dev/api/films/5/', 'https://swapi.dev/api/films/6/'], 'species': ['https://swapi.dev/api/species/15/'], 'vehicles': [], 'starships': []}\n",
      "{'homeworld': ['https://swapi.dev/api/planets/38/'], 'films': ['https://swapi.dev/api/films/4/'], 'species': ['https://swapi.dev/api/species/16/'], 'vehicles': [], 'starships': []}\n",
      "{'homeworld': ['https://swapi.dev/api/planets/39/'], 'films': ['https://swapi.dev/api/films/4/'], 'species': ['https://swapi.dev/api/species/17/'], 'vehicles': [], 'starships': []}\n",
      "{'homeworld': ['https://swapi.dev/api/planets/40/'], 'films': ['https://swapi.dev/api/films/4/'], 'species': ['https://swapi.dev/api/species/18/'], 'vehicles': [], 'starships': []}\n",
      "{'homeworld': ['https://swapi.dev/api/planets/41/'], 'films': ['https://swapi.dev/api/films/4/'], 'species': ['https://swapi.dev/api/species/19/'], 'vehicles': [], 'starships': []}\n",
      "{'homeworld': ['https://swapi.dev/api/planets/42/'], 'films': ['https://swapi.dev/api/films/4/', 'https://swapi.dev/api/films/5/', 'https://swapi.dev/api/films/6/'], 'species': [], 'vehicles': [], 'starships': []}\n",
      "{'homeworld': ['https://swapi.dev/api/planets/43/'], 'films': ['https://swapi.dev/api/films/4/', 'https://swapi.dev/api/films/5/', 'https://swapi.dev/api/films/6/'], 'species': ['https://swapi.dev/api/species/20/'], 'vehicles': [], 'starships': []}\n",
      "{'homeworld': ['https://swapi.dev/api/planets/44/'], 'films': ['https://swapi.dev/api/films/4/', 'https://swapi.dev/api/films/5/', 'https://swapi.dev/api/films/6/'], 'species': ['https://swapi.dev/api/species/21/'], 'vehicles': [], 'starships': []}\n",
      "{'homeworld': ['https://swapi.dev/api/planets/45/'], 'films': ['https://swapi.dev/api/films/4/', 'https://swapi.dev/api/films/6/'], 'species': ['https://swapi.dev/api/species/22/'], 'vehicles': [], 'starships': []}\n",
      "{'homeworld': ['https://swapi.dev/api/planets/9/'], 'films': ['https://swapi.dev/api/films/4/', 'https://swapi.dev/api/films/6/'], 'species': ['https://swapi.dev/api/species/23/'], 'vehicles': [], 'starships': []}\n",
      "{'homeworld': ['https://swapi.dev/api/planets/47/'], 'films': ['https://swapi.dev/api/films/4/', 'https://swapi.dev/api/films/6/'], 'species': ['https://swapi.dev/api/species/24/'], 'vehicles': [], 'starships': []}\n",
      "{'homeworld': ['https://swapi.dev/api/planets/48/'], 'films': ['https://swapi.dev/api/films/4/'], 'species': ['https://swapi.dev/api/species/25/'], 'vehicles': [], 'starships': []}\n",
      "{'homeworld': ['https://swapi.dev/api/planets/49/'], 'films': ['https://swapi.dev/api/films/4/', 'https://swapi.dev/api/films/5/', 'https://swapi.dev/api/films/6/'], 'species': ['https://swapi.dev/api/species/26/'], 'vehicles': [], 'starships': ['https://swapi.dev/api/starships/48/']}\n",
      "{'homeworld': ['https://swapi.dev/api/planets/50/'], 'films': ['https://swapi.dev/api/films/4/', 'https://swapi.dev/api/films/5/'], 'species': ['https://swapi.dev/api/species/27/'], 'vehicles': [], 'starships': []}\n",
      "{'homeworld': ['https://swapi.dev/api/planets/8/'], 'films': ['https://swapi.dev/api/films/5/'], 'species': [], 'vehicles': [], 'starships': ['https://swapi.dev/api/starships/39/']}\n",
      "{'homeworld': ['https://swapi.dev/api/planets/8/'], 'films': ['https://swapi.dev/api/films/5/'], 'species': [], 'vehicles': [], 'starships': []}\n",
      "{'homeworld': ['https://swapi.dev/api/planets/1/'], 'films': ['https://swapi.dev/api/films/5/'], 'species': [], 'vehicles': [], 'starships': []}\n",
      "{'homeworld': ['https://swapi.dev/api/planets/11/'], 'films': ['https://swapi.dev/api/films/5/', 'https://swapi.dev/api/films/6/'], 'species': ['https://swapi.dev/api/species/28/'], 'vehicles': [], 'starships': []}\n",
      "{'homeworld': ['https://swapi.dev/api/planets/51/'], 'films': ['https://swapi.dev/api/films/5/', 'https://swapi.dev/api/films/6/'], 'species': ['https://swapi.dev/api/species/29/'], 'vehicles': [], 'starships': []}\n",
      "{'homeworld': ['https://swapi.dev/api/planets/51/'], 'films': ['https://swapi.dev/api/films/5/'], 'species': ['https://swapi.dev/api/species/29/'], 'vehicles': [], 'starships': []}\n",
      "{'homeworld': ['https://swapi.dev/api/planets/8/'], 'films': ['https://swapi.dev/api/films/5/'], 'species': ['https://swapi.dev/api/species/1/'], 'vehicles': [], 'starships': []}\n",
      "{'homeworld': ['https://swapi.dev/api/planets/52/'], 'films': ['https://swapi.dev/api/films/5/', 'https://swapi.dev/api/films/6/'], 'species': ['https://swapi.dev/api/species/1/'], 'vehicles': ['https://swapi.dev/api/vehicles/55/'], 'starships': []}\n",
      "{'homeworld': ['https://swapi.dev/api/planets/2/'], 'films': ['https://swapi.dev/api/films/5/', 'https://swapi.dev/api/films/6/'], 'species': ['https://swapi.dev/api/species/1/'], 'vehicles': [], 'starships': []}\n",
      "{'homeworld': ['https://swapi.dev/api/planets/53/'], 'films': ['https://swapi.dev/api/films/5/'], 'species': [], 'vehicles': [], 'starships': []}\n",
      "{'homeworld': ['https://swapi.dev/api/planets/54/'], 'films': ['https://swapi.dev/api/films/5/'], 'species': ['https://swapi.dev/api/species/30/'], 'vehicles': ['https://swapi.dev/api/vehicles/45/'], 'starships': []}\n",
      "{'homeworld': ['https://swapi.dev/api/planets/55/'], 'films': ['https://swapi.dev/api/films/5/'], 'species': ['https://swapi.dev/api/species/31/'], 'vehicles': [], 'starships': []}\n",
      "{'homeworld': ['https://swapi.dev/api/planets/10/'], 'films': ['https://swapi.dev/api/films/5/'], 'species': ['https://swapi.dev/api/species/32/'], 'vehicles': [], 'starships': []}\n",
      "{'homeworld': ['https://swapi.dev/api/planets/10/'], 'films': ['https://swapi.dev/api/films/5/'], 'species': ['https://swapi.dev/api/species/32/'], 'vehicles': [], 'starships': []}\n",
      "{'homeworld': ['https://swapi.dev/api/planets/9/'], 'films': ['https://swapi.dev/api/films/5/'], 'species': ['https://swapi.dev/api/species/1/'], 'vehicles': [], 'starships': []}\n",
      "{'homeworld': ['https://swapi.dev/api/planets/28/'], 'films': ['https://swapi.dev/api/films/5/', 'https://swapi.dev/api/films/6/'], 'species': [], 'vehicles': [], 'starships': []}\n",
      "{'homeworld': ['https://swapi.dev/api/planets/56/'], 'films': ['https://swapi.dev/api/films/5/'], 'species': ['https://swapi.dev/api/species/33/'], 'vehicles': [], 'starships': []}\n",
      "{'homeworld': ['https://swapi.dev/api/planets/57/'], 'films': ['https://swapi.dev/api/films/5/'], 'species': ['https://swapi.dev/api/species/34/'], 'vehicles': [], 'starships': []}\n",
      "{'homeworld': ['https://swapi.dev/api/planets/58/'], 'films': ['https://swapi.dev/api/films/5/', 'https://swapi.dev/api/films/6/'], 'species': ['https://swapi.dev/api/species/35/'], 'vehicles': [], 'starships': []}\n",
      "{'homeworld': ['https://swapi.dev/api/planets/59/'], 'films': ['https://swapi.dev/api/films/6/'], 'species': ['https://swapi.dev/api/species/36/'], 'vehicles': ['https://swapi.dev/api/vehicles/60/'], 'starships': ['https://swapi.dev/api/starships/74/']}\n",
      "{'homeworld': ['https://swapi.dev/api/planets/14/'], 'films': ['https://swapi.dev/api/films/6/'], 'species': ['https://swapi.dev/api/species/3/'], 'vehicles': [], 'starships': []}\n",
      "{'homeworld': ['https://swapi.dev/api/planets/2/'], 'films': ['https://swapi.dev/api/films/1/', 'https://swapi.dev/api/films/6/'], 'species': [], 'vehicles': [], 'starships': []}\n",
      "{'homeworld': ['https://swapi.dev/api/planets/60/'], 'films': ['https://swapi.dev/api/films/5/', 'https://swapi.dev/api/films/6/'], 'species': [], 'vehicles': [], 'starships': []}\n"
     ]
    },
    {
     "ename": "ValueError",
     "evalue": "too many values to unpack (expected 2)",
     "output_type": "error",
     "traceback": [
      "\u001b[31m---------------------------------------------------------------------------\u001b[39m\n",
      "\u001b[31mValueError\u001b[39m                                Traceback (most recent call last)\n",
      "\u001b[36mCell\u001b[39m\u001b[36m \u001b[39m\u001b[32mIn[11]\u001b[39m\u001b[32m, line 1\u001b[39m\n",
      "\u001b[32m----> \u001b[39m\u001b[32m1\u001b[39m characters_list, referred_links = [get_character(\u001b[38;5;28mid\u001b[39m) \u001b[38;5;28;01mfor\u001b[39;00m \u001b[38;5;28mid\u001b[39m \u001b[38;5;129;01min\u001b[39;00m \u001b[38;5;28mrange\u001b[39m(\u001b[32m1\u001b[39m,\u001b[32m83\u001b[39m)]\n",
      "\n",
      "\u001b[31mValueError\u001b[39m: too many values to unpack (expected 2)"
     ]
    }
   ],
   "source": [
    "characters_list, referred_links = [get_character(id) for id in range(1,83)]"
   ]
  },
  {
   "cell_type": "code",
   "execution_count": null,
   "id": "864c7cb8",
   "metadata": {},
   "outputs": [],
   "source": [
    "referred_links"
   ]
  },
  {
   "cell_type": "code",
   "execution_count": 19,
   "id": "2585ff0e",
   "metadata": {},
   "outputs": [
    {
     "name": "stdout",
     "output_type": "stream",
     "text": [
      "Details found in character with id: 17\n"
     ]
    }
   ],
   "source": [
    "for index, value in enumerate(characters_list):\n",
    "    if 'detail' in value.keys():\n",
    "        print(f'Details found in character with id: {index + 1}')"
   ]
  },
  {
   "cell_type": "markdown",
   "id": "e63ba195",
   "metadata": {},
   "source": [
    "Remove character with id 17. It's a valid url!"
   ]
  },
  {
   "cell_type": "code",
   "execution_count": 27,
   "id": "4d037145",
   "metadata": {},
   "outputs": [],
   "source": [
    "del characters_list[16]"
   ]
  },
  {
   "cell_type": "code",
   "execution_count": 28,
   "id": "314be145",
   "metadata": {},
   "outputs": [],
   "source": [
    "df = pd.DataFrame(characters_list)"
   ]
  },
  {
   "cell_type": "code",
   "execution_count": 30,
   "id": "66b98331",
   "metadata": {},
   "outputs": [
    {
     "data": {
      "text/html": [
       "<div>\n",
       "<style scoped>\n",
       "    .dataframe tbody tr th:only-of-type {\n",
       "        vertical-align: middle;\n",
       "    }\n",
       "\n",
       "    .dataframe tbody tr th {\n",
       "        vertical-align: top;\n",
       "    }\n",
       "\n",
       "    .dataframe thead th {\n",
       "        text-align: right;\n",
       "    }\n",
       "</style>\n",
       "<table border=\"1\" class=\"dataframe\">\n",
       "  <thead>\n",
       "    <tr style=\"text-align: right;\">\n",
       "      <th></th>\n",
       "      <th>name</th>\n",
       "      <th>height</th>\n",
       "      <th>mass</th>\n",
       "      <th>hair_color</th>\n",
       "      <th>skin_color</th>\n",
       "      <th>eye_color</th>\n",
       "      <th>birth_year</th>\n",
       "      <th>gender</th>\n",
       "      <th>homeworld</th>\n",
       "      <th>films</th>\n",
       "      <th>species</th>\n",
       "      <th>vehicles</th>\n",
       "      <th>starships</th>\n",
       "      <th>url</th>\n",
       "    </tr>\n",
       "  </thead>\n",
       "  <tbody>\n",
       "    <tr>\n",
       "      <th>0</th>\n",
       "      <td>Luke Skywalker</td>\n",
       "      <td>172</td>\n",
       "      <td>77</td>\n",
       "      <td>blond</td>\n",
       "      <td>fair</td>\n",
       "      <td>blue</td>\n",
       "      <td>19BBY</td>\n",
       "      <td>male</td>\n",
       "      <td>1</td>\n",
       "      <td>[1, 2, 3, 6]</td>\n",
       "      <td>human</td>\n",
       "      <td>[14, 30]</td>\n",
       "      <td>[12, 22]</td>\n",
       "      <td>https://swapi.dev/api/people/1/</td>\n",
       "    </tr>\n",
       "    <tr>\n",
       "      <th>1</th>\n",
       "      <td>C-3PO</td>\n",
       "      <td>167</td>\n",
       "      <td>75</td>\n",
       "      <td>n/a</td>\n",
       "      <td>gold</td>\n",
       "      <td>yellow</td>\n",
       "      <td>112BBY</td>\n",
       "      <td>n/a</td>\n",
       "      <td>1</td>\n",
       "      <td>[1, 2, 3, 4, 5, 6]</td>\n",
       "      <td>[2]</td>\n",
       "      <td>[]</td>\n",
       "      <td>[]</td>\n",
       "      <td>https://swapi.dev/api/people/2/</td>\n",
       "    </tr>\n",
       "    <tr>\n",
       "      <th>2</th>\n",
       "      <td>R2-D2</td>\n",
       "      <td>96</td>\n",
       "      <td>32</td>\n",
       "      <td>n/a</td>\n",
       "      <td>white, blue</td>\n",
       "      <td>red</td>\n",
       "      <td>33BBY</td>\n",
       "      <td>n/a</td>\n",
       "      <td>8</td>\n",
       "      <td>[1, 2, 3, 4, 5, 6]</td>\n",
       "      <td>[2]</td>\n",
       "      <td>[]</td>\n",
       "      <td>[]</td>\n",
       "      <td>https://swapi.dev/api/people/3/</td>\n",
       "    </tr>\n",
       "    <tr>\n",
       "      <th>3</th>\n",
       "      <td>Darth Vader</td>\n",
       "      <td>202</td>\n",
       "      <td>136</td>\n",
       "      <td>none</td>\n",
       "      <td>white</td>\n",
       "      <td>yellow</td>\n",
       "      <td>41.9BBY</td>\n",
       "      <td>male</td>\n",
       "      <td>1</td>\n",
       "      <td>[1, 2, 3, 6]</td>\n",
       "      <td>human</td>\n",
       "      <td>[]</td>\n",
       "      <td>[13]</td>\n",
       "      <td>https://swapi.dev/api/people/4/</td>\n",
       "    </tr>\n",
       "    <tr>\n",
       "      <th>4</th>\n",
       "      <td>Leia Organa</td>\n",
       "      <td>150</td>\n",
       "      <td>49</td>\n",
       "      <td>brown</td>\n",
       "      <td>light</td>\n",
       "      <td>brown</td>\n",
       "      <td>19BBY</td>\n",
       "      <td>female</td>\n",
       "      <td>2</td>\n",
       "      <td>[1, 2, 3, 6]</td>\n",
       "      <td>human</td>\n",
       "      <td>[30]</td>\n",
       "      <td>[]</td>\n",
       "      <td>https://swapi.dev/api/people/5/</td>\n",
       "    </tr>\n",
       "  </tbody>\n",
       "</table>\n",
       "</div>"
      ],
      "text/plain": [
       "             name height mass hair_color   skin_color eye_color birth_year  \\\n",
       "0  Luke Skywalker    172   77      blond         fair      blue      19BBY   \n",
       "1           C-3PO    167   75        n/a         gold    yellow     112BBY   \n",
       "2           R2-D2     96   32        n/a  white, blue       red      33BBY   \n",
       "3     Darth Vader    202  136       none        white    yellow    41.9BBY   \n",
       "4     Leia Organa    150   49      brown        light     brown      19BBY   \n",
       "\n",
       "   gender  homeworld               films species  vehicles starships  \\\n",
       "0    male          1        [1, 2, 3, 6]   human  [14, 30]  [12, 22]   \n",
       "1     n/a          1  [1, 2, 3, 4, 5, 6]     [2]        []        []   \n",
       "2     n/a          8  [1, 2, 3, 4, 5, 6]     [2]        []        []   \n",
       "3    male          1        [1, 2, 3, 6]   human        []      [13]   \n",
       "4  female          2        [1, 2, 3, 6]   human      [30]        []   \n",
       "\n",
       "                               url  \n",
       "0  https://swapi.dev/api/people/1/  \n",
       "1  https://swapi.dev/api/people/2/  \n",
       "2  https://swapi.dev/api/people/3/  \n",
       "3  https://swapi.dev/api/people/4/  \n",
       "4  https://swapi.dev/api/people/5/  "
      ]
     },
     "execution_count": 30,
     "metadata": {},
     "output_type": "execute_result"
    }
   ],
   "source": [
    "df.head()"
   ]
  },
  {
   "cell_type": "code",
   "execution_count": 31,
   "id": "7bb7286e",
   "metadata": {},
   "outputs": [
    {
     "data": {
      "text/plain": [
       "(81, 14)"
      ]
     },
     "execution_count": 31,
     "metadata": {},
     "output_type": "execute_result"
    }
   ],
   "source": [
    "df.shape"
   ]
  },
  {
   "cell_type": "code",
   "execution_count": 32,
   "id": "73c52137",
   "metadata": {},
   "outputs": [],
   "source": [
    "df.to_csv('sw_characters.csv')"
   ]
  },
  {
   "cell_type": "code",
   "execution_count": null,
   "id": "6da5808d",
   "metadata": {},
   "outputs": [],
   "source": []
  }
 ],
 "metadata": {
  "kernelspec": {
   "display_name": "venv",
   "language": "python",
   "name": "python3"
  },
  "language_info": {
   "codemirror_mode": {
    "name": "ipython",
    "version": 3
   },
   "file_extension": ".py",
   "mimetype": "text/x-python",
   "name": "python",
   "nbconvert_exporter": "python",
   "pygments_lexer": "ipython3",
   "version": "3.13.7"
  }
 },
 "nbformat": 4,
 "nbformat_minor": 5
}
