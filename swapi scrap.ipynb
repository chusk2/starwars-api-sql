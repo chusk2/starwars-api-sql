{
 "cells": [
  {
   "cell_type": "markdown",
   "id": "98d76d35",
   "metadata": {},
   "source": [
    "# Imports"
   ]
  },
  {
   "cell_type": "code",
   "execution_count": 1,
   "id": "545f0530",
   "metadata": {},
   "outputs": [],
   "source": [
    "import requests as rq\n",
    "import pandas as pd\n",
    "import os\n",
    "import numpy as np\n",
    "import json\n",
    "from dotenv import load_dotenv\n",
    "from sqlalchemy import create_engine\n",
    "import copy"
   ]
  },
  {
   "cell_type": "code",
   "execution_count": 2,
   "id": "737cb8f8",
   "metadata": {},
   "outputs": [],
   "source": [
    "def show_cols(dict_):\n",
    "    for cat in dict_.keys():\n",
    "        print(f'\\n\\nCategory: {cat}')\n",
    "        print(*[ i for i in dict_[cat].columns], sep = '\\n')"
   ]
  },
  {
   "cell_type": "markdown",
   "id": "3fb05040",
   "metadata": {},
   "source": [
    "## Definitions"
   ]
  },
  {
   "cell_type": "code",
   "execution_count": 3,
   "id": "f43cf78c",
   "metadata": {},
   "outputs": [],
   "source": [
    "base_urls = {\n",
    "    \"films\": \"https://swapi.dev/api/films/\",\n",
    "    \"people\": \"https://swapi.dev/api/people/\",\n",
    "    \"planets\": \"https://swapi.dev/api/planets/\",\n",
    "    \"species\": \"https://swapi.dev/api/species/\",\n",
    "    \"starships\": \"https://swapi.dev/api/starships/\",\n",
    "    \"vehicles\": \"https://swapi.dev/api/vehicles/\"\n",
    "}"
   ]
  },
  {
   "cell_type": "code",
   "execution_count": 4,
   "id": "2db40ed4",
   "metadata": {},
   "outputs": [
    {
     "data": {
      "text/plain": [
       "['films', 'people', 'planets', 'species', 'starships', 'vehicles']"
      ]
     },
     "execution_count": 4,
     "metadata": {},
     "output_type": "execute_result"
    }
   ],
   "source": [
    "categories = list(base_urls.keys())\n",
    "categories"
   ]
  },
  {
   "cell_type": "markdown",
   "id": "cca32684",
   "metadata": {},
   "source": [
    "Each category has different fields that contain information in the form of an url. I will extract the page id from those fields for each category. "
   ]
  },
  {
   "cell_type": "code",
   "execution_count": 5,
   "id": "7ae41e05",
   "metadata": {},
   "outputs": [],
   "source": [
    "fields = {\n",
    "    'films' : [\"characters\", \"planets\", \"starships\", \"vehicles\", \"species\"],\n",
    "    'people' : [\"homeworld\", \"films\", \"species\", \"vehicles\", \"starships\"],\n",
    "    'planets' : ['residents', 'films'],\n",
    "    'species' : ['people', 'films', 'homeworld'],\n",
    "    'vehicles' : ['pilots', 'films'],\n",
    "    'starships' : ['pilots', 'films']\n",
    "    }"
   ]
  },
  {
   "cell_type": "markdown",
   "id": "ca030701",
   "metadata": {},
   "source": [
    "# Consume the API"
   ]
  },
  {
   "cell_type": "code",
   "execution_count": 6,
   "id": "73c0f51b",
   "metadata": {},
   "outputs": [],
   "source": [
    "def scrape_category(url):\n",
    "\n",
    "    # skip the next url for the first page of pager\n",
    "    next = url    \n",
    "    items_list = []\n",
    "\n",
    "    while next:\n",
    "        # get the content of the url\n",
    "        response = rq.get(next)\n",
    "\n",
    "        # success\n",
    "        if response.status_code == 200:\n",
    "            content = response.json()\n",
    "        elif response.status_code == 404:\n",
    "            print(f'{url} not found!')\n",
    "            return\n",
    "        \n",
    "        next = content['next']\n",
    "        items = content['results']\n",
    "\n",
    "        for item in items:\n",
    "                    \n",
    "            # remove created and edited fields\n",
    "            try:\n",
    "                del(item['created'])\n",
    "                del(item['edited'])\n",
    "            except:\n",
    "                pass\n",
    "            \n",
    "            items_list.append(item)            \n",
    "\n",
    "    return items_list"
   ]
  },
  {
   "cell_type": "markdown",
   "id": "4a60a9ed",
   "metadata": {},
   "source": [
    "## Scrape all the categories and store in *starwars_raw.json*"
   ]
  },
  {
   "cell_type": "code",
   "execution_count": 7,
   "id": "d2cafe94",
   "metadata": {},
   "outputs": [
    {
     "name": "stdout",
     "output_type": "stream",
     "text": [
      "The content already exists in a json file!\n"
     ]
    }
   ],
   "source": [
    "if not os.path.exists('./data/starwars_raw.json'):\n",
    "    raw_dict = {cat : scrape_category(base_urls[cat]) for cat in categories}\n",
    "    \n",
    "    # store into a json file\n",
    "    with open('./data/starwars_raw.json', 'w') as file:\n",
    "        json.dump(raw_dict, file, indent=4 )\n",
    "    print('Content from Star Wars API stored in a json file!')\n",
    "\n",
    "else:\n",
    "    print('The content already exists in a json file!')\n",
    "    with open('starwars_scrapped.json', 'r') as file:\n",
    "        raw_dict = json.load(file)"
   ]
  },
  {
   "cell_type": "markdown",
   "id": "6e022ff3",
   "metadata": {},
   "source": [
    "Function to process the information of an item from a category.\n",
    "Ex. one character, one planet or one film."
   ]
  },
  {
   "cell_type": "code",
   "execution_count": 8,
   "id": "6b3fb84d",
   "metadata": {},
   "outputs": [],
   "source": [
    "def process_item(item, fields):\n",
    "\n",
    "    # create a copy of the item dictionary\n",
    "    item = copy.deepcopy(item)\n",
    "\n",
    "    # parse the links from starships, vehicles and species\n",
    "    for field in fields:\n",
    "        id_values = []\n",
    "                        \n",
    "        if item[field]:  # if the field is not empty\n",
    "            \n",
    "            # parse the homeworld (just a single string value)\n",
    "            if field == 'homeworld':\n",
    "                # get the homeworld id\n",
    "                item['homeworld'] = int(item['homeworld'].split('/')[-2])\n",
    "\n",
    "            else:\n",
    "                for link in item[field]:\n",
    "\n",
    "                    # parse the id value in the link    \n",
    "                    id_values.append(int(link.split('/')[-2]))\n",
    "\n",
    "                # add the id values into the corresponding field key\n",
    "                # convert list into tuple, as tuples are hashable\n",
    "                item[field] = tuple(id_values)\n",
    "\n",
    "                # each character belongs to only 1 species\n",
    "                # that way, the species contains\n",
    "        \n",
    "        # if species is an empty list, it's a human character\n",
    "        elif field == 'species' and not item['species']:\n",
    "            item[field] = 1\n",
    "                    \n",
    "        # field has no values (empty list)\n",
    "        else:\n",
    "            item[field] = ()\n",
    "                \n",
    "    # remove created and edited fields\n",
    "    try:\n",
    "        del(item['created'])\n",
    "        del(item['edited'])\n",
    "    except:\n",
    "        pass\n",
    "\n",
    "    return item"
   ]
  },
  {
   "cell_type": "markdown",
   "id": "1647d49f",
   "metadata": {},
   "source": [
    "# Store the processed data"
   ]
  },
  {
   "cell_type": "code",
   "execution_count": 26,
   "id": "6c4f79d0",
   "metadata": {},
   "outputs": [
    {
     "name": "stdout",
     "output_type": "stream",
     "text": [
      "Processed data already existed, so the *categories_dict_processed* dictionary will be created from json file.\n"
     ]
    }
   ],
   "source": [
    "if not os.path.exists('./data/starwars_processed_items.json'):\n",
    "    # dictionary to store the processed categories\n",
    "    processed_dict = {}\n",
    "    \n",
    "    # process each item for all the categories\n",
    "    for k,v in raw_dict.items():\n",
    "        items_processed = []\n",
    "        for item in v:\n",
    "            try:\n",
    "                items_processed.append(process_item(item, fields[k]))\n",
    "                processed_dict[k] = items_processed\n",
    "            except:\n",
    "                print(f'Error in {k}')\n",
    "    \n",
    "    # store the information in a json file\n",
    "    with open('./data/starwars_processed_items.json', 'w') as file:\n",
    "        json.dump(processed_dict, file, indent = 4)\n",
    "\n",
    "# the file already exists, so load it\n",
    "else:\n",
    "    with open('./data/starwars_processed_items.json', 'r') as file:\n",
    "        processed_dict= json.load(file)\n",
    "\n",
    "        # convert lists into tuples after reading from json file\n",
    "        for cat in categories:\n",
    "            for item in processed_dict[cat]:\n",
    "                for field in fields[cat]:\n",
    "                    try:\n",
    "                        item[field] = tuple(item[field])\n",
    "                    # the content of the field is an integer\n",
    "                    # and not a list. Cannot create a tuple from\n",
    "                    # an integer using tuple(int)\n",
    "                    except:\n",
    "                        pass  # do not convert into a tuple, leave it as integer\n",
    "\n",
    "    print('Processed data already existed, so the *categories_dict_processed* dictionary will be created from json file.')"
   ]
  },
  {
   "cell_type": "markdown",
   "id": "e21e4692",
   "metadata": {},
   "source": [
    "# Dataframes"
   ]
  },
  {
   "cell_type": "markdown",
   "id": "92fc51cf",
   "metadata": {},
   "source": [
    "## Create the dataframes\n",
    "Create a dictionary to store the dataframes from each category"
   ]
  },
  {
   "cell_type": "code",
   "execution_count": 27,
   "id": "1e9413cc",
   "metadata": {},
   "outputs": [],
   "source": [
    "dataframes = dict.fromkeys(categories)"
   ]
  },
  {
   "cell_type": "code",
   "execution_count": 28,
   "id": "9da1a0ee",
   "metadata": {},
   "outputs": [],
   "source": [
    "for cat in categories:\n",
    "    df = pd.DataFrame(processed_dict[cat])\n",
    "    df['id'] = df.index + 1\n",
    "\n",
    "    # rename columns to add '_id' to the \"fields\"\n",
    "    rename_dict = {field : f'{field}_id' for field in fields[cat]}\n",
    "    rename_dict.update({'id' : f'{cat}_id'})\n",
    "    df.rename(columns = rename_dict, inplace = True)\n",
    "\n",
    "    # reorder the columns to place id in first place\n",
    "    all_columns_but_cat_id = [col for col in df.columns if col != f'{cat}_id']\n",
    "    sorted_columns = [f'{cat}_id'] + all_columns_but_cat_id\n",
    "    dataframes[cat] = df[sorted_columns]\n",
    "#df.to_csv('./data/starwars_characters.csv', index = False)"
   ]
  },
  {
   "cell_type": "markdown",
   "id": "a31eb901",
   "metadata": {},
   "source": [
    "## Rename some columns\n",
    "Make some renamings to the column names"
   ]
  },
  {
   "cell_type": "code",
   "execution_count": 29,
   "id": "5c79bae2",
   "metadata": {},
   "outputs": [],
   "source": [
    "col_rename_dict= {\n",
    "    \n",
    "    'films': {\n",
    "        'characters_id': 'character_id',\n",
    "        'films_id': 'film_id',\n",
    "        'planets_id': 'planet_id',\n",
    "        'episode_id': 'episode',\n",
    "        'starships_id': 'starship_id',\n",
    "        'vehicles_id': 'vehicle_id',\n",
    "    },\n",
    "    \n",
    "    'people': {\n",
    "        'people_id': 'character_id',\n",
    "        'films_id': 'film_id',\n",
    "        'vehicles_id': 'vehicle_id',\n",
    "        'starships_id': 'starship_id'\n",
    "    },\n",
    "\n",
    "    'planets': {\n",
    "        'planets_id': 'planet_id',\n",
    "        'films_id': 'film_id'\n",
    "    },\n",
    "\n",
    "    'species': {\n",
    "        'people_id': 'character_id',\n",
    "        'films_id': 'film_id'\n",
    "    },\n",
    "\n",
    "    'vehicles': {\n",
    "        'pilots_id': 'pilot_id',\n",
    "        'vehicles_id': 'vehicle_id',\n",
    "        'films_id': 'film_id'\n",
    "    },\n",
    "\n",
    "    'starships': {\n",
    "        'pilots_id': 'pilot_id',\n",
    "        'starships_id': 'starship_id',\n",
    "        'films_id': 'film_id'\n",
    "    }\n",
    "}"
   ]
  },
  {
   "cell_type": "code",
   "execution_count": 30,
   "id": "577a814d",
   "metadata": {},
   "outputs": [],
   "source": [
    "for cat in categories:\n",
    "    dataframes[cat].rename(columns=col_rename_dict[cat], inplace=True)"
   ]
  },
  {
   "cell_type": "markdown",
   "id": "254b75ea",
   "metadata": {},
   "source": [
    "## Clean the datasets"
   ]
  },
  {
   "cell_type": "markdown",
   "id": "4ebec0ba",
   "metadata": {},
   "source": [
    "### Clean people"
   ]
  },
  {
   "cell_type": "code",
   "execution_count": 31,
   "id": "826a246e",
   "metadata": {},
   "outputs": [
    {
     "data": {
      "text/html": [
       "<div>\n",
       "<style scoped>\n",
       "    .dataframe tbody tr th:only-of-type {\n",
       "        vertical-align: middle;\n",
       "    }\n",
       "\n",
       "    .dataframe tbody tr th {\n",
       "        vertical-align: top;\n",
       "    }\n",
       "\n",
       "    .dataframe thead th {\n",
       "        text-align: right;\n",
       "    }\n",
       "</style>\n",
       "<table border=\"1\" class=\"dataframe\">\n",
       "  <thead>\n",
       "    <tr style=\"text-align: right;\">\n",
       "      <th></th>\n",
       "      <th>character_id</th>\n",
       "      <th>name</th>\n",
       "      <th>height</th>\n",
       "      <th>mass</th>\n",
       "      <th>hair_color</th>\n",
       "      <th>skin_color</th>\n",
       "      <th>eye_color</th>\n",
       "      <th>birth_year</th>\n",
       "      <th>gender</th>\n",
       "      <th>homeworld_id</th>\n",
       "      <th>film_id</th>\n",
       "      <th>species_id</th>\n",
       "      <th>vehicle_id</th>\n",
       "      <th>starship_id</th>\n",
       "      <th>url</th>\n",
       "    </tr>\n",
       "  </thead>\n",
       "  <tbody>\n",
       "    <tr>\n",
       "      <th>18</th>\n",
       "      <td>19</td>\n",
       "      <td>Yoda</td>\n",
       "      <td>66</td>\n",
       "      <td>17</td>\n",
       "      <td>white</td>\n",
       "      <td>green</td>\n",
       "      <td>brown</td>\n",
       "      <td>896BBY</td>\n",
       "      <td>male</td>\n",
       "      <td>28</td>\n",
       "      <td>(2, 3, 4, 5, 6)</td>\n",
       "      <td>(6,)</td>\n",
       "      <td>()</td>\n",
       "      <td>()</td>\n",
       "      <td>https://swapi.dev/api/people/20/</td>\n",
       "    </tr>\n",
       "    <tr>\n",
       "      <th>78</th>\n",
       "      <td>79</td>\n",
       "      <td>Tarfful</td>\n",
       "      <td>234</td>\n",
       "      <td>136</td>\n",
       "      <td>brown</td>\n",
       "      <td>brown</td>\n",
       "      <td>blue</td>\n",
       "      <td>unknown</td>\n",
       "      <td>male</td>\n",
       "      <td>14</td>\n",
       "      <td>(6,)</td>\n",
       "      <td>(3,)</td>\n",
       "      <td>()</td>\n",
       "      <td>()</td>\n",
       "      <td>https://swapi.dev/api/people/80/</td>\n",
       "    </tr>\n",
       "    <tr>\n",
       "      <th>56</th>\n",
       "      <td>57</td>\n",
       "      <td>Plo Koon</td>\n",
       "      <td>188</td>\n",
       "      <td>80</td>\n",
       "      <td>none</td>\n",
       "      <td>orange</td>\n",
       "      <td>black</td>\n",
       "      <td>22BBY</td>\n",
       "      <td>male</td>\n",
       "      <td>49</td>\n",
       "      <td>(4, 5, 6)</td>\n",
       "      <td>(26,)</td>\n",
       "      <td>()</td>\n",
       "      <td>(48,)</td>\n",
       "      <td>https://swapi.dev/api/people/58/</td>\n",
       "    </tr>\n",
       "    <tr>\n",
       "      <th>6</th>\n",
       "      <td>7</td>\n",
       "      <td>Beru Whitesun lars</td>\n",
       "      <td>165</td>\n",
       "      <td>75</td>\n",
       "      <td>brown</td>\n",
       "      <td>light</td>\n",
       "      <td>blue</td>\n",
       "      <td>47BBY</td>\n",
       "      <td>female</td>\n",
       "      <td>1</td>\n",
       "      <td>(1, 5, 6)</td>\n",
       "      <td>1</td>\n",
       "      <td>()</td>\n",
       "      <td>()</td>\n",
       "      <td>https://swapi.dev/api/people/7/</td>\n",
       "    </tr>\n",
       "    <tr>\n",
       "      <th>32</th>\n",
       "      <td>33</td>\n",
       "      <td>Finis Valorum</td>\n",
       "      <td>170</td>\n",
       "      <td>unknown</td>\n",
       "      <td>blond</td>\n",
       "      <td>fair</td>\n",
       "      <td>blue</td>\n",
       "      <td>91BBY</td>\n",
       "      <td>male</td>\n",
       "      <td>9</td>\n",
       "      <td>(4,)</td>\n",
       "      <td>1</td>\n",
       "      <td>()</td>\n",
       "      <td>()</td>\n",
       "      <td>https://swapi.dev/api/people/34/</td>\n",
       "    </tr>\n",
       "  </tbody>\n",
       "</table>\n",
       "</div>"
      ],
      "text/plain": [
       "    character_id                name height     mass hair_color skin_color  \\\n",
       "18            19                Yoda     66       17      white      green   \n",
       "78            79             Tarfful    234      136      brown      brown   \n",
       "56            57            Plo Koon    188       80       none     orange   \n",
       "6              7  Beru Whitesun lars    165       75      brown      light   \n",
       "32            33       Finis Valorum    170  unknown      blond       fair   \n",
       "\n",
       "   eye_color birth_year  gender  homeworld_id          film_id species_id  \\\n",
       "18     brown     896BBY    male            28  (2, 3, 4, 5, 6)       (6,)   \n",
       "78      blue    unknown    male            14             (6,)       (3,)   \n",
       "56     black      22BBY    male            49        (4, 5, 6)      (26,)   \n",
       "6       blue      47BBY  female             1        (1, 5, 6)          1   \n",
       "32      blue      91BBY    male             9             (4,)          1   \n",
       "\n",
       "   vehicle_id starship_id                               url  \n",
       "18         ()          ()  https://swapi.dev/api/people/20/  \n",
       "78         ()          ()  https://swapi.dev/api/people/80/  \n",
       "56         ()       (48,)  https://swapi.dev/api/people/58/  \n",
       "6          ()          ()   https://swapi.dev/api/people/7/  \n",
       "32         ()          ()  https://swapi.dev/api/people/34/  "
      ]
     },
     "execution_count": 31,
     "metadata": {},
     "output_type": "execute_result"
    }
   ],
   "source": [
    "df = dataframes['people']\n",
    "df.sample(5)"
   ]
  },
  {
   "cell_type": "code",
   "execution_count": 32,
   "id": "fdec9e6f",
   "metadata": {},
   "outputs": [
    {
     "data": {
      "text/plain": [
       "character_id     int64\n",
       "name            object\n",
       "height          object\n",
       "mass            object\n",
       "hair_color      object\n",
       "skin_color      object\n",
       "eye_color       object\n",
       "birth_year      object\n",
       "gender          object\n",
       "homeworld_id     int64\n",
       "film_id         object\n",
       "species_id      object\n",
       "vehicle_id      object\n",
       "starship_id     object\n",
       "url             object\n",
       "dtype: object"
      ]
     },
     "execution_count": 32,
     "metadata": {},
     "output_type": "execute_result"
    }
   ],
   "source": [
    "df.dtypes"
   ]
  },
  {
   "cell_type": "code",
   "execution_count": 33,
   "id": "f2d76002",
   "metadata": {},
   "outputs": [],
   "source": [
    "df.mass = df.mass.replace('unknown', np.nan)\n",
    "df.mass = df.mass.str.replace(',', '', regex=False)\n",
    "df.mass = df.mass.astype('float') "
   ]
  },
  {
   "cell_type": "code",
   "execution_count": 34,
   "id": "6c56db05",
   "metadata": {},
   "outputs": [],
   "source": [
    "df.height = df.height.replace('unknown', np.nan).astype('float')"
   ]
  },
  {
   "cell_type": "code",
   "execution_count": 35,
   "id": "68d12e2e",
   "metadata": {},
   "outputs": [],
   "source": [
    "df.hair_color = df.hair_color.replace('n/a', np.nan)"
   ]
  },
  {
   "cell_type": "code",
   "execution_count": 36,
   "id": "1a4bd178",
   "metadata": {},
   "outputs": [],
   "source": [
    "df.birth_year = df.birth_year.str.replace('BBY', ' BBY')"
   ]
  },
  {
   "cell_type": "markdown",
   "id": "0c8074dd",
   "metadata": {},
   "source": [
    "### Clean films"
   ]
  },
  {
   "cell_type": "code",
   "execution_count": 37,
   "id": "5e140b2d",
   "metadata": {},
   "outputs": [
    {
     "data": {
      "text/html": [
       "<div>\n",
       "<style scoped>\n",
       "    .dataframe tbody tr th:only-of-type {\n",
       "        vertical-align: middle;\n",
       "    }\n",
       "\n",
       "    .dataframe tbody tr th {\n",
       "        vertical-align: top;\n",
       "    }\n",
       "\n",
       "    .dataframe thead th {\n",
       "        text-align: right;\n",
       "    }\n",
       "</style>\n",
       "<table border=\"1\" class=\"dataframe\">\n",
       "  <thead>\n",
       "    <tr style=\"text-align: right;\">\n",
       "      <th></th>\n",
       "      <th>film_id</th>\n",
       "      <th>title</th>\n",
       "      <th>episode</th>\n",
       "      <th>opening_crawl</th>\n",
       "      <th>director</th>\n",
       "      <th>producer</th>\n",
       "      <th>release_date</th>\n",
       "      <th>character_id</th>\n",
       "      <th>planet_id</th>\n",
       "      <th>starship_id</th>\n",
       "      <th>vehicle_id</th>\n",
       "      <th>species_id</th>\n",
       "      <th>url</th>\n",
       "    </tr>\n",
       "  </thead>\n",
       "  <tbody>\n",
       "    <tr>\n",
       "      <th>1</th>\n",
       "      <td>2</td>\n",
       "      <td>The Empire Strikes Back</td>\n",
       "      <td>5</td>\n",
       "      <td>It is a dark time for the\\r\\nRebellion. Althou...</td>\n",
       "      <td>Irvin Kershner</td>\n",
       "      <td>Gary Kurtz, Rick McCallum</td>\n",
       "      <td>1980-05-17</td>\n",
       "      <td>(1, 2, 3, 4, 5, 10, 13, 14, 18, 20, 21, 22, 23...</td>\n",
       "      <td>(4, 5, 6, 27)</td>\n",
       "      <td>(3, 10, 11, 12, 15, 17, 21, 22, 23)</td>\n",
       "      <td>(8, 14, 16, 18, 19, 20)</td>\n",
       "      <td>(1, 2, 3, 6, 7)</td>\n",
       "      <td>https://swapi.dev/api/films/2/</td>\n",
       "    </tr>\n",
       "    <tr>\n",
       "      <th>3</th>\n",
       "      <td>4</td>\n",
       "      <td>The Phantom Menace</td>\n",
       "      <td>1</td>\n",
       "      <td>Turmoil has engulfed the\\r\\nGalactic Republic....</td>\n",
       "      <td>George Lucas</td>\n",
       "      <td>Rick McCallum</td>\n",
       "      <td>1999-05-19</td>\n",
       "      <td>(2, 3, 10, 11, 16, 20, 21, 32, 33, 34, 35, 36,...</td>\n",
       "      <td>(1, 8, 9)</td>\n",
       "      <td>(31, 32, 39, 40, 41)</td>\n",
       "      <td>(33, 34, 35, 36, 37, 38, 42)</td>\n",
       "      <td>(1, 2, 6, 11, 12, 13, 14, 15, 16, 17, 18, 19, ...</td>\n",
       "      <td>https://swapi.dev/api/films/4/</td>\n",
       "    </tr>\n",
       "    <tr>\n",
       "      <th>0</th>\n",
       "      <td>1</td>\n",
       "      <td>A New Hope</td>\n",
       "      <td>4</td>\n",
       "      <td>It is a period of civil war.\\r\\nRebel spaceshi...</td>\n",
       "      <td>George Lucas</td>\n",
       "      <td>Gary Kurtz, Rick McCallum</td>\n",
       "      <td>1977-05-25</td>\n",
       "      <td>(1, 2, 3, 4, 5, 6, 7, 8, 9, 10, 12, 13, 14, 15...</td>\n",
       "      <td>(1, 2, 3)</td>\n",
       "      <td>(2, 3, 5, 9, 10, 11, 12, 13)</td>\n",
       "      <td>(4, 6, 7, 8)</td>\n",
       "      <td>(1, 2, 3, 4, 5)</td>\n",
       "      <td>https://swapi.dev/api/films/1/</td>\n",
       "    </tr>\n",
       "    <tr>\n",
       "      <th>2</th>\n",
       "      <td>3</td>\n",
       "      <td>Return of the Jedi</td>\n",
       "      <td>6</td>\n",
       "      <td>Luke Skywalker has returned to\\r\\nhis home pla...</td>\n",
       "      <td>Richard Marquand</td>\n",
       "      <td>Howard G. Kazanjian, George Lucas, Rick McCallum</td>\n",
       "      <td>1983-05-25</td>\n",
       "      <td>(1, 2, 3, 4, 5, 10, 13, 14, 16, 18, 20, 21, 22...</td>\n",
       "      <td>(1, 5, 7, 8, 9)</td>\n",
       "      <td>(2, 3, 10, 11, 12, 15, 17, 22, 23, 27, 28, 29)</td>\n",
       "      <td>(8, 16, 18, 19, 24, 25, 26, 30)</td>\n",
       "      <td>(1, 2, 3, 5, 6, 8, 9, 10, 15)</td>\n",
       "      <td>https://swapi.dev/api/films/3/</td>\n",
       "    </tr>\n",
       "    <tr>\n",
       "      <th>4</th>\n",
       "      <td>5</td>\n",
       "      <td>Attack of the Clones</td>\n",
       "      <td>2</td>\n",
       "      <td>There is unrest in the Galactic\\r\\nSenate. Sev...</td>\n",
       "      <td>George Lucas</td>\n",
       "      <td>Rick McCallum</td>\n",
       "      <td>2002-05-16</td>\n",
       "      <td>(2, 3, 6, 7, 10, 11, 20, 21, 22, 33, 35, 36, 4...</td>\n",
       "      <td>(1, 8, 9, 10, 11)</td>\n",
       "      <td>(21, 32, 39, 43, 47, 48, 49, 52, 58)</td>\n",
       "      <td>(4, 44, 45, 46, 50, 51, 53, 54, 55, 56, 57)</td>\n",
       "      <td>(1, 2, 6, 12, 13, 15, 28, 29, 30, 31, 32, 33, ...</td>\n",
       "      <td>https://swapi.dev/api/films/5/</td>\n",
       "    </tr>\n",
       "  </tbody>\n",
       "</table>\n",
       "</div>"
      ],
      "text/plain": [
       "   film_id                    title  episode  \\\n",
       "1        2  The Empire Strikes Back        5   \n",
       "3        4       The Phantom Menace        1   \n",
       "0        1               A New Hope        4   \n",
       "2        3       Return of the Jedi        6   \n",
       "4        5     Attack of the Clones        2   \n",
       "\n",
       "                                       opening_crawl          director  \\\n",
       "1  It is a dark time for the\\r\\nRebellion. Althou...    Irvin Kershner   \n",
       "3  Turmoil has engulfed the\\r\\nGalactic Republic....      George Lucas   \n",
       "0  It is a period of civil war.\\r\\nRebel spaceshi...      George Lucas   \n",
       "2  Luke Skywalker has returned to\\r\\nhis home pla...  Richard Marquand   \n",
       "4  There is unrest in the Galactic\\r\\nSenate. Sev...      George Lucas   \n",
       "\n",
       "                                           producer release_date  \\\n",
       "1                         Gary Kurtz, Rick McCallum   1980-05-17   \n",
       "3                                     Rick McCallum   1999-05-19   \n",
       "0                         Gary Kurtz, Rick McCallum   1977-05-25   \n",
       "2  Howard G. Kazanjian, George Lucas, Rick McCallum   1983-05-25   \n",
       "4                                     Rick McCallum   2002-05-16   \n",
       "\n",
       "                                        character_id          planet_id  \\\n",
       "1  (1, 2, 3, 4, 5, 10, 13, 14, 18, 20, 21, 22, 23...      (4, 5, 6, 27)   \n",
       "3  (2, 3, 10, 11, 16, 20, 21, 32, 33, 34, 35, 36,...          (1, 8, 9)   \n",
       "0  (1, 2, 3, 4, 5, 6, 7, 8, 9, 10, 12, 13, 14, 15...          (1, 2, 3)   \n",
       "2  (1, 2, 3, 4, 5, 10, 13, 14, 16, 18, 20, 21, 22...    (1, 5, 7, 8, 9)   \n",
       "4  (2, 3, 6, 7, 10, 11, 20, 21, 22, 33, 35, 36, 4...  (1, 8, 9, 10, 11)   \n",
       "\n",
       "                                      starship_id  \\\n",
       "1             (3, 10, 11, 12, 15, 17, 21, 22, 23)   \n",
       "3                            (31, 32, 39, 40, 41)   \n",
       "0                    (2, 3, 5, 9, 10, 11, 12, 13)   \n",
       "2  (2, 3, 10, 11, 12, 15, 17, 22, 23, 27, 28, 29)   \n",
       "4            (21, 32, 39, 43, 47, 48, 49, 52, 58)   \n",
       "\n",
       "                                    vehicle_id  \\\n",
       "1                      (8, 14, 16, 18, 19, 20)   \n",
       "3                 (33, 34, 35, 36, 37, 38, 42)   \n",
       "0                                 (4, 6, 7, 8)   \n",
       "2              (8, 16, 18, 19, 24, 25, 26, 30)   \n",
       "4  (4, 44, 45, 46, 50, 51, 53, 54, 55, 56, 57)   \n",
       "\n",
       "                                          species_id  \\\n",
       "1                                    (1, 2, 3, 6, 7)   \n",
       "3  (1, 2, 6, 11, 12, 13, 14, 15, 16, 17, 18, 19, ...   \n",
       "0                                    (1, 2, 3, 4, 5)   \n",
       "2                      (1, 2, 3, 5, 6, 8, 9, 10, 15)   \n",
       "4  (1, 2, 6, 12, 13, 15, 28, 29, 30, 31, 32, 33, ...   \n",
       "\n",
       "                              url  \n",
       "1  https://swapi.dev/api/films/2/  \n",
       "3  https://swapi.dev/api/films/4/  \n",
       "0  https://swapi.dev/api/films/1/  \n",
       "2  https://swapi.dev/api/films/3/  \n",
       "4  https://swapi.dev/api/films/5/  "
      ]
     },
     "execution_count": 37,
     "metadata": {},
     "output_type": "execute_result"
    }
   ],
   "source": [
    "df = dataframes['films']\n",
    "df.sample(5)"
   ]
  },
  {
   "cell_type": "code",
   "execution_count": 38,
   "id": "5e19e0d9",
   "metadata": {},
   "outputs": [
    {
     "data": {
      "text/plain": [
       "array([(1, 2, 3, 4, 5), (1, 2, 3, 6, 7), (1, 2, 3, 5, 6, 8, 9, 10, 15),\n",
       "       (1, 2, 6, 11, 12, 13, 14, 15, 16, 17, 18, 19, 20, 21, 22, 23, 24, 25, 26, 27),\n",
       "       (1, 2, 6, 12, 13, 15, 28, 29, 30, 31, 32, 33, 34, 35),\n",
       "       (1, 2, 3, 6, 15, 19, 20, 23, 24, 25, 26, 27, 28, 29, 30, 33, 34, 35, 36, 37)],\n",
       "      dtype=object)"
      ]
     },
     "execution_count": 38,
     "metadata": {},
     "output_type": "execute_result"
    }
   ],
   "source": [
    "df.species_id.unique()"
   ]
  },
  {
   "cell_type": "code",
   "execution_count": 39,
   "id": "762dcfe3",
   "metadata": {},
   "outputs": [
    {
     "data": {
      "text/plain": [
       "film_id           int64\n",
       "title            object\n",
       "episode           int64\n",
       "opening_crawl    object\n",
       "director         object\n",
       "producer         object\n",
       "release_date     object\n",
       "character_id     object\n",
       "planet_id        object\n",
       "starship_id      object\n",
       "vehicle_id       object\n",
       "species_id       object\n",
       "url              object\n",
       "dtype: object"
      ]
     },
     "execution_count": 39,
     "metadata": {},
     "output_type": "execute_result"
    }
   ],
   "source": [
    "df.dtypes"
   ]
  },
  {
   "cell_type": "code",
   "execution_count": 40,
   "id": "0c357be7",
   "metadata": {},
   "outputs": [],
   "source": [
    "df.release_date = pd.to_datetime(df.release_date)"
   ]
  },
  {
   "cell_type": "markdown",
   "id": "9533468e",
   "metadata": {},
   "source": [
    "### Clean planets"
   ]
  },
  {
   "cell_type": "code",
   "execution_count": 41,
   "id": "0301b5ab",
   "metadata": {},
   "outputs": [
    {
     "ename": "NameError",
     "evalue": "name 'categories_dataframes' is not defined",
     "output_type": "error",
     "traceback": [
      "\u001b[31m---------------------------------------------------------------------------\u001b[39m",
      "\u001b[31mNameError\u001b[39m                                 Traceback (most recent call last)",
      "\u001b[36mCell\u001b[39m\u001b[36m \u001b[39m\u001b[32mIn[41]\u001b[39m\u001b[32m, line 1\u001b[39m\n\u001b[32m----> \u001b[39m\u001b[32m1\u001b[39m df = \u001b[43mcategories_dataframes\u001b[49m[\u001b[33m'\u001b[39m\u001b[33mplanets\u001b[39m\u001b[33m'\u001b[39m]\n\u001b[32m      2\u001b[39m df.sample(\u001b[32m5\u001b[39m)\n",
      "\u001b[31mNameError\u001b[39m: name 'categories_dataframes' is not defined"
     ]
    }
   ],
   "source": [
    "df = categories_dataframes['planets']\n",
    "df.sample(5)"
   ]
  },
  {
   "cell_type": "code",
   "execution_count": null,
   "id": "7efdf919",
   "metadata": {},
   "outputs": [
    {
     "data": {
      "text/plain": [
       "planet_id           int64\n",
       "name               object\n",
       "rotation_period    object\n",
       "orbital_period     object\n",
       "diameter           object\n",
       "climate            object\n",
       "gravity            object\n",
       "terrain            object\n",
       "surface_water      object\n",
       "population         object\n",
       "residents_id       object\n",
       "film_id            object\n",
       "url                object\n",
       "dtype: object"
      ]
     },
     "execution_count": 22,
     "metadata": {},
     "output_type": "execute_result"
    }
   ],
   "source": [
    "df.dtypes"
   ]
  },
  {
   "cell_type": "code",
   "execution_count": null,
   "id": "72d52dc2",
   "metadata": {},
   "outputs": [],
   "source": [
    "for col in ['rotation_period', 'orbital_period', 'diameter', 'surface_water', 'population']:\n",
    "    df[col] = df[col].replace('unknown', np.nan).astype('float')"
   ]
  },
  {
   "cell_type": "code",
   "execution_count": null,
   "id": "e0292d31",
   "metadata": {},
   "outputs": [],
   "source": [
    "df.population = df.population / 1E6\n",
    "df.rename(columns = {'population' : 'population_millions'}, inplace = True)"
   ]
  },
  {
   "cell_type": "code",
   "execution_count": null,
   "id": "fc6c1752",
   "metadata": {},
   "outputs": [
    {
     "data": {
      "text/plain": [
       "array(['1 standard', '1.1 standard', 'N/A',\n",
       "       '1.5 (surface), 1 standard (Cloud City)', '0.85 standard',\n",
       "       '0.9 standard', '0.56 standard', '0.75 standard', 'unknown',\n",
       "       '0.62 standard', '1', '1.56', '0.9', '0.98'], dtype=object)"
      ]
     },
     "execution_count": 25,
     "metadata": {},
     "output_type": "execute_result"
    }
   ],
   "source": [
    "df.gravity.unique()"
   ]
  },
  {
   "cell_type": "code",
   "execution_count": null,
   "id": "7b1592a4",
   "metadata": {},
   "outputs": [],
   "source": [
    "df.gravity = df.gravity.str.replace(' standard', '').str.replace(df.gravity[5], '1.5')\n",
    "df.gravity = df.gravity.replace('unknown', np.nan)"
   ]
  },
  {
   "cell_type": "markdown",
   "id": "0e60760b",
   "metadata": {},
   "source": [
    "### Clean species"
   ]
  },
  {
   "cell_type": "code",
   "execution_count": null,
   "id": "0e3891c7",
   "metadata": {},
   "outputs": [
    {
     "data": {
      "text/html": [
       "<div>\n",
       "<style scoped>\n",
       "    .dataframe tbody tr th:only-of-type {\n",
       "        vertical-align: middle;\n",
       "    }\n",
       "\n",
       "    .dataframe tbody tr th {\n",
       "        vertical-align: top;\n",
       "    }\n",
       "\n",
       "    .dataframe thead th {\n",
       "        text-align: right;\n",
       "    }\n",
       "</style>\n",
       "<table border=\"1\" class=\"dataframe\">\n",
       "  <thead>\n",
       "    <tr style=\"text-align: right;\">\n",
       "      <th></th>\n",
       "      <th>species_id</th>\n",
       "      <th>name</th>\n",
       "      <th>classification</th>\n",
       "      <th>designation</th>\n",
       "      <th>average_height</th>\n",
       "      <th>skin_colors</th>\n",
       "      <th>hair_colors</th>\n",
       "      <th>eye_colors</th>\n",
       "      <th>average_lifespan</th>\n",
       "      <th>homeworld_id</th>\n",
       "      <th>language</th>\n",
       "      <th>character_id</th>\n",
       "      <th>film_id</th>\n",
       "      <th>url</th>\n",
       "    </tr>\n",
       "  </thead>\n",
       "  <tbody>\n",
       "    <tr>\n",
       "      <th>22</th>\n",
       "      <td>23</td>\n",
       "      <td>Tholothian</td>\n",
       "      <td>mammal</td>\n",
       "      <td>sentient</td>\n",
       "      <td>unknown</td>\n",
       "      <td>dark</td>\n",
       "      <td>unknown</td>\n",
       "      <td>blue, indigo</td>\n",
       "      <td>unknown</td>\n",
       "      <td>46</td>\n",
       "      <td>unknown</td>\n",
       "      <td>[55]</td>\n",
       "      <td>[4, 6]</td>\n",
       "      <td>https://swapi.dev/api/species/23/</td>\n",
       "    </tr>\n",
       "    <tr>\n",
       "      <th>12</th>\n",
       "      <td>13</td>\n",
       "      <td>Toydarian</td>\n",
       "      <td>mammal</td>\n",
       "      <td>sentient</td>\n",
       "      <td>120</td>\n",
       "      <td>blue, green, grey</td>\n",
       "      <td>none</td>\n",
       "      <td>yellow</td>\n",
       "      <td>91</td>\n",
       "      <td>34</td>\n",
       "      <td>Toydarian</td>\n",
       "      <td>[40]</td>\n",
       "      <td>[4, 5]</td>\n",
       "      <td>https://swapi.dev/api/species/13/</td>\n",
       "    </tr>\n",
       "    <tr>\n",
       "      <th>13</th>\n",
       "      <td>14</td>\n",
       "      <td>Dug</td>\n",
       "      <td>mammal</td>\n",
       "      <td>sentient</td>\n",
       "      <td>100</td>\n",
       "      <td>brown, purple, grey, red</td>\n",
       "      <td>none</td>\n",
       "      <td>yellow, blue</td>\n",
       "      <td>unknown</td>\n",
       "      <td>35</td>\n",
       "      <td>Dugese</td>\n",
       "      <td>[41]</td>\n",
       "      <td>[4]</td>\n",
       "      <td>https://swapi.dev/api/species/14/</td>\n",
       "    </tr>\n",
       "    <tr>\n",
       "      <th>18</th>\n",
       "      <td>19</td>\n",
       "      <td>Toong</td>\n",
       "      <td>unknown</td>\n",
       "      <td>sentient</td>\n",
       "      <td>200</td>\n",
       "      <td>grey, green, yellow</td>\n",
       "      <td>none</td>\n",
       "      <td>orange</td>\n",
       "      <td>unknown</td>\n",
       "      <td>41</td>\n",
       "      <td>Tundan</td>\n",
       "      <td>[50]</td>\n",
       "      <td>[4, 6]</td>\n",
       "      <td>https://swapi.dev/api/species/19/</td>\n",
       "    </tr>\n",
       "    <tr>\n",
       "      <th>25</th>\n",
       "      <td>26</td>\n",
       "      <td>Kel Dor</td>\n",
       "      <td>unknown</td>\n",
       "      <td>sentient</td>\n",
       "      <td>180</td>\n",
       "      <td>peach, orange, red</td>\n",
       "      <td>none</td>\n",
       "      <td>black, silver</td>\n",
       "      <td>70</td>\n",
       "      <td>49</td>\n",
       "      <td>Kel Dor</td>\n",
       "      <td>[58]</td>\n",
       "      <td>[4, 6]</td>\n",
       "      <td>https://swapi.dev/api/species/26/</td>\n",
       "    </tr>\n",
       "  </tbody>\n",
       "</table>\n",
       "</div>"
      ],
      "text/plain": [
       "    species_id        name classification designation average_height  \\\n",
       "22          23  Tholothian         mammal    sentient        unknown   \n",
       "12          13   Toydarian         mammal    sentient            120   \n",
       "13          14         Dug         mammal    sentient            100   \n",
       "18          19       Toong        unknown    sentient            200   \n",
       "25          26     Kel Dor        unknown    sentient            180   \n",
       "\n",
       "                 skin_colors hair_colors     eye_colors average_lifespan  \\\n",
       "22                      dark     unknown   blue, indigo          unknown   \n",
       "12         blue, green, grey        none         yellow               91   \n",
       "13  brown, purple, grey, red        none   yellow, blue          unknown   \n",
       "18       grey, green, yellow        none         orange          unknown   \n",
       "25        peach, orange, red        none  black, silver               70   \n",
       "\n",
       "   homeworld_id   language character_id film_id  \\\n",
       "22           46    unknown         [55]  [4, 6]   \n",
       "12           34  Toydarian         [40]  [4, 5]   \n",
       "13           35     Dugese         [41]     [4]   \n",
       "18           41     Tundan         [50]  [4, 6]   \n",
       "25           49    Kel Dor         [58]  [4, 6]   \n",
       "\n",
       "                                  url  \n",
       "22  https://swapi.dev/api/species/23/  \n",
       "12  https://swapi.dev/api/species/13/  \n",
       "13  https://swapi.dev/api/species/14/  \n",
       "18  https://swapi.dev/api/species/19/  \n",
       "25  https://swapi.dev/api/species/26/  "
      ]
     },
     "execution_count": 27,
     "metadata": {},
     "output_type": "execute_result"
    }
   ],
   "source": [
    "df = categories_dataframes['species']\n",
    "df.sample(5)"
   ]
  },
  {
   "cell_type": "code",
   "execution_count": null,
   "id": "c821986e",
   "metadata": {},
   "outputs": [
    {
     "data": {
      "text/plain": [
       "species_id           int64\n",
       "name                object\n",
       "classification      object\n",
       "designation         object\n",
       "average_height      object\n",
       "skin_colors         object\n",
       "hair_colors         object\n",
       "eye_colors          object\n",
       "average_lifespan    object\n",
       "homeworld_id        object\n",
       "language            object\n",
       "character_id        object\n",
       "film_id             object\n",
       "url                 object\n",
       "dtype: object"
      ]
     },
     "execution_count": 28,
     "metadata": {},
     "output_type": "execute_result"
    }
   ],
   "source": [
    "df.dtypes"
   ]
  },
  {
   "cell_type": "code",
   "execution_count": null,
   "id": "8136027d",
   "metadata": {},
   "outputs": [],
   "source": [
    "df.average_height = df.average_height.replace('unknown', np.nan).replace('n/a', np.nan).astype('float')"
   ]
  },
  {
   "cell_type": "code",
   "execution_count": null,
   "id": "1d38e70d",
   "metadata": {},
   "outputs": [],
   "source": [
    "df.average_lifespan = df.average_lifespan.replace('unknown', np.nan).replace('indefinite', 9999).astype('float')"
   ]
  },
  {
   "cell_type": "code",
   "execution_count": null,
   "id": "9d41f9ec",
   "metadata": {},
   "outputs": [],
   "source": [
    "df.loc[1, 'homeworld_id'] = np.nan\n",
    "df.homeworld_id = df.homeworld_id.astype('float')"
   ]
  },
  {
   "cell_type": "markdown",
   "id": "f3fb8577",
   "metadata": {},
   "source": [
    "### Clean vehicles"
   ]
  },
  {
   "cell_type": "code",
   "execution_count": null,
   "id": "451a6ffe",
   "metadata": {},
   "outputs": [
    {
     "data": {
      "text/html": [
       "<div>\n",
       "<style scoped>\n",
       "    .dataframe tbody tr th:only-of-type {\n",
       "        vertical-align: middle;\n",
       "    }\n",
       "\n",
       "    .dataframe tbody tr th {\n",
       "        vertical-align: top;\n",
       "    }\n",
       "\n",
       "    .dataframe thead th {\n",
       "        text-align: right;\n",
       "    }\n",
       "</style>\n",
       "<table border=\"1\" class=\"dataframe\">\n",
       "  <thead>\n",
       "    <tr style=\"text-align: right;\">\n",
       "      <th></th>\n",
       "      <th>vehicle_id</th>\n",
       "      <th>name</th>\n",
       "      <th>model</th>\n",
       "      <th>manufacturer</th>\n",
       "      <th>cost_in_credits</th>\n",
       "      <th>length</th>\n",
       "      <th>max_atmosphering_speed</th>\n",
       "      <th>crew</th>\n",
       "      <th>passengers</th>\n",
       "      <th>cargo_capacity</th>\n",
       "      <th>consumables</th>\n",
       "      <th>vehicle_class</th>\n",
       "      <th>pilot_id</th>\n",
       "      <th>film_id</th>\n",
       "      <th>url</th>\n",
       "    </tr>\n",
       "  </thead>\n",
       "  <tbody>\n",
       "    <tr>\n",
       "      <th>30</th>\n",
       "      <td>31</td>\n",
       "      <td>Tsmeu-6 personal wheel bike</td>\n",
       "      <td>Tsmeu-6 personal wheel bike</td>\n",
       "      <td>Z-Gomot Ternbuell Guppat Corporation</td>\n",
       "      <td>15000</td>\n",
       "      <td>3.5</td>\n",
       "      <td>330</td>\n",
       "      <td>1</td>\n",
       "      <td>1</td>\n",
       "      <td>10</td>\n",
       "      <td>none</td>\n",
       "      <td>wheeled walker</td>\n",
       "      <td>[79]</td>\n",
       "      <td>[6]</td>\n",
       "      <td>https://swapi.dev/api/vehicles/60/</td>\n",
       "    </tr>\n",
       "    <tr>\n",
       "      <th>21</th>\n",
       "      <td>22</td>\n",
       "      <td>Koro-2 Exodrive airspeeder</td>\n",
       "      <td>Koro-2 Exodrive airspeeder</td>\n",
       "      <td>Desler Gizh Outworld Mobility Corporation</td>\n",
       "      <td>unknown</td>\n",
       "      <td>6.6</td>\n",
       "      <td>800</td>\n",
       "      <td>1</td>\n",
       "      <td>1</td>\n",
       "      <td>80</td>\n",
       "      <td>unknown</td>\n",
       "      <td>airspeeder</td>\n",
       "      <td>[70]</td>\n",
       "      <td>[5]</td>\n",
       "      <td>https://swapi.dev/api/vehicles/45/</td>\n",
       "    </tr>\n",
       "    <tr>\n",
       "      <th>7</th>\n",
       "      <td>8</td>\n",
       "      <td>AT-ST</td>\n",
       "      <td>All Terrain Scout Transport</td>\n",
       "      <td>Kuat Drive Yards, Imperial Department of Milit...</td>\n",
       "      <td>unknown</td>\n",
       "      <td>2</td>\n",
       "      <td>90</td>\n",
       "      <td>2</td>\n",
       "      <td>0</td>\n",
       "      <td>200</td>\n",
       "      <td>none</td>\n",
       "      <td>walker</td>\n",
       "      <td>[13]</td>\n",
       "      <td>[2, 3]</td>\n",
       "      <td>https://swapi.dev/api/vehicles/19/</td>\n",
       "    </tr>\n",
       "    <tr>\n",
       "      <th>26</th>\n",
       "      <td>27</td>\n",
       "      <td>SPHA</td>\n",
       "      <td>Self-Propelled Heavy Artillery</td>\n",
       "      <td>Rothana Heavy Engineering</td>\n",
       "      <td>unknown</td>\n",
       "      <td>140</td>\n",
       "      <td>35</td>\n",
       "      <td>25</td>\n",
       "      <td>30</td>\n",
       "      <td>500</td>\n",
       "      <td>7 days</td>\n",
       "      <td>walker</td>\n",
       "      <td>[]</td>\n",
       "      <td>[5]</td>\n",
       "      <td>https://swapi.dev/api/vehicles/54/</td>\n",
       "    </tr>\n",
       "    <tr>\n",
       "      <th>9</th>\n",
       "      <td>10</td>\n",
       "      <td>Sail barge</td>\n",
       "      <td>Modified Luxury Sail Barge</td>\n",
       "      <td>Ubrikkian Industries Custom Vehicle Division</td>\n",
       "      <td>285000</td>\n",
       "      <td>30</td>\n",
       "      <td>100</td>\n",
       "      <td>26</td>\n",
       "      <td>500</td>\n",
       "      <td>2000000</td>\n",
       "      <td>Live food tanks</td>\n",
       "      <td>sail barge</td>\n",
       "      <td>[]</td>\n",
       "      <td>[3]</td>\n",
       "      <td>https://swapi.dev/api/vehicles/24/</td>\n",
       "    </tr>\n",
       "  </tbody>\n",
       "</table>\n",
       "</div>"
      ],
      "text/plain": [
       "    vehicle_id                         name                           model  \\\n",
       "30          31  Tsmeu-6 personal wheel bike     Tsmeu-6 personal wheel bike   \n",
       "21          22   Koro-2 Exodrive airspeeder      Koro-2 Exodrive airspeeder   \n",
       "7            8                        AT-ST     All Terrain Scout Transport   \n",
       "26          27                         SPHA  Self-Propelled Heavy Artillery   \n",
       "9           10                   Sail barge      Modified Luxury Sail Barge   \n",
       "\n",
       "                                         manufacturer cost_in_credits length  \\\n",
       "30               Z-Gomot Ternbuell Guppat Corporation           15000    3.5   \n",
       "21          Desler Gizh Outworld Mobility Corporation         unknown    6.6   \n",
       "7   Kuat Drive Yards, Imperial Department of Milit...         unknown      2   \n",
       "26                          Rothana Heavy Engineering         unknown    140   \n",
       "9        Ubrikkian Industries Custom Vehicle Division          285000     30   \n",
       "\n",
       "   max_atmosphering_speed crew passengers cargo_capacity      consumables  \\\n",
       "30                    330    1          1             10             none   \n",
       "21                    800    1          1             80          unknown   \n",
       "7                      90    2          0            200             none   \n",
       "26                     35   25         30            500           7 days   \n",
       "9                     100   26        500        2000000  Live food tanks   \n",
       "\n",
       "     vehicle_class pilot_id film_id                                 url  \n",
       "30  wheeled walker     [79]     [6]  https://swapi.dev/api/vehicles/60/  \n",
       "21      airspeeder     [70]     [5]  https://swapi.dev/api/vehicles/45/  \n",
       "7           walker     [13]  [2, 3]  https://swapi.dev/api/vehicles/19/  \n",
       "26          walker       []     [5]  https://swapi.dev/api/vehicles/54/  \n",
       "9       sail barge       []     [3]  https://swapi.dev/api/vehicles/24/  "
      ]
     },
     "execution_count": 32,
     "metadata": {},
     "output_type": "execute_result"
    }
   ],
   "source": [
    "df = categories_dataframes['vehicles']\n",
    "df.sample(5)"
   ]
  },
  {
   "cell_type": "code",
   "execution_count": null,
   "id": "16f71fd9",
   "metadata": {},
   "outputs": [],
   "source": [
    "df.cost_in_credits = df.cost_in_credits.replace('unknown', np.nan)\n",
    "df.cost_in_credits = df.cost_in_credits.astype('float')"
   ]
  },
  {
   "cell_type": "code",
   "execution_count": null,
   "id": "dfe012ba",
   "metadata": {},
   "outputs": [],
   "source": [
    "for col in ['max_atmosphering_speed' ,'crew', 'passengers', 'cargo_capacity']:\n",
    "    df[col] = df[col].replace('unknown', np.nan).replace('none', np.nan)\n",
    "    df[col] = df[col].astype('float')"
   ]
  },
  {
   "cell_type": "code",
   "execution_count": null,
   "id": "96fa6ccf",
   "metadata": {},
   "outputs": [],
   "source": [
    "df.length = df.length.replace('unknown', np.nan)\n",
    "df.length = df.length.astype('float')"
   ]
  },
  {
   "cell_type": "code",
   "execution_count": null,
   "id": "158b20ae",
   "metadata": {},
   "outputs": [],
   "source": [
    "df.consumables = df.consumables.replace('0', 'none')"
   ]
  },
  {
   "cell_type": "markdown",
   "id": "4cc7aa12",
   "metadata": {},
   "source": [
    "### Clean starships"
   ]
  },
  {
   "cell_type": "code",
   "execution_count": null,
   "id": "0a202666",
   "metadata": {},
   "outputs": [
    {
     "data": {
      "text/html": [
       "<div>\n",
       "<style scoped>\n",
       "    .dataframe tbody tr th:only-of-type {\n",
       "        vertical-align: middle;\n",
       "    }\n",
       "\n",
       "    .dataframe tbody tr th {\n",
       "        vertical-align: top;\n",
       "    }\n",
       "\n",
       "    .dataframe thead th {\n",
       "        text-align: right;\n",
       "    }\n",
       "</style>\n",
       "<table border=\"1\" class=\"dataframe\">\n",
       "  <thead>\n",
       "    <tr style=\"text-align: right;\">\n",
       "      <th></th>\n",
       "      <th>starship_id</th>\n",
       "      <th>name</th>\n",
       "      <th>model</th>\n",
       "      <th>manufacturer</th>\n",
       "      <th>cost_in_credits</th>\n",
       "      <th>length</th>\n",
       "      <th>max_atmosphering_speed</th>\n",
       "      <th>crew</th>\n",
       "      <th>passengers</th>\n",
       "      <th>cargo_capacity</th>\n",
       "      <th>consumables</th>\n",
       "      <th>hyperdrive_rating</th>\n",
       "      <th>MGLT</th>\n",
       "      <th>starship_class</th>\n",
       "      <th>pilot_id</th>\n",
       "      <th>film_id</th>\n",
       "      <th>url</th>\n",
       "    </tr>\n",
       "  </thead>\n",
       "  <tbody>\n",
       "    <tr>\n",
       "      <th>11</th>\n",
       "      <td>12</td>\n",
       "      <td>Imperial shuttle</td>\n",
       "      <td>Lambda-class T-4a shuttle</td>\n",
       "      <td>Sienar Fleet Systems</td>\n",
       "      <td>240000</td>\n",
       "      <td>20</td>\n",
       "      <td>850</td>\n",
       "      <td>6</td>\n",
       "      <td>20</td>\n",
       "      <td>80000</td>\n",
       "      <td>2 months</td>\n",
       "      <td>1.0</td>\n",
       "      <td>50</td>\n",
       "      <td>Armed government transport</td>\n",
       "      <td>[1, 13, 14]</td>\n",
       "      <td>[2, 3]</td>\n",
       "      <td>https://swapi.dev/api/starships/22/</td>\n",
       "    </tr>\n",
       "    <tr>\n",
       "      <th>20</th>\n",
       "      <td>21</td>\n",
       "      <td>Scimitar</td>\n",
       "      <td>Star Courier</td>\n",
       "      <td>Republic Sienar Systems</td>\n",
       "      <td>55000000</td>\n",
       "      <td>26.5</td>\n",
       "      <td>1180</td>\n",
       "      <td>1</td>\n",
       "      <td>6</td>\n",
       "      <td>2500000</td>\n",
       "      <td>30 days</td>\n",
       "      <td>1.5</td>\n",
       "      <td>unknown</td>\n",
       "      <td>Space Transport</td>\n",
       "      <td>[44]</td>\n",
       "      <td>[4]</td>\n",
       "      <td>https://swapi.dev/api/starships/41/</td>\n",
       "    </tr>\n",
       "    <tr>\n",
       "      <th>27</th>\n",
       "      <td>28</td>\n",
       "      <td>Trade Federation cruiser</td>\n",
       "      <td>Providence-class carrier/destroyer</td>\n",
       "      <td>Rendili StarDrive, Free Dac Volunteers Enginee...</td>\n",
       "      <td>125000000</td>\n",
       "      <td>1088</td>\n",
       "      <td>1050</td>\n",
       "      <td>600</td>\n",
       "      <td>48247</td>\n",
       "      <td>50000000</td>\n",
       "      <td>4 years</td>\n",
       "      <td>1.5</td>\n",
       "      <td>unknown</td>\n",
       "      <td>capital ship</td>\n",
       "      <td>[10, 11]</td>\n",
       "      <td>[6]</td>\n",
       "      <td>https://swapi.dev/api/starships/59/</td>\n",
       "    </tr>\n",
       "    <tr>\n",
       "      <th>13</th>\n",
       "      <td>14</td>\n",
       "      <td>Calamari Cruiser</td>\n",
       "      <td>MC80 Liberty type Star Cruiser</td>\n",
       "      <td>Mon Calamari shipyards</td>\n",
       "      <td>104000000</td>\n",
       "      <td>1200</td>\n",
       "      <td>n/a</td>\n",
       "      <td>5400</td>\n",
       "      <td>1200</td>\n",
       "      <td>unknown</td>\n",
       "      <td>2 years</td>\n",
       "      <td>1.0</td>\n",
       "      <td>60</td>\n",
       "      <td>Star Cruiser</td>\n",
       "      <td>[]</td>\n",
       "      <td>[3]</td>\n",
       "      <td>https://swapi.dev/api/starships/27/</td>\n",
       "    </tr>\n",
       "    <tr>\n",
       "      <th>4</th>\n",
       "      <td>5</td>\n",
       "      <td>Millennium Falcon</td>\n",
       "      <td>YT-1300 light freighter</td>\n",
       "      <td>Corellian Engineering Corporation</td>\n",
       "      <td>100000</td>\n",
       "      <td>34.37</td>\n",
       "      <td>1050</td>\n",
       "      <td>4</td>\n",
       "      <td>6</td>\n",
       "      <td>100000</td>\n",
       "      <td>2 months</td>\n",
       "      <td>0.5</td>\n",
       "      <td>75</td>\n",
       "      <td>Light freighter</td>\n",
       "      <td>[13, 14, 25, 31]</td>\n",
       "      <td>[1, 2, 3]</td>\n",
       "      <td>https://swapi.dev/api/starships/10/</td>\n",
       "    </tr>\n",
       "  </tbody>\n",
       "</table>\n",
       "</div>"
      ],
      "text/plain": [
       "    starship_id                      name                               model  \\\n",
       "11           12          Imperial shuttle           Lambda-class T-4a shuttle   \n",
       "20           21                  Scimitar                        Star Courier   \n",
       "27           28  Trade Federation cruiser  Providence-class carrier/destroyer   \n",
       "13           14          Calamari Cruiser      MC80 Liberty type Star Cruiser   \n",
       "4             5         Millennium Falcon             YT-1300 light freighter   \n",
       "\n",
       "                                         manufacturer cost_in_credits length  \\\n",
       "11                               Sienar Fleet Systems          240000     20   \n",
       "20                            Republic Sienar Systems        55000000   26.5   \n",
       "27  Rendili StarDrive, Free Dac Volunteers Enginee...       125000000   1088   \n",
       "13                             Mon Calamari shipyards       104000000   1200   \n",
       "4                   Corellian Engineering Corporation          100000  34.37   \n",
       "\n",
       "   max_atmosphering_speed  crew passengers cargo_capacity consumables  \\\n",
       "11                    850     6         20          80000    2 months   \n",
       "20                   1180     1          6        2500000     30 days   \n",
       "27                   1050   600      48247       50000000     4 years   \n",
       "13                    n/a  5400       1200        unknown     2 years   \n",
       "4                    1050     4          6         100000    2 months   \n",
       "\n",
       "   hyperdrive_rating     MGLT              starship_class          pilot_id  \\\n",
       "11               1.0       50  Armed government transport       [1, 13, 14]   \n",
       "20               1.5  unknown             Space Transport              [44]   \n",
       "27               1.5  unknown                capital ship          [10, 11]   \n",
       "13               1.0       60                Star Cruiser                []   \n",
       "4                0.5       75             Light freighter  [13, 14, 25, 31]   \n",
       "\n",
       "      film_id                                  url  \n",
       "11     [2, 3]  https://swapi.dev/api/starships/22/  \n",
       "20        [4]  https://swapi.dev/api/starships/41/  \n",
       "27        [6]  https://swapi.dev/api/starships/59/  \n",
       "13        [3]  https://swapi.dev/api/starships/27/  \n",
       "4   [1, 2, 3]  https://swapi.dev/api/starships/10/  "
      ]
     },
     "execution_count": 37,
     "metadata": {},
     "output_type": "execute_result"
    }
   ],
   "source": [
    "df = categories_dataframes['starships']\n",
    "df.sample(5)"
   ]
  },
  {
   "cell_type": "code",
   "execution_count": null,
   "id": "383f66bc",
   "metadata": {},
   "outputs": [],
   "source": [
    "df.loc[0, 'crew'] = 165"
   ]
  },
  {
   "cell_type": "code",
   "execution_count": null,
   "id": "ccce4cb8",
   "metadata": {},
   "outputs": [],
   "source": [
    "for col in ['cost_in_credits', 'length', 'max_atmosphering_speed', 'crew', 'passengers', 'cargo_capacity', 'hyperdrive_rating', 'MGLT']:\n",
    "    try:\n",
    "        df[col] = df[col].replace('unknown', np.nan).replace('none', np.nan).replace('n/a', np.nan)\n",
    "        df[col] = df[col].str.replace(',', '', regex = False).str.replace('km', '')\n",
    "        #df[col] = df[col].astype('float')\n",
    "    except Exception as e:\n",
    "        print(f'Error in {col}: {e}')"
   ]
  },
  {
   "cell_type": "code",
   "execution_count": null,
   "id": "6e758414",
   "metadata": {},
   "outputs": [],
   "source": [
    "for col in ['cost_in_credits', 'length', 'max_atmosphering_speed', 'crew', 'passengers', 'cargo_capacity', 'hyperdrive_rating', 'MGLT']:\n",
    "    try:\n",
    "        df[col] = df[col].astype('float')\n",
    "    except:\n",
    "        print(f'error with {col}')"
   ]
  },
  {
   "cell_type": "code",
   "execution_count": null,
   "id": "5839e874",
   "metadata": {},
   "outputs": [
    {
     "data": {
      "text/html": [
       "<div>\n",
       "<style scoped>\n",
       "    .dataframe tbody tr th:only-of-type {\n",
       "        vertical-align: middle;\n",
       "    }\n",
       "\n",
       "    .dataframe tbody tr th {\n",
       "        vertical-align: top;\n",
       "    }\n",
       "\n",
       "    .dataframe thead th {\n",
       "        text-align: right;\n",
       "    }\n",
       "</style>\n",
       "<table border=\"1\" class=\"dataframe\">\n",
       "  <thead>\n",
       "    <tr style=\"text-align: right;\">\n",
       "      <th></th>\n",
       "      <th>character_id</th>\n",
       "      <th>name</th>\n",
       "      <th>height</th>\n",
       "      <th>mass</th>\n",
       "      <th>hair_color</th>\n",
       "      <th>skin_color</th>\n",
       "      <th>eye_color</th>\n",
       "      <th>birth_year</th>\n",
       "      <th>gender</th>\n",
       "      <th>homeworld_id</th>\n",
       "      <th>film_id</th>\n",
       "      <th>species_id</th>\n",
       "      <th>vehicle_id</th>\n",
       "      <th>starship_id</th>\n",
       "      <th>url</th>\n",
       "    </tr>\n",
       "  </thead>\n",
       "  <tbody>\n",
       "    <tr>\n",
       "      <th>0</th>\n",
       "      <td>1</td>\n",
       "      <td>Luke Skywalker</td>\n",
       "      <td>172.0</td>\n",
       "      <td>77.0</td>\n",
       "      <td>blond</td>\n",
       "      <td>fair</td>\n",
       "      <td>blue</td>\n",
       "      <td>19 BBY</td>\n",
       "      <td>male</td>\n",
       "      <td>(1,)</td>\n",
       "      <td>(1, 2, 3, 6)</td>\n",
       "      <td>(1,)</td>\n",
       "      <td>(14, 30)</td>\n",
       "      <td>(12, 22)</td>\n",
       "      <td>https://swapi.dev/api/people/1/</td>\n",
       "    </tr>\n",
       "    <tr>\n",
       "      <th>1</th>\n",
       "      <td>2</td>\n",
       "      <td>C-3PO</td>\n",
       "      <td>167.0</td>\n",
       "      <td>75.0</td>\n",
       "      <td>NaN</td>\n",
       "      <td>gold</td>\n",
       "      <td>yellow</td>\n",
       "      <td>112 BBY</td>\n",
       "      <td>n/a</td>\n",
       "      <td>(1,)</td>\n",
       "      <td>(1, 2, 3, 4, 5, 6)</td>\n",
       "      <td>(2,)</td>\n",
       "      <td>()</td>\n",
       "      <td>()</td>\n",
       "      <td>https://swapi.dev/api/people/2/</td>\n",
       "    </tr>\n",
       "    <tr>\n",
       "      <th>2</th>\n",
       "      <td>3</td>\n",
       "      <td>R2-D2</td>\n",
       "      <td>96.0</td>\n",
       "      <td>32.0</td>\n",
       "      <td>NaN</td>\n",
       "      <td>white, blue</td>\n",
       "      <td>red</td>\n",
       "      <td>33 BBY</td>\n",
       "      <td>n/a</td>\n",
       "      <td>(8,)</td>\n",
       "      <td>(1, 2, 3, 4, 5, 6)</td>\n",
       "      <td>(2,)</td>\n",
       "      <td>()</td>\n",
       "      <td>()</td>\n",
       "      <td>https://swapi.dev/api/people/3/</td>\n",
       "    </tr>\n",
       "    <tr>\n",
       "      <th>3</th>\n",
       "      <td>4</td>\n",
       "      <td>Darth Vader</td>\n",
       "      <td>202.0</td>\n",
       "      <td>136.0</td>\n",
       "      <td>none</td>\n",
       "      <td>white</td>\n",
       "      <td>yellow</td>\n",
       "      <td>41.9 BBY</td>\n",
       "      <td>male</td>\n",
       "      <td>(1,)</td>\n",
       "      <td>(1, 2, 3, 6)</td>\n",
       "      <td>(1,)</td>\n",
       "      <td>()</td>\n",
       "      <td>(13,)</td>\n",
       "      <td>https://swapi.dev/api/people/4/</td>\n",
       "    </tr>\n",
       "    <tr>\n",
       "      <th>4</th>\n",
       "      <td>5</td>\n",
       "      <td>Leia Organa</td>\n",
       "      <td>150.0</td>\n",
       "      <td>49.0</td>\n",
       "      <td>brown</td>\n",
       "      <td>light</td>\n",
       "      <td>brown</td>\n",
       "      <td>19 BBY</td>\n",
       "      <td>female</td>\n",
       "      <td>(2,)</td>\n",
       "      <td>(1, 2, 3, 6)</td>\n",
       "      <td>(1,)</td>\n",
       "      <td>(30,)</td>\n",
       "      <td>()</td>\n",
       "      <td>https://swapi.dev/api/people/5/</td>\n",
       "    </tr>\n",
       "    <tr>\n",
       "      <th>...</th>\n",
       "      <td>...</td>\n",
       "      <td>...</td>\n",
       "      <td>...</td>\n",
       "      <td>...</td>\n",
       "      <td>...</td>\n",
       "      <td>...</td>\n",
       "      <td>...</td>\n",
       "      <td>...</td>\n",
       "      <td>...</td>\n",
       "      <td>...</td>\n",
       "      <td>...</td>\n",
       "      <td>...</td>\n",
       "      <td>...</td>\n",
       "      <td>...</td>\n",
       "      <td>...</td>\n",
       "    </tr>\n",
       "    <tr>\n",
       "      <th>77</th>\n",
       "      <td>78</td>\n",
       "      <td>Grievous</td>\n",
       "      <td>216.0</td>\n",
       "      <td>159.0</td>\n",
       "      <td>none</td>\n",
       "      <td>brown, white</td>\n",
       "      <td>green, yellow</td>\n",
       "      <td>unknown</td>\n",
       "      <td>male</td>\n",
       "      <td>(59,)</td>\n",
       "      <td>(6,)</td>\n",
       "      <td>(36,)</td>\n",
       "      <td>(60,)</td>\n",
       "      <td>(74,)</td>\n",
       "      <td>https://swapi.dev/api/people/79/</td>\n",
       "    </tr>\n",
       "    <tr>\n",
       "      <th>78</th>\n",
       "      <td>79</td>\n",
       "      <td>Tarfful</td>\n",
       "      <td>234.0</td>\n",
       "      <td>136.0</td>\n",
       "      <td>brown</td>\n",
       "      <td>brown</td>\n",
       "      <td>blue</td>\n",
       "      <td>unknown</td>\n",
       "      <td>male</td>\n",
       "      <td>(14,)</td>\n",
       "      <td>(6,)</td>\n",
       "      <td>(3,)</td>\n",
       "      <td>()</td>\n",
       "      <td>()</td>\n",
       "      <td>https://swapi.dev/api/people/80/</td>\n",
       "    </tr>\n",
       "    <tr>\n",
       "      <th>79</th>\n",
       "      <td>80</td>\n",
       "      <td>Raymus Antilles</td>\n",
       "      <td>188.0</td>\n",
       "      <td>79.0</td>\n",
       "      <td>brown</td>\n",
       "      <td>light</td>\n",
       "      <td>brown</td>\n",
       "      <td>unknown</td>\n",
       "      <td>male</td>\n",
       "      <td>(2,)</td>\n",
       "      <td>(1, 6)</td>\n",
       "      <td>(1,)</td>\n",
       "      <td>()</td>\n",
       "      <td>()</td>\n",
       "      <td>https://swapi.dev/api/people/81/</td>\n",
       "    </tr>\n",
       "    <tr>\n",
       "      <th>80</th>\n",
       "      <td>81</td>\n",
       "      <td>Sly Moore</td>\n",
       "      <td>178.0</td>\n",
       "      <td>48.0</td>\n",
       "      <td>none</td>\n",
       "      <td>pale</td>\n",
       "      <td>white</td>\n",
       "      <td>unknown</td>\n",
       "      <td>female</td>\n",
       "      <td>(60,)</td>\n",
       "      <td>(5, 6)</td>\n",
       "      <td>(1,)</td>\n",
       "      <td>()</td>\n",
       "      <td>()</td>\n",
       "      <td>https://swapi.dev/api/people/82/</td>\n",
       "    </tr>\n",
       "    <tr>\n",
       "      <th>81</th>\n",
       "      <td>82</td>\n",
       "      <td>Tion Medon</td>\n",
       "      <td>206.0</td>\n",
       "      <td>80.0</td>\n",
       "      <td>none</td>\n",
       "      <td>grey</td>\n",
       "      <td>black</td>\n",
       "      <td>unknown</td>\n",
       "      <td>male</td>\n",
       "      <td>(12,)</td>\n",
       "      <td>(6,)</td>\n",
       "      <td>(37,)</td>\n",
       "      <td>()</td>\n",
       "      <td>()</td>\n",
       "      <td>https://swapi.dev/api/people/83/</td>\n",
       "    </tr>\n",
       "  </tbody>\n",
       "</table>\n",
       "<p>82 rows × 15 columns</p>\n",
       "</div>"
      ],
      "text/plain": [
       "    character_id             name  height   mass hair_color    skin_color  \\\n",
       "0              1   Luke Skywalker   172.0   77.0      blond          fair   \n",
       "1              2            C-3PO   167.0   75.0        NaN          gold   \n",
       "2              3            R2-D2    96.0   32.0        NaN   white, blue   \n",
       "3              4      Darth Vader   202.0  136.0       none         white   \n",
       "4              5      Leia Organa   150.0   49.0      brown         light   \n",
       "..           ...              ...     ...    ...        ...           ...   \n",
       "77            78         Grievous   216.0  159.0       none  brown, white   \n",
       "78            79          Tarfful   234.0  136.0      brown         brown   \n",
       "79            80  Raymus Antilles   188.0   79.0      brown         light   \n",
       "80            81        Sly Moore   178.0   48.0       none          pale   \n",
       "81            82       Tion Medon   206.0   80.0       none          grey   \n",
       "\n",
       "        eye_color birth_year  gender homeworld_id             film_id  \\\n",
       "0            blue     19 BBY    male         (1,)        (1, 2, 3, 6)   \n",
       "1          yellow    112 BBY     n/a         (1,)  (1, 2, 3, 4, 5, 6)   \n",
       "2             red     33 BBY     n/a         (8,)  (1, 2, 3, 4, 5, 6)   \n",
       "3          yellow   41.9 BBY    male         (1,)        (1, 2, 3, 6)   \n",
       "4           brown     19 BBY  female         (2,)        (1, 2, 3, 6)   \n",
       "..            ...        ...     ...          ...                 ...   \n",
       "77  green, yellow    unknown    male        (59,)                (6,)   \n",
       "78           blue    unknown    male        (14,)                (6,)   \n",
       "79          brown    unknown    male         (2,)              (1, 6)   \n",
       "80          white    unknown  female        (60,)              (5, 6)   \n",
       "81          black    unknown    male        (12,)                (6,)   \n",
       "\n",
       "   species_id vehicle_id starship_id                               url  \n",
       "0        (1,)   (14, 30)    (12, 22)   https://swapi.dev/api/people/1/  \n",
       "1        (2,)         ()          ()   https://swapi.dev/api/people/2/  \n",
       "2        (2,)         ()          ()   https://swapi.dev/api/people/3/  \n",
       "3        (1,)         ()       (13,)   https://swapi.dev/api/people/4/  \n",
       "4        (1,)      (30,)          ()   https://swapi.dev/api/people/5/  \n",
       "..        ...        ...         ...                               ...  \n",
       "77      (36,)      (60,)       (74,)  https://swapi.dev/api/people/79/  \n",
       "78       (3,)         ()          ()  https://swapi.dev/api/people/80/  \n",
       "79       (1,)         ()          ()  https://swapi.dev/api/people/81/  \n",
       "80       (1,)         ()          ()  https://swapi.dev/api/people/82/  \n",
       "81      (37,)         ()          ()  https://swapi.dev/api/people/83/  \n",
       "\n",
       "[82 rows x 15 columns]"
      ]
     },
     "execution_count": 25,
     "metadata": {},
     "output_type": "execute_result"
    }
   ],
   "source": [
    "dataframes['people']"
   ]
  },
  {
   "cell_type": "markdown",
   "id": "fa452e06",
   "metadata": {},
   "source": [
    "## Export clean datasets into csv files"
   ]
  },
  {
   "cell_type": "code",
   "execution_count": 45,
   "id": "e809c02d",
   "metadata": {},
   "outputs": [
    {
     "name": "stdout",
     "output_type": "stream",
     "text": [
      "Dataframes of each normalized category are stored in ./data/csv/ as csv files!\n"
     ]
    }
   ],
   "source": [
    "data_path = './data'\n",
    "for cat in categories:\n",
    "    filename = f'{cat}_dataframe.csv'\n",
    "    if os.path.exists(f'{data_path}/csv/{filename}'):\n",
    "        print(f'File {filename} already exist!')\n",
    "        pass\n",
    "    else:\n",
    "        os.makedirs(f'{data_path}/csv/', exist_ok=True)\n",
    "        df = dataframes[cat]\n",
    "        df.to_csv(f'{data_path}/csv/{cat}_dataframe.csv', index = False)\n",
    "print(f'Dataframes of each normalized category are stored in {data_path}/csv/ as csv files!')"
   ]
  },
  {
   "cell_type": "markdown",
   "id": "68e88445",
   "metadata": {},
   "source": [
    "# Junction tables\n",
    "\n",
    "(many-to-many relationships in the database)\n",
    "\n",
    "1. **films_people_junction**: Links films to the characters that appeared in them.\n",
    "\n",
    "    - character_id: Foreign Key referencing the `people` table.\n",
    "    - film_id: Foreign Key referencing the films table.\n",
    "\n",
    "2. **films_planets_junction**: Links films to the planets that appeared in them.\n",
    "\n",
    "    - planet_id: Foreign Key referencing the `planets` table.\n",
    "    - film_id: Foreign Key referencing the `films` table.\n",
    "\n",
    "3. **films_starships_junction**: Links films to the starships that appeared in them.\n",
    "\n",
    "    - starship_id: Foreign Key referencing the `starships` table.\n",
    "    - film_id: Foreign Key referencing the `films` table.\n",
    "\n",
    "4. **films_vehicles_junction**: Links films to the vehicles that appeared in them.\n",
    "\n",
    "    - vehicle_id: Foreign Key referencing the `vehicles` table.\n",
    "    - film_id: Foreign Key referencing the `films` table.\n",
    "\n",
    "5. **films_species_junction**: Links films to the species that appeared in them.\n",
    "\n",
    "    - species_id: Foreign Key referencing the `species` table.\n",
    "    - film_id: Foreign Key referencing the `films` table.\n",
    "\n",
    "6. **people_starships_junction**: Links people (pilots) to the starships they have piloted.\n",
    "\n",
    "    - character_id: Foreign Key referencing the `people` table.\n",
    "    - starship_id: Foreign Key referencing the `starships` table.\n",
    "\n",
    "7. **people_vehicles_junction**: Links people (pilots) to the vehicles they have piloted.\n",
    "\n",
    "    - character_id: Foreign Key referencing the `people` table.\n",
    "    - vehicle_id: Foreign Key referencing the vehicles table."
   ]
  },
  {
   "cell_type": "code",
   "execution_count": 42,
   "id": "87438fff",
   "metadata": {},
   "outputs": [],
   "source": [
    "junction_tables = [\n",
    "    'people_vehicles_junction', \n",
    "    'people_starships_junction',\n",
    "    \n",
    "    'films_people_junction',\n",
    "    'films_planets_junction',\n",
    "    'films_starships_junction',\n",
    "    'films_vehicles_junction',\n",
    "    'films_species_junction'\n",
    "    ]\n",
    "\n",
    "junction_tables_dict = {i:None for i in junction_tables}"
   ]
  },
  {
   "cell_type": "markdown",
   "id": "a46b4959",
   "metadata": {},
   "source": [
    "## Junction tables for films:"
   ]
  },
  {
   "cell_type": "code",
   "execution_count": 43,
   "id": "ca7e10a8",
   "metadata": {},
   "outputs": [],
   "source": [
    "data = dataframes['films'].loc[:, ['species_id', 'planet_id', 'film_id', 'vehicle_id', 'starship_id']]"
   ]
  },
  {
   "cell_type": "code",
   "execution_count": null,
   "id": "91dcd4b0",
   "metadata": {},
   "outputs": [],
   "source": [
    "# junction table for people and films\n",
    "junction_tables_dict['films_species_junction'] = data.explode('species_id').drop(['planet_id', 'vehicle_id', 'starship_id'], axis = 1)\n",
    "\n",
    "# junction table for people and vehicles\n",
    "junction_tables_dict['films_vehicles_junction'] = data.explode('vehicle_id').drop(['species_id', 'starship_id'], axis = 1).drop_duplicates()\n",
    "\n",
    "# junction table for people and starships\n",
    "junction_tables_dict['films_starships_junction'] = data.explode('starship_id').drop(['species_id', 'vehicle_id'], axis = 1).drop_duplicates()"
   ]
  },
  {
   "cell_type": "markdown",
   "id": "22091990",
   "metadata": {},
   "source": [
    "## Junction tables for films:"
   ]
  },
  {
   "cell_type": "code",
   "execution_count": 45,
   "id": "e7a4591b",
   "metadata": {},
   "outputs": [],
   "source": [
    "data = categories_dataframes['films'].loc[:, ['character_id', 'film_id', 'vehicle_id', 'starship_id']]\n",
    "\n",
    "# junction table for people and films\n",
    "junction_tables_dict['people_films_junction'] = data.explode('character_id').drop(['vehicle_id', 'starship_id'], axis = 1).drop_duplicates()\n",
    "\n",
    "# junction table for people and vehicles\n",
    "junction_tables_dict['people_vehicles_junction'] = data.explode('vehicle_id').explode('character_id').drop(['film_id', 'starship_id'], axis = 1).drop_duplicates()\n",
    "\n",
    "# junction table for people and starships\n",
    "junction_tables_dict['people_starships_junction'] = data.explode('starship_id').explode('character_id').drop(['film_id', 'vehicle_id'], axis = 1).drop_duplicates()"
   ]
  },
  {
   "cell_type": "code",
   "execution_count": 46,
   "id": "3965e61a",
   "metadata": {},
   "outputs": [
    {
     "data": {
      "text/html": [
       "<div>\n",
       "<style scoped>\n",
       "    .dataframe tbody tr th:only-of-type {\n",
       "        vertical-align: middle;\n",
       "    }\n",
       "\n",
       "    .dataframe tbody tr th {\n",
       "        vertical-align: top;\n",
       "    }\n",
       "\n",
       "    .dataframe thead th {\n",
       "        text-align: right;\n",
       "    }\n",
       "</style>\n",
       "<table border=\"1\" class=\"dataframe\">\n",
       "  <thead>\n",
       "    <tr style=\"text-align: right;\">\n",
       "      <th></th>\n",
       "      <th>character_id</th>\n",
       "      <th>starship_id</th>\n",
       "    </tr>\n",
       "  </thead>\n",
       "  <tbody>\n",
       "    <tr>\n",
       "      <th>0</th>\n",
       "      <td>1</td>\n",
       "      <td>2</td>\n",
       "    </tr>\n",
       "    <tr>\n",
       "      <th>0</th>\n",
       "      <td>2</td>\n",
       "      <td>2</td>\n",
       "    </tr>\n",
       "    <tr>\n",
       "      <th>0</th>\n",
       "      <td>3</td>\n",
       "      <td>2</td>\n",
       "    </tr>\n",
       "    <tr>\n",
       "      <th>0</th>\n",
       "      <td>4</td>\n",
       "      <td>2</td>\n",
       "    </tr>\n",
       "    <tr>\n",
       "      <th>0</th>\n",
       "      <td>5</td>\n",
       "      <td>2</td>\n",
       "    </tr>\n",
       "  </tbody>\n",
       "</table>\n",
       "</div>"
      ],
      "text/plain": [
       "  character_id starship_id\n",
       "0            1           2\n",
       "0            2           2\n",
       "0            3           2\n",
       "0            4           2\n",
       "0            5           2"
      ]
     },
     "execution_count": 46,
     "metadata": {},
     "output_type": "execute_result"
    }
   ],
   "source": [
    "junction_tables_dict['people_starships_junction'].head()"
   ]
  },
  {
   "cell_type": "markdown",
   "id": "40a47f02",
   "metadata": {},
   "source": [
    "# Normalization\n",
    "Next step is to normalize the datasets in order to create the database."
   ]
  },
  {
   "cell_type": "code",
   "execution_count": 47,
   "id": "d2eb76dd",
   "metadata": {},
   "outputs": [],
   "source": [
    "categories_dataframes_normalized = categories_dataframes.copy()"
   ]
  },
  {
   "cell_type": "code",
   "execution_count": 48,
   "id": "faee3899",
   "metadata": {},
   "outputs": [],
   "source": [
    "columns_to_drop = {\n",
    "    'films' : ['character_id', 'planet_id', 'species_id', 'vehicle_id', 'starship_id', 'url'],\n",
    "    'people' : ['film_id', 'species_id', 'vehicle_id', 'starship_id', 'url'],\n",
    "    'planets' : ['residents_id', 'film_id', 'url'],\n",
    "    'species' : ['character_id', 'film_id', 'url'],\n",
    "    'starships' : ['pilot_id', 'film_id', 'url'],\n",
    "    'vehicles' : ['pilot_id', 'film_id', 'url'],\n",
    "}  "
   ]
  },
  {
   "cell_type": "markdown",
   "id": "a4bdc187",
   "metadata": {},
   "source": [
    "### Drop the corresponding columns in order to normalize the tables"
   ]
  },
  {
   "cell_type": "code",
   "execution_count": 49,
   "id": "fd772369",
   "metadata": {},
   "outputs": [],
   "source": [
    "for cat in categories_dataframes_normalized.keys():\n",
    "    categories_dataframes_normalized[cat].drop(columns_to_drop[cat], axis='columns', inplace = True)"
   ]
  },
  {
   "cell_type": "markdown",
   "id": "30aaf7f3",
   "metadata": {},
   "source": [
    "## Store the normalized dataframes"
   ]
  },
  {
   "cell_type": "code",
   "execution_count": 50,
   "id": "e590d48c",
   "metadata": {},
   "outputs": [
    {
     "name": "stdout",
     "output_type": "stream",
     "text": [
      "Dataframes of each normalized category are stored in ./data/csv_normalized/ as csv files!\n"
     ]
    }
   ],
   "source": [
    "data_path = './data'\n",
    "for cat in categories:\n",
    "    filename = f'{cat}_dataframe.csv'\n",
    "    if os.path.exists(f'{data_path}/csv_normalized/{filename}'):\n",
    "        print(f'File {filename} already exist!')\n",
    "        pass\n",
    "    else:\n",
    "        os.makedirs(f'{data_path}/csv_normalized/', exist_ok=True)\n",
    "        df = categories_dataframes_normalized[cat]\n",
    "        df.to_csv(f'{data_path}/csv_normalized/{cat}_dataframe_normalized.csv', index = False)\n",
    "print(f'Dataframes of each normalized category are stored in {data_path}/csv_normalized/ as csv files!')"
   ]
  },
  {
   "cell_type": "markdown",
   "id": "f7f23ba8",
   "metadata": {},
   "source": [
    "## Example of joined people and their vehicles"
   ]
  },
  {
   "cell_type": "code",
   "execution_count": 51,
   "id": "b3ebb28d",
   "metadata": {},
   "outputs": [],
   "source": [
    "# df2 = pd.merge(people_vehicles_junction, categories_dataframes['people'], on='people_id', how = 'inner')\n",
    "# df2.rename(columns={'vehicles_id_x' : 'vehicles_id'}, inplace=True)\n",
    "\n",
    "# df2 = pd.merge(df2, categories_dataframes['vehicles'], on='vehicles_id')\n",
    "# #df2.drop(['people_id', 'vehicles_id'], axis = 1)\n",
    "# df2.head()"
   ]
  },
  {
   "cell_type": "code",
   "execution_count": 52,
   "id": "43222c36",
   "metadata": {},
   "outputs": [],
   "source": [
    "# categories_dataframes['people']"
   ]
  },
  {
   "cell_type": "markdown",
   "id": "668144f5",
   "metadata": {},
   "source": [
    "# Insert data into the database"
   ]
  },
  {
   "cell_type": "markdown",
   "id": "59ba8429",
   "metadata": {},
   "source": [
    "## Load database parameters from `.env` file"
   ]
  },
  {
   "cell_type": "code",
   "execution_count": 53,
   "id": "b5bc23c2",
   "metadata": {},
   "outputs": [],
   "source": [
    "load_dotenv()\n",
    "\n",
    "DB_USER = os.getenv(\"DB_USER\")\n",
    "DB_PASS = os.getenv(\"DB_PASSWORD\")\n",
    "DB_HOST = os.getenv(\"DB_HOST\")\n",
    "DB_PORT = os.getenv(\"DB_PORT\")\n",
    "DB_NAME = os.getenv(\"DB_NAME\")"
   ]
  },
  {
   "cell_type": "markdown",
   "id": "cd3bd35c",
   "metadata": {},
   "source": [
    "## Create the db connection"
   ]
  },
  {
   "cell_type": "code",
   "execution_count": 60,
   "id": "f23c5fab",
   "metadata": {},
   "outputs": [
    {
     "name": "stdout",
     "output_type": "stream",
     "text": [
      "SQLAlchemy Engine created successfully. 🛠️\n"
     ]
    }
   ],
   "source": [
    "connection_string = (\n",
    "    f'mysql+pymysql://{DB_USER}:{DB_PASS}@{DB_HOST}:{DB_PORT}/{DB_NAME}'\n",
    ")\n",
    "\n",
    "# --- 4. Create the SQLAlchemy Engine ---\n",
    "try:\n",
    "    engine = create_engine(connection_string)\n",
    "    print(\"SQLAlchemy Engine created successfully. 🛠️\")\n",
    "except Exception as e:\n",
    "    print(f\"Error creating engine: {e}\")"
   ]
  },
  {
   "cell_type": "markdown",
   "id": "5b78c708",
   "metadata": {},
   "source": [
    "## Populate the data into the database\n",
    "\n",
    "The order of tables to be filled must be:\n",
    "1. planets\n",
    "2. species\n",
    "3. starships\n",
    "4. vehicles\n",
    "5. films\n",
    "6. people"
   ]
  },
  {
   "cell_type": "code",
   "execution_count": null,
   "id": "a28477f4",
   "metadata": {},
   "outputs": [],
   "source": [
    "categories_sorted = ['planets', 'species', 'vehicles', 'starships', 'films', 'people']\n",
    "insert = False"
   ]
  },
  {
   "cell_type": "markdown",
   "id": "0c02f0a7",
   "metadata": {},
   "source": [
    "### Check if the database exists and has data stored"
   ]
  },
  {
   "cell_type": "code",
   "execution_count": 70,
   "id": "e7f14630",
   "metadata": {},
   "outputs": [],
   "source": [
    "def insert_category(cat, dictionary):\n",
    "    df = dictionary[cat]\n",
    "    try:\n",
    "        df.to_sql(name=cat, con=engine, if_exists='append', index=False)\n",
    "        print(f\"DataFrame for category '{cat}' inserted successfully into the database. ✅\\n\\n\")\n",
    "    except Exception as e:\n",
    "        print(f\"\\\\ Error inserting DataFrame for category '{cat}': \\n{e}\\n\\n\")"
   ]
  },
  {
   "cell_type": "code",
   "execution_count": 71,
   "id": "64bd1820",
   "metadata": {},
   "outputs": [
    {
     "name": "stdout",
     "output_type": "stream",
     "text": [
      "planets table already exists in database!\n",
      "species table already exists in database!\n",
      "vehicles table already exists in database!\n",
      "starships table already exists in database!\n",
      "films table already exists in database!\n",
      "people table already exists in database!\n"
     ]
    }
   ],
   "source": [
    "for cat in categories_sorted:\n",
    "    query = f'select * from {cat} limit 1 ;'\n",
    "    # if table is empty, fill it with the corresponding data\n",
    "    if pd.read_sql(query, con = engine).shape[0] == 0:\n",
    "        insert_category(cat, categories_dataframes_normalized)\n",
    "    else:\n",
    "        print(f'{cat} table already exists in database!')"
   ]
  },
  {
   "cell_type": "code",
   "execution_count": 57,
   "id": "67cc4ae7",
   "metadata": {},
   "outputs": [],
   "source": [
    "# junction_tables_dict['people_vehicles_junction']"
   ]
  },
  {
   "cell_type": "code",
   "execution_count": 74,
   "id": "075f3d7b",
   "metadata": {},
   "outputs": [
    {
     "ename": "ProgrammingError",
     "evalue": "(pymysql.err.ProgrammingError) (1146, \"Table 'starwars_db.people_films_junction' doesn't exist\")\n[SQL: select * from people_films_junction limit 1 ;]\n(Background on this error at: https://sqlalche.me/e/20/f405)",
     "output_type": "error",
     "traceback": [
      "\u001b[31m---------------------------------------------------------------------------\u001b[39m",
      "\u001b[31mProgrammingError\u001b[39m                          Traceback (most recent call last)",
      "\u001b[36mFile \u001b[39m\u001b[32m~/venv/lib/python3.13/site-packages/sqlalchemy/engine/base.py:1967\u001b[39m, in \u001b[36mConnection._exec_single_context\u001b[39m\u001b[34m(self, dialect, context, statement, parameters)\u001b[39m\n\u001b[32m   1966\u001b[39m     \u001b[38;5;28;01mif\u001b[39;00m \u001b[38;5;129;01mnot\u001b[39;00m evt_handled:\n\u001b[32m-> \u001b[39m\u001b[32m1967\u001b[39m         \u001b[38;5;28;43mself\u001b[39;49m\u001b[43m.\u001b[49m\u001b[43mdialect\u001b[49m\u001b[43m.\u001b[49m\u001b[43mdo_execute\u001b[49m\u001b[43m(\u001b[49m\n\u001b[32m   1968\u001b[39m \u001b[43m            \u001b[49m\u001b[43mcursor\u001b[49m\u001b[43m,\u001b[49m\u001b[43m \u001b[49m\u001b[43mstr_statement\u001b[49m\u001b[43m,\u001b[49m\u001b[43m \u001b[49m\u001b[43meffective_parameters\u001b[49m\u001b[43m,\u001b[49m\u001b[43m \u001b[49m\u001b[43mcontext\u001b[49m\n\u001b[32m   1969\u001b[39m \u001b[43m        \u001b[49m\u001b[43m)\u001b[49m\n\u001b[32m   1971\u001b[39m \u001b[38;5;28;01mif\u001b[39;00m \u001b[38;5;28mself\u001b[39m._has_events \u001b[38;5;129;01mor\u001b[39;00m \u001b[38;5;28mself\u001b[39m.engine._has_events:\n",
      "\u001b[36mFile \u001b[39m\u001b[32m~/venv/lib/python3.13/site-packages/sqlalchemy/engine/default.py:951\u001b[39m, in \u001b[36mDefaultDialect.do_execute\u001b[39m\u001b[34m(self, cursor, statement, parameters, context)\u001b[39m\n\u001b[32m    950\u001b[39m \u001b[38;5;28;01mdef\u001b[39;00m\u001b[38;5;250m \u001b[39m\u001b[34mdo_execute\u001b[39m(\u001b[38;5;28mself\u001b[39m, cursor, statement, parameters, context=\u001b[38;5;28;01mNone\u001b[39;00m):\n\u001b[32m--> \u001b[39m\u001b[32m951\u001b[39m     \u001b[43mcursor\u001b[49m\u001b[43m.\u001b[49m\u001b[43mexecute\u001b[49m\u001b[43m(\u001b[49m\u001b[43mstatement\u001b[49m\u001b[43m,\u001b[49m\u001b[43m \u001b[49m\u001b[43mparameters\u001b[49m\u001b[43m)\u001b[49m\n",
      "\u001b[36mFile \u001b[39m\u001b[32m~/venv/lib/python3.13/site-packages/pymysql/cursors.py:153\u001b[39m, in \u001b[36mCursor.execute\u001b[39m\u001b[34m(self, query, args)\u001b[39m\n\u001b[32m    151\u001b[39m query = \u001b[38;5;28mself\u001b[39m.mogrify(query, args)\n\u001b[32m--> \u001b[39m\u001b[32m153\u001b[39m result = \u001b[38;5;28;43mself\u001b[39;49m\u001b[43m.\u001b[49m\u001b[43m_query\u001b[49m\u001b[43m(\u001b[49m\u001b[43mquery\u001b[49m\u001b[43m)\u001b[49m\n\u001b[32m    154\u001b[39m \u001b[38;5;28mself\u001b[39m._executed = query\n",
      "\u001b[36mFile \u001b[39m\u001b[32m~/venv/lib/python3.13/site-packages/pymysql/cursors.py:322\u001b[39m, in \u001b[36mCursor._query\u001b[39m\u001b[34m(self, q)\u001b[39m\n\u001b[32m    321\u001b[39m \u001b[38;5;28mself\u001b[39m._clear_result()\n\u001b[32m--> \u001b[39m\u001b[32m322\u001b[39m \u001b[43mconn\u001b[49m\u001b[43m.\u001b[49m\u001b[43mquery\u001b[49m\u001b[43m(\u001b[49m\u001b[43mq\u001b[49m\u001b[43m)\u001b[49m\n\u001b[32m    323\u001b[39m \u001b[38;5;28mself\u001b[39m._do_get_result()\n",
      "\u001b[36mFile \u001b[39m\u001b[32m~/venv/lib/python3.13/site-packages/pymysql/connections.py:575\u001b[39m, in \u001b[36mConnection.query\u001b[39m\u001b[34m(self, sql, unbuffered)\u001b[39m\n\u001b[32m    574\u001b[39m \u001b[38;5;28mself\u001b[39m._execute_command(COMMAND.COM_QUERY, sql)\n\u001b[32m--> \u001b[39m\u001b[32m575\u001b[39m \u001b[38;5;28mself\u001b[39m._affected_rows = \u001b[38;5;28;43mself\u001b[39;49m\u001b[43m.\u001b[49m\u001b[43m_read_query_result\u001b[49m\u001b[43m(\u001b[49m\u001b[43munbuffered\u001b[49m\u001b[43m=\u001b[49m\u001b[43munbuffered\u001b[49m\u001b[43m)\u001b[49m\n\u001b[32m    576\u001b[39m \u001b[38;5;28;01mreturn\u001b[39;00m \u001b[38;5;28mself\u001b[39m._affected_rows\n",
      "\u001b[36mFile \u001b[39m\u001b[32m~/venv/lib/python3.13/site-packages/pymysql/connections.py:826\u001b[39m, in \u001b[36mConnection._read_query_result\u001b[39m\u001b[34m(self, unbuffered)\u001b[39m\n\u001b[32m    825\u001b[39m \u001b[38;5;28;01melse\u001b[39;00m:\n\u001b[32m--> \u001b[39m\u001b[32m826\u001b[39m     \u001b[43mresult\u001b[49m\u001b[43m.\u001b[49m\u001b[43mread\u001b[49m\u001b[43m(\u001b[49m\u001b[43m)\u001b[49m\n\u001b[32m    827\u001b[39m \u001b[38;5;28mself\u001b[39m._result = result\n",
      "\u001b[36mFile \u001b[39m\u001b[32m~/venv/lib/python3.13/site-packages/pymysql/connections.py:1203\u001b[39m, in \u001b[36mMySQLResult.read\u001b[39m\u001b[34m(self)\u001b[39m\n\u001b[32m   1202\u001b[39m \u001b[38;5;28;01mtry\u001b[39;00m:\n\u001b[32m-> \u001b[39m\u001b[32m1203\u001b[39m     first_packet = \u001b[38;5;28;43mself\u001b[39;49m\u001b[43m.\u001b[49m\u001b[43mconnection\u001b[49m\u001b[43m.\u001b[49m\u001b[43m_read_packet\u001b[49m\u001b[43m(\u001b[49m\u001b[43m)\u001b[49m\n\u001b[32m   1205\u001b[39m     \u001b[38;5;28;01mif\u001b[39;00m first_packet.is_ok_packet():\n",
      "\u001b[36mFile \u001b[39m\u001b[32m~/venv/lib/python3.13/site-packages/pymysql/connections.py:782\u001b[39m, in \u001b[36mConnection._read_packet\u001b[39m\u001b[34m(self, packet_type)\u001b[39m\n\u001b[32m    781\u001b[39m         \u001b[38;5;28mself\u001b[39m._result.unbuffered_active = \u001b[38;5;28;01mFalse\u001b[39;00m\n\u001b[32m--> \u001b[39m\u001b[32m782\u001b[39m     \u001b[43mpacket\u001b[49m\u001b[43m.\u001b[49m\u001b[43mraise_for_error\u001b[49m\u001b[43m(\u001b[49m\u001b[43m)\u001b[49m\n\u001b[32m    783\u001b[39m \u001b[38;5;28;01mreturn\u001b[39;00m packet\n",
      "\u001b[36mFile \u001b[39m\u001b[32m~/venv/lib/python3.13/site-packages/pymysql/protocol.py:219\u001b[39m, in \u001b[36mMysqlPacket.raise_for_error\u001b[39m\u001b[34m(self)\u001b[39m\n\u001b[32m    218\u001b[39m     \u001b[38;5;28mprint\u001b[39m(\u001b[33m\"\u001b[39m\u001b[33merrno =\u001b[39m\u001b[33m\"\u001b[39m, errno)\n\u001b[32m--> \u001b[39m\u001b[32m219\u001b[39m \u001b[43merr\u001b[49m\u001b[43m.\u001b[49m\u001b[43mraise_mysql_exception\u001b[49m\u001b[43m(\u001b[49m\u001b[38;5;28;43mself\u001b[39;49m\u001b[43m.\u001b[49m\u001b[43m_data\u001b[49m\u001b[43m)\u001b[49m\n",
      "\u001b[36mFile \u001b[39m\u001b[32m~/venv/lib/python3.13/site-packages/pymysql/err.py:150\u001b[39m, in \u001b[36mraise_mysql_exception\u001b[39m\u001b[34m(data)\u001b[39m\n\u001b[32m    149\u001b[39m     errorclass = InternalError \u001b[38;5;28;01mif\u001b[39;00m errno < \u001b[32m1000\u001b[39m \u001b[38;5;28;01melse\u001b[39;00m OperationalError\n\u001b[32m--> \u001b[39m\u001b[32m150\u001b[39m \u001b[38;5;28;01mraise\u001b[39;00m errorclass(errno, errval)\n",
      "\u001b[31mProgrammingError\u001b[39m: (1146, \"Table 'starwars_db.people_films_junction' doesn't exist\")",
      "\nThe above exception was the direct cause of the following exception:\n",
      "\u001b[31mProgrammingError\u001b[39m                          Traceback (most recent call last)",
      "\u001b[36mCell\u001b[39m\u001b[36m \u001b[39m\u001b[32mIn[74]\u001b[39m\u001b[32m, line 4\u001b[39m\n\u001b[32m      2\u001b[39m query = \u001b[33mf\u001b[39m\u001b[33m'\u001b[39m\u001b[33mselect * from \u001b[39m\u001b[38;5;132;01m{\u001b[39;00mtable\u001b[38;5;132;01m}\u001b[39;00m\u001b[33m limit 1 ;\u001b[39m\u001b[33m'\u001b[39m\n\u001b[32m      3\u001b[39m \u001b[38;5;66;03m# if table is empty, fill it with the corresponding data\u001b[39;00m\n\u001b[32m----> \u001b[39m\u001b[32m4\u001b[39m \u001b[38;5;28;01mif\u001b[39;00m \u001b[43mpd\u001b[49m\u001b[43m.\u001b[49m\u001b[43mread_sql\u001b[49m\u001b[43m(\u001b[49m\u001b[43mquery\u001b[49m\u001b[43m,\u001b[49m\u001b[43m \u001b[49m\u001b[43mcon\u001b[49m\u001b[43m \u001b[49m\u001b[43m=\u001b[49m\u001b[43m \u001b[49m\u001b[43mengine\u001b[49m\u001b[43m)\u001b[49m.shape[\u001b[32m0\u001b[39m] == \u001b[32m0\u001b[39m:\n\u001b[32m      5\u001b[39m     insert_category(table, junction_tables_dict)\n\u001b[32m      6\u001b[39m \u001b[38;5;28;01melse\u001b[39;00m:\n",
      "\u001b[36mFile \u001b[39m\u001b[32m~/venv/lib/python3.13/site-packages/pandas/io/sql.py:736\u001b[39m, in \u001b[36mread_sql\u001b[39m\u001b[34m(sql, con, index_col, coerce_float, params, parse_dates, columns, chunksize, dtype_backend, dtype)\u001b[39m\n\u001b[32m    726\u001b[39m     \u001b[38;5;28;01mreturn\u001b[39;00m pandas_sql.read_table(\n\u001b[32m    727\u001b[39m         sql,\n\u001b[32m    728\u001b[39m         index_col=index_col,\n\u001b[32m   (...)\u001b[39m\u001b[32m    733\u001b[39m         dtype_backend=dtype_backend,\n\u001b[32m    734\u001b[39m     )\n\u001b[32m    735\u001b[39m \u001b[38;5;28;01melse\u001b[39;00m:\n\u001b[32m--> \u001b[39m\u001b[32m736\u001b[39m     \u001b[38;5;28;01mreturn\u001b[39;00m \u001b[43mpandas_sql\u001b[49m\u001b[43m.\u001b[49m\u001b[43mread_query\u001b[49m\u001b[43m(\u001b[49m\n\u001b[32m    737\u001b[39m \u001b[43m        \u001b[49m\u001b[43msql\u001b[49m\u001b[43m,\u001b[49m\n\u001b[32m    738\u001b[39m \u001b[43m        \u001b[49m\u001b[43mindex_col\u001b[49m\u001b[43m=\u001b[49m\u001b[43mindex_col\u001b[49m\u001b[43m,\u001b[49m\n\u001b[32m    739\u001b[39m \u001b[43m        \u001b[49m\u001b[43mparams\u001b[49m\u001b[43m=\u001b[49m\u001b[43mparams\u001b[49m\u001b[43m,\u001b[49m\n\u001b[32m    740\u001b[39m \u001b[43m        \u001b[49m\u001b[43mcoerce_float\u001b[49m\u001b[43m=\u001b[49m\u001b[43mcoerce_float\u001b[49m\u001b[43m,\u001b[49m\n\u001b[32m    741\u001b[39m \u001b[43m        \u001b[49m\u001b[43mparse_dates\u001b[49m\u001b[43m=\u001b[49m\u001b[43mparse_dates\u001b[49m\u001b[43m,\u001b[49m\n\u001b[32m    742\u001b[39m \u001b[43m        \u001b[49m\u001b[43mchunksize\u001b[49m\u001b[43m=\u001b[49m\u001b[43mchunksize\u001b[49m\u001b[43m,\u001b[49m\n\u001b[32m    743\u001b[39m \u001b[43m        \u001b[49m\u001b[43mdtype_backend\u001b[49m\u001b[43m=\u001b[49m\u001b[43mdtype_backend\u001b[49m\u001b[43m,\u001b[49m\n\u001b[32m    744\u001b[39m \u001b[43m        \u001b[49m\u001b[43mdtype\u001b[49m\u001b[43m=\u001b[49m\u001b[43mdtype\u001b[49m\u001b[43m,\u001b[49m\n\u001b[32m    745\u001b[39m \u001b[43m    \u001b[49m\u001b[43m)\u001b[49m\n",
      "\u001b[36mFile \u001b[39m\u001b[32m~/venv/lib/python3.13/site-packages/pandas/io/sql.py:1848\u001b[39m, in \u001b[36mSQLDatabase.read_query\u001b[39m\u001b[34m(self, sql, index_col, coerce_float, parse_dates, params, chunksize, dtype, dtype_backend)\u001b[39m\n\u001b[32m   1791\u001b[39m \u001b[38;5;28;01mdef\u001b[39;00m\u001b[38;5;250m \u001b[39m\u001b[34mread_query\u001b[39m(\n\u001b[32m   1792\u001b[39m     \u001b[38;5;28mself\u001b[39m,\n\u001b[32m   1793\u001b[39m     sql: \u001b[38;5;28mstr\u001b[39m,\n\u001b[32m   (...)\u001b[39m\u001b[32m   1800\u001b[39m     dtype_backend: DtypeBackend | Literal[\u001b[33m\"\u001b[39m\u001b[33mnumpy\u001b[39m\u001b[33m\"\u001b[39m] = \u001b[33m\"\u001b[39m\u001b[33mnumpy\u001b[39m\u001b[33m\"\u001b[39m,\n\u001b[32m   1801\u001b[39m ) -> DataFrame | Iterator[DataFrame]:\n\u001b[32m   1802\u001b[39m \u001b[38;5;250m    \u001b[39m\u001b[33;03m\"\"\"\u001b[39;00m\n\u001b[32m   1803\u001b[39m \u001b[33;03m    Read SQL query into a DataFrame.\u001b[39;00m\n\u001b[32m   1804\u001b[39m \n\u001b[32m   (...)\u001b[39m\u001b[32m   1846\u001b[39m \n\u001b[32m   1847\u001b[39m \u001b[33;03m    \"\"\"\u001b[39;00m\n\u001b[32m-> \u001b[39m\u001b[32m1848\u001b[39m     result = \u001b[38;5;28;43mself\u001b[39;49m\u001b[43m.\u001b[49m\u001b[43mexecute\u001b[49m\u001b[43m(\u001b[49m\u001b[43msql\u001b[49m\u001b[43m,\u001b[49m\u001b[43m \u001b[49m\u001b[43mparams\u001b[49m\u001b[43m)\u001b[49m\n\u001b[32m   1849\u001b[39m     columns = result.keys()\n\u001b[32m   1851\u001b[39m     \u001b[38;5;28;01mif\u001b[39;00m chunksize \u001b[38;5;129;01mis\u001b[39;00m \u001b[38;5;129;01mnot\u001b[39;00m \u001b[38;5;28;01mNone\u001b[39;00m:\n",
      "\u001b[36mFile \u001b[39m\u001b[32m~/venv/lib/python3.13/site-packages/pandas/io/sql.py:1671\u001b[39m, in \u001b[36mSQLDatabase.execute\u001b[39m\u001b[34m(self, sql, params)\u001b[39m\n\u001b[32m   1669\u001b[39m args = [] \u001b[38;5;28;01mif\u001b[39;00m params \u001b[38;5;129;01mis\u001b[39;00m \u001b[38;5;28;01mNone\u001b[39;00m \u001b[38;5;28;01melse\u001b[39;00m [params]\n\u001b[32m   1670\u001b[39m \u001b[38;5;28;01mif\u001b[39;00m \u001b[38;5;28misinstance\u001b[39m(sql, \u001b[38;5;28mstr\u001b[39m):\n\u001b[32m-> \u001b[39m\u001b[32m1671\u001b[39m     \u001b[38;5;28;01mreturn\u001b[39;00m \u001b[38;5;28;43mself\u001b[39;49m\u001b[43m.\u001b[49m\u001b[43mcon\u001b[49m\u001b[43m.\u001b[49m\u001b[43mexec_driver_sql\u001b[49m\u001b[43m(\u001b[49m\u001b[43msql\u001b[49m\u001b[43m,\u001b[49m\u001b[43m \u001b[49m\u001b[43m*\u001b[49m\u001b[43margs\u001b[49m\u001b[43m)\u001b[49m\n\u001b[32m   1672\u001b[39m \u001b[38;5;28;01mreturn\u001b[39;00m \u001b[38;5;28mself\u001b[39m.con.execute(sql, *args)\n",
      "\u001b[36mFile \u001b[39m\u001b[32m~/venv/lib/python3.13/site-packages/sqlalchemy/engine/base.py:1779\u001b[39m, in \u001b[36mConnection.exec_driver_sql\u001b[39m\u001b[34m(self, statement, parameters, execution_options)\u001b[39m\n\u001b[32m   1774\u001b[39m execution_options = \u001b[38;5;28mself\u001b[39m._execution_options.merge_with(\n\u001b[32m   1775\u001b[39m     execution_options\n\u001b[32m   1776\u001b[39m )\n\u001b[32m   1778\u001b[39m dialect = \u001b[38;5;28mself\u001b[39m.dialect\n\u001b[32m-> \u001b[39m\u001b[32m1779\u001b[39m ret = \u001b[38;5;28;43mself\u001b[39;49m\u001b[43m.\u001b[49m\u001b[43m_execute_context\u001b[49m\u001b[43m(\u001b[49m\n\u001b[32m   1780\u001b[39m \u001b[43m    \u001b[49m\u001b[43mdialect\u001b[49m\u001b[43m,\u001b[49m\n\u001b[32m   1781\u001b[39m \u001b[43m    \u001b[49m\u001b[43mdialect\u001b[49m\u001b[43m.\u001b[49m\u001b[43mexecution_ctx_cls\u001b[49m\u001b[43m.\u001b[49m\u001b[43m_init_statement\u001b[49m\u001b[43m,\u001b[49m\n\u001b[32m   1782\u001b[39m \u001b[43m    \u001b[49m\u001b[43mstatement\u001b[49m\u001b[43m,\u001b[49m\n\u001b[32m   1783\u001b[39m \u001b[43m    \u001b[49m\u001b[38;5;28;43;01mNone\u001b[39;49;00m\u001b[43m,\u001b[49m\n\u001b[32m   1784\u001b[39m \u001b[43m    \u001b[49m\u001b[43mexecution_options\u001b[49m\u001b[43m,\u001b[49m\n\u001b[32m   1785\u001b[39m \u001b[43m    \u001b[49m\u001b[43mstatement\u001b[49m\u001b[43m,\u001b[49m\n\u001b[32m   1786\u001b[39m \u001b[43m    \u001b[49m\u001b[43mdistilled_parameters\u001b[49m\u001b[43m,\u001b[49m\n\u001b[32m   1787\u001b[39m \u001b[43m\u001b[49m\u001b[43m)\u001b[49m\n\u001b[32m   1789\u001b[39m \u001b[38;5;28;01mreturn\u001b[39;00m ret\n",
      "\u001b[36mFile \u001b[39m\u001b[32m~/venv/lib/python3.13/site-packages/sqlalchemy/engine/base.py:1846\u001b[39m, in \u001b[36mConnection._execute_context\u001b[39m\u001b[34m(self, dialect, constructor, statement, parameters, execution_options, *args, **kw)\u001b[39m\n\u001b[32m   1844\u001b[39m     \u001b[38;5;28;01mreturn\u001b[39;00m \u001b[38;5;28mself\u001b[39m._exec_insertmany_context(dialect, context)\n\u001b[32m   1845\u001b[39m \u001b[38;5;28;01melse\u001b[39;00m:\n\u001b[32m-> \u001b[39m\u001b[32m1846\u001b[39m     \u001b[38;5;28;01mreturn\u001b[39;00m \u001b[38;5;28;43mself\u001b[39;49m\u001b[43m.\u001b[49m\u001b[43m_exec_single_context\u001b[49m\u001b[43m(\u001b[49m\n\u001b[32m   1847\u001b[39m \u001b[43m        \u001b[49m\u001b[43mdialect\u001b[49m\u001b[43m,\u001b[49m\u001b[43m \u001b[49m\u001b[43mcontext\u001b[49m\u001b[43m,\u001b[49m\u001b[43m \u001b[49m\u001b[43mstatement\u001b[49m\u001b[43m,\u001b[49m\u001b[43m \u001b[49m\u001b[43mparameters\u001b[49m\n\u001b[32m   1848\u001b[39m \u001b[43m    \u001b[49m\u001b[43m)\u001b[49m\n",
      "\u001b[36mFile \u001b[39m\u001b[32m~/venv/lib/python3.13/site-packages/sqlalchemy/engine/base.py:1986\u001b[39m, in \u001b[36mConnection._exec_single_context\u001b[39m\u001b[34m(self, dialect, context, statement, parameters)\u001b[39m\n\u001b[32m   1983\u001b[39m     result = context._setup_result_proxy()\n\u001b[32m   1985\u001b[39m \u001b[38;5;28;01mexcept\u001b[39;00m \u001b[38;5;167;01mBaseException\u001b[39;00m \u001b[38;5;28;01mas\u001b[39;00m e:\n\u001b[32m-> \u001b[39m\u001b[32m1986\u001b[39m     \u001b[38;5;28;43mself\u001b[39;49m\u001b[43m.\u001b[49m\u001b[43m_handle_dbapi_exception\u001b[49m\u001b[43m(\u001b[49m\n\u001b[32m   1987\u001b[39m \u001b[43m        \u001b[49m\u001b[43me\u001b[49m\u001b[43m,\u001b[49m\u001b[43m \u001b[49m\u001b[43mstr_statement\u001b[49m\u001b[43m,\u001b[49m\u001b[43m \u001b[49m\u001b[43meffective_parameters\u001b[49m\u001b[43m,\u001b[49m\u001b[43m \u001b[49m\u001b[43mcursor\u001b[49m\u001b[43m,\u001b[49m\u001b[43m \u001b[49m\u001b[43mcontext\u001b[49m\n\u001b[32m   1988\u001b[39m \u001b[43m    \u001b[49m\u001b[43m)\u001b[49m\n\u001b[32m   1990\u001b[39m \u001b[38;5;28;01mreturn\u001b[39;00m result\n",
      "\u001b[36mFile \u001b[39m\u001b[32m~/venv/lib/python3.13/site-packages/sqlalchemy/engine/base.py:2355\u001b[39m, in \u001b[36mConnection._handle_dbapi_exception\u001b[39m\u001b[34m(self, e, statement, parameters, cursor, context, is_sub_exec)\u001b[39m\n\u001b[32m   2353\u001b[39m \u001b[38;5;28;01melif\u001b[39;00m should_wrap:\n\u001b[32m   2354\u001b[39m     \u001b[38;5;28;01massert\u001b[39;00m sqlalchemy_exception \u001b[38;5;129;01mis\u001b[39;00m \u001b[38;5;129;01mnot\u001b[39;00m \u001b[38;5;28;01mNone\u001b[39;00m\n\u001b[32m-> \u001b[39m\u001b[32m2355\u001b[39m     \u001b[38;5;28;01mraise\u001b[39;00m sqlalchemy_exception.with_traceback(exc_info[\u001b[32m2\u001b[39m]) \u001b[38;5;28;01mfrom\u001b[39;00m\u001b[38;5;250m \u001b[39m\u001b[34;01me\u001b[39;00m\n\u001b[32m   2356\u001b[39m \u001b[38;5;28;01melse\u001b[39;00m:\n\u001b[32m   2357\u001b[39m     \u001b[38;5;28;01massert\u001b[39;00m exc_info[\u001b[32m1\u001b[39m] \u001b[38;5;129;01mis\u001b[39;00m \u001b[38;5;129;01mnot\u001b[39;00m \u001b[38;5;28;01mNone\u001b[39;00m\n",
      "\u001b[36mFile \u001b[39m\u001b[32m~/venv/lib/python3.13/site-packages/sqlalchemy/engine/base.py:1967\u001b[39m, in \u001b[36mConnection._exec_single_context\u001b[39m\u001b[34m(self, dialect, context, statement, parameters)\u001b[39m\n\u001b[32m   1965\u001b[39m                 \u001b[38;5;28;01mbreak\u001b[39;00m\n\u001b[32m   1966\u001b[39m     \u001b[38;5;28;01mif\u001b[39;00m \u001b[38;5;129;01mnot\u001b[39;00m evt_handled:\n\u001b[32m-> \u001b[39m\u001b[32m1967\u001b[39m         \u001b[38;5;28;43mself\u001b[39;49m\u001b[43m.\u001b[49m\u001b[43mdialect\u001b[49m\u001b[43m.\u001b[49m\u001b[43mdo_execute\u001b[49m\u001b[43m(\u001b[49m\n\u001b[32m   1968\u001b[39m \u001b[43m            \u001b[49m\u001b[43mcursor\u001b[49m\u001b[43m,\u001b[49m\u001b[43m \u001b[49m\u001b[43mstr_statement\u001b[49m\u001b[43m,\u001b[49m\u001b[43m \u001b[49m\u001b[43meffective_parameters\u001b[49m\u001b[43m,\u001b[49m\u001b[43m \u001b[49m\u001b[43mcontext\u001b[49m\n\u001b[32m   1969\u001b[39m \u001b[43m        \u001b[49m\u001b[43m)\u001b[49m\n\u001b[32m   1971\u001b[39m \u001b[38;5;28;01mif\u001b[39;00m \u001b[38;5;28mself\u001b[39m._has_events \u001b[38;5;129;01mor\u001b[39;00m \u001b[38;5;28mself\u001b[39m.engine._has_events:\n\u001b[32m   1972\u001b[39m     \u001b[38;5;28mself\u001b[39m.dispatch.after_cursor_execute(\n\u001b[32m   1973\u001b[39m         \u001b[38;5;28mself\u001b[39m,\n\u001b[32m   1974\u001b[39m         cursor,\n\u001b[32m   (...)\u001b[39m\u001b[32m   1978\u001b[39m         context.executemany,\n\u001b[32m   1979\u001b[39m     )\n",
      "\u001b[36mFile \u001b[39m\u001b[32m~/venv/lib/python3.13/site-packages/sqlalchemy/engine/default.py:951\u001b[39m, in \u001b[36mDefaultDialect.do_execute\u001b[39m\u001b[34m(self, cursor, statement, parameters, context)\u001b[39m\n\u001b[32m    950\u001b[39m \u001b[38;5;28;01mdef\u001b[39;00m\u001b[38;5;250m \u001b[39m\u001b[34mdo_execute\u001b[39m(\u001b[38;5;28mself\u001b[39m, cursor, statement, parameters, context=\u001b[38;5;28;01mNone\u001b[39;00m):\n\u001b[32m--> \u001b[39m\u001b[32m951\u001b[39m     \u001b[43mcursor\u001b[49m\u001b[43m.\u001b[49m\u001b[43mexecute\u001b[49m\u001b[43m(\u001b[49m\u001b[43mstatement\u001b[49m\u001b[43m,\u001b[49m\u001b[43m \u001b[49m\u001b[43mparameters\u001b[49m\u001b[43m)\u001b[49m\n",
      "\u001b[36mFile \u001b[39m\u001b[32m~/venv/lib/python3.13/site-packages/pymysql/cursors.py:153\u001b[39m, in \u001b[36mCursor.execute\u001b[39m\u001b[34m(self, query, args)\u001b[39m\n\u001b[32m    149\u001b[39m     \u001b[38;5;28;01mpass\u001b[39;00m\n\u001b[32m    151\u001b[39m query = \u001b[38;5;28mself\u001b[39m.mogrify(query, args)\n\u001b[32m--> \u001b[39m\u001b[32m153\u001b[39m result = \u001b[38;5;28;43mself\u001b[39;49m\u001b[43m.\u001b[49m\u001b[43m_query\u001b[49m\u001b[43m(\u001b[49m\u001b[43mquery\u001b[49m\u001b[43m)\u001b[49m\n\u001b[32m    154\u001b[39m \u001b[38;5;28mself\u001b[39m._executed = query\n\u001b[32m    155\u001b[39m \u001b[38;5;28;01mreturn\u001b[39;00m result\n",
      "\u001b[36mFile \u001b[39m\u001b[32m~/venv/lib/python3.13/site-packages/pymysql/cursors.py:322\u001b[39m, in \u001b[36mCursor._query\u001b[39m\u001b[34m(self, q)\u001b[39m\n\u001b[32m    320\u001b[39m conn = \u001b[38;5;28mself\u001b[39m._get_db()\n\u001b[32m    321\u001b[39m \u001b[38;5;28mself\u001b[39m._clear_result()\n\u001b[32m--> \u001b[39m\u001b[32m322\u001b[39m \u001b[43mconn\u001b[49m\u001b[43m.\u001b[49m\u001b[43mquery\u001b[49m\u001b[43m(\u001b[49m\u001b[43mq\u001b[49m\u001b[43m)\u001b[49m\n\u001b[32m    323\u001b[39m \u001b[38;5;28mself\u001b[39m._do_get_result()\n\u001b[32m    324\u001b[39m \u001b[38;5;28;01mreturn\u001b[39;00m \u001b[38;5;28mself\u001b[39m.rowcount\n",
      "\u001b[36mFile \u001b[39m\u001b[32m~/venv/lib/python3.13/site-packages/pymysql/connections.py:575\u001b[39m, in \u001b[36mConnection.query\u001b[39m\u001b[34m(self, sql, unbuffered)\u001b[39m\n\u001b[32m    573\u001b[39m     sql = sql.encode(\u001b[38;5;28mself\u001b[39m.encoding, \u001b[33m\"\u001b[39m\u001b[33msurrogateescape\u001b[39m\u001b[33m\"\u001b[39m)\n\u001b[32m    574\u001b[39m \u001b[38;5;28mself\u001b[39m._execute_command(COMMAND.COM_QUERY, sql)\n\u001b[32m--> \u001b[39m\u001b[32m575\u001b[39m \u001b[38;5;28mself\u001b[39m._affected_rows = \u001b[38;5;28;43mself\u001b[39;49m\u001b[43m.\u001b[49m\u001b[43m_read_query_result\u001b[49m\u001b[43m(\u001b[49m\u001b[43munbuffered\u001b[49m\u001b[43m=\u001b[49m\u001b[43munbuffered\u001b[49m\u001b[43m)\u001b[49m\n\u001b[32m    576\u001b[39m \u001b[38;5;28;01mreturn\u001b[39;00m \u001b[38;5;28mself\u001b[39m._affected_rows\n",
      "\u001b[36mFile \u001b[39m\u001b[32m~/venv/lib/python3.13/site-packages/pymysql/connections.py:826\u001b[39m, in \u001b[36mConnection._read_query_result\u001b[39m\u001b[34m(self, unbuffered)\u001b[39m\n\u001b[32m    824\u001b[39m     result.init_unbuffered_query()\n\u001b[32m    825\u001b[39m \u001b[38;5;28;01melse\u001b[39;00m:\n\u001b[32m--> \u001b[39m\u001b[32m826\u001b[39m     \u001b[43mresult\u001b[49m\u001b[43m.\u001b[49m\u001b[43mread\u001b[49m\u001b[43m(\u001b[49m\u001b[43m)\u001b[49m\n\u001b[32m    827\u001b[39m \u001b[38;5;28mself\u001b[39m._result = result\n\u001b[32m    828\u001b[39m \u001b[38;5;28;01mif\u001b[39;00m result.server_status \u001b[38;5;129;01mis\u001b[39;00m \u001b[38;5;129;01mnot\u001b[39;00m \u001b[38;5;28;01mNone\u001b[39;00m:\n",
      "\u001b[36mFile \u001b[39m\u001b[32m~/venv/lib/python3.13/site-packages/pymysql/connections.py:1203\u001b[39m, in \u001b[36mMySQLResult.read\u001b[39m\u001b[34m(self)\u001b[39m\n\u001b[32m   1201\u001b[39m \u001b[38;5;28;01mdef\u001b[39;00m\u001b[38;5;250m \u001b[39m\u001b[34mread\u001b[39m(\u001b[38;5;28mself\u001b[39m):\n\u001b[32m   1202\u001b[39m     \u001b[38;5;28;01mtry\u001b[39;00m:\n\u001b[32m-> \u001b[39m\u001b[32m1203\u001b[39m         first_packet = \u001b[38;5;28;43mself\u001b[39;49m\u001b[43m.\u001b[49m\u001b[43mconnection\u001b[49m\u001b[43m.\u001b[49m\u001b[43m_read_packet\u001b[49m\u001b[43m(\u001b[49m\u001b[43m)\u001b[49m\n\u001b[32m   1205\u001b[39m         \u001b[38;5;28;01mif\u001b[39;00m first_packet.is_ok_packet():\n\u001b[32m   1206\u001b[39m             \u001b[38;5;28mself\u001b[39m._read_ok_packet(first_packet)\n",
      "\u001b[36mFile \u001b[39m\u001b[32m~/venv/lib/python3.13/site-packages/pymysql/connections.py:782\u001b[39m, in \u001b[36mConnection._read_packet\u001b[39m\u001b[34m(self, packet_type)\u001b[39m\n\u001b[32m    780\u001b[39m     \u001b[38;5;28;01mif\u001b[39;00m \u001b[38;5;28mself\u001b[39m._result \u001b[38;5;129;01mis\u001b[39;00m \u001b[38;5;129;01mnot\u001b[39;00m \u001b[38;5;28;01mNone\u001b[39;00m \u001b[38;5;129;01mand\u001b[39;00m \u001b[38;5;28mself\u001b[39m._result.unbuffered_active \u001b[38;5;129;01mis\u001b[39;00m \u001b[38;5;28;01mTrue\u001b[39;00m:\n\u001b[32m    781\u001b[39m         \u001b[38;5;28mself\u001b[39m._result.unbuffered_active = \u001b[38;5;28;01mFalse\u001b[39;00m\n\u001b[32m--> \u001b[39m\u001b[32m782\u001b[39m     \u001b[43mpacket\u001b[49m\u001b[43m.\u001b[49m\u001b[43mraise_for_error\u001b[49m\u001b[43m(\u001b[49m\u001b[43m)\u001b[49m\n\u001b[32m    783\u001b[39m \u001b[38;5;28;01mreturn\u001b[39;00m packet\n",
      "\u001b[36mFile \u001b[39m\u001b[32m~/venv/lib/python3.13/site-packages/pymysql/protocol.py:219\u001b[39m, in \u001b[36mMysqlPacket.raise_for_error\u001b[39m\u001b[34m(self)\u001b[39m\n\u001b[32m    217\u001b[39m \u001b[38;5;28;01mif\u001b[39;00m DEBUG:\n\u001b[32m    218\u001b[39m     \u001b[38;5;28mprint\u001b[39m(\u001b[33m\"\u001b[39m\u001b[33merrno =\u001b[39m\u001b[33m\"\u001b[39m, errno)\n\u001b[32m--> \u001b[39m\u001b[32m219\u001b[39m \u001b[43merr\u001b[49m\u001b[43m.\u001b[49m\u001b[43mraise_mysql_exception\u001b[49m\u001b[43m(\u001b[49m\u001b[38;5;28;43mself\u001b[39;49m\u001b[43m.\u001b[49m\u001b[43m_data\u001b[49m\u001b[43m)\u001b[49m\n",
      "\u001b[36mFile \u001b[39m\u001b[32m~/venv/lib/python3.13/site-packages/pymysql/err.py:150\u001b[39m, in \u001b[36mraise_mysql_exception\u001b[39m\u001b[34m(data)\u001b[39m\n\u001b[32m    148\u001b[39m \u001b[38;5;28;01mif\u001b[39;00m errorclass \u001b[38;5;129;01mis\u001b[39;00m \u001b[38;5;28;01mNone\u001b[39;00m:\n\u001b[32m    149\u001b[39m     errorclass = InternalError \u001b[38;5;28;01mif\u001b[39;00m errno < \u001b[32m1000\u001b[39m \u001b[38;5;28;01melse\u001b[39;00m OperationalError\n\u001b[32m--> \u001b[39m\u001b[32m150\u001b[39m \u001b[38;5;28;01mraise\u001b[39;00m errorclass(errno, errval)\n",
      "\u001b[31mProgrammingError\u001b[39m: (pymysql.err.ProgrammingError) (1146, \"Table 'starwars_db.people_films_junction' doesn't exist\")\n[SQL: select * from people_films_junction limit 1 ;]\n(Background on this error at: https://sqlalche.me/e/20/f405)"
     ]
    }
   ],
   "source": [
    "for table in junction_tables_dict.keys():\n",
    "    query = f'select * from {table} limit 1 ;'\n",
    "    # if table is empty, fill it with the corresponding data\n",
    "    if pd.read_sql(query, con = engine).shape[0] == 0:\n",
    "        insert_category(table, junction_tables_dict)\n",
    "    else:\n",
    "        print(f'{cat} table already exists in database!') "
   ]
  },
  {
   "cell_type": "code",
   "execution_count": 59,
   "id": "234b4daf",
   "metadata": {},
   "outputs": [
    {
     "data": {
      "text/html": [
       "<div>\n",
       "<style scoped>\n",
       "    .dataframe tbody tr th:only-of-type {\n",
       "        vertical-align: middle;\n",
       "    }\n",
       "\n",
       "    .dataframe tbody tr th {\n",
       "        vertical-align: top;\n",
       "    }\n",
       "\n",
       "    .dataframe thead th {\n",
       "        text-align: right;\n",
       "    }\n",
       "</style>\n",
       "<table border=\"1\" class=\"dataframe\">\n",
       "  <thead>\n",
       "    <tr style=\"text-align: right;\">\n",
       "      <th></th>\n",
       "      <th>character_id</th>\n",
       "      <th>vehicle_id</th>\n",
       "    </tr>\n",
       "  </thead>\n",
       "  <tbody>\n",
       "    <tr>\n",
       "      <th>0</th>\n",
       "      <td>1</td>\n",
       "      <td>8</td>\n",
       "    </tr>\n",
       "  </tbody>\n",
       "</table>\n",
       "</div>"
      ],
      "text/plain": [
       "  character_id vehicle_id\n",
       "0            1          8"
      ]
     },
     "execution_count": 59,
     "metadata": {},
     "output_type": "execute_result"
    }
   ],
   "source": [
    "df = junction_tables_dict['people_vehicles_junction']\n",
    "df[(df.character_id == 1) & (df.vehicle_id == 8)]"
   ]
  },
  {
   "cell_type": "code",
   "execution_count": null,
   "id": "ba77f49f",
   "metadata": {},
   "outputs": [],
   "source": []
  }
 ],
 "metadata": {
  "kernelspec": {
   "display_name": "venv",
   "language": "python",
   "name": "python3"
  },
  "language_info": {
   "codemirror_mode": {
    "name": "ipython",
    "version": 3
   },
   "file_extension": ".py",
   "mimetype": "text/x-python",
   "name": "python",
   "nbconvert_exporter": "python",
   "pygments_lexer": "ipython3",
   "version": "3.13.7"
  }
 },
 "nbformat": 4,
 "nbformat_minor": 5
}
