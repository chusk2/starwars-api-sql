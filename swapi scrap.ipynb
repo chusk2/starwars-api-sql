{
 "cells": [
  {
   "cell_type": "code",
   "execution_count": 24,
   "id": "545f0530",
   "metadata": {},
   "outputs": [],
   "source": [
    "import requests as rq\n",
    "import pandas as pd\n",
    "import os\n",
    "import numpy as np\n",
    "import json"
   ]
  },
  {
   "cell_type": "code",
   "execution_count": 7,
   "id": "f43cf78c",
   "metadata": {},
   "outputs": [],
   "source": [
    "base_urls = {\n",
    "    \"films\": \"https://swapi.dev/api/films/\",\n",
    "    \"people\": \"https://swapi.dev/api/people/\",\n",
    "    \"planets\": \"https://swapi.dev/api/planets/\",\n",
    "    \"species\": \"https://swapi.dev/api/species/\",\n",
    "    \"starships\": \"https://swapi.dev/api/starships/\",\n",
    "    \"vehicles\": \"https://swapi.dev/api/vehicles/\"\n",
    "}"
   ]
  },
  {
   "cell_type": "code",
   "execution_count": 48,
   "id": "2db40ed4",
   "metadata": {},
   "outputs": [
    {
     "data": {
      "text/plain": [
       "['films', 'people', 'planets', 'species', 'starships', 'vehicles']"
      ]
     },
     "execution_count": 48,
     "metadata": {},
     "output_type": "execute_result"
    }
   ],
   "source": [
    "categories = list(base_urls.keys())\n",
    "categories"
   ]
  },
  {
   "cell_type": "code",
   "execution_count": 8,
   "id": "7ae41e05",
   "metadata": {},
   "outputs": [],
   "source": [
    "fields = {\n",
    "    'people' : [\"homeworld\", \"films\", \"species\", \"vehicles\", \"starships\"],\n",
    "    'planets' : ['residents', 'films'],\n",
    "    'films' : [\"characters\", \"planets\", \"starships\", \"vehicles\", \"species\"],\n",
    "    'species' : ['people', 'films'],\n",
    "    'vehicles' : ['pilots', 'films'],\n",
    "    'starships' : ['pilots', 'films']\n",
    "    }"
   ]
  },
  {
   "cell_type": "code",
   "execution_count": 66,
   "id": "6b3fb84d",
   "metadata": {},
   "outputs": [],
   "source": [
    "def get_page_items(url, fields):\n",
    "        \n",
    "    # get the content of the url\n",
    "    response = rq.get(url)\n",
    "\n",
    "    # success\n",
    "    if response.status_code == 200:\n",
    "        content = response.json()\n",
    "    elif response.status_code == 404:\n",
    "        print(f'{url} not found!')\n",
    "        return\n",
    "    \n",
    "    items_list = []\n",
    "\n",
    "    next = content['next']\n",
    "    items = content['results']\n",
    "\n",
    "    for item in items:\n",
    "\n",
    "        for field in fields:\n",
    "            id_values = []\n",
    "                           \n",
    "            if item[field]:  # if the field is not empty\n",
    "                # parse the links from starships, vehicles and starships\n",
    "                if field != 'homeworld':  \n",
    "                    for link in item[field]:\n",
    "                        # parse the id value in the link    \n",
    "                        id_values.append(int(link.split('/')[-2]))\n",
    "                    # add the id values into the corresponding field key\n",
    "                    # convert list into tuple, as tuples are hashable\n",
    "                    item[field] = tuple(id_values)\n",
    "                \n",
    "                # parse the homeworld (just a single string value)\n",
    "                else:\n",
    "                    # get the homeworld id\n",
    "                    item['homeworld'] = int(item['homeworld'].split('/')[-2])\n",
    "            \n",
    "            # parse species field\n",
    "            # in case of human characters, the species field is an empty list\n",
    "            elif field == 'species' and not item[field]:\n",
    "                item[field] = (1)\n",
    "            \n",
    "            # field has no values (empty list)\n",
    "            else:\n",
    "                item[field] = ()\n",
    "                  \n",
    "        # remove created and edited fields\n",
    "        try:\n",
    "            del(item['created'])\n",
    "            del(item['edited'])\n",
    "        except:\n",
    "            pass\n",
    "        \n",
    "        items_list.append(item)\n",
    "\n",
    "    return next, items_list"
   ]
  },
  {
   "cell_type": "markdown",
   "id": "54b7a029",
   "metadata": {},
   "source": [
    "Scrape all the information from the Star Wars API, for all the available categories"
   ]
  },
  {
   "cell_type": "code",
   "execution_count": 74,
   "id": "8ae62a93",
   "metadata": {},
   "outputs": [
    {
     "name": "stdout",
     "output_type": "stream",
     "text": [
      "starwars.json file already exists!\n"
     ]
    }
   ],
   "source": [
    "if not os.path.exists('./data/starwars.json'):\n",
    "    items = dict.fromkeys(categories)\n",
    "\n",
    "    for category in categories:\n",
    "        items_list = []\n",
    "        url = base_urls[category]\n",
    "        category_fields = fields[category]\n",
    "        while url:\n",
    "            url, page_items = get_page_items(url, category_fields)\n",
    "            items_list.extend(page_items)\n",
    "        \n",
    "        items[category] = items_list\n",
    "\n",
    "        print(f'{category} successfully scrapped!')\n",
    "\n",
    "    print('\\n\\nWhole database fully scrapped!')\n",
    "\n",
    "else:\n",
    "    print('starwars.json file already exists!')"
   ]
  },
  {
   "cell_type": "markdown",
   "id": "1ed9a722",
   "metadata": {},
   "source": [
    "## The scrapped information is stored in dictionary **items**"
   ]
  },
  {
   "cell_type": "markdown",
   "id": "8c10b927",
   "metadata": {},
   "source": [
    "Store the information in a JSON file"
   ]
  },
  {
   "cell_type": "code",
   "execution_count": 73,
   "id": "5b501f0f",
   "metadata": {},
   "outputs": [
    {
     "name": "stdout",
     "output_type": "stream",
     "text": [
      "starwars.json file already exists!\n"
     ]
    }
   ],
   "source": [
    "if not os.path.exists('./data/starwars.json'):\n",
    "    with open('./data/starwars.json', 'w') as file:\n",
    "        json.dump(items, file, indent=4)\n",
    "\n",
    "    # remove the carriage return character\n",
    "    with open('./data/starwars.json', 'r') as file:\n",
    "        content = file.readlines()\n",
    "\n",
    "    # replace the \\\\r\\\\n (the codes are escaped) string with just \\\\n\n",
    "        for index, line in enumerate(content):\n",
    "            content[index] = line.replace('\\\\r\\\\n', '\\\\n')\n",
    "\n",
    "    with open('./data/starwars.json', 'w') as file:\n",
    "        file.writelines(content)\n",
    "else:\n",
    "    print('starwars.json file already exists!')"
   ]
  },
  {
   "cell_type": "code",
   "execution_count": 31,
   "id": "006d2059",
   "metadata": {},
   "outputs": [],
   "source": [
    "content = {}\n",
    "with open('starwars.json', 'r') as file:\n",
    "    content = json.load(file)"
   ]
  },
  {
   "cell_type": "markdown",
   "id": "e21e4692",
   "metadata": {},
   "source": [
    "## Store the dataframes from each category in a dictionary"
   ]
  },
  {
   "cell_type": "code",
   "execution_count": 75,
   "id": "1e9413cc",
   "metadata": {},
   "outputs": [],
   "source": [
    "categories_dataframes = dict.fromkeys(categories)"
   ]
  },
  {
   "cell_type": "markdown",
   "id": "7a92b04f",
   "metadata": {},
   "source": [
    "### Generate the dataframes"
   ]
  },
  {
   "cell_type": "code",
   "execution_count": 76,
   "id": "9da1a0ee",
   "metadata": {},
   "outputs": [],
   "source": [
    "for cat in categories:\n",
    "    df = pd.DataFrame(items[cat])\n",
    "    df['id'] = df.index + 1\n",
    "    df.rename(columns = {'id' : '{cat}_id'}, inplace = True)\n",
    "    categories_dataframes[cat] = df\n",
    "#df.to_csv('./data/starwars_characters.csv', index = False)"
   ]
  },
  {
   "cell_type": "markdown",
   "id": "593db6e0",
   "metadata": {},
   "source": [
    "### Process the dataframes:\n",
    "fields with lists of values are stored as strings. I need to convert them back into a list "
   ]
  },
  {
   "cell_type": "code",
   "execution_count": null,
   "id": "63c66117",
   "metadata": {},
   "outputs": [],
   "source": [
    "# def str_to_list(column):\n",
    "#     values = []\n",
    "#     # iterate the rows of the dataframe\n",
    "#     for index, row in column.iterrows():\n",
    "#         value_string = row[column][1:len(row[column])-1]\n",
    "#         values.append( [int(i) for i in value_string.split(',')] )\n",
    "#     # return a pandas Series with the list of values for selected column\n",
    "#     return pd.Series(values)"
   ]
  },
  {
   "cell_type": "code",
   "execution_count": 78,
   "id": "91377ce0",
   "metadata": {},
   "outputs": [],
   "source": [
    "# for cat in categories:\n",
    "#     category_fields = fields[cat] \n",
    "#     df = categories_dataframes[cat]\n",
    "#     print(f'{cat}: {category_fields}')\n",
    "#     for field in category_fields:\n",
    "#         print(field)\n",
    "#         try:\n",
    "#             print(df.loc[:, field].unique())\n",
    "#         except Exception as e:\n",
    "#             print(f'{field} with error: {e}')\n",
    "#     print('\\n\\n')"
   ]
  },
  {
   "cell_type": "markdown",
   "id": "54e76389",
   "metadata": {},
   "source": [
    "## Junction tables\n",
    "(many-to-many relationships in the database)\n",
    "\n",
    "1. people_films: Links people to the films they appeared in.\n",
    "\n",
    "    - person_id: Foreign Key referencing the people table.\n",
    "    - film_id: Foreign Key referencing the films table.\n",
    "\n",
    "2. people_species: Links people to their species.\n",
    "\n",
    "    - person_id: Foreign Key referencing the people table.\n",
    "   - species_id: Foreign Key referencing the species table.\n",
    "\n",
    "3. people_vehicles: Links people to the vehicles they have piloted.\n",
    "\n",
    "    - person_id: Foreign Key referencing the people table.\n",
    "    - vehicle_id: Foreign Key referencing the vehicles table.\n",
    "\n",
    "4. people_starships: Links people to the starships they have piloted.\n",
    "\n",
    "    - person_id: Foreign Key referencing the people table.\n",
    "    - starship_id: Foreign Key referencing the starships table."
   ]
  }
 ],
 "metadata": {
  "kernelspec": {
   "display_name": "venv",
   "language": "python",
   "name": "python3"
  },
  "language_info": {
   "codemirror_mode": {
    "name": "ipython",
    "version": 3
   },
   "file_extension": ".py",
   "mimetype": "text/x-python",
   "name": "python",
   "nbconvert_exporter": "python",
   "pygments_lexer": "ipython3",
   "version": "3.13.7"
  }
 },
 "nbformat": 4,
 "nbformat_minor": 5
}
