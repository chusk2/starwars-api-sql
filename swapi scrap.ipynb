{
 "cells": [
  {
   "cell_type": "code",
   "execution_count": 1,
   "id": "545f0530",
   "metadata": {},
   "outputs": [],
   "source": [
    "import requests as rq\n",
    "import pandas as pd\n",
    "import os\n",
    "import numpy as np"
   ]
  },
  {
   "cell_type": "code",
   "execution_count": null,
   "id": "96d07a00",
   "metadata": {},
   "outputs": [],
   "source": [
    "# base_url = 'https://swapi.dev/api/people/'"
   ]
  },
  {
   "cell_type": "code",
   "execution_count": 2,
   "id": "e025e72e",
   "metadata": {},
   "outputs": [],
   "source": [
    "# data = rq.get(f'{base_url}10/').json()\n",
    "# character_fields = data.keys()\n",
    "# print(*character_fields, sep='\\n')"
   ]
  },
  {
   "cell_type": "code",
   "execution_count": 3,
   "id": "a713f266",
   "metadata": {},
   "outputs": [],
   "source": [
    "# rq.get(f'{base_url}10/').json()"
   ]
  },
  {
   "cell_type": "code",
   "execution_count": null,
   "id": "6b3fb84d",
   "metadata": {},
   "outputs": [],
   "source": [
    "def get_characters(url):\n",
    "        \n",
    "    # get the content of the url\n",
    "    response = rq.get(url)\n",
    "\n",
    "    # success\n",
    "    if response.status_code == 200:\n",
    "        content = response.json()\n",
    "    elif response.status_code == 404:\n",
    "        print(f'{url} not found!')\n",
    "        return\n",
    "    \n",
    "    characters_list = []\n",
    "\n",
    "    next = content['next']\n",
    "    characters = content['results']\n",
    "\n",
    "    for char in characters:\n",
    "    \n",
    "        related_fields = ['homeworld', 'starships', 'species', 'vehicles', 'starships']\n",
    "\n",
    "        for field in related_fields:\n",
    "            id_values = []\n",
    "            try:\n",
    "                \n",
    "                if char[field]:  # if the field is not empty\n",
    "                    # parse the links from starships, vehicles and starships\n",
    "                    if field != 'homeworld':  \n",
    "                        for link in char[field]:\n",
    "                            # parse the id value in the link    \n",
    "                            id_values.append(int(link.split('/')[-2]))\n",
    "                        # add the id values into the corresponding field key\n",
    "                        char[field] = id_values\n",
    "                    \n",
    "                    # parse the homeworld (just a single string value)\n",
    "                    else:\n",
    "                        # get the homeworld id\n",
    "                        char['homeworld'] = int(char['homeworld'].split('/')[-2])\n",
    "                \n",
    "                # parse species field\n",
    "                # in case of human characters, the species field is an empty list\n",
    "                elif field == 'species' and not char[field]:\n",
    "                    char[field] = 'human'\n",
    "            \n",
    "            except:\n",
    "                print(f\"{field} doesn't exist in character url: {base_url}/{id}\")\n",
    "                # if there's a missing field, don't consume the API link for this character\n",
    "                break\n",
    "                \n",
    "        # remove created and edited fields\n",
    "        try:\n",
    "            del(char['created'])\n",
    "            del(char['edited'])\n",
    "        except:\n",
    "            pass\n",
    "        \n",
    "        characters_list.append(char)\n",
    "\n",
    "    return next, characters_list"
   ]
  },
  {
   "cell_type": "code",
   "execution_count": 3,
   "id": "8ae62a93",
   "metadata": {},
   "outputs": [],
   "source": [
    "if not os.path.exists('./data/starwars_characters.csv'):\n",
    "    char_list = []\n",
    "    url= 'https://swapi.dev/api/people'\n",
    "    while url:\n",
    "        url, characters = get_characters(url)\n",
    "        char_list.extend(characters)\n",
    "    \n",
    "    # store the characters in a csv file\n",
    "    df = pd.DataFrame(char_list, index = range(1,len(char_list)+1))\n",
    "    df.reset_index(inplace = True)\n",
    "    df.rename(columns = {'index' : 'id'}, inplace = True)\n",
    "    df.to_csv('./data/starwars_characters.csv', index = False)"
   ]
  },
  {
   "cell_type": "code",
   "execution_count": 4,
   "id": "1687a963",
   "metadata": {},
   "outputs": [],
   "source": [
    "df2 = pd.read_csv('./data/starwars_characters.csv')"
   ]
  },
  {
   "cell_type": "code",
   "execution_count": 18,
   "id": "ebaf5f0e",
   "metadata": {},
   "outputs": [
    {
     "data": {
      "text/plain": [
       "id              int64\n",
       "name           object\n",
       "height        float64\n",
       "mass          float64\n",
       "hair_color     object\n",
       "skin_color     object\n",
       "eye_color      object\n",
       "birth_year     object\n",
       "gender         object\n",
       "homeworld       int64\n",
       "films          object\n",
       "species        object\n",
       "vehicles       object\n",
       "starships      object\n",
       "url            object\n",
       "dtype: object"
      ]
     },
     "execution_count": 18,
     "metadata": {},
     "output_type": "execute_result"
    }
   ],
   "source": [
    "df2.dtypes"
   ]
  },
  {
   "cell_type": "code",
   "execution_count": 14,
   "id": "b520f428",
   "metadata": {},
   "outputs": [
    {
     "data": {
      "text/html": [
       "<div>\n",
       "<style scoped>\n",
       "    .dataframe tbody tr th:only-of-type {\n",
       "        vertical-align: middle;\n",
       "    }\n",
       "\n",
       "    .dataframe tbody tr th {\n",
       "        vertical-align: top;\n",
       "    }\n",
       "\n",
       "    .dataframe thead th {\n",
       "        text-align: right;\n",
       "    }\n",
       "</style>\n",
       "<table border=\"1\" class=\"dataframe\">\n",
       "  <thead>\n",
       "    <tr style=\"text-align: right;\">\n",
       "      <th></th>\n",
       "      <th>id</th>\n",
       "      <th>name</th>\n",
       "      <th>height</th>\n",
       "      <th>mass</th>\n",
       "      <th>hair_color</th>\n",
       "      <th>skin_color</th>\n",
       "      <th>eye_color</th>\n",
       "      <th>birth_year</th>\n",
       "      <th>gender</th>\n",
       "      <th>homeworld</th>\n",
       "      <th>films</th>\n",
       "      <th>species</th>\n",
       "      <th>vehicles</th>\n",
       "      <th>starships</th>\n",
       "      <th>url</th>\n",
       "    </tr>\n",
       "  </thead>\n",
       "  <tbody>\n",
       "    <tr>\n",
       "      <th>52</th>\n",
       "      <td>53</td>\n",
       "      <td>Eeth Koth</td>\n",
       "      <td>171</td>\n",
       "      <td>unknown</td>\n",
       "      <td>black</td>\n",
       "      <td>brown</td>\n",
       "      <td>brown</td>\n",
       "      <td>unknown</td>\n",
       "      <td>male</td>\n",
       "      <td>45</td>\n",
       "      <td>[4, 6]</td>\n",
       "      <td>[22]</td>\n",
       "      <td>[]</td>\n",
       "      <td>[]</td>\n",
       "      <td>https://swapi.dev/api/people/54/</td>\n",
       "    </tr>\n",
       "    <tr>\n",
       "      <th>8</th>\n",
       "      <td>9</td>\n",
       "      <td>Biggs Darklighter</td>\n",
       "      <td>183</td>\n",
       "      <td>84</td>\n",
       "      <td>black</td>\n",
       "      <td>light</td>\n",
       "      <td>brown</td>\n",
       "      <td>24BBY</td>\n",
       "      <td>male</td>\n",
       "      <td>1</td>\n",
       "      <td>[1]</td>\n",
       "      <td>human</td>\n",
       "      <td>[]</td>\n",
       "      <td>[12]</td>\n",
       "      <td>https://swapi.dev/api/people/9/</td>\n",
       "    </tr>\n",
       "    <tr>\n",
       "      <th>37</th>\n",
       "      <td>38</td>\n",
       "      <td>Ric Olié</td>\n",
       "      <td>183</td>\n",
       "      <td>unknown</td>\n",
       "      <td>brown</td>\n",
       "      <td>fair</td>\n",
       "      <td>blue</td>\n",
       "      <td>unknown</td>\n",
       "      <td>male</td>\n",
       "      <td>8</td>\n",
       "      <td>[4]</td>\n",
       "      <td>human</td>\n",
       "      <td>[]</td>\n",
       "      <td>[40]</td>\n",
       "      <td>https://swapi.dev/api/people/39/</td>\n",
       "    </tr>\n",
       "  </tbody>\n",
       "</table>\n",
       "</div>"
      ],
      "text/plain": [
       "    id               name height     mass hair_color skin_color eye_color  \\\n",
       "52  53          Eeth Koth    171  unknown      black      brown     brown   \n",
       "8    9  Biggs Darklighter    183       84      black      light     brown   \n",
       "37  38           Ric Olié    183  unknown      brown       fair      blue   \n",
       "\n",
       "   birth_year gender  homeworld   films species vehicles starships  \\\n",
       "52    unknown   male         45  [4, 6]    [22]       []        []   \n",
       "8       24BBY   male          1     [1]   human       []      [12]   \n",
       "37    unknown   male          8     [4]   human       []      [40]   \n",
       "\n",
       "                                 url  \n",
       "52  https://swapi.dev/api/people/54/  \n",
       "8    https://swapi.dev/api/people/9/  \n",
       "37  https://swapi.dev/api/people/39/  "
      ]
     },
     "execution_count": 14,
     "metadata": {},
     "output_type": "execute_result"
    }
   ],
   "source": [
    "df2.sample(3)"
   ]
  },
  {
   "cell_type": "markdown",
   "id": "617e805d",
   "metadata": {},
   "source": [
    "Clean the mass and height columns"
   ]
  },
  {
   "cell_type": "code",
   "execution_count": 17,
   "id": "1f8064d5",
   "metadata": {},
   "outputs": [],
   "source": [
    "for col in ['mass', 'height']:\n",
    "    df2[col] = df2[col].replace('unknown', np.nan).str.replace(',','').astype(float)"
   ]
  },
  {
   "cell_type": "markdown",
   "id": "0bdbab64",
   "metadata": {},
   "source": [
    "## Create many-to-many table using `explode()`"
   ]
  },
  {
   "cell_type": "code",
   "execution_count": null,
   "id": "b71c888f",
   "metadata": {},
   "outputs": [
    {
     "name": "stderr",
     "output_type": "stream",
     "text": [
      "/tmp/ipykernel_2348/1508465967.py:2: SettingWithCopyWarning: \n",
      "A value is trying to be set on a copy of a slice from a DataFrame\n",
      "\n",
      "See the caveats in the documentation: https://pandas.pydata.org/pandas-docs/stable/user_guide/indexing.html#returning-a-view-versus-a-copy\n",
      "  char_film_table.rename(columns= {'id' : 'character_id'}, inplace= True)\n"
     ]
    },
    {
     "data": {
      "text/html": [
       "<div>\n",
       "<style scoped>\n",
       "    .dataframe tbody tr th:only-of-type {\n",
       "        vertical-align: middle;\n",
       "    }\n",
       "\n",
       "    .dataframe tbody tr th {\n",
       "        vertical-align: top;\n",
       "    }\n",
       "\n",
       "    .dataframe thead th {\n",
       "        text-align: right;\n",
       "    }\n",
       "</style>\n",
       "<table border=\"1\" class=\"dataframe\">\n",
       "  <thead>\n",
       "    <tr style=\"text-align: right;\">\n",
       "      <th></th>\n",
       "      <th>character_id</th>\n",
       "      <th>films</th>\n",
       "    </tr>\n",
       "  </thead>\n",
       "  <tbody>\n",
       "    <tr>\n",
       "      <th>0</th>\n",
       "      <td>1</td>\n",
       "      <td>[1, 2, 3, 6]</td>\n",
       "    </tr>\n",
       "    <tr>\n",
       "      <th>1</th>\n",
       "      <td>2</td>\n",
       "      <td>[1, 2, 3, 4, 5, 6]</td>\n",
       "    </tr>\n",
       "    <tr>\n",
       "      <th>2</th>\n",
       "      <td>3</td>\n",
       "      <td>[1, 2, 3, 4, 5, 6]</td>\n",
       "    </tr>\n",
       "    <tr>\n",
       "      <th>3</th>\n",
       "      <td>4</td>\n",
       "      <td>[1, 2, 3, 6]</td>\n",
       "    </tr>\n",
       "    <tr>\n",
       "      <th>4</th>\n",
       "      <td>5</td>\n",
       "      <td>[1, 2, 3, 6]</td>\n",
       "    </tr>\n",
       "  </tbody>\n",
       "</table>\n",
       "</div>"
      ],
      "text/plain": [
       "   character_id               films\n",
       "0             1        [1, 2, 3, 6]\n",
       "1             2  [1, 2, 3, 4, 5, 6]\n",
       "2             3  [1, 2, 3, 4, 5, 6]\n",
       "3             4        [1, 2, 3, 6]\n",
       "4             5        [1, 2, 3, 6]"
      ]
     },
     "execution_count": 66,
     "metadata": {},
     "output_type": "execute_result"
    }
   ],
   "source": [
    "char_film_table = df2[['id', 'starships']]\n",
    "char_film_table.rename(columns= {'id' : 'character_id'}, inplace= True)\n",
    "char_film_table.head()"
   ]
  },
  {
   "cell_type": "code",
   "execution_count": null,
   "id": "8ac9d07c",
   "metadata": {},
   "outputs": [],
   "source": [
    "starships_list = []\n",
    "# iterate the rows of the dataframe\n",
    "for index, row in char_film_table.iterrows():\n",
    "    starships_string = row['starships'][1:len(row['starships'])-1]\n",
    "    starships_list.append( [int(i) for i in starships_string.split(',')] )"
   ]
  },
  {
   "cell_type": "code",
   "execution_count": null,
   "id": "c50f075d",
   "metadata": {},
   "outputs": [],
   "source": [
    "# assign the series with lists\n",
    "char_film_table.loc[:, 'starships'] = pd.Series(starships_list)"
   ]
  },
  {
   "cell_type": "code",
   "execution_count": null,
   "id": "012b9dd0",
   "metadata": {},
   "outputs": [
    {
     "data": {
      "text/html": [
       "<div>\n",
       "<style scoped>\n",
       "    .dataframe tbody tr th:only-of-type {\n",
       "        vertical-align: middle;\n",
       "    }\n",
       "\n",
       "    .dataframe tbody tr th {\n",
       "        vertical-align: top;\n",
       "    }\n",
       "\n",
       "    .dataframe thead th {\n",
       "        text-align: right;\n",
       "    }\n",
       "</style>\n",
       "<table border=\"1\" class=\"dataframe\">\n",
       "  <thead>\n",
       "    <tr style=\"text-align: right;\">\n",
       "      <th></th>\n",
       "      <th>character_id</th>\n",
       "      <th>films</th>\n",
       "    </tr>\n",
       "  </thead>\n",
       "  <tbody>\n",
       "    <tr>\n",
       "      <th>0</th>\n",
       "      <td>1</td>\n",
       "      <td>1</td>\n",
       "    </tr>\n",
       "    <tr>\n",
       "      <th>0</th>\n",
       "      <td>1</td>\n",
       "      <td>2</td>\n",
       "    </tr>\n",
       "    <tr>\n",
       "      <th>0</th>\n",
       "      <td>1</td>\n",
       "      <td>3</td>\n",
       "    </tr>\n",
       "    <tr>\n",
       "      <th>0</th>\n",
       "      <td>1</td>\n",
       "      <td>6</td>\n",
       "    </tr>\n",
       "    <tr>\n",
       "      <th>1</th>\n",
       "      <td>2</td>\n",
       "      <td>1</td>\n",
       "    </tr>\n",
       "  </tbody>\n",
       "</table>\n",
       "</div>"
      ],
      "text/plain": [
       "   character_id films\n",
       "0             1     1\n",
       "0             1     2\n",
       "0             1     3\n",
       "0             1     6\n",
       "1             2     1"
      ]
     },
     "execution_count": 69,
     "metadata": {},
     "output_type": "execute_result"
    }
   ],
   "source": [
    "# explode using the starships column\n",
    "char_film_table = char_film_table.explode('starships')\n",
    "char_film_table.head()"
   ]
  },
  {
   "cell_type": "markdown",
   "id": "fdac0053",
   "metadata": {},
   "source": [
    "Export the character-starships junction table"
   ]
  },
  {
   "cell_type": "code",
   "execution_count": null,
   "id": "50145dd1",
   "metadata": {},
   "outputs": [],
   "source": [
    "char_film_table.to_csv('./data/ char_film_junction.csv', index = False)"
   ]
  },
  {
   "cell_type": "markdown",
   "id": "e82af598",
   "metadata": {},
   "source": [
    "Starships junction"
   ]
  },
  {
   "cell_type": "code",
   "execution_count": 83,
   "id": "e2f8360d",
   "metadata": {},
   "outputs": [
    {
     "data": {
      "text/html": [
       "<div>\n",
       "<style scoped>\n",
       "    .dataframe tbody tr th:only-of-type {\n",
       "        vertical-align: middle;\n",
       "    }\n",
       "\n",
       "    .dataframe tbody tr th {\n",
       "        vertical-align: top;\n",
       "    }\n",
       "\n",
       "    .dataframe thead th {\n",
       "        text-align: right;\n",
       "    }\n",
       "</style>\n",
       "<table border=\"1\" class=\"dataframe\">\n",
       "  <thead>\n",
       "    <tr style=\"text-align: right;\">\n",
       "      <th></th>\n",
       "      <th>character_id</th>\n",
       "      <th>starships</th>\n",
       "    </tr>\n",
       "  </thead>\n",
       "  <tbody>\n",
       "    <tr>\n",
       "      <th>0</th>\n",
       "      <td>1</td>\n",
       "      <td>[12, 22]</td>\n",
       "    </tr>\n",
       "    <tr>\n",
       "      <th>1</th>\n",
       "      <td>2</td>\n",
       "      <td>[]</td>\n",
       "    </tr>\n",
       "    <tr>\n",
       "      <th>2</th>\n",
       "      <td>3</td>\n",
       "      <td>[]</td>\n",
       "    </tr>\n",
       "    <tr>\n",
       "      <th>3</th>\n",
       "      <td>4</td>\n",
       "      <td>[13]</td>\n",
       "    </tr>\n",
       "    <tr>\n",
       "      <th>4</th>\n",
       "      <td>5</td>\n",
       "      <td>[]</td>\n",
       "    </tr>\n",
       "  </tbody>\n",
       "</table>\n",
       "</div>"
      ],
      "text/plain": [
       "   character_id starships\n",
       "0             1  [12, 22]\n",
       "1             2        []\n",
       "2             3        []\n",
       "3             4      [13]\n",
       "4             5        []"
      ]
     },
     "execution_count": 83,
     "metadata": {},
     "output_type": "execute_result"
    }
   ],
   "source": [
    "char_starship_junction = df2[['id', 'starships']].rename(columns={'id' : 'character_id'})\n",
    "char_starship_junction.head()"
   ]
  },
  {
   "cell_type": "code",
   "execution_count": 84,
   "id": "7712939d",
   "metadata": {},
   "outputs": [],
   "source": [
    "starships_list = []\n",
    "# iterate the rows of the dataframe\n",
    "for index, row in char_starship_junction.iterrows():\n",
    "    starships_string = row['starships'][1:len(row['starships'])-1]\n",
    "    if starships_string == '':\n",
    "        starships_list.append([np.nan])\n",
    "    else:\n",
    "        starships_list.append( [int(i) for i in starships_string.split(',')] )"
   ]
  },
  {
   "cell_type": "code",
   "execution_count": 85,
   "id": "3639c3aa",
   "metadata": {},
   "outputs": [],
   "source": [
    "# assign the series with lists\n",
    "char_starship_junction.loc[:, 'starships'] = pd.Series(starships_list)"
   ]
  },
  {
   "cell_type": "code",
   "execution_count": 86,
   "id": "d826f2b2",
   "metadata": {},
   "outputs": [
    {
     "data": {
      "text/html": [
       "<div>\n",
       "<style scoped>\n",
       "    .dataframe tbody tr th:only-of-type {\n",
       "        vertical-align: middle;\n",
       "    }\n",
       "\n",
       "    .dataframe tbody tr th {\n",
       "        vertical-align: top;\n",
       "    }\n",
       "\n",
       "    .dataframe thead th {\n",
       "        text-align: right;\n",
       "    }\n",
       "</style>\n",
       "<table border=\"1\" class=\"dataframe\">\n",
       "  <thead>\n",
       "    <tr style=\"text-align: right;\">\n",
       "      <th></th>\n",
       "      <th>character_id</th>\n",
       "      <th>starships</th>\n",
       "    </tr>\n",
       "  </thead>\n",
       "  <tbody>\n",
       "    <tr>\n",
       "      <th>0</th>\n",
       "      <td>1</td>\n",
       "      <td>12</td>\n",
       "    </tr>\n",
       "    <tr>\n",
       "      <th>0</th>\n",
       "      <td>1</td>\n",
       "      <td>22</td>\n",
       "    </tr>\n",
       "    <tr>\n",
       "      <th>1</th>\n",
       "      <td>2</td>\n",
       "      <td>NaN</td>\n",
       "    </tr>\n",
       "    <tr>\n",
       "      <th>2</th>\n",
       "      <td>3</td>\n",
       "      <td>NaN</td>\n",
       "    </tr>\n",
       "    <tr>\n",
       "      <th>3</th>\n",
       "      <td>4</td>\n",
       "      <td>13</td>\n",
       "    </tr>\n",
       "  </tbody>\n",
       "</table>\n",
       "</div>"
      ],
      "text/plain": [
       "   character_id starships\n",
       "0             1        12\n",
       "0             1        22\n",
       "1             2       NaN\n",
       "2             3       NaN\n",
       "3             4        13"
      ]
     },
     "execution_count": 86,
     "metadata": {},
     "output_type": "execute_result"
    }
   ],
   "source": [
    "# explode using the starships column\n",
    "char_starship_junction = char_starship_junction.explode('starships')\n",
    "char_starship_junction.head()"
   ]
  },
  {
   "cell_type": "code",
   "execution_count": 87,
   "id": "aed7abb0",
   "metadata": {},
   "outputs": [],
   "source": [
    "char_starship_junction.to_csv('./data/ char_starship_junction.csv', index = False)"
   ]
  },
  {
   "cell_type": "code",
   "execution_count": null,
   "id": "b9839214",
   "metadata": {},
   "outputs": [
    {
     "name": "stdout",
     "output_type": "stream",
     "text": [
      "https://swapi.dev/api/people/84 not found!\n",
      "Information from 83 characters has been extracted.\n"
     ]
    }
   ],
   "source": [
    "# a list of dictionaries with the character info\n",
    "character_list = []\n",
    "id = 1\n",
    "while True:\n",
    "    # the character page with id 17 doesn't exist!\n",
    "    if id == 17:\n",
    "        id += 1\n",
    "        pass\n",
    "    char = get_character(id)\n",
    "    if char:\n",
    "        character_list.append(char)\n",
    "        id += 1\n",
    "    else:\n",
    "        print(f'\\nInformation from {id - 1} characters has been extracted.')\n",
    "        break"
   ]
  },
  {
   "cell_type": "code",
   "execution_count": null,
   "id": "71a92843",
   "metadata": {},
   "outputs": [
    {
     "name": "stdout",
     "output_type": "stream",
     "text": [
      "https://swapi.dev/api/people/84 not found!\n",
      "Information from 83 characters has been extracted.\n"
     ]
    }
   ],
   "source": [
    "# a list of dictionaries with the character info\n",
    "character_list = []\n",
    "id = 1\n",
    "while True:\n",
    "    # the character page with id 17 doesn't exist!\n",
    "    if id == 17:\n",
    "        id += 1\n",
    "        pass\n",
    "    char = get_character(id)\n",
    "    if char:\n",
    "        character_list.append(char)\n",
    "        id += 1\n",
    "    else:\n",
    "        print(f'\\nInformation from {id - 1} characters has been extracted.')\n",
    "        break"
   ]
  },
  {
   "cell_type": "code",
   "execution_count": null,
   "id": "ce2220e1",
   "metadata": {},
   "outputs": [
    {
     "name": "stdout",
     "output_type": "stream",
     "text": [
      "https://swapi.dev/api/people/84 not found!\n",
      "Information from 83 characters has been extracted.\n"
     ]
    }
   ],
   "source": [
    "# a list of dictionaries with the character info\n",
    "character_list = []\n",
    "id = 1\n",
    "while True:\n",
    "    # the character page with id 17 doesn't exist!\n",
    "    if id == 17:\n",
    "        id += 1\n",
    "        pass\n",
    "    char = get_character(id)\n",
    "    if char:\n",
    "        character_list.append(char)\n",
    "        id += 1\n",
    "    else:\n",
    "        print(f'\\nInformation from {id - 1} characters has been extracted.')\n",
    "        break"
   ]
  },
  {
   "cell_type": "code",
   "execution_count": 27,
   "id": "971b17f8",
   "metadata": {},
   "outputs": [
    {
     "data": {
      "text/plain": [
       "[{'name': 'Luke Skywalker',\n",
       "  'height': '172',\n",
       "  'mass': '77',\n",
       "  'hair_color': 'blond',\n",
       "  'skin_color': 'fair',\n",
       "  'eye_color': 'blue',\n",
       "  'birth_year': '19BBY',\n",
       "  'gender': 'male',\n",
       "  'homeworld': 1,\n",
       "  'films': [1, 2, 3, 6],\n",
       "  'species': 'human',\n",
       "  'vehicles': [14, 30],\n",
       "  'starships': [12, 22],\n",
       "  'url': 'https://swapi.dev/api/people/1/'},\n",
       " {'name': 'C-3PO',\n",
       "  'height': '167',\n",
       "  'mass': '75',\n",
       "  'hair_color': 'n/a',\n",
       "  'skin_color': 'gold',\n",
       "  'eye_color': 'yellow',\n",
       "  'birth_year': '112BBY',\n",
       "  'gender': 'n/a',\n",
       "  'homeworld': 1,\n",
       "  'films': [1, 2, 3, 4, 5, 6],\n",
       "  'species': [2],\n",
       "  'vehicles': [],\n",
       "  'starships': [],\n",
       "  'url': 'https://swapi.dev/api/people/2/'}]"
      ]
     },
     "execution_count": 27,
     "metadata": {},
     "output_type": "execute_result"
    }
   ],
   "source": [
    "character_list[:2]"
   ]
  },
  {
   "cell_type": "code",
   "execution_count": null,
   "id": "49eba336",
   "metadata": {},
   "outputs": [],
   "source": [
    "{\n",
    "    \"name\": \"unknown\", \n",
    "    \"rotation_period\": \"0\", \n",
    "    \"orbital_period\": \"0\", \n",
    "    \"diameter\": \"0\", \n",
    "    \"climate\": \"unknown\", \n",
    "    \"gravity\": \"unknown\", \n",
    "    \"terrain\": \"unknown\", \n",
    "    \"surface_water\": \"unknown\", \n",
    "    \"population\": \"unknown\", \n",
    "    \"residents\": [\n",
    "        \"https://swapi.dev/api/people/20/\", \n",
    "        \"https://swapi.dev/api/people/23/\", \n",
    "        \"https://swapi.dev/api/people/29/\", \n",
    "        \"https://swapi.dev/api/people/32/\", \n",
    "        \"https://swapi.dev/api/people/75/\"\n",
    "    ], \n",
    "    \"starships\": [], \n",
    "    \"created\": \"2014-12-15T12:25:59.569000Z\", \n",
    "    \"edited\": \"2014-12-20T20:58:18.466000Z\", \n",
    "    \"url\": \"https://swapi.dev/api/planets/28/\"\n",
    "}"
   ]
  },
  {
   "cell_type": "code",
   "execution_count": null,
   "id": "10740916",
   "metadata": {},
   "outputs": [],
   "source": [
    "def get_planet(id):\n",
    "    base_url = 'https://swapi.dev/api/planets'\n",
    "    # get the url\n",
    "    response = rq.get(f'{base_url}/{id}')\n",
    "\n",
    "    # success\n",
    "    if response.status_code == 200:\n",
    "        content = response.json()\n",
    "    elif response.status_code == 404:\n",
    "        print(f'{base_url}/{id} not found!')\n",
    "        return\n",
    "\n",
    "    if content['name'] == 'unknown':\n",
    "        return\n",
    "    \n",
    "    for field in ['starships', 'residents']:\n",
    "        # if the field is not empty\n",
    "        if content[field]:\n",
    "            id_values = []\n",
    "            for link in content[field]:\n",
    "                # parse the id value in the link    \n",
    "                id_values.append(int(link.split('/')[-2]))\n",
    "            content[field] = id_values\n",
    "             \n",
    "    # remove created and edited fields\n",
    "    try:\n",
    "        del(content['created'])\n",
    "        del(content['edited'])\n",
    "    except:\n",
    "        pass\n",
    "    \n",
    "    return content"
   ]
  },
  {
   "cell_type": "code",
   "execution_count": 36,
   "id": "4b70e94f",
   "metadata": {},
   "outputs": [
    {
     "name": "stdout",
     "output_type": "stream",
     "text": [
      "\n",
      "Information from 28 planets has been extracted.\n"
     ]
    }
   ],
   "source": [
    "# a list of dictionaries with the character info\n",
    "planets_list = []\n",
    "id = 1\n",
    "while True:\n",
    "    # the character page with id 17 doesn't exist!\n",
    "    # if id == 17:\n",
    "    #     id += 1\n",
    "    #     pass\n",
    "    planet = get_planet(id)\n",
    "    if planet:\n",
    "        planets_list.append(planet)\n",
    "        id += 1\n",
    "    else:\n",
    "        print(f'\\nInformation from {id} planets has been extracted.')\n",
    "        break"
   ]
  },
  {
   "cell_type": "code",
   "execution_count": 38,
   "id": "864c7cb8",
   "metadata": {},
   "outputs": [
    {
     "data": {
      "text/plain": [
       "[{'name': 'Tatooine',\n",
       "  'rotation_period': '23',\n",
       "  'orbital_period': '304',\n",
       "  'diameter': '10465',\n",
       "  'climate': 'arid',\n",
       "  'gravity': '1 standard',\n",
       "  'terrain': 'desert',\n",
       "  'surface_water': '1',\n",
       "  'population': '200000',\n",
       "  'residents': [1, 2, 4, 6, 7, 8, 9, 11, 43, 62],\n",
       "  'films': [1, 3, 4, 5, 6],\n",
       "  'url': 'https://swapi.dev/api/planets/1/'},\n",
       " {'name': 'Alderaan',\n",
       "  'rotation_period': '24',\n",
       "  'orbital_period': '364',\n",
       "  'diameter': '12500',\n",
       "  'climate': 'temperate',\n",
       "  'gravity': '1 standard',\n",
       "  'terrain': 'grasslands, mountains',\n",
       "  'surface_water': '40',\n",
       "  'population': '2000000000',\n",
       "  'residents': [5, 68, 81],\n",
       "  'films': [1, 6],\n",
       "  'url': 'https://swapi.dev/api/planets/2/'}]"
      ]
     },
     "execution_count": 38,
     "metadata": {},
     "output_type": "execute_result"
    }
   ],
   "source": [
    "planets_list[:2]"
   ]
  },
  {
   "cell_type": "code",
   "execution_count": null,
   "id": "65336920",
   "metadata": {},
   "outputs": [
    {
     "name": "stdout",
     "output_type": "stream",
     "text": [
      "title\n",
      "episode_id\n",
      "opening_crawl\n",
      "director\n",
      "producer\n",
      "release_date\n",
      "characters\n",
      "planets\n",
      "starships\n",
      "vehicles\n",
      "species\n",
      "created\n",
      "edited\n",
      "url\n"
     ]
    }
   ],
   "source": [
    "print(*rq.get('https://swapi.dev/api/starships/1').json().keys(), sep='\\n')"
   ]
  },
  {
   "cell_type": "code",
   "execution_count": null,
   "id": "6b8b569c",
   "metadata": {},
   "outputs": [],
   "source": [
    "def get_film(id):\n",
    "    base_url = 'https://swapi.dev/api/starships'\n",
    "    # get the url\n",
    "    response = rq.get(f'{base_url}/{id}')\n",
    "\n",
    "    # success\n",
    "    if response.status_code == 200:\n",
    "        content = response.json()\n",
    "    elif response.status_code == 404:\n",
    "        print(f'{base_url}/{id} not found!')\n",
    "        return None\n",
    "    \n",
    "    for field in ['characters', 'planets', 'starships', 'vehicles', 'species']:\n",
    "        # if the field is not empty\n",
    "        if content[field]:\n",
    "            id_values = []\n",
    "            for link in content[field]:\n",
    "                # parse the id value in the link    \n",
    "                id_values.append(int(link.split('/')[-2]))\n",
    "            content[field] = id_values\n",
    "             \n",
    "    # remove created and edited fields\n",
    "    try:\n",
    "        del(content['created'])\n",
    "        del(content['edited'])\n",
    "    except:\n",
    "        pass\n",
    "    \n",
    "    return content"
   ]
  },
  {
   "cell_type": "code",
   "execution_count": null,
   "id": "c3de05fe",
   "metadata": {},
   "outputs": [
    {
     "name": "stdout",
     "output_type": "stream",
     "text": [
      "https://swapi.dev/api/films/7 not found!\n",
      "\n",
      "Information from 6 planets has been extracted.\n"
     ]
    }
   ],
   "source": [
    "# a list of dictionaries with the character info\n",
    "starships_list = []\n",
    "id = 1\n",
    "while True:\n",
    "    # the character page with id 17 doesn't exist!\n",
    "    # if id == 17:\n",
    "    #     id += 1\n",
    "    #     pass\n",
    "    film = get_film(id)\n",
    "    if film:\n",
    "        starships_list.append(film)\n",
    "        id += 1\n",
    "    else:\n",
    "        print(f'\\nInformation from {id-1} planets has been extracted.')\n",
    "        break"
   ]
  },
  {
   "cell_type": "code",
   "execution_count": 19,
   "id": "2585ff0e",
   "metadata": {},
   "outputs": [
    {
     "name": "stdout",
     "output_type": "stream",
     "text": [
      "Details found in character with id: 17\n"
     ]
    }
   ],
   "source": [
    "for index, value in enumerate(characters_list):\n",
    "    if 'detail' in value.keys():\n",
    "        print(f'Details found in character with id: {index + 1}')"
   ]
  },
  {
   "cell_type": "markdown",
   "id": "e63ba195",
   "metadata": {},
   "source": [
    "Remove character with id 17. It's a valid url!"
   ]
  },
  {
   "cell_type": "code",
   "execution_count": 27,
   "id": "4d037145",
   "metadata": {},
   "outputs": [],
   "source": [
    "del characters_list[16]"
   ]
  },
  {
   "cell_type": "code",
   "execution_count": 28,
   "id": "314be145",
   "metadata": {},
   "outputs": [],
   "source": [
    "df = pd.DataFrame(characters_list)"
   ]
  },
  {
   "cell_type": "code",
   "execution_count": 30,
   "id": "66b98331",
   "metadata": {},
   "outputs": [
    {
     "data": {
      "text/html": [
       "<div>\n",
       "<style scoped>\n",
       "    .dataframe tbody tr th:only-of-type {\n",
       "        vertical-align: middle;\n",
       "    }\n",
       "\n",
       "    .dataframe tbody tr th {\n",
       "        vertical-align: top;\n",
       "    }\n",
       "\n",
       "    .dataframe thead th {\n",
       "        text-align: right;\n",
       "    }\n",
       "</style>\n",
       "<table border=\"1\" class=\"dataframe\">\n",
       "  <thead>\n",
       "    <tr style=\"text-align: right;\">\n",
       "      <th></th>\n",
       "      <th>name</th>\n",
       "      <th>height</th>\n",
       "      <th>mass</th>\n",
       "      <th>hair_color</th>\n",
       "      <th>skin_color</th>\n",
       "      <th>eye_color</th>\n",
       "      <th>birth_year</th>\n",
       "      <th>gender</th>\n",
       "      <th>homeworld</th>\n",
       "      <th>films</th>\n",
       "      <th>species</th>\n",
       "      <th>vehicles</th>\n",
       "      <th>starships</th>\n",
       "      <th>url</th>\n",
       "    </tr>\n",
       "  </thead>\n",
       "  <tbody>\n",
       "    <tr>\n",
       "      <th>0</th>\n",
       "      <td>Luke Skywalker</td>\n",
       "      <td>172</td>\n",
       "      <td>77</td>\n",
       "      <td>blond</td>\n",
       "      <td>fair</td>\n",
       "      <td>blue</td>\n",
       "      <td>19BBY</td>\n",
       "      <td>male</td>\n",
       "      <td>1</td>\n",
       "      <td>[1, 2, 3, 6]</td>\n",
       "      <td>human</td>\n",
       "      <td>[14, 30]</td>\n",
       "      <td>[12, 22]</td>\n",
       "      <td>https://swapi.dev/api/people/1/</td>\n",
       "    </tr>\n",
       "    <tr>\n",
       "      <th>1</th>\n",
       "      <td>C-3PO</td>\n",
       "      <td>167</td>\n",
       "      <td>75</td>\n",
       "      <td>n/a</td>\n",
       "      <td>gold</td>\n",
       "      <td>yellow</td>\n",
       "      <td>112BBY</td>\n",
       "      <td>n/a</td>\n",
       "      <td>1</td>\n",
       "      <td>[1, 2, 3, 4, 5, 6]</td>\n",
       "      <td>[2]</td>\n",
       "      <td>[]</td>\n",
       "      <td>[]</td>\n",
       "      <td>https://swapi.dev/api/people/2/</td>\n",
       "    </tr>\n",
       "    <tr>\n",
       "      <th>2</th>\n",
       "      <td>R2-D2</td>\n",
       "      <td>96</td>\n",
       "      <td>32</td>\n",
       "      <td>n/a</td>\n",
       "      <td>white, blue</td>\n",
       "      <td>red</td>\n",
       "      <td>33BBY</td>\n",
       "      <td>n/a</td>\n",
       "      <td>8</td>\n",
       "      <td>[1, 2, 3, 4, 5, 6]</td>\n",
       "      <td>[2]</td>\n",
       "      <td>[]</td>\n",
       "      <td>[]</td>\n",
       "      <td>https://swapi.dev/api/people/3/</td>\n",
       "    </tr>\n",
       "    <tr>\n",
       "      <th>3</th>\n",
       "      <td>Darth Vader</td>\n",
       "      <td>202</td>\n",
       "      <td>136</td>\n",
       "      <td>none</td>\n",
       "      <td>white</td>\n",
       "      <td>yellow</td>\n",
       "      <td>41.9BBY</td>\n",
       "      <td>male</td>\n",
       "      <td>1</td>\n",
       "      <td>[1, 2, 3, 6]</td>\n",
       "      <td>human</td>\n",
       "      <td>[]</td>\n",
       "      <td>[13]</td>\n",
       "      <td>https://swapi.dev/api/people/4/</td>\n",
       "    </tr>\n",
       "    <tr>\n",
       "      <th>4</th>\n",
       "      <td>Leia Organa</td>\n",
       "      <td>150</td>\n",
       "      <td>49</td>\n",
       "      <td>brown</td>\n",
       "      <td>light</td>\n",
       "      <td>brown</td>\n",
       "      <td>19BBY</td>\n",
       "      <td>female</td>\n",
       "      <td>2</td>\n",
       "      <td>[1, 2, 3, 6]</td>\n",
       "      <td>human</td>\n",
       "      <td>[30]</td>\n",
       "      <td>[]</td>\n",
       "      <td>https://swapi.dev/api/people/5/</td>\n",
       "    </tr>\n",
       "  </tbody>\n",
       "</table>\n",
       "</div>"
      ],
      "text/plain": [
       "             name height mass hair_color   skin_color eye_color birth_year  \\\n",
       "0  Luke Skywalker    172   77      blond         fair      blue      19BBY   \n",
       "1           C-3PO    167   75        n/a         gold    yellow     112BBY   \n",
       "2           R2-D2     96   32        n/a  white, blue       red      33BBY   \n",
       "3     Darth Vader    202  136       none        white    yellow    41.9BBY   \n",
       "4     Leia Organa    150   49      brown        light     brown      19BBY   \n",
       "\n",
       "   gender  homeworld               films species  vehicles starships  \\\n",
       "0    male          1        [1, 2, 3, 6]   human  [14, 30]  [12, 22]   \n",
       "1     n/a          1  [1, 2, 3, 4, 5, 6]     [2]        []        []   \n",
       "2     n/a          8  [1, 2, 3, 4, 5, 6]     [2]        []        []   \n",
       "3    male          1        [1, 2, 3, 6]   human        []      [13]   \n",
       "4  female          2        [1, 2, 3, 6]   human      [30]        []   \n",
       "\n",
       "                               url  \n",
       "0  https://swapi.dev/api/people/1/  \n",
       "1  https://swapi.dev/api/people/2/  \n",
       "2  https://swapi.dev/api/people/3/  \n",
       "3  https://swapi.dev/api/people/4/  \n",
       "4  https://swapi.dev/api/people/5/  "
      ]
     },
     "execution_count": 30,
     "metadata": {},
     "output_type": "execute_result"
    }
   ],
   "source": [
    "df.head()"
   ]
  },
  {
   "cell_type": "code",
   "execution_count": 31,
   "id": "7bb7286e",
   "metadata": {},
   "outputs": [
    {
     "data": {
      "text/plain": [
       "(81, 14)"
      ]
     },
     "execution_count": 31,
     "metadata": {},
     "output_type": "execute_result"
    }
   ],
   "source": [
    "df.shape"
   ]
  },
  {
   "cell_type": "code",
   "execution_count": 32,
   "id": "73c52137",
   "metadata": {},
   "outputs": [],
   "source": [
    "df.to_csv('sw_characters.csv')"
   ]
  },
  {
   "cell_type": "code",
   "execution_count": null,
   "id": "6da5808d",
   "metadata": {},
   "outputs": [],
   "source": []
  }
 ],
 "metadata": {
  "kernelspec": {
   "display_name": "venv",
   "language": "python",
   "name": "python3"
  },
  "language_info": {
   "codemirror_mode": {
    "name": "ipython",
    "version": 3
   },
   "file_extension": ".py",
   "mimetype": "text/x-python",
   "name": "python",
   "nbconvert_exporter": "python",
   "pygments_lexer": "ipython3",
   "version": "3.13.7"
  }
 },
 "nbformat": 4,
 "nbformat_minor": 5
}
