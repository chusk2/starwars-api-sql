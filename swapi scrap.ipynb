{
 "cells": [
  {
   "cell_type": "markdown",
   "id": "98d76d35",
   "metadata": {},
   "source": [
    "# Imports"
   ]
  },
  {
   "cell_type": "code",
   "execution_count": 2,
   "id": "545f0530",
   "metadata": {},
   "outputs": [],
   "source": [
    "import requests as rq\n",
    "import pandas as pd\n",
    "import os\n",
    "import numpy as np\n",
    "import json\n",
    "from dotenv import load_dotenv\n",
    "from sqlalchemy import create_engine\n",
    "import copy"
   ]
  },
  {
   "cell_type": "code",
   "execution_count": 3,
   "id": "737cb8f8",
   "metadata": {},
   "outputs": [],
   "source": [
    "def show_cols(dict_):\n",
    "    for cat in dict_.keys():\n",
    "        print(f'\\n\\nCategory: {cat}')\n",
    "        print(*[ i for i in dict_[cat].columns], sep = '\\n')"
   ]
  },
  {
   "cell_type": "markdown",
   "id": "3fb05040",
   "metadata": {},
   "source": [
    "# Definitions"
   ]
  },
  {
   "cell_type": "code",
   "execution_count": 4,
   "id": "f43cf78c",
   "metadata": {},
   "outputs": [],
   "source": [
    "base_urls = {\n",
    "    \"films\": \"https://swapi.dev/api/films/\",\n",
    "    \"people\": \"https://swapi.dev/api/people/\",\n",
    "    \"planets\": \"https://swapi.dev/api/planets/\",\n",
    "    \"species\": \"https://swapi.dev/api/species/\",\n",
    "    \"starships\": \"https://swapi.dev/api/starships/\",\n",
    "    \"vehicles\": \"https://swapi.dev/api/vehicles/\"\n",
    "}"
   ]
  },
  {
   "cell_type": "code",
   "execution_count": 5,
   "id": "2db40ed4",
   "metadata": {},
   "outputs": [
    {
     "data": {
      "text/plain": [
       "['films', 'people', 'planets', 'species', 'starships', 'vehicles']"
      ]
     },
     "execution_count": 5,
     "metadata": {},
     "output_type": "execute_result"
    }
   ],
   "source": [
    "categories = list(base_urls.keys())\n",
    "categories"
   ]
  },
  {
   "cell_type": "markdown",
   "id": "cca32684",
   "metadata": {},
   "source": [
    "Each category has different fields that contain information in the form of an url. I will extract the page id from those fields for each category. "
   ]
  },
  {
   "cell_type": "code",
   "execution_count": 6,
   "id": "7ae41e05",
   "metadata": {},
   "outputs": [],
   "source": [
    "fields = {\n",
    "    'films' : [\"characters\", \"planets\", \"starships\", \"vehicles\", \"species\"],\n",
    "    'people' : [\"homeworld\", \"films\", \"species\", \"vehicles\", \"starships\"],\n",
    "    'planets' : ['residents', 'films'],\n",
    "    'species' : ['people', 'films', 'homeworld'],\n",
    "    'vehicles' : ['pilots', 'films'],\n",
    "    'starships' : ['pilots', 'films']\n",
    "    }"
   ]
  },
  {
   "cell_type": "markdown",
   "id": "ca030701",
   "metadata": {},
   "source": [
    "# Consume the API"
   ]
  },
  {
   "cell_type": "code",
   "execution_count": 7,
   "id": "73c0f51b",
   "metadata": {},
   "outputs": [],
   "source": [
    "def scrape_category(url):\n",
    "\n",
    "    # skip the next url for the first page of pager\n",
    "    next = url    \n",
    "    items_list = []\n",
    "\n",
    "    while next:\n",
    "        # get the content of the url\n",
    "        response = rq.get(next)\n",
    "\n",
    "        # success\n",
    "        if response.status_code == 200:\n",
    "            content = response.json()\n",
    "        elif response.status_code == 404:\n",
    "            print(f'{url} not found!')\n",
    "            return\n",
    "        \n",
    "        next = content['next']\n",
    "        items = content['results']\n",
    "\n",
    "        for item in items:\n",
    "                    \n",
    "            # remove created and edited fields\n",
    "            try:\n",
    "                del(item['created'])\n",
    "                del(item['edited'])\n",
    "            except:\n",
    "                pass\n",
    "            \n",
    "            items_list.append(item)            \n",
    "\n",
    "    return items_list"
   ]
  },
  {
   "cell_type": "markdown",
   "id": "4a60a9ed",
   "metadata": {},
   "source": [
    "## Scrape all the categories and store in *starwars_raw.json*"
   ]
  },
  {
   "cell_type": "code",
   "execution_count": 8,
   "id": "d2cafe94",
   "metadata": {},
   "outputs": [
    {
     "name": "stdout",
     "output_type": "stream",
     "text": [
      "The content already exists in a json file!\n"
     ]
    }
   ],
   "source": [
    "if not os.path.exists('./data/starwars_raw.json'):\n",
    "    raw_dict = {cat : scrape_category(base_urls[cat]) for cat in categories}\n",
    "    \n",
    "    # store into a json file\n",
    "    with open('./data/starwars_raw.json', 'w') as file:\n",
    "        json.dump(raw_dict, file, indent=4 )\n",
    "    print('Content from Star Wars API stored in a json file!')\n",
    "\n",
    "else:\n",
    "    print('The content already exists in a json file!')\n",
    "    with open('starwars_scrapped.json', 'r') as file:\n",
    "        raw_dict = json.load(file)"
   ]
  },
  {
   "cell_type": "markdown",
   "id": "6e022ff3",
   "metadata": {},
   "source": [
    "Function to process the information of an item from a category.\n",
    "Ex. one character, one planet or one film."
   ]
  },
  {
   "cell_type": "code",
   "execution_count": 9,
   "id": "6b3fb84d",
   "metadata": {},
   "outputs": [],
   "source": [
    "def process_item(item, fields):\n",
    "\n",
    "    # create a copy of the item dictionary\n",
    "    item = copy.deepcopy(item)\n",
    "\n",
    "    # parse the links from starships, vehicles and species\n",
    "    for field in fields:\n",
    "        id_values = []\n",
    "                        \n",
    "        if item[field]:  # if the field is not empty\n",
    "            \n",
    "            # parse the homeworld (just a single string value)\n",
    "            if field == 'homeworld':\n",
    "                # get the homeworld id\n",
    "                item['homeworld'] = int(item['homeworld'].split('/')[-2])\n",
    "\n",
    "            else:\n",
    "                for link in item[field]:\n",
    "\n",
    "                    # parse the id value in the link    \n",
    "                    id_values.append(int(link.split('/')[-2]))\n",
    "\n",
    "                # add the id values into the corresponding field key\n",
    "                # convert list into tuple, as tuples are hashable\n",
    "                item[field] = tuple(id_values)\n",
    "\n",
    "                # each character belongs to only 1 species\n",
    "                # that way, the species contains\n",
    "        \n",
    "        # if species is an empty list, it's a human character\n",
    "        elif field == 'species' and not item['species']:\n",
    "            item[field] = 1\n",
    "                    \n",
    "        # field has no values (empty list)\n",
    "        else:\n",
    "            item[field] = ()\n",
    "                \n",
    "    # remove created and edited fields\n",
    "    try:\n",
    "        del(item['created'])\n",
    "        del(item['edited'])\n",
    "    except:\n",
    "        pass\n",
    "\n",
    "    return item"
   ]
  },
  {
   "cell_type": "markdown",
   "id": "1647d49f",
   "metadata": {},
   "source": [
    "# Store the processed data"
   ]
  },
  {
   "cell_type": "code",
   "execution_count": 10,
   "id": "6c4f79d0",
   "metadata": {},
   "outputs": [
    {
     "name": "stdout",
     "output_type": "stream",
     "text": [
      "Processed data already existed, so the *categories_dict_processed* dictionary will be created from json file.\n"
     ]
    }
   ],
   "source": [
    "if not os.path.exists('./data/starwars_processed_items.json'):\n",
    "    # dictionary to store the processed categories\n",
    "    processed_dict = {}\n",
    "    \n",
    "    # process each item for all the categories\n",
    "    for k,v in raw_dict.items():\n",
    "        items_processed = []\n",
    "        for item in v:\n",
    "            try:\n",
    "                items_processed.append(process_item(item, fields[k]))\n",
    "                processed_dict[k] = items_processed\n",
    "            except:\n",
    "                print(f'Error in {k}')\n",
    "    \n",
    "    # store the information in a json file\n",
    "    with open('./data/starwars_processed_items.json', 'w') as file:\n",
    "        json.dump(processed_dict, file, indent = 4)\n",
    "\n",
    "# the file already exists, so load it\n",
    "else:\n",
    "    with open('./data/starwars_processed_items.json', 'r') as file:\n",
    "        processed_dict= json.load(file)\n",
    "\n",
    "        # convert lists into tuples after reading from json file\n",
    "        for cat in categories:\n",
    "            for item in processed_dict[cat]:\n",
    "                for field in fields[cat]:\n",
    "                    try:\n",
    "                        item[field] = tuple(item[field])\n",
    "                    # the content of the field is an integer\n",
    "                    # and not a list. Cannot create a tuple from\n",
    "                    # an integer using tuple(int)\n",
    "                    except:\n",
    "                        pass  # do not convert into a tuple, leave it as integer\n",
    "\n",
    "    print('Processed data already existed, so the *categories_dict_processed* dictionary will be created from json file.')"
   ]
  },
  {
   "cell_type": "markdown",
   "id": "e21e4692",
   "metadata": {},
   "source": [
    "# Dataframes"
   ]
  },
  {
   "cell_type": "markdown",
   "id": "92fc51cf",
   "metadata": {},
   "source": [
    "## Create the dataframes\n",
    "Create a dictionary to store the dataframes from each category"
   ]
  },
  {
   "cell_type": "code",
   "execution_count": 11,
   "id": "1e9413cc",
   "metadata": {},
   "outputs": [],
   "source": [
    "dataframes = dict.fromkeys(categories)"
   ]
  },
  {
   "cell_type": "code",
   "execution_count": 12,
   "id": "9da1a0ee",
   "metadata": {},
   "outputs": [],
   "source": [
    "for cat in categories:\n",
    "    df = pd.DataFrame(processed_dict[cat])\n",
    "    df['id'] = df.index + 1\n",
    "\n",
    "    # rename columns to add '_id' to the \"fields\"\n",
    "    rename_dict = {field : f'{field}_id' for field in fields[cat]}\n",
    "    rename_dict.update({'id' : f'{cat}_id'})\n",
    "    df.rename(columns = rename_dict, inplace = True)\n",
    "\n",
    "    # reorder the columns to place id in first place\n",
    "    all_columns_but_cat_id = [col for col in df.columns if col != f'{cat}_id']\n",
    "    sorted_columns = [f'{cat}_id'] + all_columns_but_cat_id\n",
    "    dataframes[cat] = df[sorted_columns]\n",
    "#df.to_csv('./data/starwars_characters.csv', index = False)"
   ]
  },
  {
   "cell_type": "markdown",
   "id": "a31eb901",
   "metadata": {},
   "source": [
    "## Rename some columns\n",
    "Make some renamings to the column names"
   ]
  },
  {
   "cell_type": "code",
   "execution_count": 13,
   "id": "5c79bae2",
   "metadata": {},
   "outputs": [],
   "source": [
    "col_rename_dict= {\n",
    "    \n",
    "    'films': {\n",
    "        'characters_id': 'character_id',\n",
    "        'films_id': 'film_id',\n",
    "        'planets_id': 'planet_id',\n",
    "        'episode_id': 'episode',\n",
    "        'starships_id': 'starship_id',\n",
    "        'vehicles_id': 'vehicle_id',\n",
    "    },\n",
    "    \n",
    "    'people': {\n",
    "        'people_id': 'character_id',\n",
    "        'films_id': 'film_id',\n",
    "        'vehicles_id': 'vehicle_id',\n",
    "        'starships_id': 'starship_id'\n",
    "    },\n",
    "\n",
    "    'planets': {\n",
    "        'planets_id': 'planet_id',\n",
    "        'films_id': 'film_id'\n",
    "    },\n",
    "\n",
    "    'species': {\n",
    "        'people_id': 'character_id',\n",
    "        'films_id': 'film_id'\n",
    "    },\n",
    "\n",
    "    'vehicles': {\n",
    "        'pilots_id': 'pilot_id',\n",
    "        'vehicles_id': 'vehicle_id',\n",
    "        'films_id': 'film_id'\n",
    "    },\n",
    "\n",
    "    'starships': {\n",
    "        'pilots_id': 'pilot_id',\n",
    "        'starships_id': 'starship_id',\n",
    "        'films_id': 'film_id'\n",
    "    }\n",
    "}"
   ]
  },
  {
   "cell_type": "code",
   "execution_count": 14,
   "id": "577a814d",
   "metadata": {},
   "outputs": [],
   "source": [
    "for cat in categories:\n",
    "    dataframes[cat].rename(columns=col_rename_dict[cat], inplace=True)"
   ]
  },
  {
   "cell_type": "markdown",
   "id": "254b75ea",
   "metadata": {},
   "source": [
    "## Clean the datasets"
   ]
  },
  {
   "cell_type": "markdown",
   "id": "4ebec0ba",
   "metadata": {},
   "source": [
    "### Clean people"
   ]
  },
  {
   "cell_type": "code",
   "execution_count": 15,
   "id": "826a246e",
   "metadata": {},
   "outputs": [
    {
     "data": {
      "text/html": [
       "<div>\n",
       "<style scoped>\n",
       "    .dataframe tbody tr th:only-of-type {\n",
       "        vertical-align: middle;\n",
       "    }\n",
       "\n",
       "    .dataframe tbody tr th {\n",
       "        vertical-align: top;\n",
       "    }\n",
       "\n",
       "    .dataframe thead th {\n",
       "        text-align: right;\n",
       "    }\n",
       "</style>\n",
       "<table border=\"1\" class=\"dataframe\">\n",
       "  <thead>\n",
       "    <tr style=\"text-align: right;\">\n",
       "      <th></th>\n",
       "      <th>character_id</th>\n",
       "      <th>name</th>\n",
       "      <th>height</th>\n",
       "      <th>mass</th>\n",
       "      <th>hair_color</th>\n",
       "      <th>skin_color</th>\n",
       "      <th>eye_color</th>\n",
       "      <th>birth_year</th>\n",
       "      <th>gender</th>\n",
       "      <th>homeworld_id</th>\n",
       "      <th>film_id</th>\n",
       "      <th>species_id</th>\n",
       "      <th>vehicle_id</th>\n",
       "      <th>starship_id</th>\n",
       "      <th>url</th>\n",
       "    </tr>\n",
       "  </thead>\n",
       "  <tbody>\n",
       "    <tr>\n",
       "      <th>77</th>\n",
       "      <td>78</td>\n",
       "      <td>Grievous</td>\n",
       "      <td>216</td>\n",
       "      <td>159</td>\n",
       "      <td>none</td>\n",
       "      <td>brown, white</td>\n",
       "      <td>green, yellow</td>\n",
       "      <td>unknown</td>\n",
       "      <td>male</td>\n",
       "      <td>59</td>\n",
       "      <td>(6,)</td>\n",
       "      <td>(36,)</td>\n",
       "      <td>(60,)</td>\n",
       "      <td>(74,)</td>\n",
       "      <td>https://swapi.dev/api/people/79/</td>\n",
       "    </tr>\n",
       "    <tr>\n",
       "      <th>79</th>\n",
       "      <td>80</td>\n",
       "      <td>Raymus Antilles</td>\n",
       "      <td>188</td>\n",
       "      <td>79</td>\n",
       "      <td>brown</td>\n",
       "      <td>light</td>\n",
       "      <td>brown</td>\n",
       "      <td>unknown</td>\n",
       "      <td>male</td>\n",
       "      <td>2</td>\n",
       "      <td>(1, 6)</td>\n",
       "      <td>1</td>\n",
       "      <td>()</td>\n",
       "      <td>()</td>\n",
       "      <td>https://swapi.dev/api/people/81/</td>\n",
       "    </tr>\n",
       "    <tr>\n",
       "      <th>11</th>\n",
       "      <td>12</td>\n",
       "      <td>Wilhuff Tarkin</td>\n",
       "      <td>180</td>\n",
       "      <td>unknown</td>\n",
       "      <td>auburn, grey</td>\n",
       "      <td>fair</td>\n",
       "      <td>blue</td>\n",
       "      <td>64BBY</td>\n",
       "      <td>male</td>\n",
       "      <td>21</td>\n",
       "      <td>(1, 6)</td>\n",
       "      <td>1</td>\n",
       "      <td>()</td>\n",
       "      <td>()</td>\n",
       "      <td>https://swapi.dev/api/people/12/</td>\n",
       "    </tr>\n",
       "    <tr>\n",
       "      <th>52</th>\n",
       "      <td>53</td>\n",
       "      <td>Eeth Koth</td>\n",
       "      <td>171</td>\n",
       "      <td>unknown</td>\n",
       "      <td>black</td>\n",
       "      <td>brown</td>\n",
       "      <td>brown</td>\n",
       "      <td>unknown</td>\n",
       "      <td>male</td>\n",
       "      <td>45</td>\n",
       "      <td>(4, 6)</td>\n",
       "      <td>(22,)</td>\n",
       "      <td>()</td>\n",
       "      <td>()</td>\n",
       "      <td>https://swapi.dev/api/people/54/</td>\n",
       "    </tr>\n",
       "    <tr>\n",
       "      <th>14</th>\n",
       "      <td>15</td>\n",
       "      <td>Greedo</td>\n",
       "      <td>173</td>\n",
       "      <td>74</td>\n",
       "      <td>n/a</td>\n",
       "      <td>green</td>\n",
       "      <td>black</td>\n",
       "      <td>44BBY</td>\n",
       "      <td>male</td>\n",
       "      <td>23</td>\n",
       "      <td>(1,)</td>\n",
       "      <td>(4,)</td>\n",
       "      <td>()</td>\n",
       "      <td>()</td>\n",
       "      <td>https://swapi.dev/api/people/15/</td>\n",
       "    </tr>\n",
       "  </tbody>\n",
       "</table>\n",
       "</div>"
      ],
      "text/plain": [
       "    character_id             name height     mass    hair_color    skin_color  \\\n",
       "77            78         Grievous    216      159          none  brown, white   \n",
       "79            80  Raymus Antilles    188       79         brown         light   \n",
       "11            12   Wilhuff Tarkin    180  unknown  auburn, grey          fair   \n",
       "52            53        Eeth Koth    171  unknown         black         brown   \n",
       "14            15           Greedo    173       74           n/a         green   \n",
       "\n",
       "        eye_color birth_year gender  homeworld_id film_id species_id  \\\n",
       "77  green, yellow    unknown   male            59    (6,)      (36,)   \n",
       "79          brown    unknown   male             2  (1, 6)          1   \n",
       "11           blue      64BBY   male            21  (1, 6)          1   \n",
       "52          brown    unknown   male            45  (4, 6)      (22,)   \n",
       "14          black      44BBY   male            23    (1,)       (4,)   \n",
       "\n",
       "   vehicle_id starship_id                               url  \n",
       "77      (60,)       (74,)  https://swapi.dev/api/people/79/  \n",
       "79         ()          ()  https://swapi.dev/api/people/81/  \n",
       "11         ()          ()  https://swapi.dev/api/people/12/  \n",
       "52         ()          ()  https://swapi.dev/api/people/54/  \n",
       "14         ()          ()  https://swapi.dev/api/people/15/  "
      ]
     },
     "execution_count": 15,
     "metadata": {},
     "output_type": "execute_result"
    }
   ],
   "source": [
    "df = dataframes['people']\n",
    "df.sample(5)"
   ]
  },
  {
   "cell_type": "code",
   "execution_count": 16,
   "id": "fdec9e6f",
   "metadata": {},
   "outputs": [
    {
     "data": {
      "text/plain": [
       "character_id     int64\n",
       "name            object\n",
       "height          object\n",
       "mass            object\n",
       "hair_color      object\n",
       "skin_color      object\n",
       "eye_color       object\n",
       "birth_year      object\n",
       "gender          object\n",
       "homeworld_id     int64\n",
       "film_id         object\n",
       "species_id      object\n",
       "vehicle_id      object\n",
       "starship_id     object\n",
       "url             object\n",
       "dtype: object"
      ]
     },
     "execution_count": 16,
     "metadata": {},
     "output_type": "execute_result"
    }
   ],
   "source": [
    "df.dtypes"
   ]
  },
  {
   "cell_type": "code",
   "execution_count": 17,
   "id": "f2d76002",
   "metadata": {},
   "outputs": [],
   "source": [
    "df.mass = df.mass.replace('unknown', np.nan)\n",
    "df.mass = df.mass.str.replace(',', '', regex=False)\n",
    "df.mass = df.mass.astype('float') "
   ]
  },
  {
   "cell_type": "code",
   "execution_count": 18,
   "id": "6c56db05",
   "metadata": {},
   "outputs": [],
   "source": [
    "df.height = df.height.replace('unknown', np.nan).astype('float')"
   ]
  },
  {
   "cell_type": "code",
   "execution_count": 19,
   "id": "68d12e2e",
   "metadata": {},
   "outputs": [],
   "source": [
    "df.hair_color = df.hair_color.replace('n/a', np.nan)"
   ]
  },
  {
   "cell_type": "code",
   "execution_count": 20,
   "id": "1a4bd178",
   "metadata": {},
   "outputs": [],
   "source": [
    "df.birth_year = df.birth_year.str.replace('BBY', ' BBY')"
   ]
  },
  {
   "cell_type": "markdown",
   "id": "0c8074dd",
   "metadata": {},
   "source": [
    "### Clean films"
   ]
  },
  {
   "cell_type": "code",
   "execution_count": 21,
   "id": "5e140b2d",
   "metadata": {},
   "outputs": [
    {
     "data": {
      "text/html": [
       "<div>\n",
       "<style scoped>\n",
       "    .dataframe tbody tr th:only-of-type {\n",
       "        vertical-align: middle;\n",
       "    }\n",
       "\n",
       "    .dataframe tbody tr th {\n",
       "        vertical-align: top;\n",
       "    }\n",
       "\n",
       "    .dataframe thead th {\n",
       "        text-align: right;\n",
       "    }\n",
       "</style>\n",
       "<table border=\"1\" class=\"dataframe\">\n",
       "  <thead>\n",
       "    <tr style=\"text-align: right;\">\n",
       "      <th></th>\n",
       "      <th>film_id</th>\n",
       "      <th>title</th>\n",
       "      <th>episode</th>\n",
       "      <th>opening_crawl</th>\n",
       "      <th>director</th>\n",
       "      <th>producer</th>\n",
       "      <th>release_date</th>\n",
       "      <th>character_id</th>\n",
       "      <th>planet_id</th>\n",
       "      <th>starship_id</th>\n",
       "      <th>vehicle_id</th>\n",
       "      <th>species_id</th>\n",
       "      <th>url</th>\n",
       "    </tr>\n",
       "  </thead>\n",
       "  <tbody>\n",
       "    <tr>\n",
       "      <th>5</th>\n",
       "      <td>6</td>\n",
       "      <td>Revenge of the Sith</td>\n",
       "      <td>3</td>\n",
       "      <td>War! The Republic is crumbling\\r\\nunder attack...</td>\n",
       "      <td>George Lucas</td>\n",
       "      <td>Rick McCallum</td>\n",
       "      <td>2005-05-19</td>\n",
       "      <td>(1, 2, 3, 4, 5, 6, 7, 10, 11, 12, 13, 20, 21, ...</td>\n",
       "      <td>(1, 2, 5, 8, 9, 12, 13, 14, 15, 16, 17, 18, 19)</td>\n",
       "      <td>(2, 32, 48, 59, 61, 63, 64, 65, 66, 68, 74, 75)</td>\n",
       "      <td>(33, 50, 53, 56, 60, 62, 67, 69, 70, 71, 72, 7...</td>\n",
       "      <td>(1, 2, 3, 6, 15, 19, 20, 23, 24, 25, 26, 27, 2...</td>\n",
       "      <td>https://swapi.dev/api/films/6/</td>\n",
       "    </tr>\n",
       "    <tr>\n",
       "      <th>1</th>\n",
       "      <td>2</td>\n",
       "      <td>The Empire Strikes Back</td>\n",
       "      <td>5</td>\n",
       "      <td>It is a dark time for the\\r\\nRebellion. Althou...</td>\n",
       "      <td>Irvin Kershner</td>\n",
       "      <td>Gary Kurtz, Rick McCallum</td>\n",
       "      <td>1980-05-17</td>\n",
       "      <td>(1, 2, 3, 4, 5, 10, 13, 14, 18, 20, 21, 22, 23...</td>\n",
       "      <td>(4, 5, 6, 27)</td>\n",
       "      <td>(3, 10, 11, 12, 15, 17, 21, 22, 23)</td>\n",
       "      <td>(8, 14, 16, 18, 19, 20)</td>\n",
       "      <td>(1, 2, 3, 6, 7)</td>\n",
       "      <td>https://swapi.dev/api/films/2/</td>\n",
       "    </tr>\n",
       "    <tr>\n",
       "      <th>3</th>\n",
       "      <td>4</td>\n",
       "      <td>The Phantom Menace</td>\n",
       "      <td>1</td>\n",
       "      <td>Turmoil has engulfed the\\r\\nGalactic Republic....</td>\n",
       "      <td>George Lucas</td>\n",
       "      <td>Rick McCallum</td>\n",
       "      <td>1999-05-19</td>\n",
       "      <td>(2, 3, 10, 11, 16, 20, 21, 32, 33, 34, 35, 36,...</td>\n",
       "      <td>(1, 8, 9)</td>\n",
       "      <td>(31, 32, 39, 40, 41)</td>\n",
       "      <td>(33, 34, 35, 36, 37, 38, 42)</td>\n",
       "      <td>(1, 2, 6, 11, 12, 13, 14, 15, 16, 17, 18, 19, ...</td>\n",
       "      <td>https://swapi.dev/api/films/4/</td>\n",
       "    </tr>\n",
       "    <tr>\n",
       "      <th>4</th>\n",
       "      <td>5</td>\n",
       "      <td>Attack of the Clones</td>\n",
       "      <td>2</td>\n",
       "      <td>There is unrest in the Galactic\\r\\nSenate. Sev...</td>\n",
       "      <td>George Lucas</td>\n",
       "      <td>Rick McCallum</td>\n",
       "      <td>2002-05-16</td>\n",
       "      <td>(2, 3, 6, 7, 10, 11, 20, 21, 22, 33, 35, 36, 4...</td>\n",
       "      <td>(1, 8, 9, 10, 11)</td>\n",
       "      <td>(21, 32, 39, 43, 47, 48, 49, 52, 58)</td>\n",
       "      <td>(4, 44, 45, 46, 50, 51, 53, 54, 55, 56, 57)</td>\n",
       "      <td>(1, 2, 6, 12, 13, 15, 28, 29, 30, 31, 32, 33, ...</td>\n",
       "      <td>https://swapi.dev/api/films/5/</td>\n",
       "    </tr>\n",
       "    <tr>\n",
       "      <th>2</th>\n",
       "      <td>3</td>\n",
       "      <td>Return of the Jedi</td>\n",
       "      <td>6</td>\n",
       "      <td>Luke Skywalker has returned to\\r\\nhis home pla...</td>\n",
       "      <td>Richard Marquand</td>\n",
       "      <td>Howard G. Kazanjian, George Lucas, Rick McCallum</td>\n",
       "      <td>1983-05-25</td>\n",
       "      <td>(1, 2, 3, 4, 5, 10, 13, 14, 16, 18, 20, 21, 22...</td>\n",
       "      <td>(1, 5, 7, 8, 9)</td>\n",
       "      <td>(2, 3, 10, 11, 12, 15, 17, 22, 23, 27, 28, 29)</td>\n",
       "      <td>(8, 16, 18, 19, 24, 25, 26, 30)</td>\n",
       "      <td>(1, 2, 3, 5, 6, 8, 9, 10, 15)</td>\n",
       "      <td>https://swapi.dev/api/films/3/</td>\n",
       "    </tr>\n",
       "  </tbody>\n",
       "</table>\n",
       "</div>"
      ],
      "text/plain": [
       "   film_id                    title  episode  \\\n",
       "5        6      Revenge of the Sith        3   \n",
       "1        2  The Empire Strikes Back        5   \n",
       "3        4       The Phantom Menace        1   \n",
       "4        5     Attack of the Clones        2   \n",
       "2        3       Return of the Jedi        6   \n",
       "\n",
       "                                       opening_crawl          director  \\\n",
       "5  War! The Republic is crumbling\\r\\nunder attack...      George Lucas   \n",
       "1  It is a dark time for the\\r\\nRebellion. Althou...    Irvin Kershner   \n",
       "3  Turmoil has engulfed the\\r\\nGalactic Republic....      George Lucas   \n",
       "4  There is unrest in the Galactic\\r\\nSenate. Sev...      George Lucas   \n",
       "2  Luke Skywalker has returned to\\r\\nhis home pla...  Richard Marquand   \n",
       "\n",
       "                                           producer release_date  \\\n",
       "5                                     Rick McCallum   2005-05-19   \n",
       "1                         Gary Kurtz, Rick McCallum   1980-05-17   \n",
       "3                                     Rick McCallum   1999-05-19   \n",
       "4                                     Rick McCallum   2002-05-16   \n",
       "2  Howard G. Kazanjian, George Lucas, Rick McCallum   1983-05-25   \n",
       "\n",
       "                                        character_id  \\\n",
       "5  (1, 2, 3, 4, 5, 6, 7, 10, 11, 12, 13, 20, 21, ...   \n",
       "1  (1, 2, 3, 4, 5, 10, 13, 14, 18, 20, 21, 22, 23...   \n",
       "3  (2, 3, 10, 11, 16, 20, 21, 32, 33, 34, 35, 36,...   \n",
       "4  (2, 3, 6, 7, 10, 11, 20, 21, 22, 33, 35, 36, 4...   \n",
       "2  (1, 2, 3, 4, 5, 10, 13, 14, 16, 18, 20, 21, 22...   \n",
       "\n",
       "                                         planet_id  \\\n",
       "5  (1, 2, 5, 8, 9, 12, 13, 14, 15, 16, 17, 18, 19)   \n",
       "1                                    (4, 5, 6, 27)   \n",
       "3                                        (1, 8, 9)   \n",
       "4                                (1, 8, 9, 10, 11)   \n",
       "2                                  (1, 5, 7, 8, 9)   \n",
       "\n",
       "                                       starship_id  \\\n",
       "5  (2, 32, 48, 59, 61, 63, 64, 65, 66, 68, 74, 75)   \n",
       "1              (3, 10, 11, 12, 15, 17, 21, 22, 23)   \n",
       "3                             (31, 32, 39, 40, 41)   \n",
       "4             (21, 32, 39, 43, 47, 48, 49, 52, 58)   \n",
       "2   (2, 3, 10, 11, 12, 15, 17, 22, 23, 27, 28, 29)   \n",
       "\n",
       "                                          vehicle_id  \\\n",
       "5  (33, 50, 53, 56, 60, 62, 67, 69, 70, 71, 72, 7...   \n",
       "1                            (8, 14, 16, 18, 19, 20)   \n",
       "3                       (33, 34, 35, 36, 37, 38, 42)   \n",
       "4        (4, 44, 45, 46, 50, 51, 53, 54, 55, 56, 57)   \n",
       "2                    (8, 16, 18, 19, 24, 25, 26, 30)   \n",
       "\n",
       "                                          species_id  \\\n",
       "5  (1, 2, 3, 6, 15, 19, 20, 23, 24, 25, 26, 27, 2...   \n",
       "1                                    (1, 2, 3, 6, 7)   \n",
       "3  (1, 2, 6, 11, 12, 13, 14, 15, 16, 17, 18, 19, ...   \n",
       "4  (1, 2, 6, 12, 13, 15, 28, 29, 30, 31, 32, 33, ...   \n",
       "2                      (1, 2, 3, 5, 6, 8, 9, 10, 15)   \n",
       "\n",
       "                              url  \n",
       "5  https://swapi.dev/api/films/6/  \n",
       "1  https://swapi.dev/api/films/2/  \n",
       "3  https://swapi.dev/api/films/4/  \n",
       "4  https://swapi.dev/api/films/5/  \n",
       "2  https://swapi.dev/api/films/3/  "
      ]
     },
     "execution_count": 21,
     "metadata": {},
     "output_type": "execute_result"
    }
   ],
   "source": [
    "df = dataframes['films']\n",
    "df.sample(5)"
   ]
  },
  {
   "cell_type": "code",
   "execution_count": 22,
   "id": "5e19e0d9",
   "metadata": {},
   "outputs": [
    {
     "data": {
      "text/plain": [
       "array([(1, 2, 3, 4, 5), (1, 2, 3, 6, 7), (1, 2, 3, 5, 6, 8, 9, 10, 15),\n",
       "       (1, 2, 6, 11, 12, 13, 14, 15, 16, 17, 18, 19, 20, 21, 22, 23, 24, 25, 26, 27),\n",
       "       (1, 2, 6, 12, 13, 15, 28, 29, 30, 31, 32, 33, 34, 35),\n",
       "       (1, 2, 3, 6, 15, 19, 20, 23, 24, 25, 26, 27, 28, 29, 30, 33, 34, 35, 36, 37)],\n",
       "      dtype=object)"
      ]
     },
     "execution_count": 22,
     "metadata": {},
     "output_type": "execute_result"
    }
   ],
   "source": [
    "df.species_id.unique()"
   ]
  },
  {
   "cell_type": "code",
   "execution_count": 23,
   "id": "762dcfe3",
   "metadata": {},
   "outputs": [
    {
     "data": {
      "text/plain": [
       "film_id           int64\n",
       "title            object\n",
       "episode           int64\n",
       "opening_crawl    object\n",
       "director         object\n",
       "producer         object\n",
       "release_date     object\n",
       "character_id     object\n",
       "planet_id        object\n",
       "starship_id      object\n",
       "vehicle_id       object\n",
       "species_id       object\n",
       "url              object\n",
       "dtype: object"
      ]
     },
     "execution_count": 23,
     "metadata": {},
     "output_type": "execute_result"
    }
   ],
   "source": [
    "df.dtypes"
   ]
  },
  {
   "cell_type": "code",
   "execution_count": 24,
   "id": "0c357be7",
   "metadata": {},
   "outputs": [],
   "source": [
    "df.release_date = pd.to_datetime(df.release_date)"
   ]
  },
  {
   "cell_type": "markdown",
   "id": "9533468e",
   "metadata": {},
   "source": [
    "### Clean planets"
   ]
  },
  {
   "cell_type": "code",
   "execution_count": 25,
   "id": "0301b5ab",
   "metadata": {},
   "outputs": [
    {
     "data": {
      "text/html": [
       "<div>\n",
       "<style scoped>\n",
       "    .dataframe tbody tr th:only-of-type {\n",
       "        vertical-align: middle;\n",
       "    }\n",
       "\n",
       "    .dataframe tbody tr th {\n",
       "        vertical-align: top;\n",
       "    }\n",
       "\n",
       "    .dataframe thead th {\n",
       "        text-align: right;\n",
       "    }\n",
       "</style>\n",
       "<table border=\"1\" class=\"dataframe\">\n",
       "  <thead>\n",
       "    <tr style=\"text-align: right;\">\n",
       "      <th></th>\n",
       "      <th>planet_id</th>\n",
       "      <th>name</th>\n",
       "      <th>rotation_period</th>\n",
       "      <th>orbital_period</th>\n",
       "      <th>diameter</th>\n",
       "      <th>climate</th>\n",
       "      <th>gravity</th>\n",
       "      <th>terrain</th>\n",
       "      <th>surface_water</th>\n",
       "      <th>population</th>\n",
       "      <th>residents_id</th>\n",
       "      <th>film_id</th>\n",
       "      <th>url</th>\n",
       "    </tr>\n",
       "  </thead>\n",
       "  <tbody>\n",
       "    <tr>\n",
       "      <th>0</th>\n",
       "      <td>1</td>\n",
       "      <td>Tatooine</td>\n",
       "      <td>23</td>\n",
       "      <td>304</td>\n",
       "      <td>10465</td>\n",
       "      <td>arid</td>\n",
       "      <td>1 standard</td>\n",
       "      <td>desert</td>\n",
       "      <td>1</td>\n",
       "      <td>200000</td>\n",
       "      <td>(1, 2, 4, 6, 7, 8, 9, 11, 43, 62)</td>\n",
       "      <td>(1, 3, 4, 5, 6)</td>\n",
       "      <td>https://swapi.dev/api/planets/1/</td>\n",
       "    </tr>\n",
       "    <tr>\n",
       "      <th>43</th>\n",
       "      <td>44</td>\n",
       "      <td>Glee Anselm</td>\n",
       "      <td>33</td>\n",
       "      <td>206</td>\n",
       "      <td>15600</td>\n",
       "      <td>tropical, temperate</td>\n",
       "      <td>1</td>\n",
       "      <td>lakes, islands, swamps, seas</td>\n",
       "      <td>80</td>\n",
       "      <td>500000000</td>\n",
       "      <td>(53,)</td>\n",
       "      <td>()</td>\n",
       "      <td>https://swapi.dev/api/planets/44/</td>\n",
       "    </tr>\n",
       "    <tr>\n",
       "      <th>50</th>\n",
       "      <td>51</td>\n",
       "      <td>Mirial</td>\n",
       "      <td>unknown</td>\n",
       "      <td>unknown</td>\n",
       "      <td>unknown</td>\n",
       "      <td>unknown</td>\n",
       "      <td>unknown</td>\n",
       "      <td>deserts</td>\n",
       "      <td>unknown</td>\n",
       "      <td>unknown</td>\n",
       "      <td>(64, 65)</td>\n",
       "      <td>()</td>\n",
       "      <td>https://swapi.dev/api/planets/51/</td>\n",
       "    </tr>\n",
       "    <tr>\n",
       "      <th>25</th>\n",
       "      <td>26</td>\n",
       "      <td>Bestine IV</td>\n",
       "      <td>26</td>\n",
       "      <td>680</td>\n",
       "      <td>6400</td>\n",
       "      <td>temperate</td>\n",
       "      <td>unknown</td>\n",
       "      <td>rocky islands, oceans</td>\n",
       "      <td>98</td>\n",
       "      <td>62000000</td>\n",
       "      <td>(19,)</td>\n",
       "      <td>()</td>\n",
       "      <td>https://swapi.dev/api/planets/26/</td>\n",
       "    </tr>\n",
       "    <tr>\n",
       "      <th>26</th>\n",
       "      <td>27</td>\n",
       "      <td>Ord Mantell</td>\n",
       "      <td>26</td>\n",
       "      <td>334</td>\n",
       "      <td>14050</td>\n",
       "      <td>temperate</td>\n",
       "      <td>1 standard</td>\n",
       "      <td>plains, seas, mesas</td>\n",
       "      <td>10</td>\n",
       "      <td>4000000000</td>\n",
       "      <td>()</td>\n",
       "      <td>(2,)</td>\n",
       "      <td>https://swapi.dev/api/planets/27/</td>\n",
       "    </tr>\n",
       "  </tbody>\n",
       "</table>\n",
       "</div>"
      ],
      "text/plain": [
       "    planet_id         name rotation_period orbital_period diameter  \\\n",
       "0           1     Tatooine              23            304    10465   \n",
       "43         44  Glee Anselm              33            206    15600   \n",
       "50         51       Mirial         unknown        unknown  unknown   \n",
       "25         26   Bestine IV              26            680     6400   \n",
       "26         27  Ord Mantell              26            334    14050   \n",
       "\n",
       "                climate     gravity                       terrain  \\\n",
       "0                  arid  1 standard                        desert   \n",
       "43  tropical, temperate           1  lakes, islands, swamps, seas   \n",
       "50              unknown     unknown                       deserts   \n",
       "25            temperate     unknown         rocky islands, oceans   \n",
       "26            temperate  1 standard           plains, seas, mesas   \n",
       "\n",
       "   surface_water  population                       residents_id  \\\n",
       "0              1      200000  (1, 2, 4, 6, 7, 8, 9, 11, 43, 62)   \n",
       "43            80   500000000                              (53,)   \n",
       "50       unknown     unknown                           (64, 65)   \n",
       "25            98    62000000                              (19,)   \n",
       "26            10  4000000000                                 ()   \n",
       "\n",
       "            film_id                                url  \n",
       "0   (1, 3, 4, 5, 6)   https://swapi.dev/api/planets/1/  \n",
       "43               ()  https://swapi.dev/api/planets/44/  \n",
       "50               ()  https://swapi.dev/api/planets/51/  \n",
       "25               ()  https://swapi.dev/api/planets/26/  \n",
       "26             (2,)  https://swapi.dev/api/planets/27/  "
      ]
     },
     "execution_count": 25,
     "metadata": {},
     "output_type": "execute_result"
    }
   ],
   "source": [
    "df = dataframes['planets']\n",
    "df.sample(5)"
   ]
  },
  {
   "cell_type": "code",
   "execution_count": 26,
   "id": "7efdf919",
   "metadata": {},
   "outputs": [
    {
     "data": {
      "text/plain": [
       "planet_id           int64\n",
       "name               object\n",
       "rotation_period    object\n",
       "orbital_period     object\n",
       "diameter           object\n",
       "climate            object\n",
       "gravity            object\n",
       "terrain            object\n",
       "surface_water      object\n",
       "population         object\n",
       "residents_id       object\n",
       "film_id            object\n",
       "url                object\n",
       "dtype: object"
      ]
     },
     "execution_count": 26,
     "metadata": {},
     "output_type": "execute_result"
    }
   ],
   "source": [
    "df.dtypes"
   ]
  },
  {
   "cell_type": "code",
   "execution_count": 27,
   "id": "72d52dc2",
   "metadata": {},
   "outputs": [],
   "source": [
    "for col in ['rotation_period', 'orbital_period', 'diameter', 'surface_water', 'population']:\n",
    "    df[col] = df[col].replace('unknown', np.nan).astype('float')"
   ]
  },
  {
   "cell_type": "code",
   "execution_count": 28,
   "id": "e0292d31",
   "metadata": {},
   "outputs": [],
   "source": [
    "df.population = df.population / 1E6\n",
    "df.rename(columns = {'population' : 'population_millions'}, inplace = True)"
   ]
  },
  {
   "cell_type": "code",
   "execution_count": 29,
   "id": "fc6c1752",
   "metadata": {},
   "outputs": [
    {
     "data": {
      "text/plain": [
       "array(['1 standard', '1.1 standard', 'N/A',\n",
       "       '1.5 (surface), 1 standard (Cloud City)', '0.85 standard',\n",
       "       '0.9 standard', '0.56 standard', '0.75 standard', 'unknown',\n",
       "       '0.62 standard', '1', '1.56', '0.9', '0.98'], dtype=object)"
      ]
     },
     "execution_count": 29,
     "metadata": {},
     "output_type": "execute_result"
    }
   ],
   "source": [
    "df.gravity.unique()"
   ]
  },
  {
   "cell_type": "code",
   "execution_count": 30,
   "id": "7b1592a4",
   "metadata": {},
   "outputs": [],
   "source": [
    "df.gravity = df.gravity.str.replace(' standard', '').str.replace(df.gravity[5], '1.5')\n",
    "df.gravity = df.gravity.replace('unknown', np.nan)"
   ]
  },
  {
   "cell_type": "markdown",
   "id": "0e60760b",
   "metadata": {},
   "source": [
    "### Clean species"
   ]
  },
  {
   "cell_type": "code",
   "execution_count": 31,
   "id": "0e3891c7",
   "metadata": {},
   "outputs": [
    {
     "data": {
      "text/html": [
       "<div>\n",
       "<style scoped>\n",
       "    .dataframe tbody tr th:only-of-type {\n",
       "        vertical-align: middle;\n",
       "    }\n",
       "\n",
       "    .dataframe tbody tr th {\n",
       "        vertical-align: top;\n",
       "    }\n",
       "\n",
       "    .dataframe thead th {\n",
       "        text-align: right;\n",
       "    }\n",
       "</style>\n",
       "<table border=\"1\" class=\"dataframe\">\n",
       "  <thead>\n",
       "    <tr style=\"text-align: right;\">\n",
       "      <th></th>\n",
       "      <th>species_id</th>\n",
       "      <th>name</th>\n",
       "      <th>classification</th>\n",
       "      <th>designation</th>\n",
       "      <th>average_height</th>\n",
       "      <th>skin_colors</th>\n",
       "      <th>hair_colors</th>\n",
       "      <th>eye_colors</th>\n",
       "      <th>average_lifespan</th>\n",
       "      <th>homeworld_id</th>\n",
       "      <th>language</th>\n",
       "      <th>character_id</th>\n",
       "      <th>film_id</th>\n",
       "      <th>url</th>\n",
       "    </tr>\n",
       "  </thead>\n",
       "  <tbody>\n",
       "    <tr>\n",
       "      <th>33</th>\n",
       "      <td>34</td>\n",
       "      <td>Muun</td>\n",
       "      <td>mammal</td>\n",
       "      <td>sentient</td>\n",
       "      <td>190</td>\n",
       "      <td>grey, white</td>\n",
       "      <td>none</td>\n",
       "      <td>black</td>\n",
       "      <td>100</td>\n",
       "      <td>57</td>\n",
       "      <td>Muun</td>\n",
       "      <td>(77,)</td>\n",
       "      <td>(5, 6)</td>\n",
       "      <td>https://swapi.dev/api/species/34/</td>\n",
       "    </tr>\n",
       "    <tr>\n",
       "      <th>22</th>\n",
       "      <td>23</td>\n",
       "      <td>Tholothian</td>\n",
       "      <td>mammal</td>\n",
       "      <td>sentient</td>\n",
       "      <td>unknown</td>\n",
       "      <td>dark</td>\n",
       "      <td>unknown</td>\n",
       "      <td>blue, indigo</td>\n",
       "      <td>unknown</td>\n",
       "      <td>46</td>\n",
       "      <td>unknown</td>\n",
       "      <td>(55,)</td>\n",
       "      <td>(4, 6)</td>\n",
       "      <td>https://swapi.dev/api/species/23/</td>\n",
       "    </tr>\n",
       "    <tr>\n",
       "      <th>1</th>\n",
       "      <td>2</td>\n",
       "      <td>Droid</td>\n",
       "      <td>artificial</td>\n",
       "      <td>sentient</td>\n",
       "      <td>n/a</td>\n",
       "      <td>n/a</td>\n",
       "      <td>n/a</td>\n",
       "      <td>n/a</td>\n",
       "      <td>indefinite</td>\n",
       "      <td>()</td>\n",
       "      <td>n/a</td>\n",
       "      <td>(2, 3, 8, 23)</td>\n",
       "      <td>(1, 2, 3, 4, 5, 6)</td>\n",
       "      <td>https://swapi.dev/api/species/2/</td>\n",
       "    </tr>\n",
       "    <tr>\n",
       "      <th>8</th>\n",
       "      <td>9</td>\n",
       "      <td>Ewok</td>\n",
       "      <td>mammal</td>\n",
       "      <td>sentient</td>\n",
       "      <td>100</td>\n",
       "      <td>brown</td>\n",
       "      <td>white, brown, black</td>\n",
       "      <td>orange, brown</td>\n",
       "      <td>unknown</td>\n",
       "      <td>7</td>\n",
       "      <td>Ewokese</td>\n",
       "      <td>(30,)</td>\n",
       "      <td>(3,)</td>\n",
       "      <td>https://swapi.dev/api/species/9/</td>\n",
       "    </tr>\n",
       "    <tr>\n",
       "      <th>28</th>\n",
       "      <td>29</td>\n",
       "      <td>Mirialan</td>\n",
       "      <td>mammal</td>\n",
       "      <td>sentient</td>\n",
       "      <td>180</td>\n",
       "      <td>yellow, green</td>\n",
       "      <td>black, brown</td>\n",
       "      <td>blue, green, red, yellow, brown, orange</td>\n",
       "      <td>unknown</td>\n",
       "      <td>51</td>\n",
       "      <td>Mirialan</td>\n",
       "      <td>(64, 65)</td>\n",
       "      <td>(5, 6)</td>\n",
       "      <td>https://swapi.dev/api/species/29/</td>\n",
       "    </tr>\n",
       "  </tbody>\n",
       "</table>\n",
       "</div>"
      ],
      "text/plain": [
       "    species_id        name classification designation average_height  \\\n",
       "33          34        Muun         mammal    sentient            190   \n",
       "22          23  Tholothian         mammal    sentient        unknown   \n",
       "1            2       Droid     artificial    sentient            n/a   \n",
       "8            9        Ewok         mammal    sentient            100   \n",
       "28          29    Mirialan         mammal    sentient            180   \n",
       "\n",
       "      skin_colors          hair_colors  \\\n",
       "33    grey, white                 none   \n",
       "22           dark              unknown   \n",
       "1             n/a                  n/a   \n",
       "8           brown  white, brown, black   \n",
       "28  yellow, green         black, brown   \n",
       "\n",
       "                                 eye_colors average_lifespan homeworld_id  \\\n",
       "33                                    black              100           57   \n",
       "22                             blue, indigo          unknown           46   \n",
       "1                                       n/a       indefinite           ()   \n",
       "8                             orange, brown          unknown            7   \n",
       "28  blue, green, red, yellow, brown, orange          unknown           51   \n",
       "\n",
       "    language   character_id             film_id  \\\n",
       "33      Muun          (77,)              (5, 6)   \n",
       "22   unknown          (55,)              (4, 6)   \n",
       "1        n/a  (2, 3, 8, 23)  (1, 2, 3, 4, 5, 6)   \n",
       "8    Ewokese          (30,)                (3,)   \n",
       "28  Mirialan       (64, 65)              (5, 6)   \n",
       "\n",
       "                                  url  \n",
       "33  https://swapi.dev/api/species/34/  \n",
       "22  https://swapi.dev/api/species/23/  \n",
       "1    https://swapi.dev/api/species/2/  \n",
       "8    https://swapi.dev/api/species/9/  \n",
       "28  https://swapi.dev/api/species/29/  "
      ]
     },
     "execution_count": 31,
     "metadata": {},
     "output_type": "execute_result"
    }
   ],
   "source": [
    "df = dataframes['species']\n",
    "df.sample(5)"
   ]
  },
  {
   "cell_type": "code",
   "execution_count": 32,
   "id": "c821986e",
   "metadata": {},
   "outputs": [
    {
     "data": {
      "text/plain": [
       "species_id           int64\n",
       "name                object\n",
       "classification      object\n",
       "designation         object\n",
       "average_height      object\n",
       "skin_colors         object\n",
       "hair_colors         object\n",
       "eye_colors          object\n",
       "average_lifespan    object\n",
       "homeworld_id        object\n",
       "language            object\n",
       "character_id        object\n",
       "film_id             object\n",
       "url                 object\n",
       "dtype: object"
      ]
     },
     "execution_count": 32,
     "metadata": {},
     "output_type": "execute_result"
    }
   ],
   "source": [
    "df.dtypes"
   ]
  },
  {
   "cell_type": "code",
   "execution_count": 33,
   "id": "8136027d",
   "metadata": {},
   "outputs": [],
   "source": [
    "df.average_height = df.average_height.replace('unknown', np.nan).replace('n/a', np.nan).astype('float')"
   ]
  },
  {
   "cell_type": "code",
   "execution_count": 34,
   "id": "1d38e70d",
   "metadata": {},
   "outputs": [],
   "source": [
    "df.average_lifespan = df.average_lifespan.replace('unknown', np.nan).replace('indefinite', 9999).astype('float')"
   ]
  },
  {
   "cell_type": "code",
   "execution_count": 35,
   "id": "9d41f9ec",
   "metadata": {},
   "outputs": [],
   "source": [
    "df.loc[1, 'homeworld_id'] = np.nan\n",
    "df.homeworld_id = df.homeworld_id.astype('float')"
   ]
  },
  {
   "cell_type": "markdown",
   "id": "f3fb8577",
   "metadata": {},
   "source": [
    "### Clean vehicles"
   ]
  },
  {
   "cell_type": "code",
   "execution_count": 36,
   "id": "451a6ffe",
   "metadata": {},
   "outputs": [
    {
     "data": {
      "text/html": [
       "<div>\n",
       "<style scoped>\n",
       "    .dataframe tbody tr th:only-of-type {\n",
       "        vertical-align: middle;\n",
       "    }\n",
       "\n",
       "    .dataframe tbody tr th {\n",
       "        vertical-align: top;\n",
       "    }\n",
       "\n",
       "    .dataframe thead th {\n",
       "        text-align: right;\n",
       "    }\n",
       "</style>\n",
       "<table border=\"1\" class=\"dataframe\">\n",
       "  <thead>\n",
       "    <tr style=\"text-align: right;\">\n",
       "      <th></th>\n",
       "      <th>vehicle_id</th>\n",
       "      <th>name</th>\n",
       "      <th>model</th>\n",
       "      <th>manufacturer</th>\n",
       "      <th>cost_in_credits</th>\n",
       "      <th>length</th>\n",
       "      <th>max_atmosphering_speed</th>\n",
       "      <th>crew</th>\n",
       "      <th>passengers</th>\n",
       "      <th>cargo_capacity</th>\n",
       "      <th>consumables</th>\n",
       "      <th>vehicle_class</th>\n",
       "      <th>pilot_id</th>\n",
       "      <th>film_id</th>\n",
       "      <th>url</th>\n",
       "    </tr>\n",
       "  </thead>\n",
       "  <tbody>\n",
       "    <tr>\n",
       "      <th>8</th>\n",
       "      <td>9</td>\n",
       "      <td>Storm IV Twin-Pod cloud car</td>\n",
       "      <td>Storm IV Twin-Pod</td>\n",
       "      <td>Bespin Motors</td>\n",
       "      <td>75000</td>\n",
       "      <td>7</td>\n",
       "      <td>1500</td>\n",
       "      <td>2</td>\n",
       "      <td>0</td>\n",
       "      <td>10</td>\n",
       "      <td>1 day</td>\n",
       "      <td>repulsorcraft</td>\n",
       "      <td>()</td>\n",
       "      <td>(2,)</td>\n",
       "      <td>https://swapi.dev/api/vehicles/20/</td>\n",
       "    </tr>\n",
       "    <tr>\n",
       "      <th>9</th>\n",
       "      <td>10</td>\n",
       "      <td>Sail barge</td>\n",
       "      <td>Modified Luxury Sail Barge</td>\n",
       "      <td>Ubrikkian Industries Custom Vehicle Division</td>\n",
       "      <td>285000</td>\n",
       "      <td>30</td>\n",
       "      <td>100</td>\n",
       "      <td>26</td>\n",
       "      <td>500</td>\n",
       "      <td>2000000</td>\n",
       "      <td>Live food tanks</td>\n",
       "      <td>sail barge</td>\n",
       "      <td>()</td>\n",
       "      <td>(3,)</td>\n",
       "      <td>https://swapi.dev/api/vehicles/24/</td>\n",
       "    </tr>\n",
       "    <tr>\n",
       "      <th>6</th>\n",
       "      <td>7</td>\n",
       "      <td>AT-AT</td>\n",
       "      <td>All Terrain Armored Transport</td>\n",
       "      <td>Kuat Drive Yards, Imperial Department of Milit...</td>\n",
       "      <td>unknown</td>\n",
       "      <td>20</td>\n",
       "      <td>60</td>\n",
       "      <td>5</td>\n",
       "      <td>40</td>\n",
       "      <td>1000</td>\n",
       "      <td>unknown</td>\n",
       "      <td>assault walker</td>\n",
       "      <td>()</td>\n",
       "      <td>(2, 3)</td>\n",
       "      <td>https://swapi.dev/api/vehicles/18/</td>\n",
       "    </tr>\n",
       "    <tr>\n",
       "      <th>25</th>\n",
       "      <td>26</td>\n",
       "      <td>AT-TE</td>\n",
       "      <td>All Terrain Tactical Enforcer</td>\n",
       "      <td>Rothana Heavy Engineering, Kuat Drive Yards</td>\n",
       "      <td>unknown</td>\n",
       "      <td>13.2</td>\n",
       "      <td>60</td>\n",
       "      <td>6</td>\n",
       "      <td>36</td>\n",
       "      <td>10000</td>\n",
       "      <td>21 days</td>\n",
       "      <td>walker</td>\n",
       "      <td>()</td>\n",
       "      <td>(5, 6)</td>\n",
       "      <td>https://swapi.dev/api/vehicles/53/</td>\n",
       "    </tr>\n",
       "    <tr>\n",
       "      <th>5</th>\n",
       "      <td>6</td>\n",
       "      <td>TIE bomber</td>\n",
       "      <td>TIE/sa bomber</td>\n",
       "      <td>Sienar Fleet Systems</td>\n",
       "      <td>unknown</td>\n",
       "      <td>7.8</td>\n",
       "      <td>850</td>\n",
       "      <td>1</td>\n",
       "      <td>0</td>\n",
       "      <td>none</td>\n",
       "      <td>2 days</td>\n",
       "      <td>space/planetary bomber</td>\n",
       "      <td>()</td>\n",
       "      <td>(2, 3)</td>\n",
       "      <td>https://swapi.dev/api/vehicles/16/</td>\n",
       "    </tr>\n",
       "  </tbody>\n",
       "</table>\n",
       "</div>"
      ],
      "text/plain": [
       "    vehicle_id                         name                          model  \\\n",
       "8            9  Storm IV Twin-Pod cloud car              Storm IV Twin-Pod   \n",
       "9           10                   Sail barge     Modified Luxury Sail Barge   \n",
       "6            7                        AT-AT  All Terrain Armored Transport   \n",
       "25          26                        AT-TE  All Terrain Tactical Enforcer   \n",
       "5            6                   TIE bomber                  TIE/sa bomber   \n",
       "\n",
       "                                         manufacturer cost_in_credits length  \\\n",
       "8                                       Bespin Motors           75000      7   \n",
       "9        Ubrikkian Industries Custom Vehicle Division          285000     30   \n",
       "6   Kuat Drive Yards, Imperial Department of Milit...         unknown     20   \n",
       "25        Rothana Heavy Engineering, Kuat Drive Yards         unknown   13.2   \n",
       "5                                Sienar Fleet Systems         unknown    7.8   \n",
       "\n",
       "   max_atmosphering_speed crew passengers cargo_capacity      consumables  \\\n",
       "8                    1500    2          0             10            1 day   \n",
       "9                     100   26        500        2000000  Live food tanks   \n",
       "6                      60    5         40           1000          unknown   \n",
       "25                     60    6         36          10000          21 days   \n",
       "5                     850    1          0           none           2 days   \n",
       "\n",
       "             vehicle_class pilot_id film_id  \\\n",
       "8            repulsorcraft       ()    (2,)   \n",
       "9               sail barge       ()    (3,)   \n",
       "6           assault walker       ()  (2, 3)   \n",
       "25                  walker       ()  (5, 6)   \n",
       "5   space/planetary bomber       ()  (2, 3)   \n",
       "\n",
       "                                   url  \n",
       "8   https://swapi.dev/api/vehicles/20/  \n",
       "9   https://swapi.dev/api/vehicles/24/  \n",
       "6   https://swapi.dev/api/vehicles/18/  \n",
       "25  https://swapi.dev/api/vehicles/53/  \n",
       "5   https://swapi.dev/api/vehicles/16/  "
      ]
     },
     "execution_count": 36,
     "metadata": {},
     "output_type": "execute_result"
    }
   ],
   "source": [
    "df = dataframes['vehicles']\n",
    "df.sample(5)"
   ]
  },
  {
   "cell_type": "code",
   "execution_count": 37,
   "id": "16f71fd9",
   "metadata": {},
   "outputs": [],
   "source": [
    "df.cost_in_credits = df.cost_in_credits.replace('unknown', np.nan)\n",
    "df.cost_in_credits = df.cost_in_credits.astype('float')"
   ]
  },
  {
   "cell_type": "code",
   "execution_count": 38,
   "id": "dfe012ba",
   "metadata": {},
   "outputs": [],
   "source": [
    "for col in ['max_atmosphering_speed' ,'crew', 'passengers', 'cargo_capacity']:\n",
    "    df[col] = df[col].replace('unknown', np.nan).replace('none', np.nan)\n",
    "    df[col] = df[col].astype('float')"
   ]
  },
  {
   "cell_type": "code",
   "execution_count": 39,
   "id": "96fa6ccf",
   "metadata": {},
   "outputs": [],
   "source": [
    "df.length = df.length.replace('unknown', np.nan)\n",
    "df.length = df.length.astype('float')"
   ]
  },
  {
   "cell_type": "code",
   "execution_count": 40,
   "id": "158b20ae",
   "metadata": {},
   "outputs": [],
   "source": [
    "df.consumables = df.consumables.replace('0', 'none')"
   ]
  },
  {
   "cell_type": "markdown",
   "id": "4cc7aa12",
   "metadata": {},
   "source": [
    "### Clean starships"
   ]
  },
  {
   "cell_type": "code",
   "execution_count": 41,
   "id": "0a202666",
   "metadata": {},
   "outputs": [
    {
     "data": {
      "text/html": [
       "<div>\n",
       "<style scoped>\n",
       "    .dataframe tbody tr th:only-of-type {\n",
       "        vertical-align: middle;\n",
       "    }\n",
       "\n",
       "    .dataframe tbody tr th {\n",
       "        vertical-align: top;\n",
       "    }\n",
       "\n",
       "    .dataframe thead th {\n",
       "        text-align: right;\n",
       "    }\n",
       "</style>\n",
       "<table border=\"1\" class=\"dataframe\">\n",
       "  <thead>\n",
       "    <tr style=\"text-align: right;\">\n",
       "      <th></th>\n",
       "      <th>starship_id</th>\n",
       "      <th>name</th>\n",
       "      <th>model</th>\n",
       "      <th>manufacturer</th>\n",
       "      <th>cost_in_credits</th>\n",
       "      <th>length</th>\n",
       "      <th>max_atmosphering_speed</th>\n",
       "      <th>crew</th>\n",
       "      <th>passengers</th>\n",
       "      <th>cargo_capacity</th>\n",
       "      <th>consumables</th>\n",
       "      <th>hyperdrive_rating</th>\n",
       "      <th>MGLT</th>\n",
       "      <th>starship_class</th>\n",
       "      <th>pilot_id</th>\n",
       "      <th>film_id</th>\n",
       "      <th>url</th>\n",
       "    </tr>\n",
       "  </thead>\n",
       "  <tbody>\n",
       "    <tr>\n",
       "      <th>16</th>\n",
       "      <td>17</td>\n",
       "      <td>Republic Cruiser</td>\n",
       "      <td>Consular-class cruiser</td>\n",
       "      <td>Corellian Engineering Corporation</td>\n",
       "      <td>unknown</td>\n",
       "      <td>115</td>\n",
       "      <td>900</td>\n",
       "      <td>9</td>\n",
       "      <td>16</td>\n",
       "      <td>unknown</td>\n",
       "      <td>unknown</td>\n",
       "      <td>2.0</td>\n",
       "      <td>unknown</td>\n",
       "      <td>Space cruiser</td>\n",
       "      <td>()</td>\n",
       "      <td>(4,)</td>\n",
       "      <td>https://swapi.dev/api/starships/31/</td>\n",
       "    </tr>\n",
       "    <tr>\n",
       "      <th>3</th>\n",
       "      <td>4</td>\n",
       "      <td>Death Star</td>\n",
       "      <td>DS-1 Orbital Battle Station</td>\n",
       "      <td>Imperial Department of Military Research, Sien...</td>\n",
       "      <td>1000000000000</td>\n",
       "      <td>120000</td>\n",
       "      <td>n/a</td>\n",
       "      <td>342,953</td>\n",
       "      <td>843,342</td>\n",
       "      <td>1000000000000</td>\n",
       "      <td>3 years</td>\n",
       "      <td>4.0</td>\n",
       "      <td>10</td>\n",
       "      <td>Deep Space Mobile Battlestation</td>\n",
       "      <td>()</td>\n",
       "      <td>(1,)</td>\n",
       "      <td>https://swapi.dev/api/starships/9/</td>\n",
       "    </tr>\n",
       "    <tr>\n",
       "      <th>23</th>\n",
       "      <td>24</td>\n",
       "      <td>Jedi starfighter</td>\n",
       "      <td>Delta-7 Aethersprite-class interceptor</td>\n",
       "      <td>Kuat Systems Engineering</td>\n",
       "      <td>180000</td>\n",
       "      <td>8</td>\n",
       "      <td>1150</td>\n",
       "      <td>1</td>\n",
       "      <td>0</td>\n",
       "      <td>60</td>\n",
       "      <td>7 days</td>\n",
       "      <td>1.0</td>\n",
       "      <td>unknown</td>\n",
       "      <td>Starfighter</td>\n",
       "      <td>(10, 58)</td>\n",
       "      <td>(5, 6)</td>\n",
       "      <td>https://swapi.dev/api/starships/48/</td>\n",
       "    </tr>\n",
       "    <tr>\n",
       "      <th>6</th>\n",
       "      <td>7</td>\n",
       "      <td>X-wing</td>\n",
       "      <td>T-65 X-wing</td>\n",
       "      <td>Incom Corporation</td>\n",
       "      <td>149999</td>\n",
       "      <td>12.5</td>\n",
       "      <td>1050</td>\n",
       "      <td>1</td>\n",
       "      <td>0</td>\n",
       "      <td>110</td>\n",
       "      <td>1 week</td>\n",
       "      <td>1.0</td>\n",
       "      <td>100</td>\n",
       "      <td>Starfighter</td>\n",
       "      <td>(1, 9, 18, 19)</td>\n",
       "      <td>(1, 2, 3)</td>\n",
       "      <td>https://swapi.dev/api/starships/12/</td>\n",
       "    </tr>\n",
       "    <tr>\n",
       "      <th>30</th>\n",
       "      <td>31</td>\n",
       "      <td>Naboo star skiff</td>\n",
       "      <td>J-type star skiff</td>\n",
       "      <td>Theed Palace Space Vessel Engineering Corps/Nu...</td>\n",
       "      <td>unknown</td>\n",
       "      <td>29.2</td>\n",
       "      <td>1050</td>\n",
       "      <td>3</td>\n",
       "      <td>3</td>\n",
       "      <td>unknown</td>\n",
       "      <td>unknown</td>\n",
       "      <td>0.5</td>\n",
       "      <td>unknown</td>\n",
       "      <td>yacht</td>\n",
       "      <td>(10, 35)</td>\n",
       "      <td>(6,)</td>\n",
       "      <td>https://swapi.dev/api/starships/64/</td>\n",
       "    </tr>\n",
       "  </tbody>\n",
       "</table>\n",
       "</div>"
      ],
      "text/plain": [
       "    starship_id              name                                   model  \\\n",
       "16           17  Republic Cruiser                  Consular-class cruiser   \n",
       "3             4        Death Star             DS-1 Orbital Battle Station   \n",
       "23           24  Jedi starfighter  Delta-7 Aethersprite-class interceptor   \n",
       "6             7            X-wing                             T-65 X-wing   \n",
       "30           31  Naboo star skiff                       J-type star skiff   \n",
       "\n",
       "                                         manufacturer cost_in_credits  length  \\\n",
       "16                  Corellian Engineering Corporation         unknown     115   \n",
       "3   Imperial Department of Military Research, Sien...   1000000000000  120000   \n",
       "23                           Kuat Systems Engineering          180000       8   \n",
       "6                                   Incom Corporation          149999    12.5   \n",
       "30  Theed Palace Space Vessel Engineering Corps/Nu...         unknown    29.2   \n",
       "\n",
       "   max_atmosphering_speed     crew passengers cargo_capacity consumables  \\\n",
       "16                    900        9         16        unknown     unknown   \n",
       "3                     n/a  342,953    843,342  1000000000000     3 years   \n",
       "23                   1150        1          0             60      7 days   \n",
       "6                    1050        1          0            110      1 week   \n",
       "30                   1050        3          3        unknown     unknown   \n",
       "\n",
       "   hyperdrive_rating     MGLT                   starship_class  \\\n",
       "16               2.0  unknown                    Space cruiser   \n",
       "3                4.0       10  Deep Space Mobile Battlestation   \n",
       "23               1.0  unknown                      Starfighter   \n",
       "6                1.0      100                      Starfighter   \n",
       "30               0.5  unknown                            yacht   \n",
       "\n",
       "          pilot_id    film_id                                  url  \n",
       "16              ()       (4,)  https://swapi.dev/api/starships/31/  \n",
       "3               ()       (1,)   https://swapi.dev/api/starships/9/  \n",
       "23        (10, 58)     (5, 6)  https://swapi.dev/api/starships/48/  \n",
       "6   (1, 9, 18, 19)  (1, 2, 3)  https://swapi.dev/api/starships/12/  \n",
       "30        (10, 35)       (6,)  https://swapi.dev/api/starships/64/  "
      ]
     },
     "execution_count": 41,
     "metadata": {},
     "output_type": "execute_result"
    }
   ],
   "source": [
    "df = dataframes['starships']\n",
    "df.sample(5)"
   ]
  },
  {
   "cell_type": "code",
   "execution_count": 42,
   "id": "383f66bc",
   "metadata": {},
   "outputs": [],
   "source": [
    "df.loc[0, 'crew'] = 165"
   ]
  },
  {
   "cell_type": "code",
   "execution_count": 43,
   "id": "ccce4cb8",
   "metadata": {},
   "outputs": [],
   "source": [
    "for col in ['cost_in_credits', 'length', 'max_atmosphering_speed', 'crew', 'passengers', 'cargo_capacity', 'hyperdrive_rating', 'MGLT']:\n",
    "    try:\n",
    "        df[col] = df[col].replace('unknown', np.nan).replace('none', np.nan).replace('n/a', np.nan)\n",
    "        df[col] = df[col].str.replace(',', '', regex = False).str.replace('km', '')\n",
    "        #df[col] = df[col].astype('float')\n",
    "    except Exception as e:\n",
    "        print(f'Error in {col}: {e}')"
   ]
  },
  {
   "cell_type": "code",
   "execution_count": 44,
   "id": "6e758414",
   "metadata": {},
   "outputs": [],
   "source": [
    "for col in ['cost_in_credits', 'length', 'max_atmosphering_speed', 'crew', 'passengers', 'cargo_capacity', 'hyperdrive_rating', 'MGLT']:\n",
    "    try:\n",
    "        df[col] = df[col].astype('float')\n",
    "    except:\n",
    "        print(f'error with {col}')"
   ]
  },
  {
   "cell_type": "markdown",
   "id": "fa452e06",
   "metadata": {},
   "source": [
    "## Export clean datasets into csv files"
   ]
  },
  {
   "cell_type": "code",
   "execution_count": 45,
   "id": "e809c02d",
   "metadata": {},
   "outputs": [
    {
     "name": "stdout",
     "output_type": "stream",
     "text": [
      "File films_dataframe.csv already exist!\n",
      "File people_dataframe.csv already exist!\n",
      "File planets_dataframe.csv already exist!\n",
      "File species_dataframe.csv already exist!\n",
      "File starships_dataframe.csv already exist!\n",
      "File vehicles_dataframe.csv already exist!\n",
      "Dataframes of each normalized category are stored in ./data/csv/ as csv files!\n"
     ]
    }
   ],
   "source": [
    "data_path = './data'\n",
    "for cat in categories:\n",
    "    filename = f'{cat}_dataframe.csv'\n",
    "    if os.path.exists(f'{data_path}/csv/{filename}'):\n",
    "        print(f'File {filename} already exist!')\n",
    "        pass\n",
    "    else:\n",
    "        os.makedirs(f'{data_path}/csv/', exist_ok=True)\n",
    "        df = dataframes[cat]\n",
    "        df.to_csv(f'{data_path}/csv/{cat}_dataframe.csv', index = False)\n",
    "print(f'Dataframes of each normalized category are stored in {data_path}/csv/ as csv files!')"
   ]
  },
  {
   "cell_type": "markdown",
   "id": "68e88445",
   "metadata": {},
   "source": [
    "# Junction tables\n",
    "\n",
    "(many-to-many relationships in the database)\n",
    "\n",
    "1. **films_people**: Links films to the characters that appeared in them.\n",
    "\n",
    "    - character_id: Foreign Key referencing the `people` table.\n",
    "    - film_id: Foreign Key referencing the films table.\n",
    "\n",
    "2. **films_planets**: Links films to the planets that appeared in them.\n",
    "\n",
    "    - planet_id: Foreign Key referencing the `planets` table.\n",
    "    - film_id: Foreign Key referencing the `films` table.\n",
    "\n",
    "3. **films_starships**: Links films to the starships that appeared in them.\n",
    "\n",
    "    - starship_id: Foreign Key referencing the `starships` table.\n",
    "    - film_id: Foreign Key referencing the `films` table.\n",
    "\n",
    "4. **films_vehicles**: Links films to the vehicles that appeared in them.\n",
    "\n",
    "    - vehicle_id: Foreign Key referencing the `vehicles` table.\n",
    "    - film_id: Foreign Key referencing the `films` table.\n",
    "\n",
    "5. **films_species**: Links films to the species that appeared in them.\n",
    "\n",
    "    - species_id: Foreign Key referencing the `species` table.\n",
    "    - film_id: Foreign Key referencing the `films` table.\n",
    "\n",
    "6. **people_starships**: Links people (pilots) to the starships they have piloted.\n",
    "\n",
    "    - character_id: Foreign Key referencing the `people` table.\n",
    "    - starship_id: Foreign Key referencing the `starships` table.\n",
    "\n",
    "7. **people_vehicles**: Links people (pilots) to the vehicles they have piloted.\n",
    "\n",
    "    - character_id: Foreign Key referencing the `people` table.\n",
    "    - vehicle_id: Foreign Key referencing the vehicles table."
   ]
  },
  {
   "cell_type": "code",
   "execution_count": 160,
   "id": "87438fff",
   "metadata": {},
   "outputs": [],
   "source": [
    "junction_tables = [\n",
    "    'people_vehicles', \n",
    "    'people_starships',\n",
    "    \n",
    "    'films_people',\n",
    "    'films_planets',\n",
    "    'films_starships',\n",
    "    'films_vehicles',\n",
    "    'films_species'\n",
    "    ]\n",
    "\n",
    "junction_tables_dict = {i:None for i in junction_tables}"
   ]
  },
  {
   "cell_type": "markdown",
   "id": "e2a62d8b",
   "metadata": {},
   "source": [
    "## Junction tables for people:"
   ]
  },
  {
   "cell_type": "code",
   "execution_count": 161,
   "id": "ab2de213",
   "metadata": {},
   "outputs": [],
   "source": [
    "columns = ['vehicle_id', 'starship_id']\n",
    "data = dataframes['people'].loc[:, columns + ['character_id']]\n",
    "\n",
    "for col in columns:\n",
    "    table_name = f'people_{col}'.replace('_id', 's')\n",
    "    junction_tables_dict[table_name] = (data.loc[:, ['character_id', col]]\n",
    "                                        .explode(col)\n",
    "                                        .explode('character_id')\n",
    "                                        .dropna()\n",
    "                                        .reset_index(drop = True)\n",
    "                                        .sort_values('character_id')\n",
    "                                        )"
   ]
  },
  {
   "cell_type": "markdown",
   "id": "a46b4959",
   "metadata": {},
   "source": [
    "## Junction tables for films:"
   ]
  },
  {
   "cell_type": "code",
   "execution_count": 164,
   "id": "ca7e10a8",
   "metadata": {},
   "outputs": [],
   "source": [
    "columns = ['character_id', 'species_id', 'planet_id', 'vehicle_id', 'starship_id']\n",
    "data = dataframes['films'].loc[:, columns + ['film_id']]\n",
    "\n",
    "for col in columns:\n",
    "    table_name = f'films_{col}'\n",
    "    if col == 'species_id':\n",
    "        table_name = table_name.replace('_id', '')\n",
    "    elif col == 'character_id':\n",
    "        table_name = 'films_people'\n",
    "    else:\n",
    "        table_name = table_name.replace('_id', 's')\n",
    "        \n",
    "    junction_tables_dict[table_name] = (data.loc[:, ['film_id', col ]]\n",
    "                                        .explode(col)\n",
    "                                        .reset_index(drop = True)\n",
    "                                        .sort_values('film_id')\n",
    "    )"
   ]
  },
  {
   "cell_type": "markdown",
   "id": "40a47f02",
   "metadata": {},
   "source": [
    "# Normalization\n",
    "Next step is to normalize the datasets in order to create the database."
   ]
  },
  {
   "cell_type": "code",
   "execution_count": 50,
   "id": "d2eb76dd",
   "metadata": {},
   "outputs": [],
   "source": [
    "dataframes_normalized = copy.deepcopy(dataframes)"
   ]
  },
  {
   "cell_type": "code",
   "execution_count": 51,
   "id": "faee3899",
   "metadata": {},
   "outputs": [],
   "source": [
    "columns_to_drop = {\n",
    "    'films' : ['character_id', 'planet_id', 'species_id', 'vehicle_id', 'starship_id', 'url'],\n",
    "    'people' : ['film_id', 'species_id', 'vehicle_id', 'starship_id', 'url'],\n",
    "    'planets' : ['residents_id', 'film_id', 'url'],\n",
    "    'species' : ['character_id', 'film_id', 'url'],\n",
    "    'starships' : ['pilot_id', 'film_id', 'url'],\n",
    "    'vehicles' : ['pilot_id', 'film_id', 'url'],\n",
    "}  "
   ]
  },
  {
   "cell_type": "markdown",
   "id": "a4bdc187",
   "metadata": {},
   "source": [
    "### Drop the corresponding columns in order to normalize the tables"
   ]
  },
  {
   "cell_type": "code",
   "execution_count": 52,
   "id": "fd772369",
   "metadata": {},
   "outputs": [],
   "source": [
    "for cat in dataframes_normalized.keys():\n",
    "    dataframes_normalized[cat].drop(columns_to_drop[cat], axis='columns', inplace = True)"
   ]
  },
  {
   "cell_type": "markdown",
   "id": "30aaf7f3",
   "metadata": {},
   "source": [
    "## Store the normalized dataframes"
   ]
  },
  {
   "cell_type": "code",
   "execution_count": 53,
   "id": "e590d48c",
   "metadata": {},
   "outputs": [
    {
     "name": "stdout",
     "output_type": "stream",
     "text": [
      "Dataframes of each normalized category are stored in ./data/csv_normalized/ as csv files!\n"
     ]
    }
   ],
   "source": [
    "data_path = './data'\n",
    "for cat in categories:\n",
    "    filename = f'{cat}_dataframe.csv'\n",
    "    if os.path.exists(f'{data_path}/csv_normalized/{filename}'):\n",
    "        print(f'File {filename} already exist!')\n",
    "        pass\n",
    "    else:\n",
    "        os.makedirs(f'{data_path}/csv_normalized/', exist_ok=True)\n",
    "        df = dataframes_normalized[cat]\n",
    "        df.to_csv(f'{data_path}/csv_normalized/{cat}_dataframe_normalized.csv', index = False)\n",
    "print(f'Dataframes of each normalized category are stored in {data_path}/csv_normalized/ as csv files!')"
   ]
  },
  {
   "cell_type": "markdown",
   "id": "668144f5",
   "metadata": {},
   "source": [
    "# Insert data into the database"
   ]
  },
  {
   "cell_type": "markdown",
   "id": "59ba8429",
   "metadata": {},
   "source": [
    "## Load database parameters from `.env` file"
   ]
  },
  {
   "cell_type": "code",
   "execution_count": 56,
   "id": "b5bc23c2",
   "metadata": {},
   "outputs": [],
   "source": [
    "load_dotenv()\n",
    "\n",
    "DB_USER = os.getenv(\"DB_USER\")\n",
    "DB_PASS = os.getenv(\"DB_PASSWORD\")\n",
    "DB_HOST = os.getenv(\"DB_HOST\")\n",
    "DB_PORT = os.getenv(\"DB_PORT\")\n",
    "DB_NAME = os.getenv(\"DB_NAME\")"
   ]
  },
  {
   "cell_type": "markdown",
   "id": "cd3bd35c",
   "metadata": {},
   "source": [
    "## Create the db connection"
   ]
  },
  {
   "cell_type": "code",
   "execution_count": 57,
   "id": "f23c5fab",
   "metadata": {},
   "outputs": [
    {
     "name": "stdout",
     "output_type": "stream",
     "text": [
      "SQLAlchemy Engine created successfully. 🛠️\n"
     ]
    }
   ],
   "source": [
    "connection_string = (\n",
    "    f'mysql+pymysql://{DB_USER}:{DB_PASS}@{DB_HOST}:{DB_PORT}/{DB_NAME}'\n",
    ")\n",
    "\n",
    "# --- 4. Create the SQLAlchemy Engine ---\n",
    "try:\n",
    "    engine = create_engine(connection_string)\n",
    "    print(\"SQLAlchemy Engine created successfully. 🛠️\")\n",
    "except Exception as e:\n",
    "    print(f\"Error creating engine: {e}\")"
   ]
  },
  {
   "cell_type": "markdown",
   "id": "5b78c708",
   "metadata": {},
   "source": [
    "## Populate the data into the database\n",
    "\n",
    "The order of tables to be filled must be:\n",
    "1. planets\n",
    "2. species\n",
    "3. starships\n",
    "4. vehicles\n",
    "5. films\n",
    "6. people"
   ]
  },
  {
   "cell_type": "code",
   "execution_count": 58,
   "id": "a28477f4",
   "metadata": {},
   "outputs": [],
   "source": [
    "categories_sorted = ['planets', 'species', 'vehicles', 'starships', 'films', 'people']\n",
    "insert = False"
   ]
  },
  {
   "cell_type": "markdown",
   "id": "0c02f0a7",
   "metadata": {},
   "source": [
    "### Insert the category tables into the database"
   ]
  },
  {
   "cell_type": "code",
   "execution_count": 59,
   "id": "e7f14630",
   "metadata": {},
   "outputs": [],
   "source": [
    "def insert_category(cat, dictionary):\n",
    "    df = dictionary[cat]\n",
    "    try:\n",
    "        df.to_sql(name=cat, con=engine, if_exists='append', index=False)\n",
    "        print(f\"DataFrame for category '{cat}' inserted successfully into the database. ✅\\n\")\n",
    "    except Exception as e:\n",
    "        print(f\"\\\\ Error inserting DataFrame for category '{cat}': \\n{e}\\n\\n\")"
   ]
  },
  {
   "cell_type": "code",
   "execution_count": 87,
   "id": "64bd1820",
   "metadata": {},
   "outputs": [
    {
     "name": "stdout",
     "output_type": "stream",
     "text": [
      "DataFrame for category 'planets' inserted successfully into the database. ✅\n",
      "\n",
      "DataFrame for category 'species' inserted successfully into the database. ✅\n",
      "\n",
      "DataFrame for category 'vehicles' inserted successfully into the database. ✅\n",
      "\n",
      "DataFrame for category 'starships' inserted successfully into the database. ✅\n",
      "\n",
      "DataFrame for category 'films' inserted successfully into the database. ✅\n",
      "\n",
      "DataFrame for category 'people' inserted successfully into the database. ✅\n",
      "\n"
     ]
    }
   ],
   "source": [
    "for cat in categories_sorted:\n",
    "    query = f'select * from {cat} limit 1 ;'\n",
    "    # if table is empty, fill it with the corresponding data\n",
    "    if pd.read_sql(query, con = engine).shape[0] == 0:\n",
    "        insert_category(cat, dataframes_normalized)\n",
    "    else:\n",
    "        print(f'{cat} table already exists in database!')"
   ]
  },
  {
   "cell_type": "markdown",
   "id": "231a2b43",
   "metadata": {},
   "source": [
    "### Insert junction tables"
   ]
  },
  {
   "cell_type": "code",
   "execution_count": 89,
   "id": "075f3d7b",
   "metadata": {},
   "outputs": [
    {
     "name": "stdout",
     "output_type": "stream",
     "text": [
      "\\ Error inserting DataFrame for category 'people_vehicles_junction': \n",
      "(pymysql.err.IntegrityError) (1452, 'Cannot add or update a child row: a foreign key constraint fails (`starwars_db`.`people_vehicles_junction`, CONSTRAINT `people_vehicles_junction_ibfk_2` FOREIGN KEY (`vehicle_id`) REFERENCES `vehicles` (`vehicle_id`))')\n",
      "[SQL: INSERT INTO people_vehicles_junction (character_id, vehicle_id) VALUES (%(character_id)s, %(vehicle_id)s)]\n",
      "[parameters: [{'character_id': 1, 'vehicle_id': 14}, {'character_id': 1, 'vehicle_id': 30}, {'character_id': 5, 'vehicle_id': 30}, {'character_id': 10, 'vehicle_id': 38}, {'character_id': 11, 'vehicle_id': 44}, {'character_id': 11, 'vehicle_id': 46}, {'character_id': 13, 'vehicle_id': 19}, {'character_id': 17, 'vehicle_id': 14}  ... displaying 10 of 13 total bound parameter sets ...  {'character_id': 69, 'vehicle_id': 45}, {'character_id': 78, 'vehicle_id': 60}]]\n",
      "(Background on this error at: https://sqlalche.me/e/20/gkpj)\n",
      "\n",
      "\n",
      "\\ Error inserting DataFrame for category 'people_starships_junction': \n",
      "(pymysql.err.IntegrityError) (1452, 'Cannot add or update a child row: a foreign key constraint fails (`starwars_db`.`people_starships_junction`, CONSTRAINT `people_starships_junction_ibfk_2` FOREIGN KEY (`starship_id`) REFERENCES `starships` (`starship_id`))')\n",
      "[SQL: INSERT INTO people_starships_junction (character_id, starship_id) VALUES (%(character_id)s, %(starship_id)s)]\n",
      "[parameters: [{'character_id': 1, 'starship_id': 12}, {'character_id': 1, 'starship_id': 22}, {'character_id': 4, 'starship_id': 13}, {'character_id': 9, 'starship_id': 12}, {'character_id': 10, 'starship_id': 48}, {'character_id': 10, 'starship_id': 59}, {'character_id': 10, 'starship_id': 64}, {'character_id': 10, 'starship_id': 65}  ... displaying 10 of 30 total bound parameter sets ...  {'character_id': 59, 'starship_id': 39}, {'character_id': 78, 'starship_id': 74}]]\n",
      "(Background on this error at: https://sqlalche.me/e/20/gkpj)\n",
      "\n",
      "\n",
      "\\ Error inserting DataFrame for category 'films_people_junction': \n",
      "(pymysql.err.IntegrityError) (1452, 'Cannot add or update a child row: a foreign key constraint fails (`starwars_db`.`films_people_junction`, CONSTRAINT `films_people_junction_ibfk_2` FOREIGN KEY (`character_id`) REFERENCES `people` (`character_id`))')\n",
      "[SQL: INSERT INTO films_people_junction (character_id, film_id) VALUES (%(character_id)s, %(film_id)s)]\n",
      "[parameters: [{'character_id': 1, 'film_id': 1}, {'character_id': 2, 'film_id': 1}, {'character_id': 3, 'film_id': 1}, {'character_id': 4, 'film_id': 1}, {'character_id': 5, 'film_id': 1}, {'character_id': 6, 'film_id': 1}, {'character_id': 7, 'film_id': 1}, {'character_id': 8, 'film_id': 1}  ... displaying 10 of 162 total bound parameter sets ...  {'character_id': 82, 'film_id': 6}, {'character_id': 83, 'film_id': 6}]]\n",
      "(Background on this error at: https://sqlalche.me/e/20/gkpj)\n",
      "\n",
      "\n",
      "DataFrame for category 'films_planets_junction' inserted successfully into the database. ✅\n",
      "\n",
      "\\ Error inserting DataFrame for category 'films_starships_junction': \n",
      "(pymysql.err.IntegrityError) (1452, 'Cannot add or update a child row: a foreign key constraint fails (`starwars_db`.`films_starships_junction`, CONSTRAINT `films_starships_junction_ibfk_2` FOREIGN KEY (`starship_id`) REFERENCES `starships` (`starship_id`))')\n",
      "[SQL: INSERT INTO films_starships_junction (film_id, starship_id) VALUES (%(film_id)s, %(starship_id)s)]\n",
      "[parameters: [{'film_id': 1, 'starship_id': 2}, {'film_id': 1, 'starship_id': 3}, {'film_id': 1, 'starship_id': 5}, {'film_id': 1, 'starship_id': 9}, {'film_id': 1, 'starship_id': 10}, {'film_id': 1, 'starship_id': 11}, {'film_id': 1, 'starship_id': 12}, {'film_id': 1, 'starship_id': 13}  ... displaying 10 of 55 total bound parameter sets ...  {'film_id': 6, 'starship_id': 74}, {'film_id': 6, 'starship_id': 75}]]\n",
      "(Background on this error at: https://sqlalche.me/e/20/gkpj)\n",
      "\n",
      "\n",
      "\\ Error inserting DataFrame for category 'films_vehicles_junction': \n",
      "(pymysql.err.IntegrityError) (1452, 'Cannot add or update a child row: a foreign key constraint fails (`starwars_db`.`films_vehicles_junction`, CONSTRAINT `films_vehicles_junction_ibfk_2` FOREIGN KEY (`vehicle_id`) REFERENCES `vehicles` (`vehicle_id`))')\n",
      "[SQL: INSERT INTO films_vehicles_junction (film_id, vehicle_id) VALUES (%(film_id)s, %(vehicle_id)s)]\n",
      "[parameters: [{'film_id': 1, 'vehicle_id': 4}, {'film_id': 1, 'vehicle_id': 6}, {'film_id': 1, 'vehicle_id': 7}, {'film_id': 1, 'vehicle_id': 8}, {'film_id': 2, 'vehicle_id': 8}, {'film_id': 2, 'vehicle_id': 14}, {'film_id': 2, 'vehicle_id': 16}, {'film_id': 2, 'vehicle_id': 18}  ... displaying 10 of 49 total bound parameter sets ...  {'film_id': 6, 'vehicle_id': 73}, {'film_id': 6, 'vehicle_id': 76}]]\n",
      "(Background on this error at: https://sqlalche.me/e/20/gkpj)\n",
      "\n",
      "\n",
      "DataFrame for category 'films_species_junction' inserted successfully into the database. ✅\n",
      "\n"
     ]
    }
   ],
   "source": [
    "for table in junction_tables_dict.keys():\n",
    "    query = f'select * from {table} limit 1 ;'\n",
    "    # if table is empty, fill it with the corresponding data\n",
    "    if pd.read_sql(query, con = engine).shape[0] == 0:\n",
    "        insert_category(table, junction_tables_dict)\n",
    "    else:\n",
    "        print(f'{cat} table already exists in database!') "
   ]
  },
  {
   "cell_type": "code",
   "execution_count": null,
   "id": "1d8f3898",
   "metadata": {},
   "outputs": [],
   "source": []
  }
 ],
 "metadata": {
  "kernelspec": {
   "display_name": "venv",
   "language": "python",
   "name": "python3"
  },
  "language_info": {
   "codemirror_mode": {
    "name": "ipython",
    "version": 3
   },
   "file_extension": ".py",
   "mimetype": "text/x-python",
   "name": "python",
   "nbconvert_exporter": "python",
   "pygments_lexer": "ipython3",
   "version": "3.13.7"
  }
 },
 "nbformat": 4,
 "nbformat_minor": 5
}
