{
 "cells": [
  {
   "cell_type": "markdown",
   "id": "98d76d35",
   "metadata": {},
   "source": [
    "# Imports"
   ]
  },
  {
   "cell_type": "code",
   "execution_count": 1,
   "id": "545f0530",
   "metadata": {},
   "outputs": [],
   "source": [
    "import requests as rq\n",
    "import pandas as pd\n",
    "import os\n",
    "import numpy as np\n",
    "import json\n",
    "from dotenv import load_dotenv\n",
    "from sqlalchemy import create_engine\n",
    "import copy"
   ]
  },
  {
   "cell_type": "markdown",
   "id": "3fb05040",
   "metadata": {},
   "source": [
    "# Definitions"
   ]
  },
  {
   "cell_type": "code",
   "execution_count": 2,
   "id": "f43cf78c",
   "metadata": {},
   "outputs": [
    {
     "data": {
      "text/plain": [
       "['films', 'people', 'planets', 'species', 'starships', 'vehicles']"
      ]
     },
     "execution_count": 2,
     "metadata": {},
     "output_type": "execute_result"
    }
   ],
   "source": [
    "base_urls = {\n",
    "    \"films\": \"https://swapi.dev/api/films/\",\n",
    "    \"people\": \"https://swapi.dev/api/people/\",\n",
    "    \"planets\": \"https://swapi.dev/api/planets/\",\n",
    "    \"species\": \"https://swapi.dev/api/species/\",\n",
    "    \"starships\": \"https://swapi.dev/api/starships/\",\n",
    "    \"vehicles\": \"https://swapi.dev/api/vehicles/\"\n",
    "}\n",
    "\n",
    "categories = list(base_urls.keys())\n",
    "categories"
   ]
  },
  {
   "cell_type": "markdown",
   "id": "cca32684",
   "metadata": {},
   "source": [
    "Each category has different fields that contain information in the form of an url. I will extract the page id from those fields for each category. "
   ]
  },
  {
   "cell_type": "code",
   "execution_count": 3,
   "id": "7ae41e05",
   "metadata": {},
   "outputs": [],
   "source": [
    "fields = {\n",
    "    'films' : [\"characters\", \"planets\", \"starships\", \"vehicles\", \"species\"],\n",
    "    'people' : [\"homeworld\", \"films\", \"species\", \"vehicles\", \"starships\"],\n",
    "    'planets' : ['residents', 'films'],\n",
    "    'species' : ['people', 'films', 'homeworld'],\n",
    "    'vehicles' : ['pilots', 'films'],\n",
    "    'starships' : ['pilots', 'films']\n",
    "    }"
   ]
  },
  {
   "cell_type": "markdown",
   "id": "ca030701",
   "metadata": {},
   "source": [
    "# Consume the API"
   ]
  },
  {
   "cell_type": "code",
   "execution_count": 4,
   "id": "73c0f51b",
   "metadata": {},
   "outputs": [],
   "source": [
    "def scrape_category(url):\n",
    "\n",
    "    # skip the next url for the first page of pager\n",
    "    next = url    \n",
    "    items_list = []\n",
    "\n",
    "    while next:\n",
    "        # get the content of the url\n",
    "        response = rq.get(next)\n",
    "\n",
    "        # success\n",
    "        if response.status_code == 200:\n",
    "            content = response.json()\n",
    "        elif response.status_code == 404:\n",
    "            print(f'{url} not found!')\n",
    "            return\n",
    "        \n",
    "        next = content['next']\n",
    "        items = content['results']\n",
    "\n",
    "        for item in items:\n",
    "                    \n",
    "            # remove created and edited fields\n",
    "            try:\n",
    "                del(item['created'])\n",
    "                del(item['edited'])\n",
    "            except:\n",
    "                pass\n",
    "            \n",
    "            items_list.append(item)            \n",
    "\n",
    "    return items_list"
   ]
  },
  {
   "cell_type": "markdown",
   "id": "4a60a9ed",
   "metadata": {},
   "source": [
    "## Scrape all the categories and store in *starwars_raw.json*\n",
    "(it takes 12.9 seconds)"
   ]
  },
  {
   "cell_type": "code",
   "execution_count": null,
   "id": "d2cafe94",
   "metadata": {},
   "outputs": [
    {
     "name": "stdout",
     "output_type": "stream",
     "text": [
      "Content from Star Wars API stored in a json file!\n"
     ]
    }
   ],
   "source": [
    "if not os.path.exists('../data/starwars_raw.json'):\n",
    "    raw_dict = {cat : scrape_category(base_urls[cat]) for cat in categories}\n",
    "    \n",
    "    os.makedirs('../data')\n",
    "    # store into a json file\n",
    "    with open('../data/starwars_raw.json', 'w') as file:\n",
    "        json.dump(raw_dict, file, indent=4 )\n",
    "    print('Content from Star Wars API stored in a json file!')\n",
    "\n",
    "else:\n",
    "    print('The content already exists in a json file!')\n",
    "    with open('../data/starwars_raw.json', 'r') as file:\n",
    "        raw_dict = json.load(file)"
   ]
  },
  {
   "cell_type": "markdown",
   "id": "6e022ff3",
   "metadata": {},
   "source": [
    "Function to process the information of an item from a category.\n",
    "Ex. one character, one planet or one film."
   ]
  },
  {
   "cell_type": "code",
   "execution_count": 6,
   "id": "6b3fb84d",
   "metadata": {},
   "outputs": [],
   "source": [
    "def process_item(item, fields):\n",
    "\n",
    "    # create a copy of the item dictionary\n",
    "    item = copy.deepcopy(item)\n",
    "\n",
    "    # parse the links from starships, vehicles and species\n",
    "    for field in fields:\n",
    "        #print(f'Processing field: {field}')\n",
    "        id_values = []\n",
    "                        \n",
    "        if item[field]:  # if the field is not empty\n",
    "            \n",
    "            # parse the homeworld (just a single string value)\n",
    "            if field == 'homeworld':\n",
    "                item[field] = int(item[field].split('/')[-2])\n",
    "\n",
    "            # the content of the item[field] is a list\n",
    "            # of links (empty or just one link in case of species)\n",
    "            else:\n",
    "                # species field needs special treatment\n",
    "                if field == 'species':\n",
    "                    item['species'] = int(item['species'][0].split('/')[-2])\n",
    "                    # process done, keep on with next field\n",
    "                    # species contains only one value,\n",
    "                    # so don't convert into tuple\n",
    "                    continue\n",
    "\n",
    "                # traverse the list of links for fields\n",
    "                # other than homeworld and species\n",
    "                else:\n",
    "                    for link in item[field]:\n",
    "                        # parse the id value in the link    \n",
    "                        id_values.append(int(link.split('/')[-2]))\n",
    "\n",
    "                # add the id values into the corresponding field key\n",
    "                # convert list into tuple, as tuples are hashable\n",
    "                item[field] = tuple(id_values)\n",
    "                    \n",
    "        # field has no values (empty list)\n",
    "        else:\n",
    "            # species field may be empty, but that means\n",
    "            # she/he is a human, so set species = 1\n",
    "            if field == 'species':\n",
    "                item['species'] = 1\n",
    "            # otherwise, it is a field supposed to be empty\n",
    "            else:\n",
    "                item[field] = ()\n",
    "    \n",
    "    # add the id, extracted from the url\n",
    "    item['id'] = int(item['url'].split('/')[-2])\n",
    "    \n",
    "    # remove created and edited fields\n",
    "    try:\n",
    "        del(item['created'])\n",
    "        del(item['edited'])\n",
    "    except:\n",
    "        pass\n",
    "\n",
    "    return item"
   ]
  },
  {
   "cell_type": "markdown",
   "id": "1647d49f",
   "metadata": {},
   "source": [
    "# Store the processed data"
   ]
  },
  {
   "cell_type": "code",
   "execution_count": null,
   "id": "6c4f79d0",
   "metadata": {},
   "outputs": [],
   "source": [
    "if not os.path.exists('../data/starwars_processed_items.json'):\n",
    "    # dictionary to store the processed categories\n",
    "    processed_dict = {}\n",
    "    \n",
    "    # process each item for all the categories\n",
    "    for k,v in raw_dict.items():\n",
    "        items_processed = []\n",
    "        for item in v:\n",
    "            try:\n",
    "                items_processed.append(process_item(item, fields[k]))\n",
    "                processed_dict[k] = items_processed\n",
    "            except:\n",
    "                print(f'Error in {k}')\n",
    "    \n",
    "    # store the information in a json file\n",
    "    with open('../data/starwars_processed_items.json', 'w') as file:\n",
    "        json.dump(processed_dict, file, indent = 4)\n",
    "\n",
    "# the file already exists, so load it\n",
    "else:\n",
    "    with open('../data/starwars_processed_items.json', 'r') as file:\n",
    "        processed_dict= json.load(file)\n",
    "\n",
    "        # convert lists into tuples after reading from json file\n",
    "        for cat in categories:\n",
    "            for item in processed_dict[cat]:\n",
    "                for field in fields[cat]:\n",
    "                    try:\n",
    "                        item[field] = tuple(item[field])\n",
    "                    # the content of the field is an integer\n",
    "                    # and not a list. Cannot create a tuple from\n",
    "                    # an integer using tuple(int)\n",
    "                    except:\n",
    "                        pass  # do not convert into a tuple, leave it as integer\n",
    "\n",
    "    print('Processed data already existed, so the *categories_dict_processed* dictionary will be created from json file.')"
   ]
  },
  {
   "cell_type": "markdown",
   "id": "e21e4692",
   "metadata": {},
   "source": [
    "# Dataframes"
   ]
  },
  {
   "cell_type": "markdown",
   "id": "92fc51cf",
   "metadata": {},
   "source": [
    "## Create the dataframes\n",
    "Create a dictionary to store the dataframes from each category"
   ]
  },
  {
   "cell_type": "code",
   "execution_count": 8,
   "id": "1e9413cc",
   "metadata": {},
   "outputs": [],
   "source": [
    "dataframes = dict.fromkeys(categories)"
   ]
  },
  {
   "cell_type": "code",
   "execution_count": null,
   "id": "9da1a0ee",
   "metadata": {},
   "outputs": [],
   "source": [
    "for cat in categories:\n",
    "    df = pd.DataFrame(processed_dict[cat])\n",
    "    #df['id'] = df.index + 1\n",
    "\n",
    "    # rename columns to add '_id' to the \"fields\"\n",
    "    rename_dict = {field : f'{field}_id' for field in fields[cat]}\n",
    "    rename_dict.update({'id' : f'{cat}_id'})\n",
    "    df.rename(columns = rename_dict, inplace = True)\n",
    "\n",
    "    # reorder the columns to place id in first place\n",
    "    all_columns_but_cat_id = [col for col in df.columns if col != f'{cat}_id']\n",
    "    sorted_columns = [f'{cat}_id'] + all_columns_but_cat_id\n",
    "    dataframes[cat] = df[sorted_columns]"
   ]
  },
  {
   "cell_type": "markdown",
   "id": "a31eb901",
   "metadata": {},
   "source": [
    "## Rename some columns\n",
    "Make some renamings to the column names"
   ]
  },
  {
   "cell_type": "code",
   "execution_count": 12,
   "id": "5c79bae2",
   "metadata": {},
   "outputs": [],
   "source": [
    "col_rename_dict= {\n",
    "    \n",
    "    'films': {\n",
    "        'characters_id': 'character_id',\n",
    "        'films_id': 'film_id',\n",
    "        'planets_id': 'planet_id',\n",
    "        'episode_id': 'episode',\n",
    "        'starships_id': 'starship_id',\n",
    "        'vehicles_id': 'vehicle_id',\n",
    "    },\n",
    "    \n",
    "    'people': {\n",
    "        'people_id': 'character_id',\n",
    "        'films_id': 'film_id',\n",
    "        'vehicles_id': 'vehicle_id',\n",
    "        'starships_id': 'starship_id'\n",
    "    },\n",
    "\n",
    "    'planets': {\n",
    "        'planets_id': 'planet_id',\n",
    "        'films_id': 'film_id'\n",
    "    },\n",
    "\n",
    "    'species': {\n",
    "        'people_id': 'character_id',\n",
    "        'films_id': 'film_id'\n",
    "    },\n",
    "\n",
    "    'vehicles': {\n",
    "        'pilots_id': 'pilot_id',\n",
    "        'vehicles_id': 'vehicle_id',\n",
    "        'films_id': 'film_id'\n",
    "    },\n",
    "\n",
    "    'starships': {\n",
    "        'pilots_id': 'pilot_id',\n",
    "        'starships_id': 'starship_id',\n",
    "        'films_id': 'film_id'\n",
    "    }\n",
    "}"
   ]
  },
  {
   "cell_type": "code",
   "execution_count": 13,
   "id": "577a814d",
   "metadata": {},
   "outputs": [],
   "source": [
    "for cat in categories:\n",
    "    dataframes[cat].rename(columns=col_rename_dict[cat], inplace=True)"
   ]
  },
  {
   "cell_type": "markdown",
   "id": "254b75ea",
   "metadata": {},
   "source": [
    "## Clean the datasets"
   ]
  },
  {
   "cell_type": "markdown",
   "id": "4ebec0ba",
   "metadata": {},
   "source": [
    "### Clean people"
   ]
  },
  {
   "cell_type": "code",
   "execution_count": 14,
   "id": "826a246e",
   "metadata": {},
   "outputs": [
    {
     "data": {
      "text/html": [
       "<div>\n",
       "<style scoped>\n",
       "    .dataframe tbody tr th:only-of-type {\n",
       "        vertical-align: middle;\n",
       "    }\n",
       "\n",
       "    .dataframe tbody tr th {\n",
       "        vertical-align: top;\n",
       "    }\n",
       "\n",
       "    .dataframe thead th {\n",
       "        text-align: right;\n",
       "    }\n",
       "</style>\n",
       "<table border=\"1\" class=\"dataframe\">\n",
       "  <thead>\n",
       "    <tr style=\"text-align: right;\">\n",
       "      <th></th>\n",
       "      <th>character_id</th>\n",
       "      <th>name</th>\n",
       "      <th>height</th>\n",
       "      <th>mass</th>\n",
       "      <th>hair_color</th>\n",
       "      <th>skin_color</th>\n",
       "      <th>eye_color</th>\n",
       "      <th>birth_year</th>\n",
       "      <th>gender</th>\n",
       "      <th>homeworld_id</th>\n",
       "      <th>film_id</th>\n",
       "      <th>species_id</th>\n",
       "      <th>vehicle_id</th>\n",
       "      <th>starship_id</th>\n",
       "      <th>url</th>\n",
       "    </tr>\n",
       "  </thead>\n",
       "  <tbody>\n",
       "    <tr>\n",
       "      <th>68</th>\n",
       "      <td>70</td>\n",
       "      <td>Zam Wesell</td>\n",
       "      <td>168</td>\n",
       "      <td>55</td>\n",
       "      <td>blonde</td>\n",
       "      <td>fair, green, yellow</td>\n",
       "      <td>yellow</td>\n",
       "      <td>unknown</td>\n",
       "      <td>female</td>\n",
       "      <td>54</td>\n",
       "      <td>(5,)</td>\n",
       "      <td>30</td>\n",
       "      <td>(45,)</td>\n",
       "      <td>()</td>\n",
       "      <td>https://swapi.dev/api/people/70/</td>\n",
       "    </tr>\n",
       "    <tr>\n",
       "      <th>45</th>\n",
       "      <td>47</td>\n",
       "      <td>Ratts Tyerel</td>\n",
       "      <td>79</td>\n",
       "      <td>15</td>\n",
       "      <td>none</td>\n",
       "      <td>grey, blue</td>\n",
       "      <td>unknown</td>\n",
       "      <td>unknown</td>\n",
       "      <td>male</td>\n",
       "      <td>38</td>\n",
       "      <td>(4,)</td>\n",
       "      <td>16</td>\n",
       "      <td>()</td>\n",
       "      <td>()</td>\n",
       "      <td>https://swapi.dev/api/people/47/</td>\n",
       "    </tr>\n",
       "    <tr>\n",
       "      <th>34</th>\n",
       "      <td>36</td>\n",
       "      <td>Jar Jar Binks</td>\n",
       "      <td>196</td>\n",
       "      <td>66</td>\n",
       "      <td>none</td>\n",
       "      <td>orange</td>\n",
       "      <td>orange</td>\n",
       "      <td>52BBY</td>\n",
       "      <td>male</td>\n",
       "      <td>8</td>\n",
       "      <td>(4, 5)</td>\n",
       "      <td>12</td>\n",
       "      <td>()</td>\n",
       "      <td>()</td>\n",
       "      <td>https://swapi.dev/api/people/36/</td>\n",
       "    </tr>\n",
       "    <tr>\n",
       "      <th>51</th>\n",
       "      <td>53</td>\n",
       "      <td>Kit Fisto</td>\n",
       "      <td>196</td>\n",
       "      <td>87</td>\n",
       "      <td>none</td>\n",
       "      <td>green</td>\n",
       "      <td>black</td>\n",
       "      <td>unknown</td>\n",
       "      <td>male</td>\n",
       "      <td>44</td>\n",
       "      <td>(4, 5, 6)</td>\n",
       "      <td>21</td>\n",
       "      <td>()</td>\n",
       "      <td>()</td>\n",
       "      <td>https://swapi.dev/api/people/53/</td>\n",
       "    </tr>\n",
       "    <tr>\n",
       "      <th>47</th>\n",
       "      <td>49</td>\n",
       "      <td>Gasgano</td>\n",
       "      <td>122</td>\n",
       "      <td>unknown</td>\n",
       "      <td>none</td>\n",
       "      <td>white, blue</td>\n",
       "      <td>black</td>\n",
       "      <td>unknown</td>\n",
       "      <td>male</td>\n",
       "      <td>40</td>\n",
       "      <td>(4,)</td>\n",
       "      <td>18</td>\n",
       "      <td>()</td>\n",
       "      <td>()</td>\n",
       "      <td>https://swapi.dev/api/people/49/</td>\n",
       "    </tr>\n",
       "  </tbody>\n",
       "</table>\n",
       "</div>"
      ],
      "text/plain": [
       "    character_id           name height     mass hair_color  \\\n",
       "68            70     Zam Wesell    168       55     blonde   \n",
       "45            47   Ratts Tyerel     79       15       none   \n",
       "34            36  Jar Jar Binks    196       66       none   \n",
       "51            53      Kit Fisto    196       87       none   \n",
       "47            49        Gasgano    122  unknown       none   \n",
       "\n",
       "             skin_color eye_color birth_year  gender  homeworld_id    film_id  \\\n",
       "68  fair, green, yellow    yellow    unknown  female            54       (5,)   \n",
       "45           grey, blue   unknown    unknown    male            38       (4,)   \n",
       "34               orange    orange      52BBY    male             8     (4, 5)   \n",
       "51                green     black    unknown    male            44  (4, 5, 6)   \n",
       "47          white, blue     black    unknown    male            40       (4,)   \n",
       "\n",
       "    species_id vehicle_id starship_id                               url  \n",
       "68          30      (45,)          ()  https://swapi.dev/api/people/70/  \n",
       "45          16         ()          ()  https://swapi.dev/api/people/47/  \n",
       "34          12         ()          ()  https://swapi.dev/api/people/36/  \n",
       "51          21         ()          ()  https://swapi.dev/api/people/53/  \n",
       "47          18         ()          ()  https://swapi.dev/api/people/49/  "
      ]
     },
     "execution_count": 14,
     "metadata": {},
     "output_type": "execute_result"
    }
   ],
   "source": [
    "df = dataframes['people']\n",
    "df.sample(5)"
   ]
  },
  {
   "cell_type": "code",
   "execution_count": 15,
   "id": "fdec9e6f",
   "metadata": {},
   "outputs": [
    {
     "data": {
      "text/plain": [
       "character_id     int64\n",
       "name            object\n",
       "height          object\n",
       "mass            object\n",
       "hair_color      object\n",
       "skin_color      object\n",
       "eye_color       object\n",
       "birth_year      object\n",
       "gender          object\n",
       "homeworld_id     int64\n",
       "film_id         object\n",
       "species_id       int64\n",
       "vehicle_id      object\n",
       "starship_id     object\n",
       "url             object\n",
       "dtype: object"
      ]
     },
     "execution_count": 15,
     "metadata": {},
     "output_type": "execute_result"
    }
   ],
   "source": [
    "df.dtypes"
   ]
  },
  {
   "cell_type": "code",
   "execution_count": 16,
   "id": "f2d76002",
   "metadata": {},
   "outputs": [],
   "source": [
    "df.mass = df.mass.replace('unknown', np.nan)\n",
    "df.mass = df.mass.str.replace(',', '', regex=False)\n",
    "df.mass = df.mass.astype('float') "
   ]
  },
  {
   "cell_type": "code",
   "execution_count": 17,
   "id": "6c56db05",
   "metadata": {},
   "outputs": [],
   "source": [
    "df.height = df.height.replace('unknown', np.nan).astype('float')"
   ]
  },
  {
   "cell_type": "code",
   "execution_count": 18,
   "id": "68d12e2e",
   "metadata": {},
   "outputs": [],
   "source": [
    "df.hair_color = df.hair_color.replace('n/a', np.nan)"
   ]
  },
  {
   "cell_type": "code",
   "execution_count": 19,
   "id": "1a4bd178",
   "metadata": {},
   "outputs": [],
   "source": [
    "df.birth_year = df.birth_year.str.replace('BBY', ' BBY')"
   ]
  },
  {
   "cell_type": "markdown",
   "id": "0c8074dd",
   "metadata": {},
   "source": [
    "### Clean films"
   ]
  },
  {
   "cell_type": "code",
   "execution_count": 20,
   "id": "5e140b2d",
   "metadata": {},
   "outputs": [
    {
     "data": {
      "text/html": [
       "<div>\n",
       "<style scoped>\n",
       "    .dataframe tbody tr th:only-of-type {\n",
       "        vertical-align: middle;\n",
       "    }\n",
       "\n",
       "    .dataframe tbody tr th {\n",
       "        vertical-align: top;\n",
       "    }\n",
       "\n",
       "    .dataframe thead th {\n",
       "        text-align: right;\n",
       "    }\n",
       "</style>\n",
       "<table border=\"1\" class=\"dataframe\">\n",
       "  <thead>\n",
       "    <tr style=\"text-align: right;\">\n",
       "      <th></th>\n",
       "      <th>film_id</th>\n",
       "      <th>title</th>\n",
       "      <th>episode</th>\n",
       "      <th>opening_crawl</th>\n",
       "      <th>director</th>\n",
       "      <th>producer</th>\n",
       "      <th>release_date</th>\n",
       "      <th>character_id</th>\n",
       "      <th>planet_id</th>\n",
       "      <th>starship_id</th>\n",
       "      <th>vehicle_id</th>\n",
       "      <th>species_id</th>\n",
       "      <th>url</th>\n",
       "    </tr>\n",
       "  </thead>\n",
       "  <tbody>\n",
       "    <tr>\n",
       "      <th>4</th>\n",
       "      <td>5</td>\n",
       "      <td>Attack of the Clones</td>\n",
       "      <td>2</td>\n",
       "      <td>There is unrest in the Galactic\\r\\nSenate. Sev...</td>\n",
       "      <td>George Lucas</td>\n",
       "      <td>Rick McCallum</td>\n",
       "      <td>2002-05-16</td>\n",
       "      <td>(2, 3, 6, 7, 10, 11, 20, 21, 22, 33, 35, 36, 4...</td>\n",
       "      <td>(1, 8, 9, 10, 11)</td>\n",
       "      <td>(21, 32, 39, 43, 47, 48, 49, 52, 58)</td>\n",
       "      <td>(4, 44, 45, 46, 50, 51, 53, 54, 55, 56, 57)</td>\n",
       "      <td>1</td>\n",
       "      <td>https://swapi.dev/api/films/5/</td>\n",
       "    </tr>\n",
       "    <tr>\n",
       "      <th>3</th>\n",
       "      <td>4</td>\n",
       "      <td>The Phantom Menace</td>\n",
       "      <td>1</td>\n",
       "      <td>Turmoil has engulfed the\\r\\nGalactic Republic....</td>\n",
       "      <td>George Lucas</td>\n",
       "      <td>Rick McCallum</td>\n",
       "      <td>1999-05-19</td>\n",
       "      <td>(2, 3, 10, 11, 16, 20, 21, 32, 33, 34, 35, 36,...</td>\n",
       "      <td>(1, 8, 9)</td>\n",
       "      <td>(31, 32, 39, 40, 41)</td>\n",
       "      <td>(33, 34, 35, 36, 37, 38, 42)</td>\n",
       "      <td>1</td>\n",
       "      <td>https://swapi.dev/api/films/4/</td>\n",
       "    </tr>\n",
       "    <tr>\n",
       "      <th>2</th>\n",
       "      <td>3</td>\n",
       "      <td>Return of the Jedi</td>\n",
       "      <td>6</td>\n",
       "      <td>Luke Skywalker has returned to\\r\\nhis home pla...</td>\n",
       "      <td>Richard Marquand</td>\n",
       "      <td>Howard G. Kazanjian, George Lucas, Rick McCallum</td>\n",
       "      <td>1983-05-25</td>\n",
       "      <td>(1, 2, 3, 4, 5, 10, 13, 14, 16, 18, 20, 21, 22...</td>\n",
       "      <td>(1, 5, 7, 8, 9)</td>\n",
       "      <td>(2, 3, 10, 11, 12, 15, 17, 22, 23, 27, 28, 29)</td>\n",
       "      <td>(8, 16, 18, 19, 24, 25, 26, 30)</td>\n",
       "      <td>1</td>\n",
       "      <td>https://swapi.dev/api/films/3/</td>\n",
       "    </tr>\n",
       "    <tr>\n",
       "      <th>5</th>\n",
       "      <td>6</td>\n",
       "      <td>Revenge of the Sith</td>\n",
       "      <td>3</td>\n",
       "      <td>War! The Republic is crumbling\\r\\nunder attack...</td>\n",
       "      <td>George Lucas</td>\n",
       "      <td>Rick McCallum</td>\n",
       "      <td>2005-05-19</td>\n",
       "      <td>(1, 2, 3, 4, 5, 6, 7, 10, 11, 12, 13, 20, 21, ...</td>\n",
       "      <td>(1, 2, 5, 8, 9, 12, 13, 14, 15, 16, 17, 18, 19)</td>\n",
       "      <td>(2, 32, 48, 59, 61, 63, 64, 65, 66, 68, 74, 75)</td>\n",
       "      <td>(33, 50, 53, 56, 60, 62, 67, 69, 70, 71, 72, 7...</td>\n",
       "      <td>1</td>\n",
       "      <td>https://swapi.dev/api/films/6/</td>\n",
       "    </tr>\n",
       "    <tr>\n",
       "      <th>0</th>\n",
       "      <td>1</td>\n",
       "      <td>A New Hope</td>\n",
       "      <td>4</td>\n",
       "      <td>It is a period of civil war.\\r\\nRebel spaceshi...</td>\n",
       "      <td>George Lucas</td>\n",
       "      <td>Gary Kurtz, Rick McCallum</td>\n",
       "      <td>1977-05-25</td>\n",
       "      <td>(1, 2, 3, 4, 5, 6, 7, 8, 9, 10, 12, 13, 14, 15...</td>\n",
       "      <td>(1, 2, 3)</td>\n",
       "      <td>(2, 3, 5, 9, 10, 11, 12, 13)</td>\n",
       "      <td>(4, 6, 7, 8)</td>\n",
       "      <td>1</td>\n",
       "      <td>https://swapi.dev/api/films/1/</td>\n",
       "    </tr>\n",
       "  </tbody>\n",
       "</table>\n",
       "</div>"
      ],
      "text/plain": [
       "   film_id                 title  episode  \\\n",
       "4        5  Attack of the Clones        2   \n",
       "3        4    The Phantom Menace        1   \n",
       "2        3    Return of the Jedi        6   \n",
       "5        6   Revenge of the Sith        3   \n",
       "0        1            A New Hope        4   \n",
       "\n",
       "                                       opening_crawl          director  \\\n",
       "4  There is unrest in the Galactic\\r\\nSenate. Sev...      George Lucas   \n",
       "3  Turmoil has engulfed the\\r\\nGalactic Republic....      George Lucas   \n",
       "2  Luke Skywalker has returned to\\r\\nhis home pla...  Richard Marquand   \n",
       "5  War! The Republic is crumbling\\r\\nunder attack...      George Lucas   \n",
       "0  It is a period of civil war.\\r\\nRebel spaceshi...      George Lucas   \n",
       "\n",
       "                                           producer release_date  \\\n",
       "4                                     Rick McCallum   2002-05-16   \n",
       "3                                     Rick McCallum   1999-05-19   \n",
       "2  Howard G. Kazanjian, George Lucas, Rick McCallum   1983-05-25   \n",
       "5                                     Rick McCallum   2005-05-19   \n",
       "0                         Gary Kurtz, Rick McCallum   1977-05-25   \n",
       "\n",
       "                                        character_id  \\\n",
       "4  (2, 3, 6, 7, 10, 11, 20, 21, 22, 33, 35, 36, 4...   \n",
       "3  (2, 3, 10, 11, 16, 20, 21, 32, 33, 34, 35, 36,...   \n",
       "2  (1, 2, 3, 4, 5, 10, 13, 14, 16, 18, 20, 21, 22...   \n",
       "5  (1, 2, 3, 4, 5, 6, 7, 10, 11, 12, 13, 20, 21, ...   \n",
       "0  (1, 2, 3, 4, 5, 6, 7, 8, 9, 10, 12, 13, 14, 15...   \n",
       "\n",
       "                                         planet_id  \\\n",
       "4                                (1, 8, 9, 10, 11)   \n",
       "3                                        (1, 8, 9)   \n",
       "2                                  (1, 5, 7, 8, 9)   \n",
       "5  (1, 2, 5, 8, 9, 12, 13, 14, 15, 16, 17, 18, 19)   \n",
       "0                                        (1, 2, 3)   \n",
       "\n",
       "                                       starship_id  \\\n",
       "4             (21, 32, 39, 43, 47, 48, 49, 52, 58)   \n",
       "3                             (31, 32, 39, 40, 41)   \n",
       "2   (2, 3, 10, 11, 12, 15, 17, 22, 23, 27, 28, 29)   \n",
       "5  (2, 32, 48, 59, 61, 63, 64, 65, 66, 68, 74, 75)   \n",
       "0                     (2, 3, 5, 9, 10, 11, 12, 13)   \n",
       "\n",
       "                                          vehicle_id  species_id  \\\n",
       "4        (4, 44, 45, 46, 50, 51, 53, 54, 55, 56, 57)           1   \n",
       "3                       (33, 34, 35, 36, 37, 38, 42)           1   \n",
       "2                    (8, 16, 18, 19, 24, 25, 26, 30)           1   \n",
       "5  (33, 50, 53, 56, 60, 62, 67, 69, 70, 71, 72, 7...           1   \n",
       "0                                       (4, 6, 7, 8)           1   \n",
       "\n",
       "                              url  \n",
       "4  https://swapi.dev/api/films/5/  \n",
       "3  https://swapi.dev/api/films/4/  \n",
       "2  https://swapi.dev/api/films/3/  \n",
       "5  https://swapi.dev/api/films/6/  \n",
       "0  https://swapi.dev/api/films/1/  "
      ]
     },
     "execution_count": 20,
     "metadata": {},
     "output_type": "execute_result"
    }
   ],
   "source": [
    "df = dataframes['films']\n",
    "df.sample(5)"
   ]
  },
  {
   "cell_type": "code",
   "execution_count": 21,
   "id": "5e19e0d9",
   "metadata": {},
   "outputs": [
    {
     "data": {
      "text/plain": [
       "array([1])"
      ]
     },
     "execution_count": 21,
     "metadata": {},
     "output_type": "execute_result"
    }
   ],
   "source": [
    "df.species_id.unique()"
   ]
  },
  {
   "cell_type": "code",
   "execution_count": 22,
   "id": "762dcfe3",
   "metadata": {},
   "outputs": [
    {
     "data": {
      "text/plain": [
       "film_id           int64\n",
       "title            object\n",
       "episode           int64\n",
       "opening_crawl    object\n",
       "director         object\n",
       "producer         object\n",
       "release_date     object\n",
       "character_id     object\n",
       "planet_id        object\n",
       "starship_id      object\n",
       "vehicle_id       object\n",
       "species_id        int64\n",
       "url              object\n",
       "dtype: object"
      ]
     },
     "execution_count": 22,
     "metadata": {},
     "output_type": "execute_result"
    }
   ],
   "source": [
    "df.dtypes"
   ]
  },
  {
   "cell_type": "code",
   "execution_count": 23,
   "id": "0c357be7",
   "metadata": {},
   "outputs": [],
   "source": [
    "df.release_date = pd.to_datetime(df.release_date)"
   ]
  },
  {
   "cell_type": "markdown",
   "id": "9533468e",
   "metadata": {},
   "source": [
    "### Clean planets"
   ]
  },
  {
   "cell_type": "code",
   "execution_count": 24,
   "id": "0301b5ab",
   "metadata": {},
   "outputs": [
    {
     "data": {
      "text/html": [
       "<div>\n",
       "<style scoped>\n",
       "    .dataframe tbody tr th:only-of-type {\n",
       "        vertical-align: middle;\n",
       "    }\n",
       "\n",
       "    .dataframe tbody tr th {\n",
       "        vertical-align: top;\n",
       "    }\n",
       "\n",
       "    .dataframe thead th {\n",
       "        text-align: right;\n",
       "    }\n",
       "</style>\n",
       "<table border=\"1\" class=\"dataframe\">\n",
       "  <thead>\n",
       "    <tr style=\"text-align: right;\">\n",
       "      <th></th>\n",
       "      <th>planet_id</th>\n",
       "      <th>name</th>\n",
       "      <th>rotation_period</th>\n",
       "      <th>orbital_period</th>\n",
       "      <th>diameter</th>\n",
       "      <th>climate</th>\n",
       "      <th>gravity</th>\n",
       "      <th>terrain</th>\n",
       "      <th>surface_water</th>\n",
       "      <th>population</th>\n",
       "      <th>residents_id</th>\n",
       "      <th>film_id</th>\n",
       "      <th>url</th>\n",
       "    </tr>\n",
       "  </thead>\n",
       "  <tbody>\n",
       "    <tr>\n",
       "      <th>23</th>\n",
       "      <td>24</td>\n",
       "      <td>Nal Hutta</td>\n",
       "      <td>87</td>\n",
       "      <td>413</td>\n",
       "      <td>12150</td>\n",
       "      <td>temperate</td>\n",
       "      <td>1 standard</td>\n",
       "      <td>urban, oceans, swamps, bogs</td>\n",
       "      <td>unknown</td>\n",
       "      <td>7000000000</td>\n",
       "      <td>(16,)</td>\n",
       "      <td>()</td>\n",
       "      <td>https://swapi.dev/api/planets/24/</td>\n",
       "    </tr>\n",
       "    <tr>\n",
       "      <th>18</th>\n",
       "      <td>19</td>\n",
       "      <td>Saleucami</td>\n",
       "      <td>26</td>\n",
       "      <td>392</td>\n",
       "      <td>14920</td>\n",
       "      <td>hot</td>\n",
       "      <td>unknown</td>\n",
       "      <td>caves, desert, mountains, volcanoes</td>\n",
       "      <td>unknown</td>\n",
       "      <td>1400000000</td>\n",
       "      <td>()</td>\n",
       "      <td>(6,)</td>\n",
       "      <td>https://swapi.dev/api/planets/19/</td>\n",
       "    </tr>\n",
       "    <tr>\n",
       "      <th>55</th>\n",
       "      <td>56</td>\n",
       "      <td>Skako</td>\n",
       "      <td>27</td>\n",
       "      <td>384</td>\n",
       "      <td>unknown</td>\n",
       "      <td>temperate</td>\n",
       "      <td>1</td>\n",
       "      <td>urban, vines</td>\n",
       "      <td>unknown</td>\n",
       "      <td>500000000000</td>\n",
       "      <td>(76,)</td>\n",
       "      <td>()</td>\n",
       "      <td>https://swapi.dev/api/planets/56/</td>\n",
       "    </tr>\n",
       "    <tr>\n",
       "      <th>42</th>\n",
       "      <td>43</td>\n",
       "      <td>Cerea</td>\n",
       "      <td>27</td>\n",
       "      <td>386</td>\n",
       "      <td>unknown</td>\n",
       "      <td>temperate</td>\n",
       "      <td>1</td>\n",
       "      <td>verdant</td>\n",
       "      <td>20</td>\n",
       "      <td>450000000</td>\n",
       "      <td>(52,)</td>\n",
       "      <td>()</td>\n",
       "      <td>https://swapi.dev/api/planets/43/</td>\n",
       "    </tr>\n",
       "    <tr>\n",
       "      <th>30</th>\n",
       "      <td>31</td>\n",
       "      <td>Mon Cala</td>\n",
       "      <td>21</td>\n",
       "      <td>398</td>\n",
       "      <td>11030</td>\n",
       "      <td>temperate</td>\n",
       "      <td>1</td>\n",
       "      <td>oceans, reefs, islands</td>\n",
       "      <td>100</td>\n",
       "      <td>27000000000</td>\n",
       "      <td>(27,)</td>\n",
       "      <td>()</td>\n",
       "      <td>https://swapi.dev/api/planets/31/</td>\n",
       "    </tr>\n",
       "  </tbody>\n",
       "</table>\n",
       "</div>"
      ],
      "text/plain": [
       "    planet_id       name rotation_period orbital_period diameter    climate  \\\n",
       "23         24  Nal Hutta              87            413    12150  temperate   \n",
       "18         19  Saleucami              26            392    14920        hot   \n",
       "55         56      Skako              27            384  unknown  temperate   \n",
       "42         43      Cerea              27            386  unknown  temperate   \n",
       "30         31   Mon Cala              21            398    11030  temperate   \n",
       "\n",
       "       gravity                              terrain surface_water  \\\n",
       "23  1 standard          urban, oceans, swamps, bogs       unknown   \n",
       "18     unknown  caves, desert, mountains, volcanoes       unknown   \n",
       "55           1                         urban, vines       unknown   \n",
       "42           1                              verdant            20   \n",
       "30           1               oceans, reefs, islands           100   \n",
       "\n",
       "      population residents_id film_id                                url  \n",
       "23    7000000000        (16,)      ()  https://swapi.dev/api/planets/24/  \n",
       "18    1400000000           ()    (6,)  https://swapi.dev/api/planets/19/  \n",
       "55  500000000000        (76,)      ()  https://swapi.dev/api/planets/56/  \n",
       "42     450000000        (52,)      ()  https://swapi.dev/api/planets/43/  \n",
       "30   27000000000        (27,)      ()  https://swapi.dev/api/planets/31/  "
      ]
     },
     "execution_count": 24,
     "metadata": {},
     "output_type": "execute_result"
    }
   ],
   "source": [
    "df = dataframes['planets']\n",
    "df.sample(5)"
   ]
  },
  {
   "cell_type": "code",
   "execution_count": 25,
   "id": "7efdf919",
   "metadata": {},
   "outputs": [
    {
     "data": {
      "text/plain": [
       "planet_id           int64\n",
       "name               object\n",
       "rotation_period    object\n",
       "orbital_period     object\n",
       "diameter           object\n",
       "climate            object\n",
       "gravity            object\n",
       "terrain            object\n",
       "surface_water      object\n",
       "population         object\n",
       "residents_id       object\n",
       "film_id            object\n",
       "url                object\n",
       "dtype: object"
      ]
     },
     "execution_count": 25,
     "metadata": {},
     "output_type": "execute_result"
    }
   ],
   "source": [
    "df.dtypes"
   ]
  },
  {
   "cell_type": "code",
   "execution_count": 26,
   "id": "72d52dc2",
   "metadata": {},
   "outputs": [],
   "source": [
    "for col in ['rotation_period', 'orbital_period', 'diameter', 'surface_water', 'population']:\n",
    "    df[col] = df[col].replace('unknown', np.nan).astype('float')"
   ]
  },
  {
   "cell_type": "code",
   "execution_count": 27,
   "id": "e0292d31",
   "metadata": {},
   "outputs": [],
   "source": [
    "df.population = df.population / 1E6\n",
    "df.rename(columns = {'population' : 'population_millions'}, inplace = True)"
   ]
  },
  {
   "cell_type": "code",
   "execution_count": 28,
   "id": "fc6c1752",
   "metadata": {},
   "outputs": [
    {
     "data": {
      "text/plain": [
       "array(['1 standard', '1.1 standard', 'N/A',\n",
       "       '1.5 (surface), 1 standard (Cloud City)', '0.85 standard',\n",
       "       '0.9 standard', '0.56 standard', '0.75 standard', 'unknown',\n",
       "       '0.62 standard', '1', '1.56', '0.9', '0.98'], dtype=object)"
      ]
     },
     "execution_count": 28,
     "metadata": {},
     "output_type": "execute_result"
    }
   ],
   "source": [
    "df.gravity.unique()"
   ]
  },
  {
   "cell_type": "code",
   "execution_count": 29,
   "id": "7b1592a4",
   "metadata": {},
   "outputs": [],
   "source": [
    "df.gravity = df.gravity.str.replace(' standard', '').str.replace(df.gravity[5], '1.5')\n",
    "df.gravity = df.gravity.replace('unknown', np.nan)"
   ]
  },
  {
   "cell_type": "markdown",
   "id": "0e60760b",
   "metadata": {},
   "source": [
    "### Clean species"
   ]
  },
  {
   "cell_type": "code",
   "execution_count": 30,
   "id": "0e3891c7",
   "metadata": {},
   "outputs": [
    {
     "data": {
      "text/html": [
       "<div>\n",
       "<style scoped>\n",
       "    .dataframe tbody tr th:only-of-type {\n",
       "        vertical-align: middle;\n",
       "    }\n",
       "\n",
       "    .dataframe tbody tr th {\n",
       "        vertical-align: top;\n",
       "    }\n",
       "\n",
       "    .dataframe thead th {\n",
       "        text-align: right;\n",
       "    }\n",
       "</style>\n",
       "<table border=\"1\" class=\"dataframe\">\n",
       "  <thead>\n",
       "    <tr style=\"text-align: right;\">\n",
       "      <th></th>\n",
       "      <th>species_id</th>\n",
       "      <th>name</th>\n",
       "      <th>classification</th>\n",
       "      <th>designation</th>\n",
       "      <th>average_height</th>\n",
       "      <th>skin_colors</th>\n",
       "      <th>hair_colors</th>\n",
       "      <th>eye_colors</th>\n",
       "      <th>average_lifespan</th>\n",
       "      <th>homeworld_id</th>\n",
       "      <th>language</th>\n",
       "      <th>character_id</th>\n",
       "      <th>film_id</th>\n",
       "      <th>url</th>\n",
       "    </tr>\n",
       "  </thead>\n",
       "  <tbody>\n",
       "    <tr>\n",
       "      <th>23</th>\n",
       "      <td>24</td>\n",
       "      <td>Iktotchi</td>\n",
       "      <td>unknown</td>\n",
       "      <td>sentient</td>\n",
       "      <td>180</td>\n",
       "      <td>pink</td>\n",
       "      <td>none</td>\n",
       "      <td>orange</td>\n",
       "      <td>unknown</td>\n",
       "      <td>47</td>\n",
       "      <td>Iktotchese</td>\n",
       "      <td>(56,)</td>\n",
       "      <td>(4, 6)</td>\n",
       "      <td>https://swapi.dev/api/species/24/</td>\n",
       "    </tr>\n",
       "    <tr>\n",
       "      <th>9</th>\n",
       "      <td>10</td>\n",
       "      <td>Sullustan</td>\n",
       "      <td>mammal</td>\n",
       "      <td>sentient</td>\n",
       "      <td>180</td>\n",
       "      <td>pale</td>\n",
       "      <td>none</td>\n",
       "      <td>black</td>\n",
       "      <td>unknown</td>\n",
       "      <td>33</td>\n",
       "      <td>Sullutese</td>\n",
       "      <td>(31,)</td>\n",
       "      <td>(3,)</td>\n",
       "      <td>https://swapi.dev/api/species/10/</td>\n",
       "    </tr>\n",
       "    <tr>\n",
       "      <th>25</th>\n",
       "      <td>26</td>\n",
       "      <td>Kel Dor</td>\n",
       "      <td>unknown</td>\n",
       "      <td>sentient</td>\n",
       "      <td>180</td>\n",
       "      <td>peach, orange, red</td>\n",
       "      <td>none</td>\n",
       "      <td>black, silver</td>\n",
       "      <td>70</td>\n",
       "      <td>49</td>\n",
       "      <td>Kel Dor</td>\n",
       "      <td>(58,)</td>\n",
       "      <td>(4, 6)</td>\n",
       "      <td>https://swapi.dev/api/species/26/</td>\n",
       "    </tr>\n",
       "    <tr>\n",
       "      <th>0</th>\n",
       "      <td>1</td>\n",
       "      <td>Human</td>\n",
       "      <td>mammal</td>\n",
       "      <td>sentient</td>\n",
       "      <td>180</td>\n",
       "      <td>caucasian, black, asian, hispanic</td>\n",
       "      <td>blonde, brown, black, red</td>\n",
       "      <td>brown, blue, green, hazel, grey, amber</td>\n",
       "      <td>120</td>\n",
       "      <td>9</td>\n",
       "      <td>Galactic Basic</td>\n",
       "      <td>(66, 67, 68, 74)</td>\n",
       "      <td>(1, 2, 3, 4, 5, 6)</td>\n",
       "      <td>https://swapi.dev/api/species/1/</td>\n",
       "    </tr>\n",
       "    <tr>\n",
       "      <th>32</th>\n",
       "      <td>33</td>\n",
       "      <td>Skakoan</td>\n",
       "      <td>mammal</td>\n",
       "      <td>sentient</td>\n",
       "      <td>unknown</td>\n",
       "      <td>grey, green</td>\n",
       "      <td>none</td>\n",
       "      <td>unknown</td>\n",
       "      <td>unknown</td>\n",
       "      <td>56</td>\n",
       "      <td>Skakoan</td>\n",
       "      <td>(76,)</td>\n",
       "      <td>(5, 6)</td>\n",
       "      <td>https://swapi.dev/api/species/33/</td>\n",
       "    </tr>\n",
       "  </tbody>\n",
       "</table>\n",
       "</div>"
      ],
      "text/plain": [
       "    species_id       name classification designation average_height  \\\n",
       "23          24   Iktotchi        unknown    sentient            180   \n",
       "9           10  Sullustan         mammal    sentient            180   \n",
       "25          26    Kel Dor        unknown    sentient            180   \n",
       "0            1      Human         mammal    sentient            180   \n",
       "32          33    Skakoan         mammal    sentient        unknown   \n",
       "\n",
       "                          skin_colors                hair_colors  \\\n",
       "23                               pink                       none   \n",
       "9                                pale                       none   \n",
       "25                 peach, orange, red                       none   \n",
       "0   caucasian, black, asian, hispanic  blonde, brown, black, red   \n",
       "32                        grey, green                       none   \n",
       "\n",
       "                                eye_colors average_lifespan homeworld_id  \\\n",
       "23                                  orange          unknown           47   \n",
       "9                                    black          unknown           33   \n",
       "25                           black, silver               70           49   \n",
       "0   brown, blue, green, hazel, grey, amber              120            9   \n",
       "32                                 unknown          unknown           56   \n",
       "\n",
       "          language      character_id             film_id  \\\n",
       "23      Iktotchese             (56,)              (4, 6)   \n",
       "9        Sullutese             (31,)                (3,)   \n",
       "25         Kel Dor             (58,)              (4, 6)   \n",
       "0   Galactic Basic  (66, 67, 68, 74)  (1, 2, 3, 4, 5, 6)   \n",
       "32         Skakoan             (76,)              (5, 6)   \n",
       "\n",
       "                                  url  \n",
       "23  https://swapi.dev/api/species/24/  \n",
       "9   https://swapi.dev/api/species/10/  \n",
       "25  https://swapi.dev/api/species/26/  \n",
       "0    https://swapi.dev/api/species/1/  \n",
       "32  https://swapi.dev/api/species/33/  "
      ]
     },
     "execution_count": 30,
     "metadata": {},
     "output_type": "execute_result"
    }
   ],
   "source": [
    "df = dataframes['species']\n",
    "df.sample(5)"
   ]
  },
  {
   "cell_type": "code",
   "execution_count": 31,
   "id": "c821986e",
   "metadata": {},
   "outputs": [
    {
     "data": {
      "text/plain": [
       "species_id           int64\n",
       "name                object\n",
       "classification      object\n",
       "designation         object\n",
       "average_height      object\n",
       "skin_colors         object\n",
       "hair_colors         object\n",
       "eye_colors          object\n",
       "average_lifespan    object\n",
       "homeworld_id        object\n",
       "language            object\n",
       "character_id        object\n",
       "film_id             object\n",
       "url                 object\n",
       "dtype: object"
      ]
     },
     "execution_count": 31,
     "metadata": {},
     "output_type": "execute_result"
    }
   ],
   "source": [
    "df.dtypes"
   ]
  },
  {
   "cell_type": "code",
   "execution_count": 32,
   "id": "8136027d",
   "metadata": {},
   "outputs": [],
   "source": [
    "df.average_height = df.average_height.replace('unknown', np.nan).replace('n/a', np.nan).astype('float')"
   ]
  },
  {
   "cell_type": "code",
   "execution_count": 33,
   "id": "1d38e70d",
   "metadata": {},
   "outputs": [],
   "source": [
    "df.average_lifespan = df.average_lifespan.replace('unknown', np.nan).replace('indefinite', 9999).astype('float')"
   ]
  },
  {
   "cell_type": "code",
   "execution_count": 34,
   "id": "9d41f9ec",
   "metadata": {},
   "outputs": [],
   "source": [
    "df.loc[1, 'homeworld_id'] = np.nan\n",
    "df.homeworld_id = df.homeworld_id.astype('float')"
   ]
  },
  {
   "cell_type": "markdown",
   "id": "f3fb8577",
   "metadata": {},
   "source": [
    "### Clean vehicles"
   ]
  },
  {
   "cell_type": "code",
   "execution_count": 35,
   "id": "451a6ffe",
   "metadata": {},
   "outputs": [
    {
     "data": {
      "text/html": [
       "<div>\n",
       "<style scoped>\n",
       "    .dataframe tbody tr th:only-of-type {\n",
       "        vertical-align: middle;\n",
       "    }\n",
       "\n",
       "    .dataframe tbody tr th {\n",
       "        vertical-align: top;\n",
       "    }\n",
       "\n",
       "    .dataframe thead th {\n",
       "        text-align: right;\n",
       "    }\n",
       "</style>\n",
       "<table border=\"1\" class=\"dataframe\">\n",
       "  <thead>\n",
       "    <tr style=\"text-align: right;\">\n",
       "      <th></th>\n",
       "      <th>vehicle_id</th>\n",
       "      <th>name</th>\n",
       "      <th>model</th>\n",
       "      <th>manufacturer</th>\n",
       "      <th>cost_in_credits</th>\n",
       "      <th>length</th>\n",
       "      <th>max_atmosphering_speed</th>\n",
       "      <th>crew</th>\n",
       "      <th>passengers</th>\n",
       "      <th>cargo_capacity</th>\n",
       "      <th>consumables</th>\n",
       "      <th>vehicle_class</th>\n",
       "      <th>pilot_id</th>\n",
       "      <th>film_id</th>\n",
       "      <th>url</th>\n",
       "    </tr>\n",
       "  </thead>\n",
       "  <tbody>\n",
       "    <tr>\n",
       "      <th>36</th>\n",
       "      <td>72</td>\n",
       "      <td>Corporate Alliance tank droid</td>\n",
       "      <td>NR-N99 Persuader-class droid enforcer</td>\n",
       "      <td>Techno Union</td>\n",
       "      <td>49000</td>\n",
       "      <td>10.96</td>\n",
       "      <td>100</td>\n",
       "      <td>0</td>\n",
       "      <td>4</td>\n",
       "      <td>none</td>\n",
       "      <td>none</td>\n",
       "      <td>droid tank</td>\n",
       "      <td>()</td>\n",
       "      <td>(6,)</td>\n",
       "      <td>https://swapi.dev/api/vehicles/72/</td>\n",
       "    </tr>\n",
       "    <tr>\n",
       "      <th>24</th>\n",
       "      <td>51</td>\n",
       "      <td>LAAT/c</td>\n",
       "      <td>Low Altitude Assault Transport/carrier</td>\n",
       "      <td>Rothana Heavy Engineering</td>\n",
       "      <td>unknown</td>\n",
       "      <td>28.82</td>\n",
       "      <td>620</td>\n",
       "      <td>1</td>\n",
       "      <td>0</td>\n",
       "      <td>40000</td>\n",
       "      <td>unknown</td>\n",
       "      <td>gunship</td>\n",
       "      <td>()</td>\n",
       "      <td>(5,)</td>\n",
       "      <td>https://swapi.dev/api/vehicles/51/</td>\n",
       "    </tr>\n",
       "    <tr>\n",
       "      <th>1</th>\n",
       "      <td>6</td>\n",
       "      <td>T-16 skyhopper</td>\n",
       "      <td>T-16 skyhopper</td>\n",
       "      <td>Incom Corporation</td>\n",
       "      <td>14500</td>\n",
       "      <td>10.4</td>\n",
       "      <td>1200</td>\n",
       "      <td>1</td>\n",
       "      <td>1</td>\n",
       "      <td>50</td>\n",
       "      <td>0</td>\n",
       "      <td>repulsorcraft</td>\n",
       "      <td>()</td>\n",
       "      <td>(1,)</td>\n",
       "      <td>https://swapi.dev/api/vehicles/6/</td>\n",
       "    </tr>\n",
       "    <tr>\n",
       "      <th>30</th>\n",
       "      <td>60</td>\n",
       "      <td>Tsmeu-6 personal wheel bike</td>\n",
       "      <td>Tsmeu-6 personal wheel bike</td>\n",
       "      <td>Z-Gomot Ternbuell Guppat Corporation</td>\n",
       "      <td>15000</td>\n",
       "      <td>3.5</td>\n",
       "      <td>330</td>\n",
       "      <td>1</td>\n",
       "      <td>1</td>\n",
       "      <td>10</td>\n",
       "      <td>none</td>\n",
       "      <td>wheeled walker</td>\n",
       "      <td>(79,)</td>\n",
       "      <td>(6,)</td>\n",
       "      <td>https://swapi.dev/api/vehicles/60/</td>\n",
       "    </tr>\n",
       "    <tr>\n",
       "      <th>14</th>\n",
       "      <td>34</td>\n",
       "      <td>Multi-Troop Transport</td>\n",
       "      <td>Multi-Troop Transport</td>\n",
       "      <td>Baktoid Armor Workshop</td>\n",
       "      <td>138000</td>\n",
       "      <td>31</td>\n",
       "      <td>35</td>\n",
       "      <td>4</td>\n",
       "      <td>112</td>\n",
       "      <td>12000</td>\n",
       "      <td>unknown</td>\n",
       "      <td>repulsorcraft</td>\n",
       "      <td>()</td>\n",
       "      <td>(4,)</td>\n",
       "      <td>https://swapi.dev/api/vehicles/34/</td>\n",
       "    </tr>\n",
       "  </tbody>\n",
       "</table>\n",
       "</div>"
      ],
      "text/plain": [
       "    vehicle_id                           name  \\\n",
       "36          72  Corporate Alliance tank droid   \n",
       "24          51                         LAAT/c   \n",
       "1            6                 T-16 skyhopper   \n",
       "30          60    Tsmeu-6 personal wheel bike   \n",
       "14          34          Multi-Troop Transport   \n",
       "\n",
       "                                     model  \\\n",
       "36   NR-N99 Persuader-class droid enforcer   \n",
       "24  Low Altitude Assault Transport/carrier   \n",
       "1                           T-16 skyhopper   \n",
       "30             Tsmeu-6 personal wheel bike   \n",
       "14                   Multi-Troop Transport   \n",
       "\n",
       "                            manufacturer cost_in_credits length  \\\n",
       "36                          Techno Union           49000  10.96   \n",
       "24             Rothana Heavy Engineering         unknown  28.82   \n",
       "1                      Incom Corporation           14500  10.4    \n",
       "30  Z-Gomot Ternbuell Guppat Corporation           15000    3.5   \n",
       "14                Baktoid Armor Workshop          138000     31   \n",
       "\n",
       "   max_atmosphering_speed crew passengers cargo_capacity consumables  \\\n",
       "36                    100    0          4           none        none   \n",
       "24                    620    1          0          40000     unknown   \n",
       "1                    1200    1          1             50           0   \n",
       "30                    330    1          1             10        none   \n",
       "14                     35    4        112          12000     unknown   \n",
       "\n",
       "     vehicle_class pilot_id film_id                                 url  \n",
       "36      droid tank       ()    (6,)  https://swapi.dev/api/vehicles/72/  \n",
       "24         gunship       ()    (5,)  https://swapi.dev/api/vehicles/51/  \n",
       "1    repulsorcraft       ()    (1,)   https://swapi.dev/api/vehicles/6/  \n",
       "30  wheeled walker    (79,)    (6,)  https://swapi.dev/api/vehicles/60/  \n",
       "14   repulsorcraft       ()    (4,)  https://swapi.dev/api/vehicles/34/  "
      ]
     },
     "execution_count": 35,
     "metadata": {},
     "output_type": "execute_result"
    }
   ],
   "source": [
    "df = dataframes['vehicles']\n",
    "df.sample(5)"
   ]
  },
  {
   "cell_type": "code",
   "execution_count": 36,
   "id": "16f71fd9",
   "metadata": {},
   "outputs": [],
   "source": [
    "df.cost_in_credits = df.cost_in_credits.replace('unknown', np.nan)\n",
    "df.cost_in_credits = df.cost_in_credits.astype('float')"
   ]
  },
  {
   "cell_type": "code",
   "execution_count": 37,
   "id": "dfe012ba",
   "metadata": {},
   "outputs": [],
   "source": [
    "for col in ['max_atmosphering_speed' ,'crew', 'passengers', 'cargo_capacity']:\n",
    "    df[col] = df[col].replace('unknown', np.nan).replace('none', np.nan)\n",
    "    df[col] = df[col].astype('float')"
   ]
  },
  {
   "cell_type": "code",
   "execution_count": 38,
   "id": "96fa6ccf",
   "metadata": {},
   "outputs": [],
   "source": [
    "df.length = df.length.replace('unknown', np.nan)\n",
    "df.length = df.length.astype('float')"
   ]
  },
  {
   "cell_type": "code",
   "execution_count": 39,
   "id": "158b20ae",
   "metadata": {},
   "outputs": [],
   "source": [
    "df.consumables = df.consumables.replace('0', 'none')"
   ]
  },
  {
   "cell_type": "markdown",
   "id": "4cc7aa12",
   "metadata": {},
   "source": [
    "### Clean starships"
   ]
  },
  {
   "cell_type": "code",
   "execution_count": 40,
   "id": "0a202666",
   "metadata": {},
   "outputs": [
    {
     "data": {
      "text/html": [
       "<div>\n",
       "<style scoped>\n",
       "    .dataframe tbody tr th:only-of-type {\n",
       "        vertical-align: middle;\n",
       "    }\n",
       "\n",
       "    .dataframe tbody tr th {\n",
       "        vertical-align: top;\n",
       "    }\n",
       "\n",
       "    .dataframe thead th {\n",
       "        text-align: right;\n",
       "    }\n",
       "</style>\n",
       "<table border=\"1\" class=\"dataframe\">\n",
       "  <thead>\n",
       "    <tr style=\"text-align: right;\">\n",
       "      <th></th>\n",
       "      <th>starship_id</th>\n",
       "      <th>name</th>\n",
       "      <th>model</th>\n",
       "      <th>manufacturer</th>\n",
       "      <th>cost_in_credits</th>\n",
       "      <th>length</th>\n",
       "      <th>max_atmosphering_speed</th>\n",
       "      <th>crew</th>\n",
       "      <th>passengers</th>\n",
       "      <th>cargo_capacity</th>\n",
       "      <th>consumables</th>\n",
       "      <th>hyperdrive_rating</th>\n",
       "      <th>MGLT</th>\n",
       "      <th>starship_class</th>\n",
       "      <th>pilot_id</th>\n",
       "      <th>film_id</th>\n",
       "      <th>url</th>\n",
       "    </tr>\n",
       "  </thead>\n",
       "  <tbody>\n",
       "    <tr>\n",
       "      <th>18</th>\n",
       "      <td>39</td>\n",
       "      <td>Naboo fighter</td>\n",
       "      <td>N-1 starfighter</td>\n",
       "      <td>Theed Palace Space Vessel Engineering Corps</td>\n",
       "      <td>200000</td>\n",
       "      <td>11</td>\n",
       "      <td>1100</td>\n",
       "      <td>1</td>\n",
       "      <td>0</td>\n",
       "      <td>65</td>\n",
       "      <td>7 days</td>\n",
       "      <td>1.0</td>\n",
       "      <td>unknown</td>\n",
       "      <td>Starfighter</td>\n",
       "      <td>(11, 35, 60)</td>\n",
       "      <td>(4, 5)</td>\n",
       "      <td>https://swapi.dev/api/starships/39/</td>\n",
       "    </tr>\n",
       "    <tr>\n",
       "      <th>20</th>\n",
       "      <td>41</td>\n",
       "      <td>Scimitar</td>\n",
       "      <td>Star Courier</td>\n",
       "      <td>Republic Sienar Systems</td>\n",
       "      <td>55000000</td>\n",
       "      <td>26.5</td>\n",
       "      <td>1180</td>\n",
       "      <td>1</td>\n",
       "      <td>6</td>\n",
       "      <td>2500000</td>\n",
       "      <td>30 days</td>\n",
       "      <td>1.5</td>\n",
       "      <td>unknown</td>\n",
       "      <td>Space Transport</td>\n",
       "      <td>(44,)</td>\n",
       "      <td>(4,)</td>\n",
       "      <td>https://swapi.dev/api/starships/41/</td>\n",
       "    </tr>\n",
       "    <tr>\n",
       "      <th>13</th>\n",
       "      <td>27</td>\n",
       "      <td>Calamari Cruiser</td>\n",
       "      <td>MC80 Liberty type Star Cruiser</td>\n",
       "      <td>Mon Calamari shipyards</td>\n",
       "      <td>104000000</td>\n",
       "      <td>1200</td>\n",
       "      <td>n/a</td>\n",
       "      <td>5400</td>\n",
       "      <td>1200</td>\n",
       "      <td>unknown</td>\n",
       "      <td>2 years</td>\n",
       "      <td>1.0</td>\n",
       "      <td>60</td>\n",
       "      <td>Star Cruiser</td>\n",
       "      <td>()</td>\n",
       "      <td>(3,)</td>\n",
       "      <td>https://swapi.dev/api/starships/27/</td>\n",
       "    </tr>\n",
       "    <tr>\n",
       "      <th>17</th>\n",
       "      <td>32</td>\n",
       "      <td>Droid control ship</td>\n",
       "      <td>Lucrehulk-class Droid Control Ship</td>\n",
       "      <td>Hoersch-Kessel Drive, Inc.</td>\n",
       "      <td>unknown</td>\n",
       "      <td>3170</td>\n",
       "      <td>n/a</td>\n",
       "      <td>175</td>\n",
       "      <td>139000</td>\n",
       "      <td>4000000000</td>\n",
       "      <td>500 days</td>\n",
       "      <td>2.0</td>\n",
       "      <td>unknown</td>\n",
       "      <td>Droid control ship</td>\n",
       "      <td>()</td>\n",
       "      <td>(4, 5, 6)</td>\n",
       "      <td>https://swapi.dev/api/starships/32/</td>\n",
       "    </tr>\n",
       "    <tr>\n",
       "      <th>4</th>\n",
       "      <td>10</td>\n",
       "      <td>Millennium Falcon</td>\n",
       "      <td>YT-1300 light freighter</td>\n",
       "      <td>Corellian Engineering Corporation</td>\n",
       "      <td>100000</td>\n",
       "      <td>34.37</td>\n",
       "      <td>1050</td>\n",
       "      <td>4</td>\n",
       "      <td>6</td>\n",
       "      <td>100000</td>\n",
       "      <td>2 months</td>\n",
       "      <td>0.5</td>\n",
       "      <td>75</td>\n",
       "      <td>Light freighter</td>\n",
       "      <td>(13, 14, 25, 31)</td>\n",
       "      <td>(1, 2, 3)</td>\n",
       "      <td>https://swapi.dev/api/starships/10/</td>\n",
       "    </tr>\n",
       "  </tbody>\n",
       "</table>\n",
       "</div>"
      ],
      "text/plain": [
       "    starship_id                name                               model  \\\n",
       "18           39       Naboo fighter                     N-1 starfighter   \n",
       "20           41            Scimitar                        Star Courier   \n",
       "13           27    Calamari Cruiser      MC80 Liberty type Star Cruiser   \n",
       "17           32  Droid control ship  Lucrehulk-class Droid Control Ship   \n",
       "4            10   Millennium Falcon             YT-1300 light freighter   \n",
       "\n",
       "                                   manufacturer cost_in_credits length  \\\n",
       "18  Theed Palace Space Vessel Engineering Corps          200000     11   \n",
       "20                      Republic Sienar Systems        55000000   26.5   \n",
       "13                       Mon Calamari shipyards       104000000   1200   \n",
       "17                   Hoersch-Kessel Drive, Inc.         unknown   3170   \n",
       "4             Corellian Engineering Corporation          100000  34.37   \n",
       "\n",
       "   max_atmosphering_speed  crew passengers cargo_capacity consumables  \\\n",
       "18                   1100     1          0             65      7 days   \n",
       "20                   1180     1          6        2500000     30 days   \n",
       "13                    n/a  5400       1200        unknown     2 years   \n",
       "17                    n/a   175     139000     4000000000    500 days   \n",
       "4                    1050     4          6         100000    2 months   \n",
       "\n",
       "   hyperdrive_rating     MGLT      starship_class          pilot_id  \\\n",
       "18               1.0  unknown         Starfighter      (11, 35, 60)   \n",
       "20               1.5  unknown     Space Transport             (44,)   \n",
       "13               1.0       60        Star Cruiser                ()   \n",
       "17               2.0  unknown  Droid control ship                ()   \n",
       "4                0.5       75     Light freighter  (13, 14, 25, 31)   \n",
       "\n",
       "      film_id                                  url  \n",
       "18     (4, 5)  https://swapi.dev/api/starships/39/  \n",
       "20       (4,)  https://swapi.dev/api/starships/41/  \n",
       "13       (3,)  https://swapi.dev/api/starships/27/  \n",
       "17  (4, 5, 6)  https://swapi.dev/api/starships/32/  \n",
       "4   (1, 2, 3)  https://swapi.dev/api/starships/10/  "
      ]
     },
     "execution_count": 40,
     "metadata": {},
     "output_type": "execute_result"
    }
   ],
   "source": [
    "df = dataframes['starships']\n",
    "df.sample(5)"
   ]
  },
  {
   "cell_type": "code",
   "execution_count": 41,
   "id": "383f66bc",
   "metadata": {},
   "outputs": [],
   "source": [
    "df.loc[0, 'crew'] = 165"
   ]
  },
  {
   "cell_type": "code",
   "execution_count": 42,
   "id": "ccce4cb8",
   "metadata": {},
   "outputs": [],
   "source": [
    "for col in ['cost_in_credits', 'length', 'max_atmosphering_speed', 'crew', 'passengers', 'cargo_capacity', 'hyperdrive_rating', 'MGLT']:\n",
    "    try:\n",
    "        df[col] = df[col].replace('unknown', np.nan).replace('none', np.nan).replace('n/a', np.nan)\n",
    "        df[col] = df[col].str.replace(',', '', regex = False).str.replace('km', '')\n",
    "        #df[col] = df[col].astype('float')\n",
    "    except Exception as e:\n",
    "        print(f'Error in {col}: {e}')"
   ]
  },
  {
   "cell_type": "code",
   "execution_count": 43,
   "id": "6e758414",
   "metadata": {},
   "outputs": [],
   "source": [
    "for col in ['cost_in_credits', 'length', 'max_atmosphering_speed', 'crew', 'passengers', 'cargo_capacity', 'hyperdrive_rating', 'MGLT']:\n",
    "    try:\n",
    "        df[col] = df[col].astype('float')\n",
    "    except:\n",
    "        print(f'error with {col}')"
   ]
  },
  {
   "cell_type": "markdown",
   "id": "fa452e06",
   "metadata": {},
   "source": [
    "## Export clean datasets into csv files"
   ]
  },
  {
   "cell_type": "code",
   "execution_count": null,
   "id": "e809c02d",
   "metadata": {},
   "outputs": [
    {
     "name": "stdout",
     "output_type": "stream",
     "text": [
      "Dataframes of each normalized category are stored in ./data/csv/ as csv files!\n"
     ]
    }
   ],
   "source": [
    "data_path = '../data'\n",
    "for cat in categories:\n",
    "    filename = f'{cat}_dataframe.csv'\n",
    "    if os.path.exists(f'{data_path}/csv/{filename}'):\n",
    "        print(f'File {filename} already exist!')\n",
    "        pass\n",
    "    else:\n",
    "        os.makedirs(f'{data_path}/csv/', exist_ok=True)\n",
    "        df = dataframes[cat]\n",
    "        df.to_csv(f'{data_path}/csv/{cat}_dataframe.csv', index = False)\n",
    "print(f'Dataframes of each normalized category are stored in {data_path}/csv/ as csv files!')"
   ]
  },
  {
   "cell_type": "markdown",
   "id": "68e88445",
   "metadata": {},
   "source": [
    "# Junction tables\n",
    "\n",
    "(many-to-many relationships in the database)\n",
    "\n",
    "1. **films_people**: Links films to the characters that appeared in them.\n",
    "\n",
    "    - character_id: Foreign Key referencing the `people` table.\n",
    "    - film_id: Foreign Key referencing the films table.\n",
    "\n",
    "2. **films_planets**: Links films to the planets that appeared in them.\n",
    "\n",
    "    - planet_id: Foreign Key referencing the `planets` table.\n",
    "    - film_id: Foreign Key referencing the `films` table.\n",
    "\n",
    "3. **films_starships**: Links films to the starships that appeared in them.\n",
    "\n",
    "    - starship_id: Foreign Key referencing the `starships` table.\n",
    "    - film_id: Foreign Key referencing the `films` table.\n",
    "\n",
    "4. **films_vehicles**: Links films to the vehicles that appeared in them.\n",
    "\n",
    "    - vehicle_id: Foreign Key referencing the `vehicles` table.\n",
    "    - film_id: Foreign Key referencing the `films` table.\n",
    "\n",
    "5. **films_species**: Links films to the species that appeared in them.\n",
    "\n",
    "    - species_id: Foreign Key referencing the `species` table.\n",
    "    - film_id: Foreign Key referencing the `films` table.\n",
    "\n",
    "6. **people_starships**: Links people (pilots) to the starships they have piloted.\n",
    "\n",
    "    - character_id: Foreign Key referencing the `people` table.\n",
    "    - starship_id: Foreign Key referencing the `starships` table.\n",
    "\n",
    "7. **people_vehicles**: Links people (pilots) to the vehicles they have piloted.\n",
    "\n",
    "    - character_id: Foreign Key referencing the `people` table.\n",
    "    - vehicle_id: Foreign Key referencing the vehicles table."
   ]
  },
  {
   "cell_type": "code",
   "execution_count": 45,
   "id": "87438fff",
   "metadata": {},
   "outputs": [],
   "source": [
    "junction_tables = [\n",
    "    'people_vehicles', \n",
    "    'people_starships',\n",
    "    \n",
    "    'films_people',\n",
    "    'films_planets',\n",
    "    'films_starships',\n",
    "    'films_vehicles',\n",
    "    'films_species'\n",
    "    ]\n",
    "\n",
    "junction_tables_dict = {i:None for i in junction_tables}"
   ]
  },
  {
   "cell_type": "markdown",
   "id": "e2a62d8b",
   "metadata": {},
   "source": [
    "## Junction tables for people:"
   ]
  },
  {
   "cell_type": "code",
   "execution_count": 46,
   "id": "ab2de213",
   "metadata": {},
   "outputs": [],
   "source": [
    "columns = ['vehicle_id', 'starship_id']\n",
    "data = dataframes['people'].loc[:, columns + ['character_id']]\n",
    "\n",
    "for col in columns:\n",
    "    table_name = f'people_{col}'.replace('_id', 's')\n",
    "    junction_tables_dict[table_name] = (data.loc[:, ['character_id', col]]\n",
    "                                        .explode(col)\n",
    "                                        .explode('character_id')\n",
    "                                        .dropna()\n",
    "                                        .reset_index(drop = True)\n",
    "                                        .sort_values('character_id')\n",
    "                                        )"
   ]
  },
  {
   "cell_type": "markdown",
   "id": "a46b4959",
   "metadata": {},
   "source": [
    "## Junction tables for films:"
   ]
  },
  {
   "cell_type": "code",
   "execution_count": 47,
   "id": "ca7e10a8",
   "metadata": {},
   "outputs": [],
   "source": [
    "columns = ['character_id', 'species_id', 'planet_id', 'vehicle_id', 'starship_id']\n",
    "data = dataframes['films'].loc[:, columns + ['film_id']]\n",
    "\n",
    "for col in columns:\n",
    "    table_name = f'films_{col}'\n",
    "    if col == 'species_id':\n",
    "        table_name = table_name.replace('_id', '')\n",
    "    elif col == 'character_id':\n",
    "        table_name = 'films_people'\n",
    "    else:\n",
    "        table_name = table_name.replace('_id', 's')\n",
    "        \n",
    "    junction_tables_dict[table_name] = (data.loc[:, ['film_id', col ]]\n",
    "                                        .explode(col)\n",
    "                                        .reset_index(drop = True)\n",
    "                                        .sort_values('film_id')\n",
    "    )"
   ]
  },
  {
   "cell_type": "markdown",
   "id": "40a47f02",
   "metadata": {},
   "source": [
    "# Normalization\n",
    "Next step is to normalize the datasets in order to create the database."
   ]
  },
  {
   "cell_type": "code",
   "execution_count": 48,
   "id": "d2eb76dd",
   "metadata": {},
   "outputs": [],
   "source": [
    "dataframes_normalized = copy.deepcopy(dataframes)"
   ]
  },
  {
   "cell_type": "code",
   "execution_count": 49,
   "id": "faee3899",
   "metadata": {},
   "outputs": [],
   "source": [
    "columns_to_drop = {\n",
    "    'films' : ['character_id', 'planet_id', 'species_id', 'vehicle_id', 'starship_id'],\n",
    "    'people' : ['film_id', 'vehicle_id', 'starship_id'],\n",
    "    'planets' : ['residents_id', 'film_id'],\n",
    "    'species' : ['character_id', 'film_id'],\n",
    "    'starships' : ['pilot_id', 'film_id'],\n",
    "    'vehicles' : ['pilot_id', 'film_id'],\n",
    "}  "
   ]
  },
  {
   "cell_type": "markdown",
   "id": "a4bdc187",
   "metadata": {},
   "source": [
    "### Drop the corresponding columns in order to normalize the tables"
   ]
  },
  {
   "cell_type": "code",
   "execution_count": 50,
   "id": "fd772369",
   "metadata": {},
   "outputs": [],
   "source": [
    "for cat in dataframes_normalized.keys():\n",
    "    dataframes_normalized[cat].drop(columns_to_drop[cat], axis='columns', inplace = True)"
   ]
  },
  {
   "cell_type": "markdown",
   "id": "30aaf7f3",
   "metadata": {},
   "source": [
    "## Store the normalized dataframes"
   ]
  },
  {
   "cell_type": "code",
   "execution_count": null,
   "id": "e590d48c",
   "metadata": {},
   "outputs": [
    {
     "name": "stdout",
     "output_type": "stream",
     "text": [
      "Dataframes of each normalized category are stored in ./data/csv_normalized/ as csv files!\n"
     ]
    }
   ],
   "source": [
    "data_path = '../data'\n",
    "for cat in categories:\n",
    "    filename = f'{cat}_dataframe.csv'\n",
    "    if os.path.exists(f'{data_path}/csv_normalized/{filename}'):\n",
    "        print(f'File {filename} already exist!')\n",
    "        pass\n",
    "    else:\n",
    "        os.makedirs(f'{data_path}/csv_normalized/', exist_ok=True)\n",
    "        df = dataframes_normalized[cat]\n",
    "        df.to_csv(f'{data_path}/csv_normalized/{cat}_dataframe_normalized.csv', index = False)\n",
    "print(f'Dataframes of each normalized category are stored in {data_path}/csv_normalized/ as csv files!')"
   ]
  },
  {
   "cell_type": "markdown",
   "id": "668144f5",
   "metadata": {},
   "source": [
    "# Insert data into the database"
   ]
  },
  {
   "cell_type": "markdown",
   "id": "59ba8429",
   "metadata": {},
   "source": [
    "## Load database parameters from `.env` file"
   ]
  },
  {
   "cell_type": "code",
   "execution_count": 53,
   "id": "b5bc23c2",
   "metadata": {},
   "outputs": [],
   "source": [
    "load_dotenv()\n",
    "\n",
    "DB_USER = os.getenv(\"DB_USER\")\n",
    "DB_PASS = os.getenv(\"DB_PASSWORD\")\n",
    "DB_HOST = os.getenv(\"DB_HOST\")\n",
    "DB_PORT = os.getenv(\"DB_PORT\")\n",
    "DB_NAME = os.getenv(\"DB_NAME\")"
   ]
  },
  {
   "cell_type": "markdown",
   "id": "cd3bd35c",
   "metadata": {},
   "source": [
    "## Create the db connection"
   ]
  },
  {
   "cell_type": "code",
   "execution_count": 54,
   "id": "f23c5fab",
   "metadata": {},
   "outputs": [
    {
     "name": "stdout",
     "output_type": "stream",
     "text": [
      "SQLAlchemy Engine created successfully. 🛠️\n"
     ]
    }
   ],
   "source": [
    "connection_string = (\n",
    "    f'mysql+pymysql://{DB_USER}:{DB_PASS}@{DB_HOST}:{DB_PORT}/{DB_NAME}'\n",
    ")\n",
    "\n",
    "# --- 4. Create the SQLAlchemy Engine ---\n",
    "try:\n",
    "    engine = create_engine(connection_string)\n",
    "    print(\"SQLAlchemy Engine created successfully. 🛠️\")\n",
    "except Exception as e:\n",
    "    print(f\"Error creating engine: {e}\")"
   ]
  },
  {
   "cell_type": "markdown",
   "id": "5b78c708",
   "metadata": {},
   "source": [
    "## Populate the data into the database\n",
    "\n",
    "The order of tables to be filled must be:\n",
    "1. planets\n",
    "2. species\n",
    "3. starships\n",
    "4. vehicles\n",
    "5. films\n",
    "6. people"
   ]
  },
  {
   "cell_type": "code",
   "execution_count": 55,
   "id": "a28477f4",
   "metadata": {},
   "outputs": [],
   "source": [
    "categories_sorted = ['planets', 'species', 'vehicles', 'starships', 'films', 'people']"
   ]
  },
  {
   "cell_type": "markdown",
   "id": "0c02f0a7",
   "metadata": {},
   "source": [
    "### Insert the category tables into the database"
   ]
  },
  {
   "cell_type": "code",
   "execution_count": 56,
   "id": "e7f14630",
   "metadata": {},
   "outputs": [],
   "source": [
    "def insert_category(cat, dictionary):\n",
    "    df = dictionary[cat]\n",
    "    try:\n",
    "        df.to_sql(name=cat, con=engine, if_exists='append', index=False)\n",
    "        print(f\"DataFrame for category '{cat}' inserted successfully into the database. ✅\\n\")\n",
    "    except Exception as e:\n",
    "        print(f\"\\\\ Error inserting DataFrame for category '{cat}': \\n{e}\\n\\n\")"
   ]
  },
  {
   "cell_type": "code",
   "execution_count": 57,
   "id": "64bd1820",
   "metadata": {},
   "outputs": [
    {
     "name": "stdout",
     "output_type": "stream",
     "text": [
      "DataFrame for category 'planets' inserted successfully into the database. ✅\n",
      "\n",
      "DataFrame for category 'species' inserted successfully into the database. ✅\n",
      "\n",
      "DataFrame for category 'vehicles' inserted successfully into the database. ✅\n",
      "\n",
      "DataFrame for category 'starships' inserted successfully into the database. ✅\n",
      "\n",
      "DataFrame for category 'films' inserted successfully into the database. ✅\n",
      "\n",
      "DataFrame for category 'people' inserted successfully into the database. ✅\n",
      "\n"
     ]
    }
   ],
   "source": [
    "for cat in categories_sorted:\n",
    "    query = f'select * from {cat} limit 1 ;'\n",
    "    # if table is empty, fill it with the corresponding data\n",
    "    if pd.read_sql(query, con = engine).shape[0] == 0:\n",
    "        insert_category(cat, dataframes_normalized)\n",
    "    else:\n",
    "        print(f'{cat} table already exists in database!')"
   ]
  },
  {
   "cell_type": "markdown",
   "id": "231a2b43",
   "metadata": {},
   "source": [
    "### Insert junction tables"
   ]
  },
  {
   "cell_type": "code",
   "execution_count": 58,
   "id": "075f3d7b",
   "metadata": {},
   "outputs": [
    {
     "name": "stdout",
     "output_type": "stream",
     "text": [
      "DataFrame for category 'people_vehicles' inserted successfully into the database. ✅\n",
      "\n",
      "DataFrame for category 'people_starships' inserted successfully into the database. ✅\n",
      "\n",
      "DataFrame for category 'films_people' inserted successfully into the database. ✅\n",
      "\n",
      "DataFrame for category 'films_planets' inserted successfully into the database. ✅\n",
      "\n",
      "DataFrame for category 'films_starships' inserted successfully into the database. ✅\n",
      "\n",
      "DataFrame for category 'films_vehicles' inserted successfully into the database. ✅\n",
      "\n",
      "DataFrame for category 'films_species' inserted successfully into the database. ✅\n",
      "\n"
     ]
    }
   ],
   "source": [
    "for table in junction_tables_dict.keys():\n",
    "    query = f'select * from {table} limit 1 ;'\n",
    "    # if table is empty, fill it with the corresponding data\n",
    "    if pd.read_sql(query, con = engine).shape[0] == 0:\n",
    "        insert_category(table, junction_tables_dict)\n",
    "    else:\n",
    "        print(f'{table} table already exists in database!') "
   ]
  },
  {
   "cell_type": "code",
   "execution_count": 59,
   "id": "1d8f3898",
   "metadata": {},
   "outputs": [
    {
     "name": "stdout",
     "output_type": "stream",
     "text": [
      "All the process finished successfully!!!\n"
     ]
    }
   ],
   "source": [
    "print('All the process finished successfully!!!')"
   ]
  }
 ],
 "metadata": {
  "kernelspec": {
   "display_name": "venv",
   "language": "python",
   "name": "python3"
  },
  "language_info": {
   "codemirror_mode": {
    "name": "ipython",
    "version": 3
   },
   "file_extension": ".py",
   "mimetype": "text/x-python",
   "name": "python",
   "nbconvert_exporter": "python",
   "pygments_lexer": "ipython3",
   "version": "3.13.7"
  }
 },
 "nbformat": 4,
 "nbformat_minor": 5
}
